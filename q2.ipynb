{
 "cells": [
  {
   "cell_type": "markdown",
   "id": "f2fbd949",
   "metadata": {},
   "source": [
    "## an undirected graph of districts"
   ]
  },
  {
   "cell_type": "code",
   "execution_count": 1,
   "id": "994dcecd",
   "metadata": {
    "execution": {
     "iopub.execute_input": "2021-09-21T15:37:11.177910Z",
     "iopub.status.busy": "2021-09-21T15:37:11.177910Z",
     "iopub.status.idle": "2021-09-21T15:37:11.790189Z",
     "shell.execute_reply": "2021-09-21T15:37:11.790189Z"
    }
   },
   "outputs": [],
   "source": [
    "#IMPORTING REQUIRED LIBRARIES\n",
    "import json\n",
    "import pandas as pd\n",
    "import numpy as np"
   ]
  },
  {
   "cell_type": "code",
   "execution_count": 2,
   "id": "0430363a",
   "metadata": {
    "execution": {
     "iopub.execute_input": "2021-09-21T15:37:11.790189Z",
     "iopub.status.busy": "2021-09-21T15:37:11.790189Z",
     "iopub.status.idle": "2021-09-21T15:37:11.805810Z",
     "shell.execute_reply": "2021-09-21T15:37:11.805810Z"
    }
   },
   "outputs": [],
   "source": [
    "#LOADING JSON FILE\n",
    "with open(r'neighbor-districts-modified.json') as f:\n",
    "    jdata = json.load(f)"
   ]
  },
  {
   "cell_type": "code",
   "execution_count": 3,
   "id": "6e17612c",
   "metadata": {
    "execution": {
     "iopub.execute_input": "2021-09-21T15:37:11.805810Z",
     "iopub.status.busy": "2021-09-21T15:37:11.805810Z",
     "iopub.status.idle": "2021-09-21T15:37:11.821431Z",
     "shell.execute_reply": "2021-09-21T15:37:11.821431Z"
    }
   },
   "outputs": [],
   "source": [
    "neighbours = []"
   ]
  },
  {
   "cell_type": "markdown",
   "id": "ac1f454a",
   "metadata": {},
   "source": [
    "APPENDING NODES TO NEIGHBOURS "
   ]
  },
  {
   "cell_type": "code",
   "execution_count": 4,
   "id": "66aea3aa",
   "metadata": {
    "execution": {
     "iopub.execute_input": "2021-09-21T15:37:11.946403Z",
     "iopub.status.busy": "2021-09-21T15:37:11.930781Z",
     "iopub.status.idle": "2021-09-21T15:37:11.962023Z",
     "shell.execute_reply": "2021-09-21T15:37:11.962023Z"
    }
   },
   "outputs": [],
   "source": [
    "for key ,value in jdata.items():\n",
    "    for i in value:\n",
    "        row = [i,key]\n",
    "        if row not in neighbours:       # ONLY IF THERE WAS NO EDGE BETWEEN THAT NODES\n",
    "            neighbours.append([key,i])"
   ]
  },
  {
   "cell_type": "code",
   "execution_count": 5,
   "id": "3cd08f65",
   "metadata": {
    "execution": {
     "iopub.execute_input": "2021-09-21T15:37:11.962023Z",
     "iopub.status.busy": "2021-09-21T15:37:11.962023Z",
     "iopub.status.idle": "2021-09-21T15:37:11.977645Z",
     "shell.execute_reply": "2021-09-21T15:37:11.977645Z"
    }
   },
   "outputs": [],
   "source": [
    "finaldf = pd.DataFrame(columns=['Node1','Node2'])"
   ]
  },
  {
   "cell_type": "markdown",
   "id": "85dc7775",
   "metadata": {},
   "source": [
    "STORING INTO A DATAFRAME"
   ]
  },
  {
   "cell_type": "code",
   "execution_count": 6,
   "id": "b80203c6",
   "metadata": {
    "execution": {
     "iopub.execute_input": "2021-09-21T15:37:12.118239Z",
     "iopub.status.busy": "2021-09-21T15:37:12.040131Z",
     "iopub.status.idle": "2021-09-21T15:37:16.854165Z",
     "shell.execute_reply": "2021-09-21T15:37:16.854165Z"
    }
   },
   "outputs": [],
   "source": [
    "for i in neighbours:\n",
    "    finaldf.loc[len(finaldf.index)] = [i[0],i[1]]"
   ]
  },
  {
   "cell_type": "code",
   "execution_count": 7,
   "id": "f98cfb6e",
   "metadata": {
    "execution": {
     "iopub.execute_input": "2021-09-21T15:37:16.854165Z",
     "iopub.status.busy": "2021-09-21T15:37:16.854165Z",
     "iopub.status.idle": "2021-09-21T15:37:16.885358Z",
     "shell.execute_reply": "2021-09-21T15:37:16.885358Z"
    }
   },
   "outputs": [
    {
     "data": {
      "text/html": [
       "<div>\n",
       "<style scoped>\n",
       "    .dataframe tbody tr th:only-of-type {\n",
       "        vertical-align: middle;\n",
       "    }\n",
       "\n",
       "    .dataframe tbody tr th {\n",
       "        vertical-align: top;\n",
       "    }\n",
       "\n",
       "    .dataframe thead th {\n",
       "        text-align: right;\n",
       "    }\n",
       "</style>\n",
       "<table border=\"1\" class=\"dataframe\">\n",
       "  <thead>\n",
       "    <tr style=\"text-align: right;\">\n",
       "      <th></th>\n",
       "      <th>Node1</th>\n",
       "      <th>Node2</th>\n",
       "    </tr>\n",
       "  </thead>\n",
       "  <tbody>\n",
       "    <tr>\n",
       "      <th>0</th>\n",
       "      <td>AP_anantapur</td>\n",
       "      <td>AP_chittoor</td>\n",
       "    </tr>\n",
       "    <tr>\n",
       "      <th>1</th>\n",
       "      <td>AP_anantapur</td>\n",
       "      <td>AP_kurnool</td>\n",
       "    </tr>\n",
       "    <tr>\n",
       "      <th>2</th>\n",
       "      <td>AP_anantapur</td>\n",
       "      <td>AP_y.s.r. kadapa</td>\n",
       "    </tr>\n",
       "    <tr>\n",
       "      <th>3</th>\n",
       "      <td>AP_anantapur</td>\n",
       "      <td>KA_ballari</td>\n",
       "    </tr>\n",
       "    <tr>\n",
       "      <th>4</th>\n",
       "      <td>AP_anantapur</td>\n",
       "      <td>KA_chikkaballapura</td>\n",
       "    </tr>\n",
       "    <tr>\n",
       "      <th>...</th>\n",
       "      <td>...</td>\n",
       "      <td>...</td>\n",
       "    </tr>\n",
       "    <tr>\n",
       "      <th>1958</th>\n",
       "      <td>WB_north 24 parganas</td>\n",
       "      <td>WB_south 24 parganas</td>\n",
       "    </tr>\n",
       "    <tr>\n",
       "      <th>1959</th>\n",
       "      <td>WB_paschim bardhaman</td>\n",
       "      <td>WB_purba bardhaman</td>\n",
       "    </tr>\n",
       "    <tr>\n",
       "      <th>1960</th>\n",
       "      <td>WB_paschim bardhaman</td>\n",
       "      <td>WB_purulia</td>\n",
       "    </tr>\n",
       "    <tr>\n",
       "      <th>1961</th>\n",
       "      <td>WB_paschim medinipur</td>\n",
       "      <td>WB_purba medinipur</td>\n",
       "    </tr>\n",
       "    <tr>\n",
       "      <th>1962</th>\n",
       "      <td>WB_purba medinipur</td>\n",
       "      <td>WB_south 24 parganas</td>\n",
       "    </tr>\n",
       "  </tbody>\n",
       "</table>\n",
       "<p>1963 rows × 2 columns</p>\n",
       "</div>"
      ],
      "text/plain": [
       "                     Node1                 Node2\n",
       "0             AP_anantapur           AP_chittoor\n",
       "1             AP_anantapur            AP_kurnool\n",
       "2             AP_anantapur      AP_y.s.r. kadapa\n",
       "3             AP_anantapur            KA_ballari\n",
       "4             AP_anantapur    KA_chikkaballapura\n",
       "...                    ...                   ...\n",
       "1958  WB_north 24 parganas  WB_south 24 parganas\n",
       "1959  WB_paschim bardhaman    WB_purba bardhaman\n",
       "1960  WB_paschim bardhaman            WB_purulia\n",
       "1961  WB_paschim medinipur    WB_purba medinipur\n",
       "1962    WB_purba medinipur  WB_south 24 parganas\n",
       "\n",
       "[1963 rows x 2 columns]"
      ]
     },
     "execution_count": 7,
     "metadata": {},
     "output_type": "execute_result"
    }
   ],
   "source": [
    "finaldf"
   ]
  },
  {
   "cell_type": "markdown",
   "id": "da0ae05a",
   "metadata": {},
   "source": [
    "FINAL OUTPUT"
   ]
  },
  {
   "cell_type": "code",
   "execution_count": 8,
   "id": "508ec819",
   "metadata": {
    "execution": {
     "iopub.execute_input": "2021-09-21T15:37:16.885358Z",
     "iopub.status.busy": "2021-09-21T15:37:16.885358Z",
     "iopub.status.idle": "2021-09-21T15:37:16.901029Z",
     "shell.execute_reply": "2021-09-21T15:37:16.901029Z"
    }
   },
   "outputs": [],
   "source": [
    "finaldf.to_csv('edge-graph.csv',index=False)"
   ]
  },
  {
   "cell_type": "code",
   "execution_count": null,
   "id": "c6957ab4",
   "metadata": {},
   "outputs": [],
   "source": []
  },
  {
   "cell_type": "code",
   "execution_count": null,
   "id": "eaab645b",
   "metadata": {},
   "outputs": [],
   "source": []
  }
 ],
 "metadata": {
  "kernelspec": {
   "display_name": "Python 3",
   "language": "python",
   "name": "python3"
  },
  "language_info": {
   "codemirror_mode": {
    "name": "ipython",
    "version": 3
   },
   "file_extension": ".py",
   "mimetype": "text/x-python",
   "name": "python",
   "nbconvert_exporter": "python",
   "pygments_lexer": "ipython3",
   "version": "3.9.6"
  }
 },
 "nbformat": 4,
 "nbformat_minor": 5
}
