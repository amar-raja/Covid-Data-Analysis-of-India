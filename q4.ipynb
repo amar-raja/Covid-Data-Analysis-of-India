{
 "cells": [
  {
   "cell_type": "markdown",
   "metadata": {},
   "source": [
    "## find the week and month having peak (highest) number of active cases for wave-1 and wave-2"
   ]
  },
  {
   "cell_type": "code",
   "execution_count": 1,
   "metadata": {
    "execution": {
     "iopub.execute_input": "2021-09-21T15:39:09.252501Z",
     "iopub.status.busy": "2021-09-21T15:39:09.252501Z",
     "iopub.status.idle": "2021-09-21T15:39:10.455388Z",
     "shell.execute_reply": "2021-09-21T15:39:10.455388Z"
    }
   },
   "outputs": [],
   "source": [
    "import pandas as pd\n",
    "import numpy as np\n",
    "from datetime import datetime\n",
    "from datetime import timedelta \n",
    "import warnings\n",
    "warnings.filterwarnings('ignore')"
   ]
  },
  {
   "cell_type": "markdown",
   "metadata": {},
   "source": [
    "### LOADING FILES"
   ]
  },
  {
   "cell_type": "code",
   "execution_count": 2,
   "metadata": {
    "execution": {
     "iopub.execute_input": "2021-09-21T15:39:10.470965Z",
     "iopub.status.busy": "2021-09-21T15:39:10.470965Z",
     "iopub.status.idle": "2021-09-21T15:39:11.220838Z",
     "shell.execute_reply": "2021-09-21T15:39:11.220838Z"
    }
   },
   "outputs": [],
   "source": [
    "covid_cases = pd.read_csv('districts.csv',parse_dates=['Date'],usecols=['State','District','Date','Confirmed'],index_col=False)"
   ]
  },
  {
   "cell_type": "code",
   "execution_count": 3,
   "metadata": {
    "execution": {
     "iopub.execute_input": "2021-09-21T15:39:11.220838Z",
     "iopub.status.busy": "2021-09-21T15:39:11.220838Z",
     "iopub.status.idle": "2021-09-21T15:39:11.567063Z",
     "shell.execute_reply": "2021-09-21T15:39:11.567063Z"
    }
   },
   "outputs": [],
   "source": [
    "vacc_df1 = pd.read_csv('cowin_vaccine_data_districtwise.csv',usecols=['State_Code','State'],index_col=False).drop_duplicates(subset=None, keep='first', inplace=False)\n",
    "covid_cases = covid_cases[covid_cases['Date'] <= '2021-08-14']"
   ]
  },
  {
   "cell_type": "code",
   "execution_count": 4,
   "metadata": {
    "execution": {
     "iopub.execute_input": "2021-09-21T15:39:11.582685Z",
     "iopub.status.busy": "2021-09-21T15:39:11.582685Z",
     "iopub.status.idle": "2021-09-21T15:39:11.598306Z",
     "shell.execute_reply": "2021-09-21T15:39:11.598306Z"
    }
   },
   "outputs": [],
   "source": [
    "#DROPPING NA\n",
    "vacc_df1.dropna(inplace=True)"
   ]
  },
  {
   "cell_type": "markdown",
   "metadata": {},
   "source": [
    "AS MONTH STARTS FROM 15TH TO 14TH"
   ]
  },
  {
   "cell_type": "code",
   "execution_count": 5,
   "metadata": {
    "execution": {
     "iopub.execute_input": "2021-09-21T15:39:11.613927Z",
     "iopub.status.busy": "2021-09-21T15:39:11.613927Z",
     "iopub.status.idle": "2021-09-21T15:39:11.629548Z",
     "shell.execute_reply": "2021-09-21T15:39:11.629548Z"
    }
   },
   "outputs": [],
   "source": [
    "covid_cases['Date_1'] = covid_cases[\"Date\"] + timedelta(days=-14)"
   ]
  },
  {
   "cell_type": "markdown",
   "metadata": {},
   "source": [
    "CONVERTING DATE AS AN INTEGER TO EASE GROUPING"
   ]
  },
  {
   "cell_type": "code",
   "execution_count": 6,
   "metadata": {
    "execution": {
     "iopub.execute_input": "2021-09-21T15:39:11.645175Z",
     "iopub.status.busy": "2021-09-21T15:39:11.645175Z",
     "iopub.status.idle": "2021-09-21T15:39:11.817007Z",
     "shell.execute_reply": "2021-09-21T15:39:11.817007Z"
    }
   },
   "outputs": [],
   "source": [
    "covid_cases['dateid'] = covid_cases.groupby(['Date_1']).ngroup()+1\n",
    "covid_cases['monthid'] = pd.DatetimeIndex(covid_cases['Date_1']).month + 100*pd.DatetimeIndex(covid_cases['Date_1']).year"
   ]
  },
  {
   "cell_type": "code",
   "execution_count": 7,
   "metadata": {
    "execution": {
     "iopub.execute_input": "2021-09-21T15:39:11.879492Z",
     "iopub.status.busy": "2021-09-21T15:39:11.879492Z",
     "iopub.status.idle": "2021-09-21T15:39:11.988840Z",
     "shell.execute_reply": "2021-09-21T15:39:11.988840Z"
    }
   },
   "outputs": [],
   "source": [
    "#THIS IS TO ENSURE WEEK STARTS FROM SUNDAY SO WE TAKE A SUNDAY\n",
    "covid_cases['diff1']=pd.to_datetime(covid_cases['Date'])-pd.to_datetime('2020-01-05')\n",
    "covid_cases['day_id1'] = ((covid_cases['diff1']/ np.timedelta64(1, 'D'))/7 ).astype(int)\n",
    "\n",
    "covid_cases['diff2']=(pd.to_datetime(covid_cases['Date'])-pd.to_datetime('2020-01-05'))/np.timedelta64(1, 'D')-4\n",
    "covid_cases['dayid2'] = (covid_cases['diff2']/7 ).astype(int)"
   ]
  },
  {
   "cell_type": "markdown",
   "metadata": {},
   "source": [
    "GROUPING"
   ]
  },
  {
   "cell_type": "code",
   "execution_count": 8,
   "metadata": {
    "execution": {
     "iopub.execute_input": "2021-09-21T15:39:11.988840Z",
     "iopub.status.busy": "2021-09-21T15:39:11.988840Z",
     "iopub.status.idle": "2021-09-21T15:39:12.129434Z",
     "shell.execute_reply": "2021-09-21T15:39:12.129434Z"
    }
   },
   "outputs": [],
   "source": [
    "covid_cases['weekid_1'] = covid_cases.groupby(['day_id1']).ngroup() + 1\n",
    "covid_cases['weekid_2'] = covid_cases.groupby(['dayid2']).ngroup() + 1"
   ]
  },
  {
   "cell_type": "code",
   "execution_count": 9,
   "metadata": {
    "execution": {
     "iopub.execute_input": "2021-09-21T15:39:12.129434Z",
     "iopub.status.busy": "2021-09-21T15:39:12.129434Z",
     "iopub.status.idle": "2021-09-21T15:39:12.207543Z",
     "shell.execute_reply": "2021-09-21T15:39:12.207543Z"
    }
   },
   "outputs": [],
   "source": [
    "covid_cases['monthid'] = covid_cases.groupby(['monthid']).ngroup() + 1 "
   ]
  },
  {
   "cell_type": "code",
   "execution_count": 10,
   "metadata": {
    "execution": {
     "iopub.execute_input": "2021-09-21T15:39:12.223159Z",
     "iopub.status.busy": "2021-09-21T15:39:12.207543Z",
     "iopub.status.idle": "2021-09-21T15:39:12.598071Z",
     "shell.execute_reply": "2021-09-21T15:39:12.598071Z"
    }
   },
   "outputs": [],
   "source": [
    "df1 = pd.merge(vacc_df1,covid_cases,how='inner',left_on=['State'],right_on = ['State'])\n",
    "df1['districtid']=df1['State_Code']+\"_\"+df1[\"District\"]"
   ]
  },
  {
   "cell_type": "code",
   "execution_count": 11,
   "metadata": {
    "execution": {
     "iopub.execute_input": "2021-09-21T15:39:12.613692Z",
     "iopub.status.busy": "2021-09-21T15:39:12.613692Z",
     "iopub.status.idle": "2021-09-21T15:39:12.723048Z",
     "shell.execute_reply": "2021-09-21T15:39:12.723048Z"
    }
   },
   "outputs": [],
   "source": [
    "df1_month = df1[['State_Code','districtid','monthid','Confirmed']]\n",
    "df1_weekid1 = df1[['State_Code','districtid','weekid_1','Confirmed']]\n",
    "df1_weekid2 = df1[['State_Code','districtid','weekid_2','Confirmed']]\n",
    "#df1_overall = df1[['State_Code','districtid','Confirmed']]"
   ]
  },
  {
   "cell_type": "markdown",
   "metadata": {},
   "source": [
    "TAKING MAX VALUE OF A MONTH/WEAK"
   ]
  },
  {
   "cell_type": "code",
   "execution_count": 12,
   "metadata": {
    "execution": {
     "iopub.execute_input": "2021-09-21T15:39:12.754337Z",
     "iopub.status.busy": "2021-09-21T15:39:12.754337Z",
     "iopub.status.idle": "2021-09-21T15:39:12.894877Z",
     "shell.execute_reply": "2021-09-21T15:39:12.894877Z"
    }
   },
   "outputs": [],
   "source": [
    "df1_month = df1_month.groupby(['State_Code','monthid','districtid'])['Confirmed'].max().reset_index(name='Confirmed') "
   ]
  },
  {
   "cell_type": "code",
   "execution_count": 13,
   "metadata": {
    "execution": {
     "iopub.execute_input": "2021-09-21T15:39:12.910497Z",
     "iopub.status.busy": "2021-09-21T15:39:12.910497Z",
     "iopub.status.idle": "2021-09-21T15:39:13.082332Z",
     "shell.execute_reply": "2021-09-21T15:39:13.082332Z"
    }
   },
   "outputs": [],
   "source": [
    "df1_sub1 = df1_weekid1.groupby(['State_Code','weekid_1','districtid'])['Confirmed'].max().reset_index(name='Confirmed') "
   ]
  },
  {
   "cell_type": "code",
   "execution_count": 14,
   "metadata": {
    "execution": {
     "iopub.execute_input": "2021-09-21T15:39:13.113574Z",
     "iopub.status.busy": "2021-09-21T15:39:13.113574Z",
     "iopub.status.idle": "2021-09-21T15:39:13.285454Z",
     "shell.execute_reply": "2021-09-21T15:39:13.285454Z"
    }
   },
   "outputs": [],
   "source": [
    "df1_sub2 = df1_weekid2.groupby(['State_Code','weekid_2','districtid'])['Confirmed'].max().reset_index(name='Confirmed')\n",
    " "
   ]
  },
  {
   "cell_type": "code",
   "execution_count": 15,
   "metadata": {
    "execution": {
     "iopub.execute_input": "2021-09-21T15:39:13.285454Z",
     "iopub.status.busy": "2021-09-21T15:39:13.285454Z",
     "iopub.status.idle": "2021-09-21T15:39:13.301079Z",
     "shell.execute_reply": "2021-09-21T15:39:13.301079Z"
    }
   },
   "outputs": [],
   "source": [
    "#AS DATA IS CUMULATIVE WE PERFORM DIFF (2nd ROW - 1ST ROW and so on )"
   ]
  },
  {
   "cell_type": "code",
   "execution_count": 16,
   "metadata": {
    "execution": {
     "iopub.execute_input": "2021-09-21T15:39:13.316656Z",
     "iopub.status.busy": "2021-09-21T15:39:13.316656Z",
     "iopub.status.idle": "2021-09-21T15:39:14.113340Z",
     "shell.execute_reply": "2021-09-21T15:39:14.113340Z"
    }
   },
   "outputs": [],
   "source": [
    "df1_sub1['Cases'] = df1_sub1.groupby(['districtid'])['Confirmed'].diff().fillna(df1_sub1['Confirmed'])\n",
    "df1_sub2['Cases'] = df1_sub2.groupby(['districtid'])['Confirmed'].diff().fillna(df1_sub2['Confirmed'])\n",
    "df1_month['Cases'] = df1_month.groupby(['districtid'])['Confirmed'].diff().fillna(df1_month['Confirmed'])"
   ]
  },
  {
   "cell_type": "code",
   "execution_count": 17,
   "metadata": {
    "execution": {
     "iopub.execute_input": "2021-09-21T15:39:14.113340Z",
     "iopub.status.busy": "2021-09-21T15:39:14.113340Z",
     "iopub.status.idle": "2021-09-21T15:39:14.144631Z",
     "shell.execute_reply": "2021-09-21T15:39:14.144631Z"
    }
   },
   "outputs": [],
   "source": [
    "df1_sub1 = df1_sub1[['State_Code','weekid_1','districtid','Cases']]\n",
    "df1_sub2 = df1_sub2[['State_Code','weekid_2','districtid','Cases']]"
   ]
  },
  {
   "cell_type": "code",
   "execution_count": 18,
   "metadata": {
    "execution": {
     "iopub.execute_input": "2021-09-21T15:39:14.144631Z",
     "iopub.status.busy": "2021-09-21T15:39:14.144631Z",
     "iopub.status.idle": "2021-09-21T15:39:14.160248Z",
     "shell.execute_reply": "2021-09-21T15:39:14.160248Z"
    }
   },
   "outputs": [],
   "source": [
    "df1_sub1['weekid_1'] = df1_sub1['weekid_1']*2\n",
    "df1_sub2['weekid_2'] = df1_sub2['weekid_2']*2+1"
   ]
  },
  {
   "cell_type": "code",
   "execution_count": 19,
   "metadata": {
    "execution": {
     "iopub.execute_input": "2021-09-21T15:39:14.160248Z",
     "iopub.status.busy": "2021-09-21T15:39:14.160248Z",
     "iopub.status.idle": "2021-09-21T15:39:14.175875Z",
     "shell.execute_reply": "2021-09-21T15:39:14.175875Z"
    }
   },
   "outputs": [],
   "source": [
    "df1_sub2 = df1_sub2.rename(columns={'weekid_2':'weekid_1'})"
   ]
  },
  {
   "cell_type": "code",
   "execution_count": 20,
   "metadata": {
    "execution": {
     "iopub.execute_input": "2021-09-21T15:39:14.175875Z",
     "iopub.status.busy": "2021-09-21T15:39:14.175875Z",
     "iopub.status.idle": "2021-09-21T15:39:14.207068Z",
     "shell.execute_reply": "2021-09-21T15:39:14.207068Z"
    }
   },
   "outputs": [],
   "source": [
    "df1_week = pd.concat([df1_sub1,df1_sub2])"
   ]
  },
  {
   "cell_type": "code",
   "execution_count": 21,
   "metadata": {
    "execution": {
     "iopub.execute_input": "2021-09-21T15:39:14.222689Z",
     "iopub.status.busy": "2021-09-21T15:39:14.222689Z",
     "iopub.status.idle": "2021-09-21T15:39:14.238359Z",
     "shell.execute_reply": "2021-09-21T15:39:14.238359Z"
    }
   },
   "outputs": [],
   "source": [
    "df1_week['weekid'] = df1_week.groupby(['weekid_1']).ngroup()+1"
   ]
  },
  {
   "cell_type": "code",
   "execution_count": 22,
   "metadata": {
    "execution": {
     "iopub.execute_input": "2021-09-21T15:39:14.238359Z",
     "iopub.status.busy": "2021-09-21T15:39:14.238359Z",
     "iopub.status.idle": "2021-09-21T15:39:14.269555Z",
     "shell.execute_reply": "2021-09-21T15:39:14.269555Z"
    }
   },
   "outputs": [],
   "source": [
    "df1_week = df1_week[['State_Code','weekid','districtid','Cases']]\n",
    "\n",
    "df1_month = df1_month[['State_Code','monthid','districtid','Cases']]"
   ]
  },
  {
   "cell_type": "code",
   "execution_count": null,
   "metadata": {},
   "outputs": [],
   "source": []
  },
  {
   "cell_type": "code",
   "execution_count": 23,
   "metadata": {
    "execution": {
     "iopub.execute_input": "2021-09-21T15:39:14.285176Z",
     "iopub.status.busy": "2021-09-21T15:39:14.285176Z",
     "iopub.status.idle": "2021-09-21T15:39:14.285176Z",
     "shell.execute_reply": "2021-09-21T15:39:14.285176Z"
    }
   },
   "outputs": [],
   "source": [
    "df1_stwise = df1_month[['State_Code','monthid','Cases']]"
   ]
  },
  {
   "cell_type": "code",
   "execution_count": 24,
   "metadata": {
    "execution": {
     "iopub.execute_input": "2021-09-21T15:39:14.285176Z",
     "iopub.status.busy": "2021-09-21T15:39:14.285176Z",
     "iopub.status.idle": "2021-09-21T15:39:14.316470Z",
     "shell.execute_reply": "2021-09-21T15:39:14.316470Z"
    }
   },
   "outputs": [],
   "source": [
    "df1_stwise_month = df1_stwise.groupby(['State_Code','monthid'])['Cases'].sum().reset_index(name='Cases')"
   ]
  },
  {
   "cell_type": "code",
   "execution_count": 25,
   "metadata": {
    "execution": {
     "iopub.execute_input": "2021-09-21T15:39:14.316470Z",
     "iopub.status.busy": "2021-09-21T15:39:14.316470Z",
     "iopub.status.idle": "2021-09-21T15:39:14.332039Z",
     "shell.execute_reply": "2021-09-21T15:39:14.332039Z"
    }
   },
   "outputs": [],
   "source": [
    "#coverting into integer type\n",
    "df1_week['week_id'] = df1_week['weekid'].astype(int)"
   ]
  },
  {
   "cell_type": "code",
   "execution_count": null,
   "metadata": {},
   "outputs": [],
   "source": []
  },
  {
   "cell_type": "code",
   "execution_count": 26,
   "metadata": {
    "execution": {
     "iopub.execute_input": "2021-09-21T15:39:14.332039Z",
     "iopub.status.busy": "2021-09-21T15:39:14.332039Z",
     "iopub.status.idle": "2021-09-21T15:39:14.363283Z",
     "shell.execute_reply": "2021-09-21T15:39:14.363283Z"
    }
   },
   "outputs": [],
   "source": [
    "df1_week = df1_week[df1_week['week_id']!=2]\n",
    "df1_week['week_id'] = np.where(df1_week['week_id']%2 == 0,df1_week['week_id']-2,df1_week['week_id'])"
   ]
  },
  {
   "cell_type": "code",
   "execution_count": 27,
   "metadata": {
    "execution": {
     "iopub.execute_input": "2021-09-21T15:39:14.363283Z",
     "iopub.status.busy": "2021-09-21T15:39:14.363283Z",
     "iopub.status.idle": "2021-09-21T15:39:14.394527Z",
     "shell.execute_reply": "2021-09-21T15:39:14.394527Z"
    }
   },
   "outputs": [],
   "source": [
    "df1_week['weekid'] = df1_week['week_id'].astype(int)\n",
    "df1_week = df1_week.drop(columns=['week_id'])"
   ]
  },
  {
   "cell_type": "markdown",
   "metadata": {},
   "source": [
    "CALCULATING STATEWISE"
   ]
  },
  {
   "cell_type": "code",
   "execution_count": 28,
   "metadata": {
    "execution": {
     "iopub.execute_input": "2021-09-21T15:39:14.410145Z",
     "iopub.status.busy": "2021-09-21T15:39:14.394527Z",
     "iopub.status.idle": "2021-09-21T15:39:14.425766Z",
     "shell.execute_reply": "2021-09-21T15:39:14.425766Z"
    }
   },
   "outputs": [],
   "source": [
    "df1_stwise=df1_week[[\"State_Code\",\"weekid\",\"districtid\",\"Cases\"]]"
   ]
  },
  {
   "cell_type": "code",
   "execution_count": 29,
   "metadata": {
    "execution": {
     "iopub.execute_input": "2021-09-21T15:39:14.441389Z",
     "iopub.status.busy": "2021-09-21T15:39:14.441389Z",
     "iopub.status.idle": "2021-09-21T15:39:14.441389Z",
     "shell.execute_reply": "2021-09-21T15:39:14.441389Z"
    }
   },
   "outputs": [],
   "source": [
    "df1_stwise = df1_stwise[['State_Code','weekid','Cases']]"
   ]
  },
  {
   "cell_type": "code",
   "execution_count": 30,
   "metadata": {
    "execution": {
     "iopub.execute_input": "2021-09-21T15:39:14.457010Z",
     "iopub.status.busy": "2021-09-21T15:39:14.441389Z",
     "iopub.status.idle": "2021-09-21T15:39:14.488254Z",
     "shell.execute_reply": "2021-09-21T15:39:14.488254Z"
    }
   },
   "outputs": [],
   "source": [
    "df1_stwise_week = df1_stwise.groupby(['State_Code','weekid'])['Cases'].sum().reset_index(name='Cases')"
   ]
  },
  {
   "cell_type": "code",
   "execution_count": 31,
   "metadata": {
    "execution": {
     "iopub.execute_input": "2021-09-21T15:39:14.488254Z",
     "iopub.status.busy": "2021-09-21T15:39:14.488254Z",
     "iopub.status.idle": "2021-09-21T15:39:14.503873Z",
     "shell.execute_reply": "2021-09-21T15:39:14.503873Z"
    }
   },
   "outputs": [],
   "source": [
    "df1_stwise_week_1 = df1_stwise_week[df1_stwise_week['weekid'] < 40]\n",
    "df1_stwise_week_2 = df1_stwise_week[df1_stwise_week['weekid'] > 80 ]"
   ]
  },
  {
   "cell_type": "code",
   "execution_count": 32,
   "metadata": {
    "execution": {
     "iopub.execute_input": "2021-09-21T15:39:14.503873Z",
     "iopub.status.busy": "2021-09-21T15:39:14.503873Z",
     "iopub.status.idle": "2021-09-21T15:39:14.519498Z",
     "shell.execute_reply": "2021-09-21T15:39:14.519498Z"
    }
   },
   "outputs": [],
   "source": [
    "df1_overall1=df1_stwise_week_1[[\"State_Code\",\"weekid\",\"Cases\"]]"
   ]
  },
  {
   "cell_type": "code",
   "execution_count": 33,
   "metadata": {
    "execution": {
     "iopub.execute_input": "2021-09-21T15:39:14.519498Z",
     "iopub.status.busy": "2021-09-21T15:39:14.519498Z",
     "iopub.status.idle": "2021-09-21T15:39:14.550755Z",
     "shell.execute_reply": "2021-09-21T15:39:14.550755Z"
    }
   },
   "outputs": [],
   "source": [
    "df1_stwise_week_1=df1_stwise_week_1.loc[df1_stwise_week_1.groupby(\"State_Code\")[\"Cases\"].idxmax()]\n"
   ]
  },
  {
   "cell_type": "markdown",
   "metadata": {},
   "source": [
    "RENAMING AND TAKING ONLY REQUIRED COLS"
   ]
  },
  {
   "cell_type": "code",
   "execution_count": 34,
   "metadata": {
    "execution": {
     "iopub.execute_input": "2021-09-21T15:39:14.566364Z",
     "iopub.status.busy": "2021-09-21T15:39:14.566364Z",
     "iopub.status.idle": "2021-09-21T15:39:14.581981Z",
     "shell.execute_reply": "2021-09-21T15:39:14.581981Z"
    }
   },
   "outputs": [],
   "source": [
    "df1_stwise_week_1 = df1_stwise_week_1.rename(columns = {'weekid':'wave1 - weekid'}).drop(columns= ['Cases'])\n",
    "df1_stwise_week_1 = df1_stwise_week_1[['State_Code','wave1 - weekid']]"
   ]
  },
  {
   "cell_type": "code",
   "execution_count": 35,
   "metadata": {
    "execution": {
     "iopub.execute_input": "2021-09-21T15:39:14.597603Z",
     "iopub.status.busy": "2021-09-21T15:39:14.597603Z",
     "iopub.status.idle": "2021-09-21T15:39:14.613225Z",
     "shell.execute_reply": "2021-09-21T15:39:14.613225Z"
    }
   },
   "outputs": [],
   "source": [
    "df1_overall1=df1_overall1.groupby(['weekid'])['Cases'].sum().reset_index(name='Cases')\n"
   ]
  },
  {
   "cell_type": "markdown",
   "metadata": {},
   "source": [
    "AS DATA IS CUMULATIVE WE TAKE MAX VALUE"
   ]
  },
  {
   "cell_type": "code",
   "execution_count": 36,
   "metadata": {
    "execution": {
     "iopub.execute_input": "2021-09-21T15:39:14.613225Z",
     "iopub.status.busy": "2021-09-21T15:39:14.613225Z",
     "iopub.status.idle": "2021-09-21T15:39:14.628871Z",
     "shell.execute_reply": "2021-09-21T15:39:14.628871Z"
    }
   },
   "outputs": [],
   "source": [
    "date_of_week=df1_overall1\n",
    "df1_overall1_max =date_of_week[date_of_week[\"Cases\"]== date_of_week[\"Cases\"].max()]"
   ]
  },
  {
   "cell_type": "code",
   "execution_count": 37,
   "metadata": {
    "execution": {
     "iopub.execute_input": "2021-09-21T15:39:14.628871Z",
     "iopub.status.busy": "2021-09-21T15:39:14.628871Z",
     "iopub.status.idle": "2021-09-21T15:39:14.644504Z",
     "shell.execute_reply": "2021-09-21T15:39:14.644504Z"
    }
   },
   "outputs": [],
   "source": [
    "df1_overall1_max = df1_overall1_max.rename(columns = {'weekid':'wave1 - weekid'}).drop(columns= ['Cases'])\n",
    "df1_overall1_max[\"Overall\"] = \"India\""
   ]
  },
  {
   "cell_type": "code",
   "execution_count": 38,
   "metadata": {
    "execution": {
     "iopub.execute_input": "2021-09-21T15:39:14.644504Z",
     "iopub.status.busy": "2021-09-21T15:39:14.644504Z",
     "iopub.status.idle": "2021-09-21T15:39:14.660089Z",
     "shell.execute_reply": "2021-09-21T15:39:14.660089Z"
    }
   },
   "outputs": [],
   "source": [
    "df1_overall2=df1_stwise_week_2[[\"State_Code\",\"weekid\",\"Cases\"]]"
   ]
  },
  {
   "cell_type": "code",
   "execution_count": 39,
   "metadata": {
    "execution": {
     "iopub.execute_input": "2021-09-21T15:39:14.660089Z",
     "iopub.status.busy": "2021-09-21T15:39:14.660089Z",
     "iopub.status.idle": "2021-09-21T15:39:14.691394Z",
     "shell.execute_reply": "2021-09-21T15:39:14.691394Z"
    }
   },
   "outputs": [],
   "source": [
    "df1_stwise_week_2=df1_stwise_week_2.loc[df1_stwise_week_2.groupby(\"State_Code\")[\"Cases\"].idxmax()]"
   ]
  },
  {
   "cell_type": "code",
   "execution_count": 40,
   "metadata": {
    "execution": {
     "iopub.execute_input": "2021-09-21T15:39:14.706955Z",
     "iopub.status.busy": "2021-09-21T15:39:14.706955Z",
     "iopub.status.idle": "2021-09-21T15:39:14.706955Z",
     "shell.execute_reply": "2021-09-21T15:39:14.706955Z"
    }
   },
   "outputs": [],
   "source": [
    "df1_stwise_week_2 = df1_stwise_week_2.rename(columns = {'weekid':'wave2 - weekid'}).drop(columns= ['Cases'])"
   ]
  },
  {
   "cell_type": "code",
   "execution_count": 41,
   "metadata": {
    "execution": {
     "iopub.execute_input": "2021-09-21T15:39:14.722576Z",
     "iopub.status.busy": "2021-09-21T15:39:14.722576Z",
     "iopub.status.idle": "2021-09-21T15:39:14.722576Z",
     "shell.execute_reply": "2021-09-21T15:39:14.722576Z"
    }
   },
   "outputs": [],
   "source": [
    "df1_overall2=df1_overall2.groupby(['weekid'])['Cases'].sum().reset_index(name='Cases')\n"
   ]
  },
  {
   "cell_type": "code",
   "execution_count": 42,
   "metadata": {
    "execution": {
     "iopub.execute_input": "2021-09-21T15:39:14.722576Z",
     "iopub.status.busy": "2021-09-21T15:39:14.722576Z",
     "iopub.status.idle": "2021-09-21T15:39:14.738197Z",
     "shell.execute_reply": "2021-09-21T15:39:14.738197Z"
    }
   },
   "outputs": [],
   "source": [
    "date_of_week2=df1_overall2\n",
    "df1_overall2_max =date_of_week2[date_of_week2[\"Cases\"]== date_of_week2[\"Cases\"].max()]"
   ]
  },
  {
   "cell_type": "code",
   "execution_count": 43,
   "metadata": {
    "execution": {
     "iopub.execute_input": "2021-09-21T15:39:14.753815Z",
     "iopub.status.busy": "2021-09-21T15:39:14.738197Z",
     "iopub.status.idle": "2021-09-21T15:39:14.753815Z",
     "shell.execute_reply": "2021-09-21T15:39:14.753815Z"
    }
   },
   "outputs": [],
   "source": [
    "df1_overall2_max = df1_overall2_max.rename(columns = {'weekid':'wave2 - weekid'}).drop(columns= ['Cases'])\n",
    "df1_overall2_max[\"Overall\"] = \"India\""
   ]
  },
  {
   "cell_type": "code",
   "execution_count": 44,
   "metadata": {
    "execution": {
     "iopub.execute_input": "2021-09-21T15:39:14.769441Z",
     "iopub.status.busy": "2021-09-21T15:39:14.769441Z",
     "iopub.status.idle": "2021-09-21T15:39:14.785057Z",
     "shell.execute_reply": "2021-09-21T15:39:14.785057Z"
    }
   },
   "outputs": [],
   "source": [
    "df1_overall_wk_peak = pd.merge(df1_overall1_max,df1_overall2_max, how=\"inner\",on=\"Overall\")"
   ]
  },
  {
   "cell_type": "code",
   "execution_count": 45,
   "metadata": {
    "execution": {
     "iopub.execute_input": "2021-09-21T15:39:14.785057Z",
     "iopub.status.busy": "2021-09-21T15:39:14.785057Z",
     "iopub.status.idle": "2021-09-21T15:39:14.816349Z",
     "shell.execute_reply": "2021-09-21T15:39:14.816349Z"
    }
   },
   "outputs": [],
   "source": [
    "df1_sub1 = df1_week[df1_week['weekid'] < 40]\n",
    "df1_sub2 = df1_week[df1_week['weekid'] > 80 ]"
   ]
  },
  {
   "cell_type": "code",
   "execution_count": 46,
   "metadata": {
    "execution": {
     "iopub.execute_input": "2021-09-21T15:39:14.831921Z",
     "iopub.status.busy": "2021-09-21T15:39:14.816349Z",
     "iopub.status.idle": "2021-09-21T15:39:14.847544Z",
     "shell.execute_reply": "2021-09-21T15:39:14.847544Z"
    }
   },
   "outputs": [],
   "source": [
    "dfnew1 = df1_sub1.groupby('districtid')['Cases'].transform(max) == df1_sub1['Cases']\n",
    "df1_sub1 = df1_sub1[dfnew1]\n"
   ]
  },
  {
   "cell_type": "code",
   "execution_count": 47,
   "metadata": {
    "execution": {
     "iopub.execute_input": "2021-09-21T15:39:14.863196Z",
     "iopub.status.busy": "2021-09-21T15:39:14.863196Z",
     "iopub.status.idle": "2021-09-21T15:39:14.863196Z",
     "shell.execute_reply": "2021-09-21T15:39:14.863196Z"
    }
   },
   "outputs": [],
   "source": [
    "df1_sub1 = df1_sub1.rename(columns = {'weekid':'wave1 - weekid'}).drop(columns= ['Cases'])"
   ]
  },
  {
   "cell_type": "code",
   "execution_count": 48,
   "metadata": {
    "execution": {
     "iopub.execute_input": "2021-09-21T15:39:14.878785Z",
     "iopub.status.busy": "2021-09-21T15:39:14.878785Z",
     "iopub.status.idle": "2021-09-21T15:39:14.894455Z",
     "shell.execute_reply": "2021-09-21T15:39:14.894455Z"
    }
   },
   "outputs": [],
   "source": [
    "temp = df1_sub2.groupby('districtid')['Cases'].transform(max) == df1_sub2['Cases']\n",
    "df1_sub2 = df1_sub2[temp]\n"
   ]
  },
  {
   "cell_type": "code",
   "execution_count": 49,
   "metadata": {
    "execution": {
     "iopub.execute_input": "2021-09-21T15:39:14.910068Z",
     "iopub.status.busy": "2021-09-21T15:39:14.894455Z",
     "iopub.status.idle": "2021-09-21T15:39:14.910068Z",
     "shell.execute_reply": "2021-09-21T15:39:14.910068Z"
    }
   },
   "outputs": [],
   "source": [
    "df1_sub2 = df1_sub2.rename(columns = {'weekid':'wave2 - weekid'}).drop(columns= ['Cases'])"
   ]
  },
  {
   "cell_type": "code",
   "execution_count": 50,
   "metadata": {
    "execution": {
     "iopub.execute_input": "2021-09-21T15:39:14.910068Z",
     "iopub.status.busy": "2021-09-21T15:39:14.910068Z",
     "iopub.status.idle": "2021-09-21T15:39:14.941275Z",
     "shell.execute_reply": "2021-09-21T15:39:14.941275Z"
    }
   },
   "outputs": [],
   "source": [
    "df1_month_1 = df1_month[df1_month['monthid'] < 10]\n",
    "df1_month_2 = df1_month[df1_month['monthid'] > 9 ]"
   ]
  },
  {
   "cell_type": "code",
   "execution_count": 51,
   "metadata": {
    "execution": {
     "iopub.execute_input": "2021-09-21T15:39:14.941275Z",
     "iopub.status.busy": "2021-09-21T15:39:14.941275Z",
     "iopub.status.idle": "2021-09-21T15:39:15.081868Z",
     "shell.execute_reply": "2021-09-21T15:39:15.081868Z"
    }
   },
   "outputs": [],
   "source": [
    "df1_month_1=df1_month_1.loc[df1_month_1.groupby(\"districtid\")[\"Cases\"].idxmax()]"
   ]
  },
  {
   "cell_type": "code",
   "execution_count": 52,
   "metadata": {
    "execution": {
     "iopub.execute_input": "2021-09-21T15:39:15.097487Z",
     "iopub.status.busy": "2021-09-21T15:39:15.097487Z",
     "iopub.status.idle": "2021-09-21T15:39:15.113158Z",
     "shell.execute_reply": "2021-09-21T15:39:15.113158Z"
    }
   },
   "outputs": [],
   "source": [
    "df1_month_1 = df1_month_1.rename(columns = {'monthid':'wave1 - monthid'}).drop(columns= ['Cases'])"
   ]
  },
  {
   "cell_type": "code",
   "execution_count": 53,
   "metadata": {
    "execution": {
     "iopub.execute_input": "2021-09-21T15:39:15.113158Z",
     "iopub.status.busy": "2021-09-21T15:39:15.113158Z",
     "iopub.status.idle": "2021-09-21T15:39:15.253756Z",
     "shell.execute_reply": "2021-09-21T15:39:15.253756Z"
    }
   },
   "outputs": [],
   "source": [
    "df1_month_2=df1_month_2.loc[df1_month_2.groupby(\"districtid\")[\"Cases\"].idxmax()]\n",
    "df1_month_2 = df1_month_2.rename(columns = {'monthid':'wave2 - monthid'}).drop(columns= ['Cases'])"
   ]
  },
  {
   "cell_type": "code",
   "execution_count": 54,
   "metadata": {
    "execution": {
     "iopub.execute_input": "2021-09-21T15:39:15.269358Z",
     "iopub.status.busy": "2021-09-21T15:39:15.269358Z",
     "iopub.status.idle": "2021-09-21T15:39:15.269358Z",
     "shell.execute_reply": "2021-09-21T15:39:15.269358Z"
    }
   },
   "outputs": [],
   "source": [
    "df1_stwise_month_1 = df1_stwise_month[df1_stwise_month['monthid'] < 10]\n",
    "df1_stwise_month_2 = df1_stwise_month[df1_stwise_month['monthid'] > 9 ]"
   ]
  },
  {
   "cell_type": "code",
   "execution_count": 55,
   "metadata": {
    "execution": {
     "iopub.execute_input": "2021-09-21T15:39:15.284941Z",
     "iopub.status.busy": "2021-09-21T15:39:15.284941Z",
     "iopub.status.idle": "2021-09-21T15:39:15.300561Z",
     "shell.execute_reply": "2021-09-21T15:39:15.300561Z"
    }
   },
   "outputs": [],
   "source": [
    "df1_overall_month_1 = df1_stwise_month_1.groupby(\"monthid\")[\"Cases\"].sum().reset_index(name='Cases')\n",
    "df1_overall_month_2 = df1_stwise_month_2.groupby(\"monthid\")[\"Cases\"].sum().reset_index(name='Cases')"
   ]
  },
  {
   "cell_type": "code",
   "execution_count": 56,
   "metadata": {
    "execution": {
     "iopub.execute_input": "2021-09-21T15:39:15.316187Z",
     "iopub.status.busy": "2021-09-21T15:39:15.316187Z",
     "iopub.status.idle": "2021-09-21T15:39:15.331804Z",
     "shell.execute_reply": "2021-09-21T15:39:15.331804Z"
    }
   },
   "outputs": [],
   "source": [
    "df1_overall_month_1 = df1_overall_month_1[df1_overall_month_1[\"Cases\"]==df1_overall_month_1[\"Cases\"].max()]\n",
    "df1_overall_month_1 = df1_overall_month_1.rename(columns = {'monthid':'wave1 - monthid'}).drop(columns= ['Cases'])\n",
    "df1_overall_month_1[\"Overall\"]=\"India\"\n"
   ]
  },
  {
   "cell_type": "code",
   "execution_count": 57,
   "metadata": {
    "execution": {
     "iopub.execute_input": "2021-09-21T15:39:15.347425Z",
     "iopub.status.busy": "2021-09-21T15:39:15.347425Z",
     "iopub.status.idle": "2021-09-21T15:39:15.363052Z",
     "shell.execute_reply": "2021-09-21T15:39:15.363052Z"
    }
   },
   "outputs": [],
   "source": [
    "df1_overall_month_2 = df1_overall_month_2[df1_overall_month_2[\"Cases\"]==df1_overall_month_2[\"Cases\"].max()]\n",
    "df1_overall_month_2 = df1_overall_month_2.rename(columns = {'monthid':'wave2 - monthid'}).drop(columns= ['Cases'])\n",
    "df1_overall_month_2[\"Overall\"]=\"India\"\n"
   ]
  },
  {
   "cell_type": "code",
   "execution_count": 58,
   "metadata": {
    "execution": {
     "iopub.execute_input": "2021-09-21T15:39:15.378671Z",
     "iopub.status.busy": "2021-09-21T15:39:15.363052Z",
     "iopub.status.idle": "2021-09-21T15:39:15.395819Z",
     "shell.execute_reply": "2021-09-21T15:39:15.395819Z"
    }
   },
   "outputs": [],
   "source": [
    "df1_overall_month_peak = pd.merge(df1_overall_month_1,df1_overall_month_2,how=\"inner\",on=\"Overall\")"
   ]
  },
  {
   "cell_type": "code",
   "execution_count": 59,
   "metadata": {
    "execution": {
     "iopub.execute_input": "2021-09-21T15:39:15.411448Z",
     "iopub.status.busy": "2021-09-21T15:39:15.411448Z",
     "iopub.status.idle": "2021-09-21T15:39:15.442738Z",
     "shell.execute_reply": "2021-09-21T15:39:15.442738Z"
    }
   },
   "outputs": [
    {
     "data": {
      "text/html": [
       "<div>\n",
       "<style scoped>\n",
       "    .dataframe tbody tr th:only-of-type {\n",
       "        vertical-align: middle;\n",
       "    }\n",
       "\n",
       "    .dataframe tbody tr th {\n",
       "        vertical-align: top;\n",
       "    }\n",
       "\n",
       "    .dataframe thead th {\n",
       "        text-align: right;\n",
       "    }\n",
       "</style>\n",
       "<table border=\"1\" class=\"dataframe\">\n",
       "  <thead>\n",
       "    <tr style=\"text-align: right;\">\n",
       "      <th></th>\n",
       "      <th>wave1 - monthid</th>\n",
       "      <th>Overall</th>\n",
       "      <th>wave2 - monthid</th>\n",
       "    </tr>\n",
       "  </thead>\n",
       "  <tbody>\n",
       "    <tr>\n",
       "      <th>0</th>\n",
       "      <td>5</td>\n",
       "      <td>India</td>\n",
       "      <td>13</td>\n",
       "    </tr>\n",
       "  </tbody>\n",
       "</table>\n",
       "</div>"
      ],
      "text/plain": [
       "   wave1 - monthid Overall  wave2 - monthid\n",
       "0                5   India               13"
      ]
     },
     "execution_count": 59,
     "metadata": {},
     "output_type": "execute_result"
    }
   ],
   "source": [
    "df1_overall_month_peak"
   ]
  },
  {
   "cell_type": "code",
   "execution_count": 60,
   "metadata": {
    "execution": {
     "iopub.execute_input": "2021-09-21T15:39:15.458310Z",
     "iopub.status.busy": "2021-09-21T15:39:15.458310Z",
     "iopub.status.idle": "2021-09-21T15:39:15.473972Z",
     "shell.execute_reply": "2021-09-21T15:39:15.473972Z"
    }
   },
   "outputs": [],
   "source": [
    "df1_ovall_peak = pd.merge(df1_overall_wk_peak,df1_overall_month_peak,how=\"inner\",on=\"Overall\")\n",
    "df1_ovall_peak = df1_ovall_peak.groupby(['Overall']).min().reset_index()\n",
    "df1_ovall_peak['wave1 - weekid']=(df1_ovall_peak['wave1 - weekid']/2).apply(np.ceil).astype(int)\n",
    "df1_ovall_peak['wave2 - weekid']=(df1_ovall_peak['wave2 - weekid']/2).apply(np.ceil).astype(int)"
   ]
  },
  {
   "cell_type": "code",
   "execution_count": 61,
   "metadata": {
    "execution": {
     "iopub.execute_input": "2021-09-21T15:39:15.489555Z",
     "iopub.status.busy": "2021-09-21T15:39:15.489555Z",
     "iopub.status.idle": "2021-09-21T15:39:15.505178Z",
     "shell.execute_reply": "2021-09-21T15:39:15.505178Z"
    }
   },
   "outputs": [
    {
     "data": {
      "text/html": [
       "<div>\n",
       "<style scoped>\n",
       "    .dataframe tbody tr th:only-of-type {\n",
       "        vertical-align: middle;\n",
       "    }\n",
       "\n",
       "    .dataframe tbody tr th {\n",
       "        vertical-align: top;\n",
       "    }\n",
       "\n",
       "    .dataframe thead th {\n",
       "        text-align: right;\n",
       "    }\n",
       "</style>\n",
       "<table border=\"1\" class=\"dataframe\">\n",
       "  <thead>\n",
       "    <tr style=\"text-align: right;\">\n",
       "      <th></th>\n",
       "      <th>Overall</th>\n",
       "      <th>wave1 - weekid</th>\n",
       "      <th>wave2 - weekid</th>\n",
       "      <th>wave1 - monthid</th>\n",
       "      <th>wave2 - monthid</th>\n",
       "    </tr>\n",
       "  </thead>\n",
       "  <tbody>\n",
       "    <tr>\n",
       "      <th>0</th>\n",
       "      <td>India</td>\n",
       "      <td>20</td>\n",
       "      <td>54</td>\n",
       "      <td>5</td>\n",
       "      <td>13</td>\n",
       "    </tr>\n",
       "  </tbody>\n",
       "</table>\n",
       "</div>"
      ],
      "text/plain": [
       "  Overall  wave1 - weekid  wave2 - weekid  wave1 - monthid  wave2 - monthid\n",
       "0   India              20              54                5               13"
      ]
     },
     "execution_count": 61,
     "metadata": {},
     "output_type": "execute_result"
    }
   ],
   "source": [
    "df1_ovall_peak"
   ]
  },
  {
   "cell_type": "code",
   "execution_count": 62,
   "metadata": {
    "execution": {
     "iopub.execute_input": "2021-09-21T15:39:15.526311Z",
     "iopub.status.busy": "2021-09-21T15:39:15.520800Z",
     "iopub.status.idle": "2021-09-21T15:39:15.541940Z",
     "shell.execute_reply": "2021-09-21T15:39:15.541940Z"
    }
   },
   "outputs": [],
   "source": [
    "df1_stwise_month_1=df1_stwise_month_1.loc[df1_stwise_month_1.groupby(\"State_Code\")[\"Cases\"].idxmax()]"
   ]
  },
  {
   "cell_type": "code",
   "execution_count": 63,
   "metadata": {
    "execution": {
     "iopub.execute_input": "2021-09-21T15:39:15.557566Z",
     "iopub.status.busy": "2021-09-21T15:39:15.541940Z",
     "iopub.status.idle": "2021-09-21T15:39:15.557566Z",
     "shell.execute_reply": "2021-09-21T15:39:15.557566Z"
    }
   },
   "outputs": [],
   "source": [
    "df1_stwise_month_1 = df1_stwise_month_1.rename(columns = {'monthid':'wave1 - monthid'}).drop(columns= ['Cases'])"
   ]
  },
  {
   "cell_type": "code",
   "execution_count": 64,
   "metadata": {
    "execution": {
     "iopub.execute_input": "2021-09-21T15:39:15.573187Z",
     "iopub.status.busy": "2021-09-21T15:39:15.573187Z",
     "iopub.status.idle": "2021-09-21T15:39:15.588808Z",
     "shell.execute_reply": "2021-09-21T15:39:15.588808Z"
    }
   },
   "outputs": [],
   "source": [
    "df1_stwise_month_2=df1_stwise_month_2.loc[df1_stwise_month_2.groupby(\"State_Code\")[\"Cases\"].idxmax()]\n",
    "df1_stwise_month_2 = df1_stwise_month_2.rename(columns = {'monthid':'wave2 - monthid'}).drop(columns= ['Cases'])\n"
   ]
  },
  {
   "cell_type": "code",
   "execution_count": null,
   "metadata": {},
   "outputs": [],
   "source": []
  },
  {
   "cell_type": "markdown",
   "metadata": {},
   "source": [
    "DROPPING STATENAME COLUMNS"
   ]
  },
  {
   "cell_type": "code",
   "execution_count": 65,
   "metadata": {
    "execution": {
     "iopub.execute_input": "2021-09-21T15:39:15.604428Z",
     "iopub.status.busy": "2021-09-21T15:39:15.604428Z",
     "iopub.status.idle": "2021-09-21T15:39:15.620049Z",
     "shell.execute_reply": "2021-09-21T15:39:15.620049Z"
    }
   },
   "outputs": [],
   "source": [
    "df1_sub1 = df1_sub1.drop(columns= ['State_Code'])\n",
    "df1_sub2 = df1_sub2.drop(columns= ['State_Code'])\n",
    "df1_month_1 = df1_month_1.drop(columns= ['State_Code'])\n",
    "df1_month_2 = df1_month_2.drop(columns= ['State_Code'])"
   ]
  },
  {
   "cell_type": "code",
   "execution_count": 66,
   "metadata": {
    "execution": {
     "iopub.execute_input": "2021-09-21T15:39:15.635708Z",
     "iopub.status.busy": "2021-09-21T15:39:15.635708Z",
     "iopub.status.idle": "2021-09-21T15:39:15.651290Z",
     "shell.execute_reply": "2021-09-21T15:39:15.651290Z"
    }
   },
   "outputs": [],
   "source": [
    "df1_district_week = pd.merge(df1_sub1,df1_sub2,how='inner',on='districtid')\n",
    "df1_district_month = pd.merge(df1_month_1,df1_month_2,how='inner',on='districtid')"
   ]
  },
  {
   "cell_type": "markdown",
   "metadata": {},
   "source": [
    "MERGING ON DISTRICTID"
   ]
  },
  {
   "cell_type": "code",
   "execution_count": 67,
   "metadata": {
    "execution": {
     "iopub.execute_input": "2021-09-21T15:39:15.666913Z",
     "iopub.status.busy": "2021-09-21T15:39:15.666913Z",
     "iopub.status.idle": "2021-09-21T15:39:15.697259Z",
     "shell.execute_reply": "2021-09-21T15:39:15.697259Z"
    }
   },
   "outputs": [],
   "source": [
    "df1_district = pd.merge(df1_district_week,df1_district_month,how='inner',on='districtid')"
   ]
  },
  {
   "cell_type": "code",
   "execution_count": 68,
   "metadata": {
    "execution": {
     "iopub.execute_input": "2021-09-21T15:39:15.707748Z",
     "iopub.status.busy": "2021-09-21T15:39:15.707748Z",
     "iopub.status.idle": "2021-09-21T15:39:15.733383Z",
     "shell.execute_reply": "2021-09-21T15:39:15.733383Z"
    }
   },
   "outputs": [],
   "source": [
    "df1_stwise_week = pd.merge(df1_stwise_week_1,df1_stwise_week_2,how='inner',on='State_Code')\n",
    "df1_stwise_month = pd.merge(df1_stwise_month_1,df1_stwise_month_2,how='inner',on='State_Code')"
   ]
  },
  {
   "cell_type": "code",
   "execution_count": 69,
   "metadata": {
    "execution": {
     "iopub.execute_input": "2021-09-21T15:39:15.749004Z",
     "iopub.status.busy": "2021-09-21T15:39:15.749004Z",
     "iopub.status.idle": "2021-09-21T15:39:15.764629Z",
     "shell.execute_reply": "2021-09-21T15:39:15.764629Z"
    }
   },
   "outputs": [],
   "source": [
    "df1_stwise = pd.merge(df1_stwise_week,df1_stwise_month,how='inner',on='State_Code')"
   ]
  },
  {
   "cell_type": "code",
   "execution_count": 70,
   "metadata": {
    "execution": {
     "iopub.execute_input": "2021-09-21T15:39:15.780247Z",
     "iopub.status.busy": "2021-09-21T15:39:15.764629Z",
     "iopub.status.idle": "2021-09-21T15:39:15.780247Z",
     "shell.execute_reply": "2021-09-21T15:39:15.780247Z"
    }
   },
   "outputs": [],
   "source": [
    "df1_stwise = df1_stwise.rename(columns={'State_Code':'stateid'})"
   ]
  },
  {
   "cell_type": "code",
   "execution_count": null,
   "metadata": {},
   "outputs": [],
   "source": []
  },
  {
   "cell_type": "code",
   "execution_count": 71,
   "metadata": {
    "execution": {
     "iopub.execute_input": "2021-09-21T15:39:15.795870Z",
     "iopub.status.busy": "2021-09-21T15:39:15.795870Z",
     "iopub.status.idle": "2021-09-21T15:39:15.811535Z",
     "shell.execute_reply": "2021-09-21T15:39:15.811535Z"
    }
   },
   "outputs": [],
   "source": [
    "df1_district = df1_district.groupby(['districtid']).min().reset_index()\n",
    "df1_stwise = df1_stwise.groupby(['stateid']).min().reset_index()"
   ]
  },
  {
   "cell_type": "markdown",
   "metadata": {},
   "source": [
    "APPLY CEILFUNC TO GET  WEEKID BASED ON ODD/EVEN VALUE"
   ]
  },
  {
   "cell_type": "code",
   "execution_count": 72,
   "metadata": {
    "execution": {
     "iopub.execute_input": "2021-09-21T15:39:15.818104Z",
     "iopub.status.busy": "2021-09-21T15:39:15.818104Z",
     "iopub.status.idle": "2021-09-21T15:39:15.828167Z",
     "shell.execute_reply": "2021-09-21T15:39:15.828167Z"
    }
   },
   "outputs": [],
   "source": [
    "df1_stwise['wave1 - weekid']=(df1_stwise['wave1 - weekid']/2).apply(np.ceil).astype(int)\n",
    "df1_stwise['wave2 - weekid']=(df1_stwise['wave2 - weekid']/2).apply(np.ceil).astype(int)"
   ]
  },
  {
   "cell_type": "code",
   "execution_count": 73,
   "metadata": {
    "execution": {
     "iopub.execute_input": "2021-09-21T15:39:15.843801Z",
     "iopub.status.busy": "2021-09-21T15:39:15.843801Z",
     "iopub.status.idle": "2021-09-21T15:39:15.859470Z",
     "shell.execute_reply": "2021-09-21T15:39:15.859470Z"
    }
   },
   "outputs": [],
   "source": [
    "df1_district['wave1 - weekid']=(df1_district['wave1 - weekid']/2).apply(np.ceil).astype(int)\n",
    "df1_district['wave2 - weekid']=(df1_district['wave2 - weekid']/2).apply(np.ceil).astype(int)"
   ]
  },
  {
   "cell_type": "code",
   "execution_count": null,
   "metadata": {},
   "outputs": [],
   "source": []
  },
  {
   "cell_type": "code",
   "execution_count": 74,
   "metadata": {
    "execution": {
     "iopub.execute_input": "2021-09-21T15:39:15.875039Z",
     "iopub.status.busy": "2021-09-21T15:39:15.875039Z",
     "iopub.status.idle": "2021-09-21T15:39:15.906284Z",
     "shell.execute_reply": "2021-09-21T15:39:15.906284Z"
    }
   },
   "outputs": [],
   "source": [
    "#WRITING TO CSVS\n",
    "df1_district.to_csv('district-peaks.csv',index=False)\n",
    "df1_stwise.to_csv('state-peaks.csv',index=False)\n",
    "df1_ovall_peak.to_csv('overall-peaks.csv',index=False)\n"
   ]
  },
  {
   "cell_type": "markdown",
   "metadata": {},
   "source": [
    "# FINISHED"
   ]
  },
  {
   "cell_type": "code",
   "execution_count": null,
   "metadata": {},
   "outputs": [],
   "source": []
  }
 ],
 "metadata": {
  "kernelspec": {
   "display_name": "Python 3",
   "language": "python",
   "name": "python3"
  },
  "language_info": {
   "codemirror_mode": {
    "name": "ipython",
    "version": 3
   },
   "file_extension": ".py",
   "mimetype": "text/x-python",
   "name": "python",
   "nbconvert_exporter": "python",
   "pygments_lexer": "ipython3",
   "version": "3.9.6"
  }
 },
 "nbformat": 4,
 "nbformat_minor": 2
}
