{
 "cells": [
  {
   "cell_type": "markdown",
   "id": "15676153",
   "metadata": {},
   "source": [
    "# For every state, find the date on which the entire population will get at least one does of vaccination"
   ]
  },
  {
   "cell_type": "code",
   "execution_count": 1,
   "id": "72538d53",
   "metadata": {
    "execution": {
     "iopub.execute_input": "2021-09-21T15:42:11.552368Z",
     "iopub.status.busy": "2021-09-21T15:42:11.552368Z",
     "iopub.status.idle": "2021-09-21T15:42:12.723926Z",
     "shell.execute_reply": "2021-09-21T15:42:12.723926Z"
    }
   },
   "outputs": [],
   "source": [
    "import numpy as np\n",
    "import pandas as pd\n",
    "import datetime\n",
    "import warnings\n",
    "warnings.filterwarnings('ignore')"
   ]
  },
  {
   "cell_type": "code",
   "execution_count": 2,
   "id": "f25e344e",
   "metadata": {
    "execution": {
     "iopub.execute_input": "2021-09-21T15:42:12.723926Z",
     "iopub.status.busy": "2021-09-21T15:42:12.723926Z",
     "iopub.status.idle": "2021-09-21T15:42:12.739547Z",
     "shell.execute_reply": "2021-09-21T15:42:12.739547Z"
    }
   },
   "outputs": [],
   "source": [
    "# from datetime import datetime\n",
    "# dateparse = lambda x: datetime.strptime(x, '%d-%m-%Y')"
   ]
  },
  {
   "cell_type": "code",
   "execution_count": 3,
   "id": "c6dabba4",
   "metadata": {
    "execution": {
     "iopub.execute_input": "2021-09-21T15:42:12.755193Z",
     "iopub.status.busy": "2021-09-21T15:42:12.739547Z",
     "iopub.status.idle": "2021-09-21T15:42:13.145701Z",
     "shell.execute_reply": "2021-09-21T15:42:13.145701Z"
    }
   },
   "outputs": [],
   "source": [
    "df = pd.read_csv(r'firstandseconddoselatestnew1.csv',parse_dates=['Date'])"
   ]
  },
  {
   "cell_type": "code",
   "execution_count": 4,
   "id": "97ff3f24",
   "metadata": {
    "execution": {
     "iopub.execute_input": "2021-09-21T15:42:13.161321Z",
     "iopub.status.busy": "2021-09-21T15:42:13.161321Z",
     "iopub.status.idle": "2021-09-21T15:42:13.192569Z",
     "shell.execute_reply": "2021-09-21T15:42:13.192569Z"
    }
   },
   "outputs": [
    {
     "data": {
      "text/html": [
       "<div>\n",
       "<style scoped>\n",
       "    .dataframe tbody tr th:only-of-type {\n",
       "        vertical-align: middle;\n",
       "    }\n",
       "\n",
       "    .dataframe tbody tr th {\n",
       "        vertical-align: top;\n",
       "    }\n",
       "\n",
       "    .dataframe thead th {\n",
       "        text-align: right;\n",
       "    }\n",
       "</style>\n",
       "<table border=\"1\" class=\"dataframe\">\n",
       "  <thead>\n",
       "    <tr style=\"text-align: right;\">\n",
       "      <th></th>\n",
       "      <th>State</th>\n",
       "      <th>District</th>\n",
       "      <th>District_Key</th>\n",
       "      <th>dose1</th>\n",
       "      <th>dose2</th>\n",
       "      <th>Date</th>\n",
       "    </tr>\n",
       "  </thead>\n",
       "  <tbody>\n",
       "    <tr>\n",
       "      <th>153814</th>\n",
       "      <td>West Bengal</td>\n",
       "      <td>Uttar Dinajpur</td>\n",
       "      <td>WB_Uttar Dinajpur</td>\n",
       "      <td>510603.0</td>\n",
       "      <td>166508.0</td>\n",
       "      <td>2021-08-10</td>\n",
       "    </tr>\n",
       "    <tr>\n",
       "      <th>153815</th>\n",
       "      <td>West Bengal</td>\n",
       "      <td>Uttar Dinajpur</td>\n",
       "      <td>WB_Uttar Dinajpur</td>\n",
       "      <td>513480.0</td>\n",
       "      <td>167422.0</td>\n",
       "      <td>2021-08-11</td>\n",
       "    </tr>\n",
       "    <tr>\n",
       "      <th>153816</th>\n",
       "      <td>West Bengal</td>\n",
       "      <td>Uttar Dinajpur</td>\n",
       "      <td>WB_Uttar Dinajpur</td>\n",
       "      <td>518137.0</td>\n",
       "      <td>168836.0</td>\n",
       "      <td>2021-08-12</td>\n",
       "    </tr>\n",
       "    <tr>\n",
       "      <th>153817</th>\n",
       "      <td>West Bengal</td>\n",
       "      <td>Uttar Dinajpur</td>\n",
       "      <td>WB_Uttar Dinajpur</td>\n",
       "      <td>529876.0</td>\n",
       "      <td>171224.0</td>\n",
       "      <td>2021-08-13</td>\n",
       "    </tr>\n",
       "    <tr>\n",
       "      <th>153818</th>\n",
       "      <td>West Bengal</td>\n",
       "      <td>Uttar Dinajpur</td>\n",
       "      <td>WB_Uttar Dinajpur</td>\n",
       "      <td>540958.0</td>\n",
       "      <td>173055.0</td>\n",
       "      <td>2021-08-14</td>\n",
       "    </tr>\n",
       "  </tbody>\n",
       "</table>\n",
       "</div>"
      ],
      "text/plain": [
       "              State        District       District_Key     dose1     dose2  \\\n",
       "153814  West Bengal  Uttar Dinajpur  WB_Uttar Dinajpur  510603.0  166508.0   \n",
       "153815  West Bengal  Uttar Dinajpur  WB_Uttar Dinajpur  513480.0  167422.0   \n",
       "153816  West Bengal  Uttar Dinajpur  WB_Uttar Dinajpur  518137.0  168836.0   \n",
       "153817  West Bengal  Uttar Dinajpur  WB_Uttar Dinajpur  529876.0  171224.0   \n",
       "153818  West Bengal  Uttar Dinajpur  WB_Uttar Dinajpur  540958.0  173055.0   \n",
       "\n",
       "             Date  \n",
       "153814 2021-08-10  \n",
       "153815 2021-08-11  \n",
       "153816 2021-08-12  \n",
       "153817 2021-08-13  \n",
       "153818 2021-08-14  "
      ]
     },
     "execution_count": 4,
     "metadata": {},
     "output_type": "execute_result"
    }
   ],
   "source": [
    "df.tail()"
   ]
  },
  {
   "cell_type": "code",
   "execution_count": 5,
   "id": "dd2e55f4",
   "metadata": {
    "execution": {
     "iopub.execute_input": "2021-09-21T15:42:13.192569Z",
     "iopub.status.busy": "2021-09-21T15:42:13.192569Z",
     "iopub.status.idle": "2021-09-21T15:42:13.208190Z",
     "shell.execute_reply": "2021-09-21T15:42:13.208190Z"
    }
   },
   "outputs": [
    {
     "data": {
      "text/plain": [
       "State                   object\n",
       "District                object\n",
       "District_Key            object\n",
       "dose1                  float64\n",
       "dose2                  float64\n",
       "Date            datetime64[ns]\n",
       "dtype: object"
      ]
     },
     "execution_count": 5,
     "metadata": {},
     "output_type": "execute_result"
    }
   ],
   "source": [
    "df.dtypes"
   ]
  },
  {
   "cell_type": "markdown",
   "id": "c41956a6",
   "metadata": {},
   "source": [
    "## FINDING RATE OF VACCINATION FOR EVERY STATE"
   ]
  },
  {
   "cell_type": "code",
   "execution_count": 6,
   "id": "3c863c63",
   "metadata": {
    "execution": {
     "iopub.execute_input": "2021-09-21T15:42:13.208190Z",
     "iopub.status.busy": "2021-09-21T15:42:13.208190Z",
     "iopub.status.idle": "2021-09-21T15:42:13.239470Z",
     "shell.execute_reply": "2021-09-21T15:42:13.239470Z"
    }
   },
   "outputs": [],
   "source": [
    "ind1 = df[df['Date'] == '2021-08-07'].index\n",
    "without_lastweek = df.iloc[ind1]"
   ]
  },
  {
   "cell_type": "code",
   "execution_count": 7,
   "id": "0a0d5bf3",
   "metadata": {
    "execution": {
     "iopub.execute_input": "2021-09-21T15:42:13.239470Z",
     "iopub.status.busy": "2021-09-21T15:42:13.239470Z",
     "iopub.status.idle": "2021-09-21T15:42:13.255101Z",
     "shell.execute_reply": "2021-09-21T15:42:13.255101Z"
    }
   },
   "outputs": [],
   "source": [
    "ind2 = df[df['Date'] == '2021-08-14'].index\n",
    "lastweek = df.iloc[ind2]"
   ]
  },
  {
   "cell_type": "code",
   "execution_count": 8,
   "id": "ac4a1881",
   "metadata": {
    "execution": {
     "iopub.execute_input": "2021-09-21T15:42:13.255101Z",
     "iopub.status.busy": "2021-09-21T15:42:13.255101Z",
     "iopub.status.idle": "2021-09-21T15:42:13.270700Z",
     "shell.execute_reply": "2021-09-21T15:42:13.270700Z"
    }
   },
   "outputs": [],
   "source": [
    "# without_lastweek\n",
    "# lastweek"
   ]
  },
  {
   "cell_type": "code",
   "execution_count": 9,
   "id": "7a368321",
   "metadata": {
    "execution": {
     "iopub.execute_input": "2021-09-21T15:42:13.286294Z",
     "iopub.status.busy": "2021-09-21T15:42:13.286294Z",
     "iopub.status.idle": "2021-09-21T15:42:13.301913Z",
     "shell.execute_reply": "2021-09-21T15:42:13.301913Z"
    }
   },
   "outputs": [],
   "source": [
    "df1= without_lastweek.groupby('State').aggregate({'dose1':sum,'dose2':sum})  #on 7th date\n",
    "df2= lastweek.groupby('State').aggregate({'dose1':sum,'dose2':sum})    #on last week i.e. on 14thdate"
   ]
  },
  {
   "cell_type": "code",
   "execution_count": 10,
   "id": "6da110d9",
   "metadata": {
    "execution": {
     "iopub.execute_input": "2021-09-21T15:42:13.317545Z",
     "iopub.status.busy": "2021-09-21T15:42:13.317545Z",
     "iopub.status.idle": "2021-09-21T15:42:13.333158Z",
     "shell.execute_reply": "2021-09-21T15:42:13.333158Z"
    }
   },
   "outputs": [],
   "source": [
    "df1.rename(columns={'dose1': 'dose1_x', 'dose2': 'dose2_x'},inplace=True)\n",
    "df2.rename(columns={'dose1': 'dose1_y', 'dose2': 'dose2_y'},inplace=True)\n",
    "#dose1_y is number of people vaccinated with dose1"
   ]
  },
  {
   "cell_type": "code",
   "execution_count": 11,
   "id": "699f7d6b",
   "metadata": {
    "execution": {
     "iopub.execute_input": "2021-09-21T15:42:13.348820Z",
     "iopub.status.busy": "2021-09-21T15:42:13.348820Z",
     "iopub.status.idle": "2021-09-21T15:42:13.364455Z",
     "shell.execute_reply": "2021-09-21T15:42:13.364455Z"
    }
   },
   "outputs": [
    {
     "data": {
      "text/html": [
       "<div>\n",
       "<style scoped>\n",
       "    .dataframe tbody tr th:only-of-type {\n",
       "        vertical-align: middle;\n",
       "    }\n",
       "\n",
       "    .dataframe tbody tr th {\n",
       "        vertical-align: top;\n",
       "    }\n",
       "\n",
       "    .dataframe thead th {\n",
       "        text-align: right;\n",
       "    }\n",
       "</style>\n",
       "<table border=\"1\" class=\"dataframe\">\n",
       "  <thead>\n",
       "    <tr style=\"text-align: right;\">\n",
       "      <th></th>\n",
       "      <th>dose1_x</th>\n",
       "      <th>dose2_x</th>\n",
       "    </tr>\n",
       "    <tr>\n",
       "      <th>State</th>\n",
       "      <th></th>\n",
       "      <th></th>\n",
       "    </tr>\n",
       "  </thead>\n",
       "  <tbody>\n",
       "    <tr>\n",
       "      <th>Andaman and Nicobar Islands</th>\n",
       "      <td>2.150210e+05</td>\n",
       "      <td>94249.0</td>\n",
       "    </tr>\n",
       "    <tr>\n",
       "      <th>Andhra Pradesh</th>\n",
       "      <td>1.747712e+07</td>\n",
       "      <td>6140096.0</td>\n",
       "    </tr>\n",
       "    <tr>\n",
       "      <th>Arunachal Pradesh</th>\n",
       "      <td>9.328395e+09</td>\n",
       "      <td>259157484.0</td>\n",
       "    </tr>\n",
       "    <tr>\n",
       "      <th>Assam</th>\n",
       "      <td>1.018922e+07</td>\n",
       "      <td>2150197.0</td>\n",
       "    </tr>\n",
       "    <tr>\n",
       "      <th>Bihar</th>\n",
       "      <td>2.294552e+07</td>\n",
       "      <td>4399665.0</td>\n",
       "    </tr>\n",
       "  </tbody>\n",
       "</table>\n",
       "</div>"
      ],
      "text/plain": [
       "                                  dose1_x      dose2_x\n",
       "State                                                 \n",
       "Andaman and Nicobar Islands  2.150210e+05      94249.0\n",
       "Andhra Pradesh               1.747712e+07    6140096.0\n",
       "Arunachal Pradesh            9.328395e+09  259157484.0\n",
       "Assam                        1.018922e+07    2150197.0\n",
       "Bihar                        2.294552e+07    4399665.0"
      ]
     },
     "execution_count": 11,
     "metadata": {},
     "output_type": "execute_result"
    }
   ],
   "source": [
    "df1.head()"
   ]
  },
  {
   "cell_type": "code",
   "execution_count": 12,
   "id": "e45a3205",
   "metadata": {
    "execution": {
     "iopub.execute_input": "2021-09-21T15:42:13.380020Z",
     "iopub.status.busy": "2021-09-21T15:42:13.380020Z",
     "iopub.status.idle": "2021-09-21T15:42:13.395643Z",
     "shell.execute_reply": "2021-09-21T15:42:13.395643Z"
    }
   },
   "outputs": [
    {
     "data": {
      "text/html": [
       "<div>\n",
       "<style scoped>\n",
       "    .dataframe tbody tr th:only-of-type {\n",
       "        vertical-align: middle;\n",
       "    }\n",
       "\n",
       "    .dataframe tbody tr th {\n",
       "        vertical-align: top;\n",
       "    }\n",
       "\n",
       "    .dataframe thead th {\n",
       "        text-align: right;\n",
       "    }\n",
       "</style>\n",
       "<table border=\"1\" class=\"dataframe\">\n",
       "  <thead>\n",
       "    <tr style=\"text-align: right;\">\n",
       "      <th></th>\n",
       "      <th>dose1_y</th>\n",
       "      <th>dose2_y</th>\n",
       "    </tr>\n",
       "    <tr>\n",
       "      <th>State</th>\n",
       "      <th></th>\n",
       "      <th></th>\n",
       "    </tr>\n",
       "  </thead>\n",
       "  <tbody>\n",
       "    <tr>\n",
       "      <th>Andaman and Nicobar Islands</th>\n",
       "      <td>2.327090e+05</td>\n",
       "      <td>97287.0</td>\n",
       "    </tr>\n",
       "    <tr>\n",
       "      <th>Andhra Pradesh</th>\n",
       "      <td>1.851614e+07</td>\n",
       "      <td>6485212.0</td>\n",
       "    </tr>\n",
       "    <tr>\n",
       "      <th>Arunachal Pradesh</th>\n",
       "      <td>9.501806e+09</td>\n",
       "      <td>286121142.0</td>\n",
       "    </tr>\n",
       "    <tr>\n",
       "      <th>Assam</th>\n",
       "      <td>1.143005e+07</td>\n",
       "      <td>2442900.0</td>\n",
       "    </tr>\n",
       "    <tr>\n",
       "      <th>Bihar</th>\n",
       "      <td>2.516738e+07</td>\n",
       "      <td>4859267.0</td>\n",
       "    </tr>\n",
       "  </tbody>\n",
       "</table>\n",
       "</div>"
      ],
      "text/plain": [
       "                                  dose1_y      dose2_y\n",
       "State                                                 \n",
       "Andaman and Nicobar Islands  2.327090e+05      97287.0\n",
       "Andhra Pradesh               1.851614e+07    6485212.0\n",
       "Arunachal Pradesh            9.501806e+09  286121142.0\n",
       "Assam                        1.143005e+07    2442900.0\n",
       "Bihar                        2.516738e+07    4859267.0"
      ]
     },
     "execution_count": 12,
     "metadata": {},
     "output_type": "execute_result"
    }
   ],
   "source": [
    "df2.head()"
   ]
  },
  {
   "cell_type": "code",
   "execution_count": 13,
   "id": "213a7c88",
   "metadata": {
    "execution": {
     "iopub.execute_input": "2021-09-21T15:42:13.395643Z",
     "iopub.status.busy": "2021-09-21T15:42:13.395643Z",
     "iopub.status.idle": "2021-09-21T15:42:13.411316Z",
     "shell.execute_reply": "2021-09-21T15:42:13.411316Z"
    }
   },
   "outputs": [],
   "source": [
    "newdf = pd.concat([df1,df2],axis=1)  #concatenating horizontally "
   ]
  },
  {
   "cell_type": "code",
   "execution_count": 14,
   "id": "e31856ee",
   "metadata": {
    "execution": {
     "iopub.execute_input": "2021-09-21T15:42:13.426928Z",
     "iopub.status.busy": "2021-09-21T15:42:13.411316Z",
     "iopub.status.idle": "2021-09-21T15:42:13.426928Z",
     "shell.execute_reply": "2021-09-21T15:42:13.426928Z"
    }
   },
   "outputs": [
    {
     "data": {
      "text/plain": [
       "Index(['dose1_x', 'dose2_x', 'dose1_y', 'dose2_y'], dtype='object')"
      ]
     },
     "execution_count": 14,
     "metadata": {},
     "output_type": "execute_result"
    }
   ],
   "source": [
    "newdf.columns    #columns (on 7th, on 14th)"
   ]
  },
  {
   "cell_type": "code",
   "execution_count": 15,
   "id": "d73c941d",
   "metadata": {
    "execution": {
     "iopub.execute_input": "2021-09-21T15:42:13.442507Z",
     "iopub.status.busy": "2021-09-21T15:42:13.426928Z",
     "iopub.status.idle": "2021-09-21T15:42:13.442507Z",
     "shell.execute_reply": "2021-09-21T15:42:13.442507Z"
    }
   },
   "outputs": [],
   "source": [
    "newdf['dose1'] = (newdf['dose1_y'] - newdf['dose1_x'])/7   #i.e. rate of vaccination\n",
    "newdf['dose2'] = (newdf['dose2_y'] - newdf['dose2_x'])/7"
   ]
  },
  {
   "cell_type": "code",
   "execution_count": 16,
   "id": "b944f57c",
   "metadata": {
    "execution": {
     "iopub.execute_input": "2021-09-21T15:42:13.442507Z",
     "iopub.status.busy": "2021-09-21T15:42:13.442507Z",
     "iopub.status.idle": "2021-09-21T15:42:13.458181Z",
     "shell.execute_reply": "2021-09-21T15:42:13.458181Z"
    }
   },
   "outputs": [],
   "source": [
    "newdf.reset_index(inplace=True)"
   ]
  },
  {
   "cell_type": "code",
   "execution_count": 17,
   "id": "7804d257",
   "metadata": {
    "execution": {
     "iopub.execute_input": "2021-09-21T15:42:13.473748Z",
     "iopub.status.busy": "2021-09-21T15:42:13.473748Z",
     "iopub.status.idle": "2021-09-21T15:42:13.489370Z",
     "shell.execute_reply": "2021-09-21T15:42:13.489370Z"
    }
   },
   "outputs": [
    {
     "data": {
      "text/html": [
       "<div>\n",
       "<style scoped>\n",
       "    .dataframe tbody tr th:only-of-type {\n",
       "        vertical-align: middle;\n",
       "    }\n",
       "\n",
       "    .dataframe tbody tr th {\n",
       "        vertical-align: top;\n",
       "    }\n",
       "\n",
       "    .dataframe thead th {\n",
       "        text-align: right;\n",
       "    }\n",
       "</style>\n",
       "<table border=\"1\" class=\"dataframe\">\n",
       "  <thead>\n",
       "    <tr style=\"text-align: right;\">\n",
       "      <th></th>\n",
       "      <th>State</th>\n",
       "      <th>dose1_x</th>\n",
       "      <th>dose2_x</th>\n",
       "      <th>dose1_y</th>\n",
       "      <th>dose2_y</th>\n",
       "      <th>dose1</th>\n",
       "      <th>dose2</th>\n",
       "    </tr>\n",
       "  </thead>\n",
       "  <tbody>\n",
       "    <tr>\n",
       "      <th>0</th>\n",
       "      <td>Andaman and Nicobar Islands</td>\n",
       "      <td>2.150210e+05</td>\n",
       "      <td>94249.0</td>\n",
       "      <td>2.327090e+05</td>\n",
       "      <td>97287.0</td>\n",
       "      <td>2.526857e+03</td>\n",
       "      <td>4.340000e+02</td>\n",
       "    </tr>\n",
       "    <tr>\n",
       "      <th>1</th>\n",
       "      <td>Andhra Pradesh</td>\n",
       "      <td>1.747712e+07</td>\n",
       "      <td>6140096.0</td>\n",
       "      <td>1.851614e+07</td>\n",
       "      <td>6485212.0</td>\n",
       "      <td>1.484311e+05</td>\n",
       "      <td>4.930229e+04</td>\n",
       "    </tr>\n",
       "    <tr>\n",
       "      <th>2</th>\n",
       "      <td>Arunachal Pradesh</td>\n",
       "      <td>9.328395e+09</td>\n",
       "      <td>259157484.0</td>\n",
       "      <td>9.501806e+09</td>\n",
       "      <td>286121142.0</td>\n",
       "      <td>2.477303e+07</td>\n",
       "      <td>3.851951e+06</td>\n",
       "    </tr>\n",
       "    <tr>\n",
       "      <th>3</th>\n",
       "      <td>Assam</td>\n",
       "      <td>1.018922e+07</td>\n",
       "      <td>2150197.0</td>\n",
       "      <td>1.143005e+07</td>\n",
       "      <td>2442900.0</td>\n",
       "      <td>1.772623e+05</td>\n",
       "      <td>4.181471e+04</td>\n",
       "    </tr>\n",
       "    <tr>\n",
       "      <th>4</th>\n",
       "      <td>Bihar</td>\n",
       "      <td>2.294552e+07</td>\n",
       "      <td>4399665.0</td>\n",
       "      <td>2.516738e+07</td>\n",
       "      <td>4859267.0</td>\n",
       "      <td>3.174084e+05</td>\n",
       "      <td>6.565743e+04</td>\n",
       "    </tr>\n",
       "  </tbody>\n",
       "</table>\n",
       "</div>"
      ],
      "text/plain": [
       "                         State       dose1_x      dose2_x       dose1_y  \\\n",
       "0  Andaman and Nicobar Islands  2.150210e+05      94249.0  2.327090e+05   \n",
       "1               Andhra Pradesh  1.747712e+07    6140096.0  1.851614e+07   \n",
       "2            Arunachal Pradesh  9.328395e+09  259157484.0  9.501806e+09   \n",
       "3                        Assam  1.018922e+07    2150197.0  1.143005e+07   \n",
       "4                        Bihar  2.294552e+07    4399665.0  2.516738e+07   \n",
       "\n",
       "       dose2_y         dose1         dose2  \n",
       "0      97287.0  2.526857e+03  4.340000e+02  \n",
       "1    6485212.0  1.484311e+05  4.930229e+04  \n",
       "2  286121142.0  2.477303e+07  3.851951e+06  \n",
       "3    2442900.0  1.772623e+05  4.181471e+04  \n",
       "4    4859267.0  3.174084e+05  6.565743e+04  "
      ]
     },
     "execution_count": 17,
     "metadata": {},
     "output_type": "execute_result"
    }
   ],
   "source": [
    "newdf.head()"
   ]
  },
  {
   "cell_type": "code",
   "execution_count": 18,
   "id": "f0c05eca",
   "metadata": {
    "execution": {
     "iopub.execute_input": "2021-09-21T15:42:13.504990Z",
     "iopub.status.busy": "2021-09-21T15:42:13.489370Z",
     "iopub.status.idle": "2021-09-21T15:42:13.504990Z",
     "shell.execute_reply": "2021-09-21T15:42:13.504990Z"
    }
   },
   "outputs": [],
   "source": [
    "newdf['dose1']= newdf['dose1'].apply(np.ceil)\n",
    "newdf['dose2']= newdf['dose2'].apply(np.ceil)"
   ]
  },
  {
   "cell_type": "code",
   "execution_count": 19,
   "id": "d20a4a7a",
   "metadata": {
    "execution": {
     "iopub.execute_input": "2021-09-21T15:42:13.520613Z",
     "iopub.status.busy": "2021-09-21T15:42:13.504990Z",
     "iopub.status.idle": "2021-09-21T15:42:13.536235Z",
     "shell.execute_reply": "2021-09-21T15:42:13.536235Z"
    }
   },
   "outputs": [],
   "source": [
    "##combining AP and Telangana into AndhraPradesh(use this)\n",
    "newdf.iloc[1,1:] = newdf.iloc[1,1:]+newdf.iloc[31,1:]\n",
    "##combining Jammu and kashmir and Ladakh into Jammu and kashmir\n",
    "newdf.iloc[13,1:] = newdf.iloc[13,1:]+newdf.iloc[17,1:]"
   ]
  },
  {
   "cell_type": "code",
   "execution_count": 20,
   "id": "8c5749d0",
   "metadata": {
    "execution": {
     "iopub.execute_input": "2021-09-21T15:42:13.536235Z",
     "iopub.status.busy": "2021-09-21T15:42:13.536235Z",
     "iopub.status.idle": "2021-09-21T15:42:13.551897Z",
     "shell.execute_reply": "2021-09-21T15:42:13.551897Z"
    }
   },
   "outputs": [],
   "source": [
    "#need not drop TELANGANA and Ladakh as they will not be calculated during merge with census"
   ]
  },
  {
   "cell_type": "code",
   "execution_count": 21,
   "id": "9b0aacbe",
   "metadata": {
    "execution": {
     "iopub.execute_input": "2021-09-21T15:42:13.551897Z",
     "iopub.status.busy": "2021-09-21T15:42:13.551897Z",
     "iopub.status.idle": "2021-09-21T15:42:13.567476Z",
     "shell.execute_reply": "2021-09-21T15:42:13.567476Z"
    }
   },
   "outputs": [],
   "source": [
    "#dummy dont use\n",
    "newdf2 = newdf.copy()"
   ]
  },
  {
   "cell_type": "code",
   "execution_count": 22,
   "id": "43a72dcb",
   "metadata": {
    "execution": {
     "iopub.execute_input": "2021-09-21T15:42:13.567476Z",
     "iopub.status.busy": "2021-09-21T15:42:13.567476Z",
     "iopub.status.idle": "2021-09-21T15:42:13.583097Z",
     "shell.execute_reply": "2021-09-21T15:42:13.583097Z"
    }
   },
   "outputs": [],
   "source": [
    "#combining AP and Telangana\n",
    "ts = newdf2[newdf2['State']=='Ladakh'].values\n",
    "ap = newdf2[newdf2['State']=='Jammu and Kashmir'].values"
   ]
  },
  {
   "cell_type": "code",
   "execution_count": 23,
   "id": "fcab668d",
   "metadata": {
    "execution": {
     "iopub.execute_input": "2021-09-21T15:42:13.598718Z",
     "iopub.status.busy": "2021-09-21T15:42:13.583097Z",
     "iopub.status.idle": "2021-09-21T15:42:13.598718Z",
     "shell.execute_reply": "2021-09-21T15:42:13.598718Z"
    }
   },
   "outputs": [],
   "source": [
    "##combining AP and Telangana (use this)\n",
    "newdf2.iloc[13,1:] = newdf2.iloc[13,1:]+newdf2.iloc[17,1:]"
   ]
  },
  {
   "cell_type": "code",
   "execution_count": 24,
   "id": "e503a806",
   "metadata": {
    "execution": {
     "iopub.execute_input": "2021-09-21T15:42:13.629982Z",
     "iopub.status.busy": "2021-09-21T15:42:13.614340Z",
     "iopub.status.idle": "2021-09-21T15:42:13.645582Z",
     "shell.execute_reply": "2021-09-21T15:42:13.645582Z"
    }
   },
   "outputs": [
    {
     "data": {
      "text/html": [
       "<div>\n",
       "<style scoped>\n",
       "    .dataframe tbody tr th:only-of-type {\n",
       "        vertical-align: middle;\n",
       "    }\n",
       "\n",
       "    .dataframe tbody tr th {\n",
       "        vertical-align: top;\n",
       "    }\n",
       "\n",
       "    .dataframe thead th {\n",
       "        text-align: right;\n",
       "    }\n",
       "</style>\n",
       "<table border=\"1\" class=\"dataframe\">\n",
       "  <thead>\n",
       "    <tr style=\"text-align: right;\">\n",
       "      <th></th>\n",
       "      <th>State</th>\n",
       "      <th>dose1_x</th>\n",
       "      <th>dose2_x</th>\n",
       "      <th>dose1_y</th>\n",
       "      <th>dose2_y</th>\n",
       "      <th>dose1</th>\n",
       "      <th>dose2</th>\n",
       "    </tr>\n",
       "  </thead>\n",
       "  <tbody>\n",
       "    <tr>\n",
       "      <th>0</th>\n",
       "      <td>Andaman and Nicobar Islands</td>\n",
       "      <td>2.150210e+05</td>\n",
       "      <td>94249.0</td>\n",
       "      <td>2.327090e+05</td>\n",
       "      <td>97287.0</td>\n",
       "      <td>2527.0</td>\n",
       "      <td>434.0</td>\n",
       "    </tr>\n",
       "    <tr>\n",
       "      <th>1</th>\n",
       "      <td>Andhra Pradesh</td>\n",
       "      <td>2.906661e+07</td>\n",
       "      <td>10033874.0</td>\n",
       "      <td>3.058983e+07</td>\n",
       "      <td>10637326.0</td>\n",
       "      <td>217604.0</td>\n",
       "      <td>86209.0</td>\n",
       "    </tr>\n",
       "    <tr>\n",
       "      <th>2</th>\n",
       "      <td>Arunachal Pradesh</td>\n",
       "      <td>9.328395e+09</td>\n",
       "      <td>259157484.0</td>\n",
       "      <td>9.501806e+09</td>\n",
       "      <td>286121142.0</td>\n",
       "      <td>24773032.0</td>\n",
       "      <td>3851952.0</td>\n",
       "    </tr>\n",
       "    <tr>\n",
       "      <th>3</th>\n",
       "      <td>Assam</td>\n",
       "      <td>1.018922e+07</td>\n",
       "      <td>2150197.0</td>\n",
       "      <td>1.143005e+07</td>\n",
       "      <td>2442900.0</td>\n",
       "      <td>177263.0</td>\n",
       "      <td>41815.0</td>\n",
       "    </tr>\n",
       "    <tr>\n",
       "      <th>4</th>\n",
       "      <td>Bihar</td>\n",
       "      <td>2.294552e+07</td>\n",
       "      <td>4399665.0</td>\n",
       "      <td>2.516738e+07</td>\n",
       "      <td>4859267.0</td>\n",
       "      <td>317409.0</td>\n",
       "      <td>65658.0</td>\n",
       "    </tr>\n",
       "  </tbody>\n",
       "</table>\n",
       "</div>"
      ],
      "text/plain": [
       "                         State       dose1_x      dose2_x       dose1_y  \\\n",
       "0  Andaman and Nicobar Islands  2.150210e+05      94249.0  2.327090e+05   \n",
       "1               Andhra Pradesh  2.906661e+07   10033874.0  3.058983e+07   \n",
       "2            Arunachal Pradesh  9.328395e+09  259157484.0  9.501806e+09   \n",
       "3                        Assam  1.018922e+07    2150197.0  1.143005e+07   \n",
       "4                        Bihar  2.294552e+07    4399665.0  2.516738e+07   \n",
       "\n",
       "       dose2_y       dose1      dose2  \n",
       "0      97287.0      2527.0      434.0  \n",
       "1   10637326.0    217604.0    86209.0  \n",
       "2  286121142.0  24773032.0  3851952.0  \n",
       "3    2442900.0    177263.0    41815.0  \n",
       "4    4859267.0    317409.0    65658.0  "
      ]
     },
     "execution_count": 24,
     "metadata": {},
     "output_type": "execute_result"
    }
   ],
   "source": [
    "newdf.head()"
   ]
  },
  {
   "cell_type": "code",
   "execution_count": null,
   "id": "76ab0a63",
   "metadata": {},
   "outputs": [],
   "source": []
  },
  {
   "cell_type": "markdown",
   "id": "1de60282",
   "metadata": {},
   "source": [
    "## CENSUSDATA PREPROCESSING\n"
   ]
  },
  {
   "cell_type": "code",
   "execution_count": null,
   "id": "8d653419",
   "metadata": {},
   "outputs": [],
   "source": []
  },
  {
   "cell_type": "code",
   "execution_count": 25,
   "id": "f429a827",
   "metadata": {
    "execution": {
     "iopub.execute_input": "2021-09-21T15:42:13.645582Z",
     "iopub.status.busy": "2021-09-21T15:42:13.645582Z",
     "iopub.status.idle": "2021-09-21T15:42:20.840132Z",
     "shell.execute_reply": "2021-09-21T15:42:20.840132Z"
    }
   },
   "outputs": [],
   "source": [
    "censuscols = ['Level','Name','TRU','TOT_P']\n",
    "\n",
    "census_data = pd.read_excel(r'DDW_PCA0000_2011_Indiastatedist.xlsx',usecols=censuscols)"
   ]
  },
  {
   "cell_type": "code",
   "execution_count": 26,
   "id": "132abf52",
   "metadata": {
    "execution": {
     "iopub.execute_input": "2021-09-21T15:42:20.855708Z",
     "iopub.status.busy": "2021-09-21T15:42:20.855708Z",
     "iopub.status.idle": "2021-09-21T15:42:20.871328Z",
     "shell.execute_reply": "2021-09-21T15:42:20.871328Z"
    }
   },
   "outputs": [
    {
     "data": {
      "text/html": [
       "<div>\n",
       "<style scoped>\n",
       "    .dataframe tbody tr th:only-of-type {\n",
       "        vertical-align: middle;\n",
       "    }\n",
       "\n",
       "    .dataframe tbody tr th {\n",
       "        vertical-align: top;\n",
       "    }\n",
       "\n",
       "    .dataframe thead th {\n",
       "        text-align: right;\n",
       "    }\n",
       "</style>\n",
       "<table border=\"1\" class=\"dataframe\">\n",
       "  <thead>\n",
       "    <tr style=\"text-align: right;\">\n",
       "      <th></th>\n",
       "      <th>Level</th>\n",
       "      <th>Name</th>\n",
       "      <th>TRU</th>\n",
       "      <th>TOT_P</th>\n",
       "    </tr>\n",
       "  </thead>\n",
       "  <tbody>\n",
       "    <tr>\n",
       "      <th>0</th>\n",
       "      <td>India</td>\n",
       "      <td>India</td>\n",
       "      <td>Total</td>\n",
       "      <td>1210854977</td>\n",
       "    </tr>\n",
       "    <tr>\n",
       "      <th>1</th>\n",
       "      <td>India</td>\n",
       "      <td>India</td>\n",
       "      <td>Rural</td>\n",
       "      <td>833748852</td>\n",
       "    </tr>\n",
       "    <tr>\n",
       "      <th>2</th>\n",
       "      <td>India</td>\n",
       "      <td>India</td>\n",
       "      <td>Urban</td>\n",
       "      <td>377106125</td>\n",
       "    </tr>\n",
       "    <tr>\n",
       "      <th>3</th>\n",
       "      <td>STATE</td>\n",
       "      <td>JAMMU &amp; KASHMIR</td>\n",
       "      <td>Total</td>\n",
       "      <td>12541302</td>\n",
       "    </tr>\n",
       "    <tr>\n",
       "      <th>4</th>\n",
       "      <td>STATE</td>\n",
       "      <td>JAMMU &amp; KASHMIR</td>\n",
       "      <td>Rural</td>\n",
       "      <td>9108060</td>\n",
       "    </tr>\n",
       "  </tbody>\n",
       "</table>\n",
       "</div>"
      ],
      "text/plain": [
       "   Level             Name    TRU       TOT_P\n",
       "0  India            India  Total  1210854977\n",
       "1  India            India  Rural   833748852\n",
       "2  India            India  Urban   377106125\n",
       "3  STATE  JAMMU & KASHMIR  Total    12541302\n",
       "4  STATE  JAMMU & KASHMIR  Rural     9108060"
      ]
     },
     "execution_count": 26,
     "metadata": {},
     "output_type": "execute_result"
    }
   ],
   "source": [
    "census_data.head()"
   ]
  },
  {
   "cell_type": "code",
   "execution_count": 27,
   "id": "0bd09abf",
   "metadata": {
    "execution": {
     "iopub.execute_input": "2021-09-21T15:42:20.886952Z",
     "iopub.status.busy": "2021-09-21T15:42:20.871328Z",
     "iopub.status.idle": "2021-09-21T15:42:20.902618Z",
     "shell.execute_reply": "2021-09-21T15:42:20.902618Z"
    }
   },
   "outputs": [],
   "source": [
    "#dropping rows OF TRU =(rural,urban)\n",
    "a = census_data.loc[(census_data['TRU']=='Rural') | (census_data['TRU']=='Urban')].index\n",
    "census_data = census_data.drop(a)"
   ]
  },
  {
   "cell_type": "code",
   "execution_count": 28,
   "id": "dcdf2a32",
   "metadata": {
    "execution": {
     "iopub.execute_input": "2021-09-21T15:42:20.902618Z",
     "iopub.status.busy": "2021-09-21T15:42:20.902618Z",
     "iopub.status.idle": "2021-09-21T15:42:20.918192Z",
     "shell.execute_reply": "2021-09-21T15:42:20.918192Z"
    }
   },
   "outputs": [],
   "source": [
    "census_data = census_data[census_data['Level'] == 'STATE']"
   ]
  },
  {
   "cell_type": "code",
   "execution_count": 29,
   "id": "b07b1e84",
   "metadata": {
    "execution": {
     "iopub.execute_input": "2021-09-21T15:42:20.918192Z",
     "iopub.status.busy": "2021-09-21T15:42:20.918192Z",
     "iopub.status.idle": "2021-09-21T15:42:20.933813Z",
     "shell.execute_reply": "2021-09-21T15:42:20.933813Z"
    }
   },
   "outputs": [],
   "source": [
    "census_data.reset_index(inplace=True,drop=True)"
   ]
  },
  {
   "cell_type": "code",
   "execution_count": 30,
   "id": "86af49de",
   "metadata": {
    "execution": {
     "iopub.execute_input": "2021-09-21T15:42:20.949434Z",
     "iopub.status.busy": "2021-09-21T15:42:20.949434Z",
     "iopub.status.idle": "2021-09-21T15:42:20.965055Z",
     "shell.execute_reply": "2021-09-21T15:42:20.965055Z"
    }
   },
   "outputs": [
    {
     "data": {
      "text/html": [
       "<div>\n",
       "<style scoped>\n",
       "    .dataframe tbody tr th:only-of-type {\n",
       "        vertical-align: middle;\n",
       "    }\n",
       "\n",
       "    .dataframe tbody tr th {\n",
       "        vertical-align: top;\n",
       "    }\n",
       "\n",
       "    .dataframe thead th {\n",
       "        text-align: right;\n",
       "    }\n",
       "</style>\n",
       "<table border=\"1\" class=\"dataframe\">\n",
       "  <thead>\n",
       "    <tr style=\"text-align: right;\">\n",
       "      <th></th>\n",
       "      <th>Level</th>\n",
       "      <th>Name</th>\n",
       "      <th>TRU</th>\n",
       "      <th>TOT_P</th>\n",
       "    </tr>\n",
       "  </thead>\n",
       "  <tbody>\n",
       "    <tr>\n",
       "      <th>0</th>\n",
       "      <td>STATE</td>\n",
       "      <td>JAMMU &amp; KASHMIR</td>\n",
       "      <td>Total</td>\n",
       "      <td>12541302</td>\n",
       "    </tr>\n",
       "    <tr>\n",
       "      <th>1</th>\n",
       "      <td>STATE</td>\n",
       "      <td>HIMACHAL PRADESH</td>\n",
       "      <td>Total</td>\n",
       "      <td>6864602</td>\n",
       "    </tr>\n",
       "    <tr>\n",
       "      <th>2</th>\n",
       "      <td>STATE</td>\n",
       "      <td>PUNJAB</td>\n",
       "      <td>Total</td>\n",
       "      <td>27743338</td>\n",
       "    </tr>\n",
       "    <tr>\n",
       "      <th>3</th>\n",
       "      <td>STATE</td>\n",
       "      <td>CHANDIGARH</td>\n",
       "      <td>Total</td>\n",
       "      <td>1055450</td>\n",
       "    </tr>\n",
       "    <tr>\n",
       "      <th>4</th>\n",
       "      <td>STATE</td>\n",
       "      <td>UTTARAKHAND</td>\n",
       "      <td>Total</td>\n",
       "      <td>10086292</td>\n",
       "    </tr>\n",
       "  </tbody>\n",
       "</table>\n",
       "</div>"
      ],
      "text/plain": [
       "   Level              Name    TRU     TOT_P\n",
       "0  STATE   JAMMU & KASHMIR  Total  12541302\n",
       "1  STATE  HIMACHAL PRADESH  Total   6864602\n",
       "2  STATE            PUNJAB  Total  27743338\n",
       "3  STATE        CHANDIGARH  Total   1055450\n",
       "4  STATE       UTTARAKHAND  Total  10086292"
      ]
     },
     "execution_count": 30,
     "metadata": {},
     "output_type": "execute_result"
    }
   ],
   "source": [
    "census_data.head()"
   ]
  },
  {
   "cell_type": "code",
   "execution_count": 31,
   "id": "ccf47af3",
   "metadata": {
    "execution": {
     "iopub.execute_input": "2021-09-21T15:42:20.980679Z",
     "iopub.status.busy": "2021-09-21T15:42:20.965055Z",
     "iopub.status.idle": "2021-09-21T15:42:20.996340Z",
     "shell.execute_reply": "2021-09-21T15:42:20.996340Z"
    }
   },
   "outputs": [
    {
     "name": "stdout",
     "output_type": "stream",
     "text": [
      "[['STATE' 'DADRA & NAGAR HAVELI' 'Total' 343709]]\n"
     ]
    },
    {
     "data": {
      "text/plain": [
       "array([['STATE', 'DAMAN & DIU', 'Total', 243247]], dtype=object)"
      ]
     },
     "execution_count": 31,
     "metadata": {},
     "output_type": "execute_result"
    }
   ],
   "source": [
    "print(census_data[census_data['Name']=='DADRA & NAGAR HAVELI'].values)\n",
    "census_data[census_data['Name']=='DAMAN & DIU'].values"
   ]
  },
  {
   "cell_type": "code",
   "execution_count": 32,
   "id": "7641a223",
   "metadata": {
    "execution": {
     "iopub.execute_input": "2021-09-21T15:42:20.996340Z",
     "iopub.status.busy": "2021-09-21T15:42:20.996340Z",
     "iopub.status.idle": "2021-09-21T15:42:21.011957Z",
     "shell.execute_reply": "2021-09-21T15:42:21.011957Z"
    }
   },
   "outputs": [],
   "source": [
    "#use this\n",
    "#combining (Dadra and Nagar Haveli and Daman and Diu) into Dadra and Nagar Haveli\n",
    "census_data.iloc[25,-1] = census_data.iloc[24,-1] + census_data.iloc[25,-1]\n",
    "\n",
    "census_data.iloc[25,1] = ['Dadra and Nagar Haveli and Daman and Diu']  #CHANGING NAME \n",
    "#NEED NOT REMOVE DAMAN and DIU"
   ]
  },
  {
   "cell_type": "code",
   "execution_count": 33,
   "id": "8c7019dc",
   "metadata": {
    "execution": {
     "iopub.execute_input": "2021-09-21T15:42:21.011957Z",
     "iopub.status.busy": "2021-09-21T15:42:21.011957Z",
     "iopub.status.idle": "2021-09-21T15:42:21.027578Z",
     "shell.execute_reply": "2021-09-21T15:42:21.027578Z"
    }
   },
   "outputs": [
    {
     "data": {
      "text/plain": [
       "'Dadra and Nagar Haveli and Daman and Diu'"
      ]
     },
     "execution_count": 33,
     "metadata": {},
     "output_type": "execute_result"
    }
   ],
   "source": [
    "census_data.iloc[25,1]"
   ]
  },
  {
   "cell_type": "markdown",
   "id": "472ac2e2",
   "metadata": {},
   "source": [
    "MERGING VACCINEDATA AND CENSUSDATA"
   ]
  },
  {
   "cell_type": "code",
   "execution_count": 34,
   "id": "a38ebe33",
   "metadata": {
    "execution": {
     "iopub.execute_input": "2021-09-21T15:42:21.043161Z",
     "iopub.status.busy": "2021-09-21T15:42:21.027578Z",
     "iopub.status.idle": "2021-09-21T15:42:21.043161Z",
     "shell.execute_reply": "2021-09-21T15:42:21.043161Z"
    }
   },
   "outputs": [],
   "source": [
    "newdf['State'] = newdf['State'].str.lower()\n",
    "\n",
    "census_data['Name'] = census_data['Name'].str.lower()"
   ]
  },
  {
   "cell_type": "code",
   "execution_count": 35,
   "id": "d69af19f",
   "metadata": {
    "execution": {
     "iopub.execute_input": "2021-09-21T15:42:21.043161Z",
     "iopub.status.busy": "2021-09-21T15:42:21.043161Z",
     "iopub.status.idle": "2021-09-21T15:42:21.058784Z",
     "shell.execute_reply": "2021-09-21T15:42:21.058784Z"
    }
   },
   "outputs": [],
   "source": [
    "census_data['Name'].replace('nct of delhi','delhi',inplace=True)\n",
    "census_data['Name'] = census_data['Name'].str.replace('&','and')"
   ]
  },
  {
   "cell_type": "code",
   "execution_count": 36,
   "id": "78f25640",
   "metadata": {
    "execution": {
     "iopub.execute_input": "2021-09-21T15:42:21.074404Z",
     "iopub.status.busy": "2021-09-21T15:42:21.058784Z",
     "iopub.status.idle": "2021-09-21T15:42:21.074404Z",
     "shell.execute_reply": "2021-09-21T15:42:21.074404Z"
    }
   },
   "outputs": [],
   "source": [
    "t = census_data.sort_values(['Name'])\n",
    "t.reset_index(drop=True,inplace=True)"
   ]
  },
  {
   "cell_type": "code",
   "execution_count": 37,
   "id": "c549fb60",
   "metadata": {
    "execution": {
     "iopub.execute_input": "2021-09-21T15:42:21.090025Z",
     "iopub.status.busy": "2021-09-21T15:42:21.090025Z",
     "iopub.status.idle": "2021-09-21T15:42:21.105702Z",
     "shell.execute_reply": "2021-09-21T15:42:21.105702Z"
    }
   },
   "outputs": [
    {
     "data": {
      "text/html": [
       "<div>\n",
       "<style scoped>\n",
       "    .dataframe tbody tr th:only-of-type {\n",
       "        vertical-align: middle;\n",
       "    }\n",
       "\n",
       "    .dataframe tbody tr th {\n",
       "        vertical-align: top;\n",
       "    }\n",
       "\n",
       "    .dataframe thead th {\n",
       "        text-align: right;\n",
       "    }\n",
       "</style>\n",
       "<table border=\"1\" class=\"dataframe\">\n",
       "  <thead>\n",
       "    <tr style=\"text-align: right;\">\n",
       "      <th></th>\n",
       "      <th>Level</th>\n",
       "      <th>Name</th>\n",
       "      <th>TRU</th>\n",
       "      <th>TOT_P</th>\n",
       "    </tr>\n",
       "  </thead>\n",
       "  <tbody>\n",
       "    <tr>\n",
       "      <th>0</th>\n",
       "      <td>STATE</td>\n",
       "      <td>jammu and kashmir</td>\n",
       "      <td>Total</td>\n",
       "      <td>12541302</td>\n",
       "    </tr>\n",
       "    <tr>\n",
       "      <th>1</th>\n",
       "      <td>STATE</td>\n",
       "      <td>himachal pradesh</td>\n",
       "      <td>Total</td>\n",
       "      <td>6864602</td>\n",
       "    </tr>\n",
       "    <tr>\n",
       "      <th>2</th>\n",
       "      <td>STATE</td>\n",
       "      <td>punjab</td>\n",
       "      <td>Total</td>\n",
       "      <td>27743338</td>\n",
       "    </tr>\n",
       "    <tr>\n",
       "      <th>3</th>\n",
       "      <td>STATE</td>\n",
       "      <td>chandigarh</td>\n",
       "      <td>Total</td>\n",
       "      <td>1055450</td>\n",
       "    </tr>\n",
       "    <tr>\n",
       "      <th>4</th>\n",
       "      <td>STATE</td>\n",
       "      <td>uttarakhand</td>\n",
       "      <td>Total</td>\n",
       "      <td>10086292</td>\n",
       "    </tr>\n",
       "  </tbody>\n",
       "</table>\n",
       "</div>"
      ],
      "text/plain": [
       "   Level               Name    TRU     TOT_P\n",
       "0  STATE  jammu and kashmir  Total  12541302\n",
       "1  STATE   himachal pradesh  Total   6864602\n",
       "2  STATE             punjab  Total  27743338\n",
       "3  STATE         chandigarh  Total   1055450\n",
       "4  STATE        uttarakhand  Total  10086292"
      ]
     },
     "execution_count": 37,
     "metadata": {},
     "output_type": "execute_result"
    }
   ],
   "source": [
    "census_data.head()"
   ]
  },
  {
   "cell_type": "code",
   "execution_count": 38,
   "id": "c81384f5",
   "metadata": {
    "execution": {
     "iopub.execute_input": "2021-09-21T15:42:21.105702Z",
     "iopub.status.busy": "2021-09-21T15:42:21.105702Z",
     "iopub.status.idle": "2021-09-21T15:42:21.121326Z",
     "shell.execute_reply": "2021-09-21T15:42:21.121326Z"
    }
   },
   "outputs": [],
   "source": [
    "# temp = pd.concat([newdf['State'],census_data['Name']],axis=1)"
   ]
  },
  {
   "cell_type": "code",
   "execution_count": 39,
   "id": "6b8b3e0a",
   "metadata": {
    "execution": {
     "iopub.execute_input": "2021-09-21T15:42:21.121326Z",
     "iopub.status.busy": "2021-09-21T15:42:21.121326Z",
     "iopub.status.idle": "2021-09-21T15:42:21.136890Z",
     "shell.execute_reply": "2021-09-21T15:42:21.136890Z"
    }
   },
   "outputs": [],
   "source": [
    "census_data.rename(columns={'Name':'State'},inplace=True)"
   ]
  },
  {
   "cell_type": "code",
   "execution_count": 40,
   "id": "1dbfdeeb",
   "metadata": {
    "execution": {
     "iopub.execute_input": "2021-09-21T15:42:21.152512Z",
     "iopub.status.busy": "2021-09-21T15:42:21.152512Z",
     "iopub.status.idle": "2021-09-21T15:42:21.168133Z",
     "shell.execute_reply": "2021-09-21T15:42:21.168133Z"
    }
   },
   "outputs": [],
   "source": [
    "# MERGING ON STATENAMES\n",
    "finaldf = pd.merge(newdf,census_data,on=['State','State'])"
   ]
  },
  {
   "cell_type": "code",
   "execution_count": 41,
   "id": "79740726",
   "metadata": {
    "execution": {
     "iopub.execute_input": "2021-09-21T15:42:21.168133Z",
     "iopub.status.busy": "2021-09-21T15:42:21.168133Z",
     "iopub.status.idle": "2021-09-21T15:42:21.183806Z",
     "shell.execute_reply": "2021-09-21T15:42:21.183806Z"
    }
   },
   "outputs": [
    {
     "data": {
      "text/plain": [
       "Index(['State', 'dose1_x', 'dose2_x', 'dose1_y', 'dose2_y', 'dose1', 'dose2',\n",
       "       'Level', 'TRU', 'TOT_P'],\n",
       "      dtype='object')"
      ]
     },
     "execution_count": 41,
     "metadata": {},
     "output_type": "execute_result"
    }
   ],
   "source": [
    "finaldf.columns"
   ]
  },
  {
   "cell_type": "code",
   "execution_count": 42,
   "id": "84015b9f",
   "metadata": {
    "execution": {
     "iopub.execute_input": "2021-09-21T15:42:21.183806Z",
     "iopub.status.busy": "2021-09-21T15:42:21.183806Z",
     "iopub.status.idle": "2021-09-21T15:42:21.199378Z",
     "shell.execute_reply": "2021-09-21T15:42:21.199378Z"
    }
   },
   "outputs": [],
   "source": [
    "finaldf['populationleft'] = finaldf['TOT_P']-finaldf['dose1_y']  #population left = total - total vaccinated\n",
    "finaldf['nod'] = finaldf['populationleft']/finaldf['dose1']"
   ]
  },
  {
   "cell_type": "code",
   "execution_count": 43,
   "id": "8954f379",
   "metadata": {
    "execution": {
     "iopub.execute_input": "2021-09-21T15:42:21.199378Z",
     "iopub.status.busy": "2021-09-21T15:42:21.199378Z",
     "iopub.status.idle": "2021-09-21T15:42:21.215000Z",
     "shell.execute_reply": "2021-09-21T15:42:21.215000Z"
    }
   },
   "outputs": [],
   "source": [
    "finaldf['nod'] = finaldf['nod'].apply(np.ceil)"
   ]
  },
  {
   "cell_type": "code",
   "execution_count": 44,
   "id": "e0abb099",
   "metadata": {
    "execution": {
     "iopub.execute_input": "2021-09-21T15:42:21.230623Z",
     "iopub.status.busy": "2021-09-21T15:42:21.230623Z",
     "iopub.status.idle": "2021-09-21T15:42:21.246243Z",
     "shell.execute_reply": "2021-09-21T15:42:21.246243Z"
    }
   },
   "outputs": [],
   "source": [
    "finaldf2 = finaldf[['State','populationleft','dose1','nod']]"
   ]
  },
  {
   "cell_type": "markdown",
   "id": "d425816e",
   "metadata": {},
   "source": [
    "PREDICTING DATE OF VACCINATION COMPLETELY FOR ALL STATES"
   ]
  },
  {
   "cell_type": "code",
   "execution_count": 45,
   "id": "e4a7c29a",
   "metadata": {
    "execution": {
     "iopub.execute_input": "2021-09-21T15:42:21.246243Z",
     "iopub.status.busy": "2021-09-21T15:42:21.246243Z",
     "iopub.status.idle": "2021-09-21T15:42:21.261908Z",
     "shell.execute_reply": "2021-09-21T15:42:21.261908Z"
    }
   },
   "outputs": [],
   "source": [
    "#END_DATE\n",
    "lastdate = pd.to_datetime('2021-08-14')\n",
    "# # days = datetime.timedelta(days=1)\n",
    "# days = pd.to_timedelta(59,unit='d')"
   ]
  },
  {
   "cell_type": "code",
   "execution_count": 46,
   "id": "a3cae08e",
   "metadata": {
    "execution": {
     "iopub.execute_input": "2021-09-21T15:42:21.277521Z",
     "iopub.status.busy": "2021-09-21T15:42:21.261908Z",
     "iopub.status.idle": "2021-09-21T15:42:21.277521Z",
     "shell.execute_reply": "2021-09-21T15:42:21.277521Z"
    }
   },
   "outputs": [],
   "source": [
    "#PREDICTING THE DATE INTO NEWCOLUMN\n",
    "finaldf2['date'] = lastdate + pd.to_timedelta(finaldf2['nod'], unit='d')"
   ]
  },
  {
   "cell_type": "code",
   "execution_count": 47,
   "id": "b87ecae2",
   "metadata": {
    "execution": {
     "iopub.execute_input": "2021-09-21T15:42:21.293104Z",
     "iopub.status.busy": "2021-09-21T15:42:21.293104Z",
     "iopub.status.idle": "2021-09-21T15:42:21.308727Z",
     "shell.execute_reply": "2021-09-21T15:42:21.308727Z"
    }
   },
   "outputs": [
    {
     "data": {
      "text/html": [
       "<div>\n",
       "<style scoped>\n",
       "    .dataframe tbody tr th:only-of-type {\n",
       "        vertical-align: middle;\n",
       "    }\n",
       "\n",
       "    .dataframe tbody tr th {\n",
       "        vertical-align: top;\n",
       "    }\n",
       "\n",
       "    .dataframe thead th {\n",
       "        text-align: right;\n",
       "    }\n",
       "</style>\n",
       "<table border=\"1\" class=\"dataframe\">\n",
       "  <thead>\n",
       "    <tr style=\"text-align: right;\">\n",
       "      <th></th>\n",
       "      <th>State</th>\n",
       "      <th>populationleft</th>\n",
       "      <th>dose1</th>\n",
       "      <th>nod</th>\n",
       "      <th>date</th>\n",
       "    </tr>\n",
       "  </thead>\n",
       "  <tbody>\n",
       "    <tr>\n",
       "      <th>0</th>\n",
       "      <td>andaman and nicobar islands</td>\n",
       "      <td>1.478720e+05</td>\n",
       "      <td>2527.0</td>\n",
       "      <td>59.0</td>\n",
       "      <td>2021-10-12</td>\n",
       "    </tr>\n",
       "    <tr>\n",
       "      <th>1</th>\n",
       "      <td>andhra pradesh</td>\n",
       "      <td>5.399095e+07</td>\n",
       "      <td>217604.0</td>\n",
       "      <td>249.0</td>\n",
       "      <td>2022-04-20</td>\n",
       "    </tr>\n",
       "    <tr>\n",
       "      <th>2</th>\n",
       "      <td>arunachal pradesh</td>\n",
       "      <td>-9.500422e+09</td>\n",
       "      <td>24773032.0</td>\n",
       "      <td>-383.0</td>\n",
       "      <td>2020-07-27</td>\n",
       "    </tr>\n",
       "    <tr>\n",
       "      <th>3</th>\n",
       "      <td>assam</td>\n",
       "      <td>1.977552e+07</td>\n",
       "      <td>177263.0</td>\n",
       "      <td>112.0</td>\n",
       "      <td>2021-12-04</td>\n",
       "    </tr>\n",
       "    <tr>\n",
       "      <th>4</th>\n",
       "      <td>bihar</td>\n",
       "      <td>7.893207e+07</td>\n",
       "      <td>317409.0</td>\n",
       "      <td>249.0</td>\n",
       "      <td>2022-04-20</td>\n",
       "    </tr>\n",
       "  </tbody>\n",
       "</table>\n",
       "</div>"
      ],
      "text/plain": [
       "                         State  populationleft       dose1    nod       date\n",
       "0  andaman and nicobar islands    1.478720e+05      2527.0   59.0 2021-10-12\n",
       "1               andhra pradesh    5.399095e+07    217604.0  249.0 2022-04-20\n",
       "2            arunachal pradesh   -9.500422e+09  24773032.0 -383.0 2020-07-27\n",
       "3                        assam    1.977552e+07    177263.0  112.0 2021-12-04\n",
       "4                        bihar    7.893207e+07    317409.0  249.0 2022-04-20"
      ]
     },
     "execution_count": 47,
     "metadata": {},
     "output_type": "execute_result"
    }
   ],
   "source": [
    "finaldf2.head()"
   ]
  },
  {
   "cell_type": "code",
   "execution_count": 48,
   "id": "7b261aa4",
   "metadata": {
    "execution": {
     "iopub.execute_input": "2021-09-21T15:42:21.308727Z",
     "iopub.status.busy": "2021-09-21T15:42:21.308727Z",
     "iopub.status.idle": "2021-09-21T15:42:21.324347Z",
     "shell.execute_reply": "2021-09-21T15:42:21.324347Z"
    }
   },
   "outputs": [],
   "source": [
    "finaldf2.rename(columns={'dose1':'rateof vaccination','State':'stateid'},inplace=True)"
   ]
  },
  {
   "cell_type": "code",
   "execution_count": 49,
   "id": "7926cdec",
   "metadata": {
    "execution": {
     "iopub.execute_input": "2021-09-21T15:42:21.324347Z",
     "iopub.status.busy": "2021-09-21T15:42:21.324347Z",
     "iopub.status.idle": "2021-09-21T15:42:21.340005Z",
     "shell.execute_reply": "2021-09-21T15:42:21.340005Z"
    }
   },
   "outputs": [],
   "source": [
    "#AS WE ARE GETTING NEGATIVE VALUES FOR STATES --\"GUJARAT(10),arunachal pradesh(2) and \n",
    "# dadra and nagar haveli and daman and diu(7)\"   so we change.  and keeping the lastdate of analysis\n",
    "\n",
    "finaldf2.iloc[2,-1] =lastdate      #for arunachal pradesh\n",
    "finaldf2.iloc[7,-1] =lastdate      #for dadra and nagar haveli and daman and diu\n",
    "finaldf2.iloc[10,-1] =lastdate     # for gujarat\n",
    "\n",
    "\n",
    "\n",
    "\n",
    "# census_data.iloc[25,-1] = census_data.iloc[24,-1] + census_data.iloc[25,-1]"
   ]
  },
  {
   "cell_type": "code",
   "execution_count": 50,
   "id": "dbe0367b",
   "metadata": {
    "execution": {
     "iopub.execute_input": "2021-09-21T15:42:21.355588Z",
     "iopub.status.busy": "2021-09-21T15:42:21.355588Z",
     "iopub.status.idle": "2021-09-21T15:42:21.371253Z",
     "shell.execute_reply": "2021-09-21T15:42:21.371253Z"
    }
   },
   "outputs": [
    {
     "data": {
      "text/plain": [
       "Index(['stateid', 'populationleft', 'rateof vaccination', 'nod', 'date'], dtype='object')"
      ]
     },
     "execution_count": 50,
     "metadata": {},
     "output_type": "execute_result"
    }
   ],
   "source": [
    "finaldf2.columns"
   ]
  },
  {
   "cell_type": "code",
   "execution_count": 51,
   "id": "77f51704",
   "metadata": {
    "execution": {
     "iopub.execute_input": "2021-09-21T15:42:21.371253Z",
     "iopub.status.busy": "2021-09-21T15:42:21.371253Z",
     "iopub.status.idle": "2021-09-21T15:42:21.386875Z",
     "shell.execute_reply": "2021-09-21T15:42:21.386875Z"
    }
   },
   "outputs": [],
   "source": [
    "finaldf2 = finaldf2[['stateid', 'populationleft', 'rateof vaccination']]"
   ]
  },
  {
   "cell_type": "code",
   "execution_count": 52,
   "id": "f6cc2926",
   "metadata": {
    "execution": {
     "iopub.execute_input": "2021-09-21T15:42:21.386875Z",
     "iopub.status.busy": "2021-09-21T15:42:21.386875Z",
     "iopub.status.idle": "2021-09-21T15:42:21.402495Z",
     "shell.execute_reply": "2021-09-21T15:42:21.402495Z"
    }
   },
   "outputs": [],
   "source": [
    "#dictionary to map statename to stateid\n",
    "name_to_id = {'state unassigned': 'UN','andaman and nicobar islands': 'AN','andhra pradesh': 'AP','arunachal pradesh': 'AR','assam': 'AS','bihar': 'BR','chandigarh': 'CH','chhattisgarh': 'CT','delhi': 'DL',\n",
    "              'dadra and nagar haveli and daman and diu': 'DN','goa': 'GA','gujarat': 'GJ','himachal pradesh': 'HP','haryana': 'HR','jharkhand': 'JH','jammu and kashmir': 'JK','karnataka': 'KA',\n",
    "              'kerala': 'KL','ladakh': 'LA','lakshadweep': 'LD','maharashtra': 'MH','meghalaya': 'ML','manipur': 'MN','madhya pradesh': 'MP','mizoram': 'MZ','nagaland': 'NL','odisha': 'OR',\n",
    "              'punjab': 'PB','puducherry': 'PY','rajasthan': 'RJ','sikkim': 'SK','telangana': 'TG','tamil nadu': 'TN','tripura': 'TR','uttar pradesh': 'UP','uttarakhand': 'UT','west bengal': 'WB'}"
   ]
  },
  {
   "cell_type": "code",
   "execution_count": 53,
   "id": "86c36666",
   "metadata": {
    "execution": {
     "iopub.execute_input": "2021-09-21T15:42:21.402495Z",
     "iopub.status.busy": "2021-09-21T15:42:21.402495Z",
     "iopub.status.idle": "2021-09-21T15:42:21.418075Z",
     "shell.execute_reply": "2021-09-21T15:42:21.418075Z"
    }
   },
   "outputs": [],
   "source": [
    "# comment -->I was informed very late so i have done this type of mapping of statename to state."
   ]
  },
  {
   "cell_type": "code",
   "execution_count": 54,
   "id": "ae2533dd",
   "metadata": {
    "execution": {
     "iopub.execute_input": "2021-09-21T15:42:21.418075Z",
     "iopub.status.busy": "2021-09-21T15:42:21.418075Z",
     "iopub.status.idle": "2021-09-21T15:42:21.433809Z",
     "shell.execute_reply": "2021-09-21T15:42:21.433809Z"
    }
   },
   "outputs": [],
   "source": [
    "#mapped\n",
    "finaldf2['stateid'] = finaldf2['stateid'].map(name_to_id)"
   ]
  },
  {
   "cell_type": "code",
   "execution_count": 55,
   "id": "db77df73",
   "metadata": {
    "execution": {
     "iopub.execute_input": "2021-09-21T15:42:21.433809Z",
     "iopub.status.busy": "2021-09-21T15:42:21.433809Z",
     "iopub.status.idle": "2021-09-21T15:42:21.450441Z",
     "shell.execute_reply": "2021-09-21T15:42:21.450441Z"
    }
   },
   "outputs": [],
   "source": [
    "finaldf2.to_csv('complete-vaccination.csv',index=False)"
   ]
  },
  {
   "cell_type": "code",
   "execution_count": null,
   "id": "feebc729",
   "metadata": {},
   "outputs": [],
   "source": []
  },
  {
   "cell_type": "code",
   "execution_count": null,
   "id": "b6c87077",
   "metadata": {},
   "outputs": [],
   "source": []
  }
 ],
 "metadata": {
  "kernelspec": {
   "display_name": "Python 3",
   "language": "python",
   "name": "python3"
  },
  "language_info": {
   "codemirror_mode": {
    "name": "ipython",
    "version": 3
   },
   "file_extension": ".py",
   "mimetype": "text/x-python",
   "name": "python",
   "nbconvert_exporter": "python",
   "pygments_lexer": "ipython3",
   "version": "3.8.8"
  }
 },
 "nbformat": 4,
 "nbformat_minor": 5
}
