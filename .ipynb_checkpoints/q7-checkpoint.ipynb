{
 "cells": [
  {
   "cell_type": "markdown",
   "id": "56cb8d12",
   "metadata": {},
   "source": [
    "# For each state, district and overall, find the following ratios: total number of Covishield vaccinated persons (either 1 or 2 doses) to total number of Covaxin vaccinated persons"
   ]
  },
  {
   "cell_type": "code",
   "execution_count": 1,
   "id": "032e854b",
   "metadata": {
    "execution": {
     "iopub.execute_input": "2021-09-21T11:42:14.329835Z",
     "iopub.status.busy": "2021-09-21T11:42:14.329835Z",
     "iopub.status.idle": "2021-09-21T11:42:14.909143Z",
     "shell.execute_reply": "2021-09-21T11:42:14.909143Z"
    }
   },
   "outputs": [],
   "source": [
    "import numpy as np\n",
    "import pandas as pd\n",
    "import datetime as dt\n",
    "import warnings\n",
    "warnings.filterwarnings('ignore')"
   ]
  },
  {
   "cell_type": "code",
   "execution_count": 2,
   "id": "0560da04",
   "metadata": {
    "execution": {
     "iopub.execute_input": "2021-09-21T11:42:14.915650Z",
     "iopub.status.busy": "2021-09-21T11:42:14.915650Z",
     "iopub.status.idle": "2021-09-21T11:42:15.733210Z",
     "shell.execute_reply": "2021-09-21T11:42:15.733210Z"
    }
   },
   "outputs": [],
   "source": [
    "df = pd.read_csv(r'cowin_vaccine_data_districtwise.csv')"
   ]
  },
  {
   "cell_type": "code",
   "execution_count": 3,
   "id": "17e4b8df",
   "metadata": {
    "execution": {
     "iopub.execute_input": "2021-09-21T11:42:15.733210Z",
     "iopub.status.busy": "2021-09-21T11:42:15.733210Z",
     "iopub.status.idle": "2021-09-21T11:42:15.748831Z",
     "shell.execute_reply": "2021-09-21T11:42:15.748831Z"
    }
   },
   "outputs": [],
   "source": [
    "# df[['16/01/2021', '16/01/2021.1', '16/01/2021.2', '16/01/2021.3','16/01/2021.4', '16/01/2021.5', '16/01/2021.6', '16/01/2021.7','16/01/2021.8','16/01/2021.9']]"
   ]
  },
  {
   "cell_type": "code",
   "execution_count": 4,
   "id": "a58ff1fa",
   "metadata": {
    "execution": {
     "iopub.execute_input": "2021-09-21T11:42:15.748831Z",
     "iopub.status.busy": "2021-09-21T11:42:15.748831Z",
     "iopub.status.idle": "2021-09-21T11:42:15.764453Z",
     "shell.execute_reply": "2021-09-21T11:42:15.764453Z"
    }
   },
   "outputs": [],
   "source": [
    "# COLLECTING ALL COLUMNS AS DATES ARE ALSO PRESENT IN COLUMNS\n",
    "list1 = df.columns\n",
    "# COLLECTING ALL DATES INTO A LIST\n",
    "dates_unmod=[]\n",
    "for i in range(len(list1)):\n",
    "    if(\".8\" in list1[i]):              #AS.8,.9 are covaxin,covishield vaccination data\n",
    "        dates_unmod.append((list1[i],list1[i+1]))"
   ]
  },
  {
   "cell_type": "code",
   "execution_count": 5,
   "id": "bf936134",
   "metadata": {
    "execution": {
     "iopub.execute_input": "2021-09-21T11:42:15.764453Z",
     "iopub.status.busy": "2021-09-21T11:42:15.764453Z",
     "iopub.status.idle": "2021-09-21T11:42:15.780074Z",
     "shell.execute_reply": "2021-09-21T11:42:15.780074Z"
    }
   },
   "outputs": [],
   "source": [
    "#AS WE NEED TO ANALYSE TILL 14/08/2021.8\n",
    "dates_unmod = dates_unmod[:211]"
   ]
  },
  {
   "cell_type": "code",
   "execution_count": 6,
   "id": "ba1b6494",
   "metadata": {
    "execution": {
     "iopub.execute_input": "2021-09-21T11:42:15.780074Z",
     "iopub.status.busy": "2021-09-21T11:42:15.780074Z",
     "iopub.status.idle": "2021-09-21T11:42:15.795695Z",
     "shell.execute_reply": "2021-09-21T11:42:15.795695Z"
    }
   },
   "outputs": [],
   "source": [
    "# dates_unmod"
   ]
  },
  {
   "cell_type": "code",
   "execution_count": 7,
   "id": "9eeef33f",
   "metadata": {
    "execution": {
     "iopub.execute_input": "2021-09-21T11:42:15.795695Z",
     "iopub.status.busy": "2021-09-21T11:42:15.795695Z",
     "iopub.status.idle": "2021-09-21T11:42:15.811317Z",
     "shell.execute_reply": "2021-09-21T11:42:15.811317Z"
    }
   },
   "outputs": [],
   "source": [
    "#THIS IS ENTIRE DATAFRAME WITH ALL DISTRICTS AND CONTAING DATES AS ROWS\n",
    "dfnew = pd.DataFrame()"
   ]
  },
  {
   "cell_type": "code",
   "execution_count": 8,
   "id": "14f7c044",
   "metadata": {
    "execution": {
     "iopub.execute_input": "2021-09-21T11:42:15.817823Z",
     "iopub.status.busy": "2021-09-21T11:42:15.817823Z",
     "iopub.status.idle": "2021-09-21T11:42:17.569219Z",
     "shell.execute_reply": "2021-09-21T11:42:17.569219Z"
    }
   },
   "outputs": [],
   "source": [
    "for i in dates_unmod:\n",
    "    #CREATING A DATAFRAME DATEWISE FOR ALL DISTRICTS\n",
    "    t= pd.DataFrame()\n",
    "    \n",
    "    covaxin_dose = df[i[0]]\n",
    "    coviShield_dose = df[i[1]]\n",
    "    t = df.loc[:,['State','District','District_Key']]\n",
    "    t['covaxin'] = covaxin_dose\n",
    "    t['covishield'] = coviShield_dose\n",
    "    t['Date'] = i[0].replace(\".8\",\"\")\n",
    "    \n",
    "    dfnew = pd.concat([dfnew,t])"
   ]
  },
  {
   "cell_type": "code",
   "execution_count": 9,
   "id": "e6c66ea9",
   "metadata": {
    "execution": {
     "iopub.execute_input": "2021-09-21T11:42:17.569219Z",
     "iopub.status.busy": "2021-09-21T11:42:17.569219Z",
     "iopub.status.idle": "2021-09-21T11:42:17.600462Z",
     "shell.execute_reply": "2021-09-21T11:42:17.600462Z"
    }
   },
   "outputs": [
    {
     "data": {
      "text/html": [
       "<div>\n",
       "<style scoped>\n",
       "    .dataframe tbody tr th:only-of-type {\n",
       "        vertical-align: middle;\n",
       "    }\n",
       "\n",
       "    .dataframe tbody tr th {\n",
       "        vertical-align: top;\n",
       "    }\n",
       "\n",
       "    .dataframe thead th {\n",
       "        text-align: right;\n",
       "    }\n",
       "</style>\n",
       "<table border=\"1\" class=\"dataframe\">\n",
       "  <thead>\n",
       "    <tr style=\"text-align: right;\">\n",
       "      <th></th>\n",
       "      <th>State</th>\n",
       "      <th>District</th>\n",
       "      <th>District_Key</th>\n",
       "      <th>covaxin</th>\n",
       "      <th>covishield</th>\n",
       "      <th>Date</th>\n",
       "    </tr>\n",
       "  </thead>\n",
       "  <tbody>\n",
       "    <tr>\n",
       "      <th>0</th>\n",
       "      <td>NaN</td>\n",
       "      <td>NaN</td>\n",
       "      <td>NaN</td>\n",
       "      <td>Covaxin (Doses Administered)</td>\n",
       "      <td>CoviShield (Doses Administered)</td>\n",
       "      <td>16/01/2021</td>\n",
       "    </tr>\n",
       "    <tr>\n",
       "      <th>1</th>\n",
       "      <td>Andaman and Nicobar Islands</td>\n",
       "      <td>Nicobars</td>\n",
       "      <td>AN_Nicobars</td>\n",
       "      <td>0</td>\n",
       "      <td>0</td>\n",
       "      <td>16/01/2021</td>\n",
       "    </tr>\n",
       "    <tr>\n",
       "      <th>2</th>\n",
       "      <td>Andaman and Nicobar Islands</td>\n",
       "      <td>North and Middle Andaman</td>\n",
       "      <td>AN_North and Middle Andaman</td>\n",
       "      <td>0</td>\n",
       "      <td>0</td>\n",
       "      <td>16/01/2021</td>\n",
       "    </tr>\n",
       "    <tr>\n",
       "      <th>3</th>\n",
       "      <td>Andaman and Nicobar Islands</td>\n",
       "      <td>South Andaman</td>\n",
       "      <td>AN_South Andaman</td>\n",
       "      <td>0</td>\n",
       "      <td>23</td>\n",
       "      <td>16/01/2021</td>\n",
       "    </tr>\n",
       "    <tr>\n",
       "      <th>4</th>\n",
       "      <td>Andhra Pradesh</td>\n",
       "      <td>Anantapur</td>\n",
       "      <td>AP_Anantapur</td>\n",
       "      <td>0</td>\n",
       "      <td>287</td>\n",
       "      <td>16/01/2021</td>\n",
       "    </tr>\n",
       "  </tbody>\n",
       "</table>\n",
       "</div>"
      ],
      "text/plain": [
       "                         State                  District  \\\n",
       "0                          NaN                       NaN   \n",
       "1  Andaman and Nicobar Islands                  Nicobars   \n",
       "2  Andaman and Nicobar Islands  North and Middle Andaman   \n",
       "3  Andaman and Nicobar Islands             South Andaman   \n",
       "4               Andhra Pradesh                 Anantapur   \n",
       "\n",
       "                  District_Key                       covaxin  \\\n",
       "0                          NaN  Covaxin (Doses Administered)   \n",
       "1                  AN_Nicobars                             0   \n",
       "2  AN_North and Middle Andaman                             0   \n",
       "3             AN_South Andaman                             0   \n",
       "4                 AP_Anantapur                             0   \n",
       "\n",
       "                        covishield        Date  \n",
       "0  CoviShield (Doses Administered)  16/01/2021  \n",
       "1                                0  16/01/2021  \n",
       "2                                0  16/01/2021  \n",
       "3                               23  16/01/2021  \n",
       "4                              287  16/01/2021  "
      ]
     },
     "execution_count": 9,
     "metadata": {},
     "output_type": "execute_result"
    }
   ],
   "source": [
    "dfnew.head()"
   ]
  },
  {
   "cell_type": "code",
   "execution_count": 10,
   "id": "8621992e",
   "metadata": {
    "execution": {
     "iopub.execute_input": "2021-09-21T11:42:17.600462Z",
     "iopub.status.busy": "2021-09-21T11:42:17.600462Z",
     "iopub.status.idle": "2021-09-21T11:42:17.638295Z",
     "shell.execute_reply": "2021-09-21T11:42:17.638295Z"
    }
   },
   "outputs": [],
   "source": [
    "#CONVERTING DATE COLUMN INTO PANDAS DATETIME IN REQUIRED FORMAT\n",
    "dfnew['Date'] =  pd.to_datetime(dfnew['Date'], format='%d/%m/%Y')"
   ]
  },
  {
   "cell_type": "code",
   "execution_count": 11,
   "id": "0201561f",
   "metadata": {
    "execution": {
     "iopub.execute_input": "2021-09-21T11:42:17.653870Z",
     "iopub.status.busy": "2021-09-21T11:42:17.653870Z",
     "iopub.status.idle": "2021-09-21T11:42:17.700733Z",
     "shell.execute_reply": "2021-09-21T11:42:17.700733Z"
    }
   },
   "outputs": [],
   "source": [
    "#DROPPING FIRSTROW\n",
    "a = dfnew[dfnew['covaxin']=='Covaxin (Doses Administered)'].index\n",
    "finaldf = dfnew.drop(a)"
   ]
  },
  {
   "cell_type": "code",
   "execution_count": 12,
   "id": "740dc44e",
   "metadata": {
    "execution": {
     "iopub.execute_input": "2021-09-21T11:42:17.700733Z",
     "iopub.status.busy": "2021-09-21T11:42:17.700733Z",
     "iopub.status.idle": "2021-09-21T11:42:17.716402Z",
     "shell.execute_reply": "2021-09-21T11:42:17.716402Z"
    }
   },
   "outputs": [
    {
     "data": {
      "text/plain": [
       "State                   object\n",
       "District                object\n",
       "District_Key            object\n",
       "covaxin                 object\n",
       "covishield              object\n",
       "Date            datetime64[ns]\n",
       "dtype: object"
      ]
     },
     "execution_count": 12,
     "metadata": {},
     "output_type": "execute_result"
    }
   ],
   "source": [
    "finaldf.dtypes"
   ]
  },
  {
   "cell_type": "code",
   "execution_count": 13,
   "id": "2f1775ce",
   "metadata": {
    "execution": {
     "iopub.execute_input": "2021-09-21T11:42:17.738589Z",
     "iopub.status.busy": "2021-09-21T11:42:17.738589Z",
     "iopub.status.idle": "2021-09-21T11:42:17.769832Z",
     "shell.execute_reply": "2021-09-21T11:42:17.769832Z"
    }
   },
   "outputs": [],
   "source": [
    "convert_dict = {'covaxin': float,'covishield': float}\n",
    "finaldf = finaldf.astype(convert_dict)"
   ]
  },
  {
   "cell_type": "code",
   "execution_count": 14,
   "id": "2bdeb05c",
   "metadata": {
    "execution": {
     "iopub.execute_input": "2021-09-21T11:42:17.769832Z",
     "iopub.status.busy": "2021-09-21T11:42:17.769832Z",
     "iopub.status.idle": "2021-09-21T11:42:17.801020Z",
     "shell.execute_reply": "2021-09-21T11:42:17.801020Z"
    }
   },
   "outputs": [
    {
     "data": {
      "text/html": [
       "<div>\n",
       "<style scoped>\n",
       "    .dataframe tbody tr th:only-of-type {\n",
       "        vertical-align: middle;\n",
       "    }\n",
       "\n",
       "    .dataframe tbody tr th {\n",
       "        vertical-align: top;\n",
       "    }\n",
       "\n",
       "    .dataframe thead th {\n",
       "        text-align: right;\n",
       "    }\n",
       "</style>\n",
       "<table border=\"1\" class=\"dataframe\">\n",
       "  <thead>\n",
       "    <tr style=\"text-align: right;\">\n",
       "      <th></th>\n",
       "      <th>State</th>\n",
       "      <th>District</th>\n",
       "      <th>District_Key</th>\n",
       "      <th>covaxin</th>\n",
       "      <th>covishield</th>\n",
       "      <th>Date</th>\n",
       "    </tr>\n",
       "  </thead>\n",
       "  <tbody>\n",
       "    <tr>\n",
       "      <th>1</th>\n",
       "      <td>Andaman and Nicobar Islands</td>\n",
       "      <td>Nicobars</td>\n",
       "      <td>AN_Nicobars</td>\n",
       "      <td>0.0</td>\n",
       "      <td>0.0</td>\n",
       "      <td>2021-01-16</td>\n",
       "    </tr>\n",
       "    <tr>\n",
       "      <th>2</th>\n",
       "      <td>Andaman and Nicobar Islands</td>\n",
       "      <td>North and Middle Andaman</td>\n",
       "      <td>AN_North and Middle Andaman</td>\n",
       "      <td>0.0</td>\n",
       "      <td>0.0</td>\n",
       "      <td>2021-01-16</td>\n",
       "    </tr>\n",
       "    <tr>\n",
       "      <th>3</th>\n",
       "      <td>Andaman and Nicobar Islands</td>\n",
       "      <td>South Andaman</td>\n",
       "      <td>AN_South Andaman</td>\n",
       "      <td>0.0</td>\n",
       "      <td>23.0</td>\n",
       "      <td>2021-01-16</td>\n",
       "    </tr>\n",
       "    <tr>\n",
       "      <th>4</th>\n",
       "      <td>Andhra Pradesh</td>\n",
       "      <td>Anantapur</td>\n",
       "      <td>AP_Anantapur</td>\n",
       "      <td>0.0</td>\n",
       "      <td>287.0</td>\n",
       "      <td>2021-01-16</td>\n",
       "    </tr>\n",
       "    <tr>\n",
       "      <th>5</th>\n",
       "      <td>Andhra Pradesh</td>\n",
       "      <td>Chittoor</td>\n",
       "      <td>AP_Chittoor</td>\n",
       "      <td>0.0</td>\n",
       "      <td>424.0</td>\n",
       "      <td>2021-01-16</td>\n",
       "    </tr>\n",
       "    <tr>\n",
       "      <th>...</th>\n",
       "      <td>...</td>\n",
       "      <td>...</td>\n",
       "      <td>...</td>\n",
       "      <td>...</td>\n",
       "      <td>...</td>\n",
       "      <td>...</td>\n",
       "    </tr>\n",
       "    <tr>\n",
       "      <th>750</th>\n",
       "      <td>West Bengal</td>\n",
       "      <td>Purulia</td>\n",
       "      <td>WB_Purulia</td>\n",
       "      <td>119235.0</td>\n",
       "      <td>667928.0</td>\n",
       "      <td>2021-08-14</td>\n",
       "    </tr>\n",
       "    <tr>\n",
       "      <th>751</th>\n",
       "      <td>West Bengal</td>\n",
       "      <td>Birbhum</td>\n",
       "      <td>WB_Birbhum</td>\n",
       "      <td>66816.0</td>\n",
       "      <td>443747.0</td>\n",
       "      <td>2021-08-14</td>\n",
       "    </tr>\n",
       "    <tr>\n",
       "      <th>752</th>\n",
       "      <td>West Bengal</td>\n",
       "      <td>South 24 Parganas</td>\n",
       "      <td>WB_South 24 Parganas</td>\n",
       "      <td>155874.0</td>\n",
       "      <td>1608273.0</td>\n",
       "      <td>2021-08-14</td>\n",
       "    </tr>\n",
       "    <tr>\n",
       "      <th>753</th>\n",
       "      <td>West Bengal</td>\n",
       "      <td>Uttar Dinajpur</td>\n",
       "      <td>WB_Uttar Dinajpur</td>\n",
       "      <td>115375.0</td>\n",
       "      <td>598638.0</td>\n",
       "      <td>2021-08-14</td>\n",
       "    </tr>\n",
       "    <tr>\n",
       "      <th>754</th>\n",
       "      <td>West Bengal</td>\n",
       "      <td>Paschim Bardhaman</td>\n",
       "      <td>WB_Paschim Bardhaman</td>\n",
       "      <td>127712.0</td>\n",
       "      <td>917162.0</td>\n",
       "      <td>2021-08-14</td>\n",
       "    </tr>\n",
       "  </tbody>\n",
       "</table>\n",
       "<p>159094 rows × 6 columns</p>\n",
       "</div>"
      ],
      "text/plain": [
       "                           State                  District  \\\n",
       "1    Andaman and Nicobar Islands                  Nicobars   \n",
       "2    Andaman and Nicobar Islands  North and Middle Andaman   \n",
       "3    Andaman and Nicobar Islands             South Andaman   \n",
       "4                 Andhra Pradesh                 Anantapur   \n",
       "5                 Andhra Pradesh                  Chittoor   \n",
       "..                           ...                       ...   \n",
       "750                  West Bengal                   Purulia   \n",
       "751                  West Bengal                   Birbhum   \n",
       "752                  West Bengal         South 24 Parganas   \n",
       "753                  West Bengal            Uttar Dinajpur   \n",
       "754                  West Bengal         Paschim Bardhaman   \n",
       "\n",
       "                    District_Key   covaxin  covishield       Date  \n",
       "1                    AN_Nicobars       0.0         0.0 2021-01-16  \n",
       "2    AN_North and Middle Andaman       0.0         0.0 2021-01-16  \n",
       "3               AN_South Andaman       0.0        23.0 2021-01-16  \n",
       "4                   AP_Anantapur       0.0       287.0 2021-01-16  \n",
       "5                    AP_Chittoor       0.0       424.0 2021-01-16  \n",
       "..                           ...       ...         ...        ...  \n",
       "750                   WB_Purulia  119235.0    667928.0 2021-08-14  \n",
       "751                   WB_Birbhum   66816.0    443747.0 2021-08-14  \n",
       "752         WB_South 24 Parganas  155874.0   1608273.0 2021-08-14  \n",
       "753            WB_Uttar Dinajpur  115375.0    598638.0 2021-08-14  \n",
       "754         WB_Paschim Bardhaman  127712.0    917162.0 2021-08-14  \n",
       "\n",
       "[159094 rows x 6 columns]"
      ]
     },
     "execution_count": 14,
     "metadata": {},
     "output_type": "execute_result"
    }
   ],
   "source": [
    "finaldf"
   ]
  },
  {
   "cell_type": "code",
   "execution_count": 15,
   "id": "da3d5528",
   "metadata": {
    "execution": {
     "iopub.execute_input": "2021-09-21T11:42:17.801020Z",
     "iopub.status.busy": "2021-09-21T11:42:17.801020Z",
     "iopub.status.idle": "2021-09-21T11:42:17.838830Z",
     "shell.execute_reply": "2021-09-21T11:42:17.838830Z"
    }
   },
   "outputs": [],
   "source": [
    "# #STORING FOR OVERALL ANALYSIS\n",
    "India = finaldf.copy()"
   ]
  },
  {
   "cell_type": "markdown",
   "id": "62588724",
   "metadata": {},
   "source": [
    "COMBINING NUMBER OF covaxin/covishield WITH SAME DISTRICTKEY USING GROUPBY"
   ]
  },
  {
   "cell_type": "code",
   "execution_count": 16,
   "id": "c942ba82",
   "metadata": {
    "execution": {
     "iopub.execute_input": "2021-09-21T11:42:17.838830Z",
     "iopub.status.busy": "2021-09-21T11:42:17.838830Z",
     "iopub.status.idle": "2021-09-21T11:42:18.070637Z",
     "shell.execute_reply": "2021-09-21T11:42:18.070637Z"
    }
   },
   "outputs": [],
   "source": [
    "finaldf=finaldf.groupby(['District_Key','Date','State','District']).aggregate({'covaxin':sum,'covishield':sum})\n",
    "finaldf.reset_index(inplace=True)"
   ]
  },
  {
   "cell_type": "code",
   "execution_count": 17,
   "id": "1680dc7d",
   "metadata": {
    "execution": {
     "iopub.execute_input": "2021-09-21T11:42:18.070637Z",
     "iopub.status.busy": "2021-09-21T11:42:18.070637Z",
     "iopub.status.idle": "2021-09-21T11:42:18.086211Z",
     "shell.execute_reply": "2021-09-21T11:42:18.086211Z"
    }
   },
   "outputs": [
    {
     "data": {
      "text/html": [
       "<div>\n",
       "<style scoped>\n",
       "    .dataframe tbody tr th:only-of-type {\n",
       "        vertical-align: middle;\n",
       "    }\n",
       "\n",
       "    .dataframe tbody tr th {\n",
       "        vertical-align: top;\n",
       "    }\n",
       "\n",
       "    .dataframe thead th {\n",
       "        text-align: right;\n",
       "    }\n",
       "</style>\n",
       "<table border=\"1\" class=\"dataframe\">\n",
       "  <thead>\n",
       "    <tr style=\"text-align: right;\">\n",
       "      <th></th>\n",
       "      <th>District_Key</th>\n",
       "      <th>Date</th>\n",
       "      <th>State</th>\n",
       "      <th>District</th>\n",
       "      <th>covaxin</th>\n",
       "      <th>covishield</th>\n",
       "    </tr>\n",
       "  </thead>\n",
       "  <tbody>\n",
       "    <tr>\n",
       "      <th>0</th>\n",
       "      <td>AN_Nicobars</td>\n",
       "      <td>2021-01-16</td>\n",
       "      <td>Andaman and Nicobar Islands</td>\n",
       "      <td>Nicobars</td>\n",
       "      <td>0.0</td>\n",
       "      <td>0.0</td>\n",
       "    </tr>\n",
       "    <tr>\n",
       "      <th>1</th>\n",
       "      <td>AN_Nicobars</td>\n",
       "      <td>2021-01-17</td>\n",
       "      <td>Andaman and Nicobar Islands</td>\n",
       "      <td>Nicobars</td>\n",
       "      <td>0.0</td>\n",
       "      <td>0.0</td>\n",
       "    </tr>\n",
       "    <tr>\n",
       "      <th>2</th>\n",
       "      <td>AN_Nicobars</td>\n",
       "      <td>2021-01-18</td>\n",
       "      <td>Andaman and Nicobar Islands</td>\n",
       "      <td>Nicobars</td>\n",
       "      <td>0.0</td>\n",
       "      <td>0.0</td>\n",
       "    </tr>\n",
       "    <tr>\n",
       "      <th>3</th>\n",
       "      <td>AN_Nicobars</td>\n",
       "      <td>2021-01-19</td>\n",
       "      <td>Andaman and Nicobar Islands</td>\n",
       "      <td>Nicobars</td>\n",
       "      <td>0.0</td>\n",
       "      <td>1.0</td>\n",
       "    </tr>\n",
       "    <tr>\n",
       "      <th>4</th>\n",
       "      <td>AN_Nicobars</td>\n",
       "      <td>2021-01-20</td>\n",
       "      <td>Andaman and Nicobar Islands</td>\n",
       "      <td>Nicobars</td>\n",
       "      <td>0.0</td>\n",
       "      <td>1.0</td>\n",
       "    </tr>\n",
       "  </tbody>\n",
       "</table>\n",
       "</div>"
      ],
      "text/plain": [
       "  District_Key       Date                        State  District  covaxin  \\\n",
       "0  AN_Nicobars 2021-01-16  Andaman and Nicobar Islands  Nicobars      0.0   \n",
       "1  AN_Nicobars 2021-01-17  Andaman and Nicobar Islands  Nicobars      0.0   \n",
       "2  AN_Nicobars 2021-01-18  Andaman and Nicobar Islands  Nicobars      0.0   \n",
       "3  AN_Nicobars 2021-01-19  Andaman and Nicobar Islands  Nicobars      0.0   \n",
       "4  AN_Nicobars 2021-01-20  Andaman and Nicobar Islands  Nicobars      0.0   \n",
       "\n",
       "   covishield  \n",
       "0         0.0  \n",
       "1         0.0  \n",
       "2         0.0  \n",
       "3         1.0  \n",
       "4         1.0  "
      ]
     },
     "execution_count": 17,
     "metadata": {},
     "output_type": "execute_result"
    }
   ],
   "source": [
    "finaldf.head()"
   ]
  },
  {
   "cell_type": "code",
   "execution_count": null,
   "id": "c6aa2089",
   "metadata": {},
   "outputs": [],
   "source": []
  },
  {
   "cell_type": "markdown",
   "id": "74e5d00a",
   "metadata": {},
   "source": [
    "# DISTRICTWISE ANALYSIS"
   ]
  },
  {
   "cell_type": "code",
   "execution_count": 18,
   "id": "ffad4eb8",
   "metadata": {
    "execution": {
     "iopub.execute_input": "2021-09-21T11:42:18.086211Z",
     "iopub.status.busy": "2021-09-21T11:42:18.086211Z",
     "iopub.status.idle": "2021-09-21T11:42:18.101832Z",
     "shell.execute_reply": "2021-09-21T11:42:18.101832Z"
    }
   },
   "outputs": [],
   "source": [
    "#AS DATA IS CUMULATIVE \n",
    "def first_last(df1):\n",
    "        return df1.iloc[[-1]]"
   ]
  },
  {
   "cell_type": "code",
   "execution_count": 19,
   "id": "f976e82d",
   "metadata": {
    "execution": {
     "iopub.execute_input": "2021-09-21T11:42:18.101832Z",
     "iopub.status.busy": "2021-09-21T11:42:18.101832Z",
     "iopub.status.idle": "2021-09-21T11:42:18.656541Z",
     "shell.execute_reply": "2021-09-21T11:42:18.656541Z"
    }
   },
   "outputs": [],
   "source": [
    "#GROUPING DISTRICTWISE\n",
    "t = finaldf.groupby('District_Key').apply(first_last)"
   ]
  },
  {
   "cell_type": "code",
   "execution_count": 20,
   "id": "3c942367",
   "metadata": {
    "execution": {
     "iopub.execute_input": "2021-09-21T11:42:18.656541Z",
     "iopub.status.busy": "2021-09-21T11:42:18.656541Z",
     "iopub.status.idle": "2021-09-21T11:42:18.672108Z",
     "shell.execute_reply": "2021-09-21T11:42:18.672108Z"
    }
   },
   "outputs": [],
   "source": [
    "t.reset_index(inplace=True,drop=True)"
   ]
  },
  {
   "cell_type": "code",
   "execution_count": 21,
   "id": "2c1598bf",
   "metadata": {
    "execution": {
     "iopub.execute_input": "2021-09-21T11:42:18.672108Z",
     "iopub.status.busy": "2021-09-21T11:42:18.672108Z",
     "iopub.status.idle": "2021-09-21T11:42:18.687786Z",
     "shell.execute_reply": "2021-09-21T11:42:18.687786Z"
    }
   },
   "outputs": [],
   "source": [
    "t['vaccineratio'] = t['covishield']/t['covaxin']"
   ]
  },
  {
   "cell_type": "code",
   "execution_count": 22,
   "id": "5ceb9f87",
   "metadata": {
    "execution": {
     "iopub.execute_input": "2021-09-21T11:42:18.687786Z",
     "iopub.status.busy": "2021-09-21T11:42:18.687786Z",
     "iopub.status.idle": "2021-09-21T11:42:18.703410Z",
     "shell.execute_reply": "2021-09-21T11:42:18.703410Z"
    }
   },
   "outputs": [
    {
     "data": {
      "text/html": [
       "<div>\n",
       "<style scoped>\n",
       "    .dataframe tbody tr th:only-of-type {\n",
       "        vertical-align: middle;\n",
       "    }\n",
       "\n",
       "    .dataframe tbody tr th {\n",
       "        vertical-align: top;\n",
       "    }\n",
       "\n",
       "    .dataframe thead th {\n",
       "        text-align: right;\n",
       "    }\n",
       "</style>\n",
       "<table border=\"1\" class=\"dataframe\">\n",
       "  <thead>\n",
       "    <tr style=\"text-align: right;\">\n",
       "      <th></th>\n",
       "      <th>District_Key</th>\n",
       "      <th>Date</th>\n",
       "      <th>State</th>\n",
       "      <th>District</th>\n",
       "      <th>covaxin</th>\n",
       "      <th>covishield</th>\n",
       "      <th>vaccineratio</th>\n",
       "    </tr>\n",
       "  </thead>\n",
       "  <tbody>\n",
       "    <tr>\n",
       "      <th>0</th>\n",
       "      <td>AN_Nicobars</td>\n",
       "      <td>2021-08-14</td>\n",
       "      <td>Andaman and Nicobar Islands</td>\n",
       "      <td>Nicobars</td>\n",
       "      <td>0.0</td>\n",
       "      <td>30191.0</td>\n",
       "      <td>inf</td>\n",
       "    </tr>\n",
       "    <tr>\n",
       "      <th>1</th>\n",
       "      <td>AN_North and Middle Andaman</td>\n",
       "      <td>2021-08-14</td>\n",
       "      <td>Andaman and Nicobar Islands</td>\n",
       "      <td>North and Middle Andaman</td>\n",
       "      <td>0.0</td>\n",
       "      <td>97324.0</td>\n",
       "      <td>inf</td>\n",
       "    </tr>\n",
       "    <tr>\n",
       "      <th>2</th>\n",
       "      <td>AN_South Andaman</td>\n",
       "      <td>2021-08-14</td>\n",
       "      <td>Andaman and Nicobar Islands</td>\n",
       "      <td>South Andaman</td>\n",
       "      <td>0.0</td>\n",
       "      <td>202481.0</td>\n",
       "      <td>inf</td>\n",
       "    </tr>\n",
       "    <tr>\n",
       "      <th>3</th>\n",
       "      <td>AP_Anantapur</td>\n",
       "      <td>2021-08-14</td>\n",
       "      <td>Andhra Pradesh</td>\n",
       "      <td>Anantapur</td>\n",
       "      <td>280843.0</td>\n",
       "      <td>1680877.0</td>\n",
       "      <td>5.985113</td>\n",
       "    </tr>\n",
       "    <tr>\n",
       "      <th>4</th>\n",
       "      <td>AP_Chittoor</td>\n",
       "      <td>2021-08-14</td>\n",
       "      <td>Andhra Pradesh</td>\n",
       "      <td>Chittoor</td>\n",
       "      <td>380464.0</td>\n",
       "      <td>1811380.0</td>\n",
       "      <td>4.760976</td>\n",
       "    </tr>\n",
       "  </tbody>\n",
       "</table>\n",
       "</div>"
      ],
      "text/plain": [
       "                  District_Key       Date                        State  \\\n",
       "0                  AN_Nicobars 2021-08-14  Andaman and Nicobar Islands   \n",
       "1  AN_North and Middle Andaman 2021-08-14  Andaman and Nicobar Islands   \n",
       "2             AN_South Andaman 2021-08-14  Andaman and Nicobar Islands   \n",
       "3                 AP_Anantapur 2021-08-14               Andhra Pradesh   \n",
       "4                  AP_Chittoor 2021-08-14               Andhra Pradesh   \n",
       "\n",
       "                   District   covaxin  covishield  vaccineratio  \n",
       "0                  Nicobars       0.0     30191.0           inf  \n",
       "1  North and Middle Andaman       0.0     97324.0           inf  \n",
       "2             South Andaman       0.0    202481.0           inf  \n",
       "3                 Anantapur  280843.0   1680877.0      5.985113  \n",
       "4                  Chittoor  380464.0   1811380.0      4.760976  "
      ]
     },
     "execution_count": 22,
     "metadata": {},
     "output_type": "execute_result"
    }
   ],
   "source": [
    "t.head()"
   ]
  },
  {
   "cell_type": "code",
   "execution_count": 23,
   "id": "06fdcaf7",
   "metadata": {
    "execution": {
     "iopub.execute_input": "2021-09-21T11:42:18.703410Z",
     "iopub.status.busy": "2021-09-21T11:42:18.703410Z",
     "iopub.status.idle": "2021-09-21T11:42:18.718972Z",
     "shell.execute_reply": "2021-09-21T11:42:18.718972Z"
    }
   },
   "outputs": [
    {
     "data": {
      "text/plain": [
       "Index(['District_Key', 'Date', 'State', 'District', 'covaxin', 'covishield',\n",
       "       'vaccineratio'],\n",
       "      dtype='object')"
      ]
     },
     "execution_count": 23,
     "metadata": {},
     "output_type": "execute_result"
    }
   ],
   "source": [
    "t.columns"
   ]
  },
  {
   "cell_type": "code",
   "execution_count": 24,
   "id": "db12b183",
   "metadata": {
    "execution": {
     "iopub.execute_input": "2021-09-21T11:42:18.725477Z",
     "iopub.status.busy": "2021-09-21T11:42:18.725477Z",
     "iopub.status.idle": "2021-09-21T11:42:18.741157Z",
     "shell.execute_reply": "2021-09-21T11:42:18.741157Z"
    }
   },
   "outputs": [
    {
     "data": {
      "text/html": [
       "<div>\n",
       "<style scoped>\n",
       "    .dataframe tbody tr th:only-of-type {\n",
       "        vertical-align: middle;\n",
       "    }\n",
       "\n",
       "    .dataframe tbody tr th {\n",
       "        vertical-align: top;\n",
       "    }\n",
       "\n",
       "    .dataframe thead th {\n",
       "        text-align: right;\n",
       "    }\n",
       "</style>\n",
       "<table border=\"1\" class=\"dataframe\">\n",
       "  <thead>\n",
       "    <tr style=\"text-align: right;\">\n",
       "      <th></th>\n",
       "      <th>districtid</th>\n",
       "      <th>vaccineratio</th>\n",
       "    </tr>\n",
       "  </thead>\n",
       "  <tbody>\n",
       "    <tr>\n",
       "      <th>0</th>\n",
       "      <td>AN_Nicobars</td>\n",
       "      <td>inf</td>\n",
       "    </tr>\n",
       "    <tr>\n",
       "      <th>1</th>\n",
       "      <td>AN_North and Middle Andaman</td>\n",
       "      <td>inf</td>\n",
       "    </tr>\n",
       "    <tr>\n",
       "      <th>2</th>\n",
       "      <td>AN_South Andaman</td>\n",
       "      <td>inf</td>\n",
       "    </tr>\n",
       "    <tr>\n",
       "      <th>3</th>\n",
       "      <td>AP_Anantapur</td>\n",
       "      <td>5.985113</td>\n",
       "    </tr>\n",
       "    <tr>\n",
       "      <th>4</th>\n",
       "      <td>AP_Chittoor</td>\n",
       "      <td>4.760976</td>\n",
       "    </tr>\n",
       "    <tr>\n",
       "      <th>...</th>\n",
       "      <td>...</td>\n",
       "      <td>...</td>\n",
       "    </tr>\n",
       "    <tr>\n",
       "      <th>724</th>\n",
       "      <td>WB_Purba Bardhaman</td>\n",
       "      <td>9.334141</td>\n",
       "    </tr>\n",
       "    <tr>\n",
       "      <th>725</th>\n",
       "      <td>WB_Purba Medinipur</td>\n",
       "      <td>7.296529</td>\n",
       "    </tr>\n",
       "    <tr>\n",
       "      <th>726</th>\n",
       "      <td>WB_Purulia</td>\n",
       "      <td>5.601778</td>\n",
       "    </tr>\n",
       "    <tr>\n",
       "      <th>727</th>\n",
       "      <td>WB_South 24 Parganas</td>\n",
       "      <td>8.377581</td>\n",
       "    </tr>\n",
       "    <tr>\n",
       "      <th>728</th>\n",
       "      <td>WB_Uttar Dinajpur</td>\n",
       "      <td>5.188628</td>\n",
       "    </tr>\n",
       "  </tbody>\n",
       "</table>\n",
       "<p>729 rows × 2 columns</p>\n",
       "</div>"
      ],
      "text/plain": [
       "                      districtid  vaccineratio\n",
       "0                    AN_Nicobars           inf\n",
       "1    AN_North and Middle Andaman           inf\n",
       "2               AN_South Andaman           inf\n",
       "3                   AP_Anantapur      5.985113\n",
       "4                    AP_Chittoor      4.760976\n",
       "..                           ...           ...\n",
       "724           WB_Purba Bardhaman      9.334141\n",
       "725           WB_Purba Medinipur      7.296529\n",
       "726                   WB_Purulia      5.601778\n",
       "727         WB_South 24 Parganas      8.377581\n",
       "728            WB_Uttar Dinajpur      5.188628\n",
       "\n",
       "[729 rows x 2 columns]"
      ]
     },
     "execution_count": 24,
     "metadata": {},
     "output_type": "execute_result"
    }
   ],
   "source": [
    "t= t[['District_Key','vaccineratio']]\n",
    "t.rename(columns={'District_Key':'districtid'})"
   ]
  },
  {
   "cell_type": "code",
   "execution_count": 25,
   "id": "63146532",
   "metadata": {
    "execution": {
     "iopub.execute_input": "2021-09-21T11:42:18.741157Z",
     "iopub.status.busy": "2021-09-21T11:42:18.741157Z",
     "iopub.status.idle": "2021-09-21T11:42:18.756725Z",
     "shell.execute_reply": "2021-09-21T11:42:18.756725Z"
    }
   },
   "outputs": [],
   "source": [
    "#SORTING ON VACCINERATIO\n",
    "t.sort_values('vaccineratio',inplace=True)\n",
    "t.reset_index(inplace=True,drop=True)"
   ]
  },
  {
   "cell_type": "code",
   "execution_count": 26,
   "id": "5314d662",
   "metadata": {},
   "outputs": [],
   "source": [
    "#REPLACING INFINITE WITH NAN\n",
    "t['vaccineratio'] = t['vaccineratio'].astype('str')\n",
    "t['vaccineratio']=t['vaccineratio'].str.replace('inf','NaN')"
   ]
  },
  {
   "cell_type": "code",
   "execution_count": 27,
   "id": "9044782c",
   "metadata": {
    "execution": {
     "iopub.execute_input": "2021-09-21T11:42:18.756725Z",
     "iopub.status.busy": "2021-09-21T11:42:18.756725Z",
     "iopub.status.idle": "2021-09-21T11:42:18.772402Z",
     "shell.execute_reply": "2021-09-21T11:42:18.772402Z"
    }
   },
   "outputs": [],
   "source": [
    "#WRITING TO CSV\n",
    "t.to_csv('district-vaccine-type-ratio.csv',index=False)"
   ]
  },
  {
   "cell_type": "code",
   "execution_count": null,
   "id": "b2484ff3",
   "metadata": {},
   "outputs": [],
   "source": []
  },
  {
   "cell_type": "markdown",
   "id": "0790f789",
   "metadata": {},
   "source": [
    "# STATE ANALYSIS"
   ]
  },
  {
   "cell_type": "code",
   "execution_count": 28,
   "id": "dc6d470e",
   "metadata": {
    "execution": {
     "iopub.execute_input": "2021-09-21T11:42:18.772402Z",
     "iopub.status.busy": "2021-09-21T11:42:18.772402Z",
     "iopub.status.idle": "2021-09-21T11:42:18.788025Z",
     "shell.execute_reply": "2021-09-21T11:42:18.788025Z"
    }
   },
   "outputs": [],
   "source": [
    "# AS DATA IS CUMULATIVE\n",
    "lastdate = pd.to_datetime('14/08/2021',format='%d/%m/%Y')"
   ]
  },
  {
   "cell_type": "code",
   "execution_count": 29,
   "id": "bb83f046",
   "metadata": {
    "execution": {
     "iopub.execute_input": "2021-09-21T11:42:18.788025Z",
     "iopub.status.busy": "2021-09-21T11:42:18.788025Z",
     "iopub.status.idle": "2021-09-21T11:42:18.803589Z",
     "shell.execute_reply": "2021-09-21T11:42:18.803589Z"
    }
   },
   "outputs": [],
   "source": [
    "state = finaldf[finaldf['Date'] == lastdate]"
   ]
  },
  {
   "cell_type": "code",
   "execution_count": 30,
   "id": "dfd94ef8",
   "metadata": {
    "execution": {
     "iopub.execute_input": "2021-09-21T11:42:18.803589Z",
     "iopub.status.busy": "2021-09-21T11:42:18.803589Z",
     "iopub.status.idle": "2021-09-21T11:42:18.819210Z",
     "shell.execute_reply": "2021-09-21T11:42:18.819210Z"
    }
   },
   "outputs": [],
   "source": [
    "state.reset_index(inplace=True,drop=True)"
   ]
  },
  {
   "cell_type": "code",
   "execution_count": 31,
   "id": "09549a59",
   "metadata": {
    "execution": {
     "iopub.execute_input": "2021-09-21T11:42:18.825719Z",
     "iopub.status.busy": "2021-09-21T11:42:18.825719Z",
     "iopub.status.idle": "2021-09-21T11:42:18.841346Z",
     "shell.execute_reply": "2021-09-21T11:42:18.841346Z"
    }
   },
   "outputs": [],
   "source": [
    "#GROUPING STATEWISE\n",
    "state = state.groupby('State').aggregate({'covaxin':sum,'covishield':sum})"
   ]
  },
  {
   "cell_type": "code",
   "execution_count": 32,
   "id": "aa557ca3",
   "metadata": {
    "execution": {
     "iopub.execute_input": "2021-09-21T11:42:18.841346Z",
     "iopub.status.busy": "2021-09-21T11:42:18.841346Z",
     "iopub.status.idle": "2021-09-21T11:42:18.856966Z",
     "shell.execute_reply": "2021-09-21T11:42:18.856966Z"
    }
   },
   "outputs": [],
   "source": [
    "state.reset_index(inplace=True)"
   ]
  },
  {
   "cell_type": "code",
   "execution_count": 33,
   "id": "7a531ff6",
   "metadata": {
    "execution": {
     "iopub.execute_input": "2021-09-21T11:42:18.872592Z",
     "iopub.status.busy": "2021-09-21T11:42:18.856966Z",
     "iopub.status.idle": "2021-09-21T11:42:18.888210Z",
     "shell.execute_reply": "2021-09-21T11:42:18.888210Z"
    }
   },
   "outputs": [
    {
     "data": {
      "text/html": [
       "<div>\n",
       "<style scoped>\n",
       "    .dataframe tbody tr th:only-of-type {\n",
       "        vertical-align: middle;\n",
       "    }\n",
       "\n",
       "    .dataframe tbody tr th {\n",
       "        vertical-align: top;\n",
       "    }\n",
       "\n",
       "    .dataframe thead th {\n",
       "        text-align: right;\n",
       "    }\n",
       "</style>\n",
       "<table border=\"1\" class=\"dataframe\">\n",
       "  <thead>\n",
       "    <tr style=\"text-align: right;\">\n",
       "      <th></th>\n",
       "      <th>State</th>\n",
       "      <th>covaxin</th>\n",
       "      <th>covishield</th>\n",
       "    </tr>\n",
       "  </thead>\n",
       "  <tbody>\n",
       "    <tr>\n",
       "      <th>0</th>\n",
       "      <td>Andaman and Nicobar Islands</td>\n",
       "      <td>0.0</td>\n",
       "      <td>329996.0</td>\n",
       "    </tr>\n",
       "    <tr>\n",
       "      <th>1</th>\n",
       "      <td>Andhra Pradesh</td>\n",
       "      <td>4070226.0</td>\n",
       "      <td>20879561.0</td>\n",
       "    </tr>\n",
       "    <tr>\n",
       "      <th>2</th>\n",
       "      <td>Arunachal Pradesh</td>\n",
       "      <td>0.0</td>\n",
       "      <td>900714.0</td>\n",
       "    </tr>\n",
       "    <tr>\n",
       "      <th>3</th>\n",
       "      <td>Assam</td>\n",
       "      <td>1732408.0</td>\n",
       "      <td>12138691.0</td>\n",
       "    </tr>\n",
       "    <tr>\n",
       "      <th>4</th>\n",
       "      <td>Bihar</td>\n",
       "      <td>3394727.0</td>\n",
       "      <td>26628989.0</td>\n",
       "    </tr>\n",
       "    <tr>\n",
       "      <th>5</th>\n",
       "      <td>Chandigarh</td>\n",
       "      <td>4528.0</td>\n",
       "      <td>973402.0</td>\n",
       "    </tr>\n",
       "    <tr>\n",
       "      <th>6</th>\n",
       "      <td>Chhattisgarh</td>\n",
       "      <td>1392850.0</td>\n",
       "      <td>10760651.0</td>\n",
       "    </tr>\n",
       "    <tr>\n",
       "      <th>7</th>\n",
       "      <td>Dadra and Nagar Haveli and Daman and Diu</td>\n",
       "      <td>47.0</td>\n",
       "      <td>688754.0</td>\n",
       "    </tr>\n",
       "    <tr>\n",
       "      <th>8</th>\n",
       "      <td>Delhi</td>\n",
       "      <td>2715588.0</td>\n",
       "      <td>8750718.0</td>\n",
       "    </tr>\n",
       "    <tr>\n",
       "      <th>9</th>\n",
       "      <td>Goa</td>\n",
       "      <td>27658.0</td>\n",
       "      <td>1415066.0</td>\n",
       "    </tr>\n",
       "    <tr>\n",
       "      <th>10</th>\n",
       "      <td>Gujarat</td>\n",
       "      <td>4254163.0</td>\n",
       "      <td>35573589.0</td>\n",
       "    </tr>\n",
       "    <tr>\n",
       "      <th>11</th>\n",
       "      <td>Haryana</td>\n",
       "      <td>1960592.0</td>\n",
       "      <td>11673302.0</td>\n",
       "    </tr>\n",
       "    <tr>\n",
       "      <th>12</th>\n",
       "      <td>Himachal Pradesh</td>\n",
       "      <td>3317.0</td>\n",
       "      <td>6458208.0</td>\n",
       "    </tr>\n",
       "    <tr>\n",
       "      <th>13</th>\n",
       "      <td>Jammu and Kashmir</td>\n",
       "      <td>260683.0</td>\n",
       "      <td>6858976.0</td>\n",
       "    </tr>\n",
       "    <tr>\n",
       "      <th>14</th>\n",
       "      <td>Jharkhand</td>\n",
       "      <td>1792791.0</td>\n",
       "      <td>9135601.0</td>\n",
       "    </tr>\n",
       "    <tr>\n",
       "      <th>15</th>\n",
       "      <td>Karnataka</td>\n",
       "      <td>4582255.0</td>\n",
       "      <td>29854578.0</td>\n",
       "    </tr>\n",
       "    <tr>\n",
       "      <th>16</th>\n",
       "      <td>Kerala</td>\n",
       "      <td>2383883.0</td>\n",
       "      <td>21521356.0</td>\n",
       "    </tr>\n",
       "    <tr>\n",
       "      <th>17</th>\n",
       "      <td>Ladakh</td>\n",
       "      <td>0.0</td>\n",
       "      <td>262360.0</td>\n",
       "    </tr>\n",
       "    <tr>\n",
       "      <th>18</th>\n",
       "      <td>Lakshadweep</td>\n",
       "      <td>0.0</td>\n",
       "      <td>69553.0</td>\n",
       "    </tr>\n",
       "    <tr>\n",
       "      <th>19</th>\n",
       "      <td>Madhya Pradesh</td>\n",
       "      <td>4309324.0</td>\n",
       "      <td>33434967.0</td>\n",
       "    </tr>\n",
       "    <tr>\n",
       "      <th>20</th>\n",
       "      <td>Maharashtra</td>\n",
       "      <td>6476709.0</td>\n",
       "      <td>42611472.0</td>\n",
       "    </tr>\n",
       "    <tr>\n",
       "      <th>21</th>\n",
       "      <td>Manipur</td>\n",
       "      <td>0.0</td>\n",
       "      <td>1440236.0</td>\n",
       "    </tr>\n",
       "    <tr>\n",
       "      <th>22</th>\n",
       "      <td>Meghalaya</td>\n",
       "      <td>0.0</td>\n",
       "      <td>1226159.0</td>\n",
       "    </tr>\n",
       "    <tr>\n",
       "      <th>23</th>\n",
       "      <td>Mizoram</td>\n",
       "      <td>0.0</td>\n",
       "      <td>877800.0</td>\n",
       "    </tr>\n",
       "    <tr>\n",
       "      <th>24</th>\n",
       "      <td>Nagaland</td>\n",
       "      <td>0.0</td>\n",
       "      <td>804175.0</td>\n",
       "    </tr>\n",
       "    <tr>\n",
       "      <th>25</th>\n",
       "      <td>Odisha</td>\n",
       "      <td>2562498.0</td>\n",
       "      <td>16917276.0</td>\n",
       "    </tr>\n",
       "    <tr>\n",
       "      <th>26</th>\n",
       "      <td>Puducherry</td>\n",
       "      <td>74.0</td>\n",
       "      <td>773440.0</td>\n",
       "    </tr>\n",
       "    <tr>\n",
       "      <th>27</th>\n",
       "      <td>Punjab</td>\n",
       "      <td>1466269.0</td>\n",
       "      <td>9450495.0</td>\n",
       "    </tr>\n",
       "    <tr>\n",
       "      <th>28</th>\n",
       "      <td>Rajasthan</td>\n",
       "      <td>4692932.0</td>\n",
       "      <td>32811380.0</td>\n",
       "    </tr>\n",
       "    <tr>\n",
       "      <th>29</th>\n",
       "      <td>Sikkim</td>\n",
       "      <td>0.0</td>\n",
       "      <td>658871.0</td>\n",
       "    </tr>\n",
       "    <tr>\n",
       "      <th>30</th>\n",
       "      <td>Tamil Nadu</td>\n",
       "      <td>4072435.0</td>\n",
       "      <td>22532135.0</td>\n",
       "    </tr>\n",
       "    <tr>\n",
       "      <th>31</th>\n",
       "      <td>Telangana</td>\n",
       "      <td>3266459.0</td>\n",
       "      <td>12857010.0</td>\n",
       "    </tr>\n",
       "    <tr>\n",
       "      <th>32</th>\n",
       "      <td>Tripura</td>\n",
       "      <td>66274.0</td>\n",
       "      <td>3194209.0</td>\n",
       "    </tr>\n",
       "    <tr>\n",
       "      <th>33</th>\n",
       "      <td>Uttar Pradesh</td>\n",
       "      <td>6782893.0</td>\n",
       "      <td>50624720.0</td>\n",
       "    </tr>\n",
       "    <tr>\n",
       "      <th>34</th>\n",
       "      <td>Uttarakhand</td>\n",
       "      <td>525657.0</td>\n",
       "      <td>6692654.0</td>\n",
       "    </tr>\n",
       "    <tr>\n",
       "      <th>35</th>\n",
       "      <td>West Bengal</td>\n",
       "      <td>4467467.0</td>\n",
       "      <td>29689814.0</td>\n",
       "    </tr>\n",
       "  </tbody>\n",
       "</table>\n",
       "</div>"
      ],
      "text/plain": [
       "                                       State    covaxin  covishield\n",
       "0                Andaman and Nicobar Islands        0.0    329996.0\n",
       "1                             Andhra Pradesh  4070226.0  20879561.0\n",
       "2                          Arunachal Pradesh        0.0    900714.0\n",
       "3                                      Assam  1732408.0  12138691.0\n",
       "4                                      Bihar  3394727.0  26628989.0\n",
       "5                                 Chandigarh     4528.0    973402.0\n",
       "6                               Chhattisgarh  1392850.0  10760651.0\n",
       "7   Dadra and Nagar Haveli and Daman and Diu       47.0    688754.0\n",
       "8                                      Delhi  2715588.0   8750718.0\n",
       "9                                        Goa    27658.0   1415066.0\n",
       "10                                   Gujarat  4254163.0  35573589.0\n",
       "11                                   Haryana  1960592.0  11673302.0\n",
       "12                          Himachal Pradesh     3317.0   6458208.0\n",
       "13                         Jammu and Kashmir   260683.0   6858976.0\n",
       "14                                 Jharkhand  1792791.0   9135601.0\n",
       "15                                 Karnataka  4582255.0  29854578.0\n",
       "16                                    Kerala  2383883.0  21521356.0\n",
       "17                                    Ladakh        0.0    262360.0\n",
       "18                               Lakshadweep        0.0     69553.0\n",
       "19                            Madhya Pradesh  4309324.0  33434967.0\n",
       "20                               Maharashtra  6476709.0  42611472.0\n",
       "21                                   Manipur        0.0   1440236.0\n",
       "22                                 Meghalaya        0.0   1226159.0\n",
       "23                                   Mizoram        0.0    877800.0\n",
       "24                                  Nagaland        0.0    804175.0\n",
       "25                                    Odisha  2562498.0  16917276.0\n",
       "26                                Puducherry       74.0    773440.0\n",
       "27                                    Punjab  1466269.0   9450495.0\n",
       "28                                 Rajasthan  4692932.0  32811380.0\n",
       "29                                    Sikkim        0.0    658871.0\n",
       "30                                Tamil Nadu  4072435.0  22532135.0\n",
       "31                                 Telangana  3266459.0  12857010.0\n",
       "32                                   Tripura    66274.0   3194209.0\n",
       "33                             Uttar Pradesh  6782893.0  50624720.0\n",
       "34                               Uttarakhand   525657.0   6692654.0\n",
       "35                               West Bengal  4467467.0  29689814.0"
      ]
     },
     "execution_count": 33,
     "metadata": {},
     "output_type": "execute_result"
    }
   ],
   "source": [
    "state"
   ]
  },
  {
   "cell_type": "code",
   "execution_count": 34,
   "id": "7374921f",
   "metadata": {
    "execution": {
     "iopub.execute_input": "2021-09-21T11:42:18.888210Z",
     "iopub.status.busy": "2021-09-21T11:42:18.888210Z",
     "iopub.status.idle": "2021-09-21T11:42:18.903855Z",
     "shell.execute_reply": "2021-09-21T11:42:18.903855Z"
    }
   },
   "outputs": [],
   "source": [
    "# India = state.copy()"
   ]
  },
  {
   "cell_type": "code",
   "execution_count": 35,
   "id": "a4d15dc3",
   "metadata": {
    "execution": {
     "iopub.execute_input": "2021-09-21T11:42:18.903855Z",
     "iopub.status.busy": "2021-09-21T11:42:18.903855Z",
     "iopub.status.idle": "2021-09-21T11:42:18.919481Z",
     "shell.execute_reply": "2021-09-21T11:42:18.919481Z"
    }
   },
   "outputs": [],
   "source": [
    "state['vaccineratio'] = state['covishield']/state['covaxin']"
   ]
  },
  {
   "cell_type": "code",
   "execution_count": 36,
   "id": "d99e095d",
   "metadata": {
    "execution": {
     "iopub.execute_input": "2021-09-21T11:42:18.925988Z",
     "iopub.status.busy": "2021-09-21T11:42:18.919481Z",
     "iopub.status.idle": "2021-09-21T11:42:18.941662Z",
     "shell.execute_reply": "2021-09-21T11:42:18.941662Z"
    }
   },
   "outputs": [
    {
     "data": {
      "text/plain": [
       "(36, 4)"
      ]
     },
     "execution_count": 36,
     "metadata": {},
     "output_type": "execute_result"
    }
   ],
   "source": [
    "state.shape"
   ]
  },
  {
   "cell_type": "code",
   "execution_count": 37,
   "id": "3ad1724d",
   "metadata": {
    "execution": {
     "iopub.execute_input": "2021-09-21T11:42:18.941662Z",
     "iopub.status.busy": "2021-09-21T11:42:18.941662Z",
     "iopub.status.idle": "2021-09-21T11:42:18.957235Z",
     "shell.execute_reply": "2021-09-21T11:42:18.957235Z"
    }
   },
   "outputs": [
    {
     "data": {
      "text/plain": [
       "Index(['State', 'covaxin', 'covishield', 'vaccineratio'], dtype='object')"
      ]
     },
     "execution_count": 37,
     "metadata": {},
     "output_type": "execute_result"
    }
   ],
   "source": [
    "state.columns"
   ]
  },
  {
   "cell_type": "code",
   "execution_count": 38,
   "id": "caeda97b",
   "metadata": {
    "execution": {
     "iopub.execute_input": "2021-09-21T11:42:18.957235Z",
     "iopub.status.busy": "2021-09-21T11:42:18.957235Z",
     "iopub.status.idle": "2021-09-21T11:42:18.972904Z",
     "shell.execute_reply": "2021-09-21T11:42:18.972904Z"
    }
   },
   "outputs": [],
   "source": [
    "state.rename(columns={'State':'stateid'},inplace=True)\n",
    "state = state[['stateid','vaccineratio']]"
   ]
  },
  {
   "cell_type": "code",
   "execution_count": 39,
   "id": "acd907d2",
   "metadata": {
    "execution": {
     "iopub.execute_input": "2021-09-21T11:42:18.972904Z",
     "iopub.status.busy": "2021-09-21T11:42:18.972904Z",
     "iopub.status.idle": "2021-09-21T11:42:18.988526Z",
     "shell.execute_reply": "2021-09-21T11:42:18.988526Z"
    }
   },
   "outputs": [],
   "source": [
    "#SORTING ON VACCINERATIO\n",
    "state.sort_values('vaccineratio',inplace=True)\n",
    "state.reset_index(inplace=True,drop=True)"
   ]
  },
  {
   "cell_type": "code",
   "execution_count": 40,
   "id": "88b31ae2",
   "metadata": {},
   "outputs": [],
   "source": [
    "#REPLACING INFINITE WITH NAN\n",
    "state['vaccineratio'] = state['vaccineratio'].astype('str')\n",
    "state['vaccineratio']=state['vaccineratio'].str.replace('inf','NaN')"
   ]
  },
  {
   "cell_type": "code",
   "execution_count": 41,
   "id": "e3100c5c",
   "metadata": {},
   "outputs": [],
   "source": [
    "#dictionary to map statename to stateid\n",
    "name_to_id = {'state unassigned': 'UN','andaman and nicobar islands': 'AN','andhra pradesh': 'AP','arunachal pradesh': 'AR','assam': 'AS','bihar': 'BR','chandigarh': 'CH','chhattisgarh': 'CT','delhi': 'DL',\n",
    "              'dadra and nagar haveli and daman and diu': 'DN','goa': 'GA','gujarat': 'GJ','himachal pradesh': 'HP','haryana': 'HR','jharkhand': 'JH','jammu and kashmir': 'JK','karnataka': 'KA',\n",
    "              'kerala': 'KL','ladakh': 'LA','lakshadweep': 'LD','maharashtra': 'MH','meghalaya': 'ML','manipur': 'MN','madhya pradesh': 'MP','mizoram': 'MZ','nagaland': 'NL','odisha': 'OR',\n",
    "              'punjab': 'PB','puducherry': 'PY','rajasthan': 'RJ','sikkim': 'SK','telangana': 'TG','tamil nadu': 'TN','tripura': 'TR','uttar pradesh': 'UP','uttarakhand': 'UT','west bengal': 'WB'}"
   ]
  },
  {
   "cell_type": "code",
   "execution_count": 42,
   "id": "46bde50f",
   "metadata": {},
   "outputs": [],
   "source": [
    "state['stateid'] = state.stateid.str.lower()\n",
    "state['stateid'] = state['stateid'].map(name_to_id)"
   ]
  },
  {
   "cell_type": "code",
   "execution_count": 43,
   "id": "a3ca3dbf",
   "metadata": {
    "execution": {
     "iopub.execute_input": "2021-09-21T11:42:18.988526Z",
     "iopub.status.busy": "2021-09-21T11:42:18.988526Z",
     "iopub.status.idle": "2021-09-21T11:42:19.004100Z",
     "shell.execute_reply": "2021-09-21T11:42:19.004100Z"
    }
   },
   "outputs": [],
   "source": [
    "state.to_csv('state-vaccine-type-ratio.csv',index=False)"
   ]
  },
  {
   "cell_type": "markdown",
   "id": "4b50fb0e",
   "metadata": {},
   "source": [
    "# OVERALL ANALYSIS"
   ]
  },
  {
   "cell_type": "code",
   "execution_count": 44,
   "id": "04e609db",
   "metadata": {
    "execution": {
     "iopub.execute_input": "2021-09-21T11:42:19.026281Z",
     "iopub.status.busy": "2021-09-21T11:42:19.026281Z",
     "iopub.status.idle": "2021-09-21T11:42:19.041926Z",
     "shell.execute_reply": "2021-09-21T11:42:19.041926Z"
    }
   },
   "outputs": [],
   "source": [
    "# AS DATA IS CUMULATIVE\n",
    "lastdate = pd.to_datetime('14/08/2021',format='%d/%m/%Y')"
   ]
  },
  {
   "cell_type": "code",
   "execution_count": 45,
   "id": "45926352",
   "metadata": {
    "execution": {
     "iopub.execute_input": "2021-09-21T11:42:19.041926Z",
     "iopub.status.busy": "2021-09-21T11:42:19.041926Z",
     "iopub.status.idle": "2021-09-21T11:42:19.057579Z",
     "shell.execute_reply": "2021-09-21T11:42:19.057579Z"
    }
   },
   "outputs": [],
   "source": [
    "India=India[India['Date'] == lastdate]"
   ]
  },
  {
   "cell_type": "code",
   "execution_count": 46,
   "id": "a887d4f8",
   "metadata": {
    "execution": {
     "iopub.execute_input": "2021-09-21T11:42:19.057579Z",
     "iopub.status.busy": "2021-09-21T11:42:19.057579Z",
     "iopub.status.idle": "2021-09-21T11:42:19.088771Z",
     "shell.execute_reply": "2021-09-21T11:42:19.088771Z"
    }
   },
   "outputs": [],
   "source": [
    "#CALCULATION SUM AND THEN RATIO\n",
    "icov = India['covaxin'].sum()\n",
    "ics = India['covishield'].sum()\n",
    "r = ics/icov"
   ]
  },
  {
   "cell_type": "code",
   "execution_count": 47,
   "id": "36997183",
   "metadata": {
    "execution": {
     "iopub.execute_input": "2021-09-21T11:42:19.088771Z",
     "iopub.status.busy": "2021-09-21T11:42:19.088771Z",
     "iopub.status.idle": "2021-09-21T11:42:19.104423Z",
     "shell.execute_reply": "2021-09-21T11:42:19.104423Z"
    }
   },
   "outputs": [
    {
     "data": {
      "text/plain": [
       "(67264707.0, 471470878.0, 7.00918652630123)"
      ]
     },
     "execution_count": 47,
     "metadata": {},
     "output_type": "execute_result"
    }
   ],
   "source": [
    "icov,ics,r"
   ]
  },
  {
   "cell_type": "code",
   "execution_count": 48,
   "id": "e822f6b0",
   "metadata": {
    "execution": {
     "iopub.execute_input": "2021-09-21T11:42:19.104423Z",
     "iopub.status.busy": "2021-09-21T11:42:19.104423Z",
     "iopub.status.idle": "2021-09-21T11:42:19.120014Z",
     "shell.execute_reply": "2021-09-21T11:42:19.120014Z"
    }
   },
   "outputs": [],
   "source": [
    "overall=pd.DataFrame(data = {'overall':['India'],'covaxin':[icov],'covishield':[ics],'vaccineratio':[r]})"
   ]
  },
  {
   "cell_type": "code",
   "execution_count": null,
   "id": "78d5fc94",
   "metadata": {},
   "outputs": [],
   "source": []
  },
  {
   "cell_type": "code",
   "execution_count": 49,
   "id": "91f0d385",
   "metadata": {
    "execution": {
     "iopub.execute_input": "2021-09-21T11:42:19.126521Z",
     "iopub.status.busy": "2021-09-21T11:42:19.126521Z",
     "iopub.status.idle": "2021-09-21T11:42:19.142201Z",
     "shell.execute_reply": "2021-09-21T11:42:19.142201Z"
    }
   },
   "outputs": [
    {
     "data": {
      "text/plain": [
       "Index(['overall', 'covaxin', 'covishield', 'vaccineratio'], dtype='object')"
      ]
     },
     "execution_count": 49,
     "metadata": {},
     "output_type": "execute_result"
    }
   ],
   "source": [
    "overall.columns\n"
   ]
  },
  {
   "cell_type": "code",
   "execution_count": 50,
   "id": "2e7c19b0",
   "metadata": {
    "execution": {
     "iopub.execute_input": "2021-09-21T11:42:19.142201Z",
     "iopub.status.busy": "2021-09-21T11:42:19.142201Z",
     "iopub.status.idle": "2021-09-21T11:42:19.157769Z",
     "shell.execute_reply": "2021-09-21T11:42:19.157769Z"
    }
   },
   "outputs": [],
   "source": [
    "overall=overall[['overall','vaccineratio']]"
   ]
  },
  {
   "cell_type": "code",
   "execution_count": 51,
   "id": "3273edf0",
   "metadata": {
    "execution": {
     "iopub.execute_input": "2021-09-21T11:42:19.157769Z",
     "iopub.status.busy": "2021-09-21T11:42:19.157769Z",
     "iopub.status.idle": "2021-09-21T11:42:19.173391Z",
     "shell.execute_reply": "2021-09-21T11:42:19.173391Z"
    }
   },
   "outputs": [],
   "source": [
    "#SORTING ON VACCINERATIO\n",
    "overall.sort_values('vaccineratio',inplace=True)"
   ]
  },
  {
   "cell_type": "code",
   "execution_count": 52,
   "id": "477a4674",
   "metadata": {
    "execution": {
     "iopub.execute_input": "2021-09-21T11:42:19.173391Z",
     "iopub.status.busy": "2021-09-21T11:42:19.173391Z",
     "iopub.status.idle": "2021-09-21T11:42:19.189066Z",
     "shell.execute_reply": "2021-09-21T11:42:19.189066Z"
    }
   },
   "outputs": [
    {
     "data": {
      "text/html": [
       "<div>\n",
       "<style scoped>\n",
       "    .dataframe tbody tr th:only-of-type {\n",
       "        vertical-align: middle;\n",
       "    }\n",
       "\n",
       "    .dataframe tbody tr th {\n",
       "        vertical-align: top;\n",
       "    }\n",
       "\n",
       "    .dataframe thead th {\n",
       "        text-align: right;\n",
       "    }\n",
       "</style>\n",
       "<table border=\"1\" class=\"dataframe\">\n",
       "  <thead>\n",
       "    <tr style=\"text-align: right;\">\n",
       "      <th></th>\n",
       "      <th>overall</th>\n",
       "      <th>vaccineratio</th>\n",
       "    </tr>\n",
       "  </thead>\n",
       "  <tbody>\n",
       "    <tr>\n",
       "      <th>0</th>\n",
       "      <td>India</td>\n",
       "      <td>7.009187</td>\n",
       "    </tr>\n",
       "  </tbody>\n",
       "</table>\n",
       "</div>"
      ],
      "text/plain": [
       "  overall  vaccineratio\n",
       "0   India      7.009187"
      ]
     },
     "execution_count": 52,
     "metadata": {},
     "output_type": "execute_result"
    }
   ],
   "source": [
    "overall"
   ]
  },
  {
   "cell_type": "code",
   "execution_count": 53,
   "id": "6c1d079f",
   "metadata": {
    "execution": {
     "iopub.execute_input": "2021-09-21T11:42:19.189066Z",
     "iopub.status.busy": "2021-09-21T11:42:19.189066Z",
     "iopub.status.idle": "2021-09-21T11:42:19.204634Z",
     "shell.execute_reply": "2021-09-21T11:42:19.204634Z"
    }
   },
   "outputs": [],
   "source": [
    "#WRITING TO CSV\n",
    "overall.to_csv('overall-vaccine-type-ratio.csv',index=False)"
   ]
  },
  {
   "cell_type": "code",
   "execution_count": null,
   "id": "573ac4ee",
   "metadata": {},
   "outputs": [],
   "source": []
  },
  {
   "cell_type": "code",
   "execution_count": null,
   "id": "ea93f9ad",
   "metadata": {},
   "outputs": [],
   "source": []
  }
 ],
 "metadata": {
  "kernelspec": {
   "display_name": "Python 3",
   "language": "python",
   "name": "python3"
  },
  "language_info": {
   "codemirror_mode": {
    "name": "ipython",
    "version": 3
   },
   "file_extension": ".py",
   "mimetype": "text/x-python",
   "name": "python",
   "nbconvert_exporter": "python",
   "pygments_lexer": "ipython3",
   "version": "3.8.8"
  }
 },
 "nbformat": 4,
 "nbformat_minor": 5
}
