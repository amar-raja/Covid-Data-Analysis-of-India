{
 "cells": [
  {
   "cell_type": "markdown",
   "id": "c060b43d",
   "metadata": {},
   "source": [
    "## find the following ratios: total number of females vaccinated (either 1 or 2 doses) to total number of males vaccinated for each district,state overall"
   ]
  },
  {
   "cell_type": "code",
   "execution_count": 1,
   "id": "296f6a75",
   "metadata": {
    "execution": {
     "iopub.execute_input": "2021-09-21T11:41:58.142708Z",
     "iopub.status.busy": "2021-09-21T11:41:58.142708Z",
     "iopub.status.idle": "2021-09-21T11:41:58.712912Z",
     "shell.execute_reply": "2021-09-21T11:41:58.712912Z"
    }
   },
   "outputs": [],
   "source": [
    "import numpy as np\n",
    "import pandas as pd\n",
    "import datetime as dt\n",
    "import warnings\n",
    "warnings.filterwarnings('ignore')"
   ]
  },
  {
   "cell_type": "code",
   "execution_count": 2,
   "id": "f873a5ab",
   "metadata": {
    "execution": {
     "iopub.execute_input": "2021-09-21T11:41:58.712912Z",
     "iopub.status.busy": "2021-09-21T11:41:58.712912Z",
     "iopub.status.idle": "2021-09-21T11:41:58.728533Z",
     "shell.execute_reply": "2021-09-21T11:41:58.728533Z"
    }
   },
   "outputs": [],
   "source": [
    "#REQUIRED COLUMNS\n",
    "censuscols = ['State','District','Level','Name','TRU','TOT_P', 'TOT_M', 'TOT_F']"
   ]
  },
  {
   "cell_type": "code",
   "execution_count": 3,
   "id": "a2e193c9",
   "metadata": {
    "execution": {
     "iopub.execute_input": "2021-09-21T11:41:58.728533Z",
     "iopub.status.busy": "2021-09-21T11:41:58.728533Z",
     "iopub.status.idle": "2021-09-21T11:42:05.793920Z",
     "shell.execute_reply": "2021-09-21T11:42:05.793920Z"
    }
   },
   "outputs": [],
   "source": [
    "census_data = pd.read_excel(r'DDW_PCA0000_2011_Indiastatedist.xlsx',usecols=censuscols)"
   ]
  },
  {
   "cell_type": "code",
   "execution_count": 4,
   "id": "27b674d5",
   "metadata": {
    "execution": {
     "iopub.execute_input": "2021-09-21T11:42:05.801971Z",
     "iopub.status.busy": "2021-09-21T11:42:05.801971Z",
     "iopub.status.idle": "2021-09-21T11:42:05.812251Z",
     "shell.execute_reply": "2021-09-21T11:42:05.812251Z"
    }
   },
   "outputs": [],
   "source": [
    "#MAPPING OF CENSUS DATA and VACCINEDATA DISTRICT NAMES\n",
    "dist_mod = {'Allahabad ':'Prayagraj','Anugul':'Angul','Ahmadabad':'Ahmedabad',  'East District':'East Sikkim','North  District': 'North Sikkim', 'South District':'South Sikkim','West District':'West Sikkim','Garhwal':'Pauri Garhwal',\n",
    "         'Gulbarga':'Kalaburagi','Ahmadnagar':'Ahmednagar','Almora\\n':'Almora','Amritsar ':'Amritsar','Anand  ': 'Anand','Anugul  ':'Angul','Ariyalur  ':'Ariyalur','Badgam':'Budgam','Bagalkot ':'Bagalkote','Baleshwar':'Balasore','Banas Kantha':'Banaskantha','Bandipore':'Bandipora','Bangalore Rural':'Bengaluru Rural','Bankura ':'Bankura','Bara Banki':'Barabanki','Baramula':'Baramulla','Barwani ':'Barwani','Baudh':'Boudh','Belgaum':'Belagavi','Bellary':'Ballari', 'Bid':'Beed','Bulandshahr ':'Bulandshahr','Buldana':'Buldhana','Central':'Central Delhi','Chamarajanagar':'Chamarajanagara','Chikmagalur':'Chikkamagaluru', 'Chittaurgarh':'Chittorgarh', 'Dadra & Nagar Haveli':'Dadra and Nagar Haveli', 'Darjiling ':'Darjeeling',\n",
    "         'Debagarh':'Deogarh', 'Dhamtari ':'Dhamtari', 'Dhaulpur':'Dholpur',  'Dimapur ':'Dimapur', 'Dindori ':'Dindori',\n",
    "        'Dohad  ':'Dahod', 'East':'East Delhi', 'Faizabad':'Ayodhya', 'Firozpur':'Ferozepur', 'Ganganagar ':'Ganganagar',\n",
    "         'Garhwa ':'Garhwa', 'Gondiya':'Gondia', 'Gurgaon':'Gurugram', 'Haora ':'Howrah', 'Harda ':'Harda','Hardwar':'Haridwar', 'Hugli ':'Hooghly', 'Idukki ':'Idukki','Jagatsinghapur ':'Jagatsinghpur','Jaintia Hills':'West Jaintia Hills', 'Jajapur  ':'Jajpur', 'Jalaun ':'Jalaun', 'Jalor':'Jalore','Jalpaiguri ':'Jalpaiguri', 'Janjgir - Champa':'Janjgir Champa', 'Jashpur ':'Jashpur', 'Jehanabad ':'Jehanabad','Jhunjhunun':'Jhunjhunu', 'Jyotiba Phule Nagar':'Amroha', 'Kachchh':'Kutch', 'Kaimur (Bhabua)':'Kaimur','Kanniyakumari':'Kanyakumari', 'Kanshiram Nagar':'Kasganj', 'Kapurthala ':'Kapurthala', 'Karur ':'Karur','Katni ':'Katni', 'Kendrapara ': 'Kendrapara', 'Khandwa (East Nimar)':'Khandwa','Khargone (West Nimar)':'Khargone','Kheri':'Lakhimpur Kheri', 'Khordha ':'Khordha', 'Koch Bihar ':'Cooch Behar', 'Kodarma':'Koderma', 'Korba ':'Korba','Lahul & Spiti':'Lahaul and Spiti', 'Leh(Ladakh)':'Leh', 'Mahamaya Nagar':'Hathras', 'Mahbubnagar':'Mahabubnagar','Mahesana':'Mehsana', 'Mahrajganj':'Maharajganj', 'Maldah ':'Malda', 'Malkangiri  ':'Malkangiri', 'Mewat ':'Nuh','Muktsar':'Sri Muktsar Sahib', 'Murshidabad ':'Murshidabad', 'Mysore':'Mysuru', 'Nabarangapur ':'Nabarangapur','Nadia ':'Nadia', 'Nagapattinam  ': 'Nagapattinam','Namakkal   ':'Namakkal', 'Narsimhapur':'Narsinghpur', 'Navsari  ':'Navsari', 'Nayagarh  ':'Nayagarh','Neemuch ':'Neemuch', 'North':'North Delhi', 'North  & Middle Andaman':'North and Middle Andaman', 'North East':'North East Delhi','North Twenty Four Parganas':'North 24 Parganas', 'North West':'North West Delhi', 'Palwal ':'Palwal','Panch Mahals':'Panchmahal','Pashchim Champaran':'West Champaran', 'Pashchimi Singhbhum':'West Singhbhum', 'Patan  ':'Patan','Perambalur  ':'Perambalur', 'Porbandar ':'Porbandar', 'Purba Champaran':'East Champaran', 'Purbi Singhbhum': 'East Singhbhum',\n",
    "         'Puruliya':'Purulia', 'Rangareddy':'Ranga Reddy', 'Rayagada  ':'Rayagada','Sabar Kantha':'Sabarkantha', 'Sahibzada Ajit Singh Nagar':'S.A.S. Nagar', 'Sant Ravidas Nagar (Bhadohi)':'Bhadohi',\n",
    "         'Shahid Bhagat Singh Nagar ':'Shahid Bhagat Singh Nagar', 'Sheopur ':'Sheopur', 'Shimoga':'Shivamogga',\n",
    "         'Shupiyan': 'Shopiyan', 'South':'South Delhi','South Tripura ':'South Tripura', 'South Twenty Four Parganas':'South 24 Parganas', 'South West':'South West Delhi','NCT OF DELHI':'Delhi',\n",
    "         'Sri Potti Sriramulu Nellore':'S.P.S. Nellore', 'Tamenglong ':'Tamenglong', 'The Dangs':'Dang',\n",
    "         'The Nilgiris':'Nilgiris', 'Theni  ': 'Theni', 'Tirunelveli ':'Tirunelveli', 'Tumkur':'Tumakuru',\n",
    "         'West':'West Delhi', 'West Tripura ':'West Tripura', 'Y.S.R.':'Y.S.R. Kadapa','Dibang Valley':'Upper Dibang Valley',\n",
    "           }"
   ]
  },
  {
   "cell_type": "code",
   "execution_count": 5,
   "id": "146ddd69",
   "metadata": {
    "execution": {
     "iopub.execute_input": "2021-09-21T11:42:05.812251Z",
     "iopub.status.busy": "2021-09-21T11:42:05.812251Z",
     "iopub.status.idle": "2021-09-21T11:42:05.828163Z",
     "shell.execute_reply": "2021-09-21T11:42:05.828163Z"
    }
   },
   "outputs": [],
   "source": [
    "#dropping rows OF TRU =(rural,urban) as not needed\n",
    "a = census_data.loc[(census_data['TRU']=='Rural') | (census_data['TRU']=='Urban')].index\n",
    "census_data = census_data.drop(a)"
   ]
  },
  {
   "cell_type": "markdown",
   "id": "9113e374",
   "metadata": {},
   "source": [
    "AS THERE ARE DIFFERENCES IN SPELLINGS WE CORRECT THEM AND RELATE THEM HERE"
   ]
  },
  {
   "cell_type": "code",
   "execution_count": 6,
   "id": "6c232ae7",
   "metadata": {
    "execution": {
     "iopub.execute_input": "2021-09-21T11:42:05.828163Z",
     "iopub.status.busy": "2021-09-21T11:42:05.828163Z",
     "iopub.status.idle": "2021-09-21T11:42:05.859765Z",
     "shell.execute_reply": "2021-09-21T11:42:05.859765Z"
    }
   },
   "outputs": [],
   "source": [
    "census_data.Name.replace(dist_mod,inplace=True)   #USING ABOVE MAPPING DICTIONARY"
   ]
  },
  {
   "cell_type": "code",
   "execution_count": 7,
   "id": "2f5fa96b",
   "metadata": {
    "execution": {
     "iopub.execute_input": "2021-09-21T11:42:05.859765Z",
     "iopub.status.busy": "2021-09-21T11:42:05.859765Z",
     "iopub.status.idle": "2021-09-21T11:42:05.875125Z",
     "shell.execute_reply": "2021-09-21T11:42:05.875125Z"
    }
   },
   "outputs": [],
   "source": [
    "census_data['Name'] = census_data['Name'].str.replace('&','and')"
   ]
  },
  {
   "cell_type": "code",
   "execution_count": 8,
   "id": "0d2f6763",
   "metadata": {
    "execution": {
     "iopub.execute_input": "2021-09-21T11:42:05.875125Z",
     "iopub.status.busy": "2021-09-21T11:42:05.875125Z",
     "iopub.status.idle": "2021-09-21T11:42:05.906630Z",
     "shell.execute_reply": "2021-09-21T11:42:05.906630Z"
    }
   },
   "outputs": [
    {
     "data": {
      "text/html": [
       "<div>\n",
       "<style scoped>\n",
       "    .dataframe tbody tr th:only-of-type {\n",
       "        vertical-align: middle;\n",
       "    }\n",
       "\n",
       "    .dataframe tbody tr th {\n",
       "        vertical-align: top;\n",
       "    }\n",
       "\n",
       "    .dataframe thead th {\n",
       "        text-align: right;\n",
       "    }\n",
       "</style>\n",
       "<table border=\"1\" class=\"dataframe\">\n",
       "  <thead>\n",
       "    <tr style=\"text-align: right;\">\n",
       "      <th></th>\n",
       "      <th>State</th>\n",
       "      <th>District</th>\n",
       "      <th>Level</th>\n",
       "      <th>Name</th>\n",
       "      <th>TRU</th>\n",
       "      <th>TOT_P</th>\n",
       "      <th>TOT_M</th>\n",
       "      <th>TOT_F</th>\n",
       "    </tr>\n",
       "  </thead>\n",
       "  <tbody>\n",
       "    <tr>\n",
       "      <th>6</th>\n",
       "      <td>1</td>\n",
       "      <td>1</td>\n",
       "      <td>DISTRICT</td>\n",
       "      <td>Kupwara</td>\n",
       "      <td>Total</td>\n",
       "      <td>870354</td>\n",
       "      <td>474190</td>\n",
       "      <td>396164</td>\n",
       "    </tr>\n",
       "    <tr>\n",
       "      <th>9</th>\n",
       "      <td>1</td>\n",
       "      <td>2</td>\n",
       "      <td>DISTRICT</td>\n",
       "      <td>Budgam</td>\n",
       "      <td>Total</td>\n",
       "      <td>753745</td>\n",
       "      <td>398041</td>\n",
       "      <td>355704</td>\n",
       "    </tr>\n",
       "    <tr>\n",
       "      <th>12</th>\n",
       "      <td>1</td>\n",
       "      <td>3</td>\n",
       "      <td>DISTRICT</td>\n",
       "      <td>Leh</td>\n",
       "      <td>Total</td>\n",
       "      <td>133487</td>\n",
       "      <td>78971</td>\n",
       "      <td>54516</td>\n",
       "    </tr>\n",
       "    <tr>\n",
       "      <th>15</th>\n",
       "      <td>1</td>\n",
       "      <td>4</td>\n",
       "      <td>DISTRICT</td>\n",
       "      <td>Kargil</td>\n",
       "      <td>Total</td>\n",
       "      <td>140802</td>\n",
       "      <td>77785</td>\n",
       "      <td>63017</td>\n",
       "    </tr>\n",
       "    <tr>\n",
       "      <th>18</th>\n",
       "      <td>1</td>\n",
       "      <td>5</td>\n",
       "      <td>DISTRICT</td>\n",
       "      <td>Punch</td>\n",
       "      <td>Total</td>\n",
       "      <td>476835</td>\n",
       "      <td>251899</td>\n",
       "      <td>224936</td>\n",
       "    </tr>\n",
       "    <tr>\n",
       "      <th>...</th>\n",
       "      <td>...</td>\n",
       "      <td>...</td>\n",
       "      <td>...</td>\n",
       "      <td>...</td>\n",
       "      <td>...</td>\n",
       "      <td>...</td>\n",
       "      <td>...</td>\n",
       "      <td>...</td>\n",
       "    </tr>\n",
       "    <tr>\n",
       "      <th>1851</th>\n",
       "      <td>31</td>\n",
       "      <td>0</td>\n",
       "      <td>STATE</td>\n",
       "      <td>LAKSHADWEEP</td>\n",
       "      <td>Total</td>\n",
       "      <td>64473</td>\n",
       "      <td>33123</td>\n",
       "      <td>31350</td>\n",
       "    </tr>\n",
       "    <tr>\n",
       "      <th>1857</th>\n",
       "      <td>32</td>\n",
       "      <td>0</td>\n",
       "      <td>STATE</td>\n",
       "      <td>KERALA</td>\n",
       "      <td>Total</td>\n",
       "      <td>33406061</td>\n",
       "      <td>16027412</td>\n",
       "      <td>17378649</td>\n",
       "    </tr>\n",
       "    <tr>\n",
       "      <th>1902</th>\n",
       "      <td>33</td>\n",
       "      <td>0</td>\n",
       "      <td>STATE</td>\n",
       "      <td>TAMIL NADU</td>\n",
       "      <td>Total</td>\n",
       "      <td>72147030</td>\n",
       "      <td>36137975</td>\n",
       "      <td>36009055</td>\n",
       "    </tr>\n",
       "    <tr>\n",
       "      <th>2001</th>\n",
       "      <td>34</td>\n",
       "      <td>0</td>\n",
       "      <td>STATE</td>\n",
       "      <td>PUDUCHERRY</td>\n",
       "      <td>Total</td>\n",
       "      <td>1247953</td>\n",
       "      <td>612511</td>\n",
       "      <td>635442</td>\n",
       "    </tr>\n",
       "    <tr>\n",
       "      <th>2016</th>\n",
       "      <td>35</td>\n",
       "      <td>0</td>\n",
       "      <td>STATE</td>\n",
       "      <td>ANDAMAN and NICOBAR ISLANDS</td>\n",
       "      <td>Total</td>\n",
       "      <td>380581</td>\n",
       "      <td>202871</td>\n",
       "      <td>177710</td>\n",
       "    </tr>\n",
       "  </tbody>\n",
       "</table>\n",
       "<p>676 rows × 8 columns</p>\n",
       "</div>"
      ],
      "text/plain": [
       "      State  District     Level                         Name    TRU     TOT_P  \\\n",
       "6         1         1  DISTRICT                      Kupwara  Total    870354   \n",
       "9         1         2  DISTRICT                       Budgam  Total    753745   \n",
       "12        1         3  DISTRICT                          Leh  Total    133487   \n",
       "15        1         4  DISTRICT                       Kargil  Total    140802   \n",
       "18        1         5  DISTRICT                        Punch  Total    476835   \n",
       "...     ...       ...       ...                          ...    ...       ...   \n",
       "1851     31         0     STATE                  LAKSHADWEEP  Total     64473   \n",
       "1857     32         0     STATE                       KERALA  Total  33406061   \n",
       "1902     33         0     STATE                   TAMIL NADU  Total  72147030   \n",
       "2001     34         0     STATE                   PUDUCHERRY  Total   1247953   \n",
       "2016     35         0     STATE  ANDAMAN and NICOBAR ISLANDS  Total    380581   \n",
       "\n",
       "         TOT_M     TOT_F  \n",
       "6       474190    396164  \n",
       "9       398041    355704  \n",
       "12       78971     54516  \n",
       "15       77785     63017  \n",
       "18      251899    224936  \n",
       "...        ...       ...  \n",
       "1851     33123     31350  \n",
       "1857  16027412  17378649  \n",
       "1902  36137975  36009055  \n",
       "2001    612511    635442  \n",
       "2016    202871    177710  \n",
       "\n",
       "[676 rows x 8 columns]"
      ]
     },
     "execution_count": 8,
     "metadata": {},
     "output_type": "execute_result"
    }
   ],
   "source": [
    "census_data.sort_values(['Level','State'])"
   ]
  },
  {
   "cell_type": "code",
   "execution_count": 9,
   "id": "73049008",
   "metadata": {
    "execution": {
     "iopub.execute_input": "2021-09-21T11:42:05.912137Z",
     "iopub.status.busy": "2021-09-21T11:42:05.912137Z",
     "iopub.status.idle": "2021-09-21T11:42:05.928409Z",
     "shell.execute_reply": "2021-09-21T11:42:05.928409Z"
    }
   },
   "outputs": [],
   "source": [
    "#FEMALE TO MALE POPULATION RATIO\n",
    "census_data['fmratio'] = census_data['TOT_F']/census_data['TOT_M']"
   ]
  },
  {
   "cell_type": "code",
   "execution_count": 10,
   "id": "72a5e69d",
   "metadata": {
    "execution": {
     "iopub.execute_input": "2021-09-21T11:42:05.928409Z",
     "iopub.status.busy": "2021-09-21T11:42:05.928409Z",
     "iopub.status.idle": "2021-09-21T11:42:05.959446Z",
     "shell.execute_reply": "2021-09-21T11:42:05.959446Z"
    }
   },
   "outputs": [
    {
     "data": {
      "text/html": [
       "<div>\n",
       "<style scoped>\n",
       "    .dataframe tbody tr th:only-of-type {\n",
       "        vertical-align: middle;\n",
       "    }\n",
       "\n",
       "    .dataframe tbody tr th {\n",
       "        vertical-align: top;\n",
       "    }\n",
       "\n",
       "    .dataframe thead th {\n",
       "        text-align: right;\n",
       "    }\n",
       "</style>\n",
       "<table border=\"1\" class=\"dataframe\">\n",
       "  <thead>\n",
       "    <tr style=\"text-align: right;\">\n",
       "      <th></th>\n",
       "      <th>State</th>\n",
       "      <th>District</th>\n",
       "      <th>Level</th>\n",
       "      <th>Name</th>\n",
       "      <th>TRU</th>\n",
       "      <th>TOT_P</th>\n",
       "      <th>TOT_M</th>\n",
       "      <th>TOT_F</th>\n",
       "      <th>fmratio</th>\n",
       "    </tr>\n",
       "  </thead>\n",
       "  <tbody>\n",
       "    <tr>\n",
       "      <th>0</th>\n",
       "      <td>0</td>\n",
       "      <td>0</td>\n",
       "      <td>India</td>\n",
       "      <td>India</td>\n",
       "      <td>Total</td>\n",
       "      <td>1210854977</td>\n",
       "      <td>623270258</td>\n",
       "      <td>587584719</td>\n",
       "      <td>0.942745</td>\n",
       "    </tr>\n",
       "    <tr>\n",
       "      <th>1</th>\n",
       "      <td>1</td>\n",
       "      <td>0</td>\n",
       "      <td>STATE</td>\n",
       "      <td>JAMMU and KASHMIR</td>\n",
       "      <td>Total</td>\n",
       "      <td>12541302</td>\n",
       "      <td>6640662</td>\n",
       "      <td>5900640</td>\n",
       "      <td>0.888562</td>\n",
       "    </tr>\n",
       "    <tr>\n",
       "      <th>2</th>\n",
       "      <td>1</td>\n",
       "      <td>1</td>\n",
       "      <td>DISTRICT</td>\n",
       "      <td>Kupwara</td>\n",
       "      <td>Total</td>\n",
       "      <td>870354</td>\n",
       "      <td>474190</td>\n",
       "      <td>396164</td>\n",
       "      <td>0.835454</td>\n",
       "    </tr>\n",
       "    <tr>\n",
       "      <th>3</th>\n",
       "      <td>1</td>\n",
       "      <td>2</td>\n",
       "      <td>DISTRICT</td>\n",
       "      <td>Budgam</td>\n",
       "      <td>Total</td>\n",
       "      <td>753745</td>\n",
       "      <td>398041</td>\n",
       "      <td>355704</td>\n",
       "      <td>0.893637</td>\n",
       "    </tr>\n",
       "    <tr>\n",
       "      <th>4</th>\n",
       "      <td>1</td>\n",
       "      <td>3</td>\n",
       "      <td>DISTRICT</td>\n",
       "      <td>Leh</td>\n",
       "      <td>Total</td>\n",
       "      <td>133487</td>\n",
       "      <td>78971</td>\n",
       "      <td>54516</td>\n",
       "      <td>0.690329</td>\n",
       "    </tr>\n",
       "    <tr>\n",
       "      <th>...</th>\n",
       "      <td>...</td>\n",
       "      <td>...</td>\n",
       "      <td>...</td>\n",
       "      <td>...</td>\n",
       "      <td>...</td>\n",
       "      <td>...</td>\n",
       "      <td>...</td>\n",
       "      <td>...</td>\n",
       "      <td>...</td>\n",
       "    </tr>\n",
       "    <tr>\n",
       "      <th>671</th>\n",
       "      <td>34</td>\n",
       "      <td>637</td>\n",
       "      <td>DISTRICT</td>\n",
       "      <td>Karaikal</td>\n",
       "      <td>Total</td>\n",
       "      <td>200222</td>\n",
       "      <td>97809</td>\n",
       "      <td>102413</td>\n",
       "      <td>1.047071</td>\n",
       "    </tr>\n",
       "    <tr>\n",
       "      <th>672</th>\n",
       "      <td>35</td>\n",
       "      <td>0</td>\n",
       "      <td>STATE</td>\n",
       "      <td>ANDAMAN and NICOBAR ISLANDS</td>\n",
       "      <td>Total</td>\n",
       "      <td>380581</td>\n",
       "      <td>202871</td>\n",
       "      <td>177710</td>\n",
       "      <td>0.875975</td>\n",
       "    </tr>\n",
       "    <tr>\n",
       "      <th>673</th>\n",
       "      <td>35</td>\n",
       "      <td>638</td>\n",
       "      <td>DISTRICT</td>\n",
       "      <td>Nicobars</td>\n",
       "      <td>Total</td>\n",
       "      <td>36842</td>\n",
       "      <td>20727</td>\n",
       "      <td>16115</td>\n",
       "      <td>0.777488</td>\n",
       "    </tr>\n",
       "    <tr>\n",
       "      <th>674</th>\n",
       "      <td>35</td>\n",
       "      <td>639</td>\n",
       "      <td>DISTRICT</td>\n",
       "      <td>North and Middle Andaman</td>\n",
       "      <td>Total</td>\n",
       "      <td>105597</td>\n",
       "      <td>54861</td>\n",
       "      <td>50736</td>\n",
       "      <td>0.924810</td>\n",
       "    </tr>\n",
       "    <tr>\n",
       "      <th>675</th>\n",
       "      <td>35</td>\n",
       "      <td>640</td>\n",
       "      <td>DISTRICT</td>\n",
       "      <td>South Andaman</td>\n",
       "      <td>Total</td>\n",
       "      <td>238142</td>\n",
       "      <td>127283</td>\n",
       "      <td>110859</td>\n",
       "      <td>0.870965</td>\n",
       "    </tr>\n",
       "  </tbody>\n",
       "</table>\n",
       "<p>676 rows × 9 columns</p>\n",
       "</div>"
      ],
      "text/plain": [
       "     State  District     Level                         Name    TRU  \\\n",
       "0        0         0     India                        India  Total   \n",
       "1        1         0     STATE            JAMMU and KASHMIR  Total   \n",
       "2        1         1  DISTRICT                      Kupwara  Total   \n",
       "3        1         2  DISTRICT                       Budgam  Total   \n",
       "4        1         3  DISTRICT                          Leh  Total   \n",
       "..     ...       ...       ...                          ...    ...   \n",
       "671     34       637  DISTRICT                     Karaikal  Total   \n",
       "672     35         0     STATE  ANDAMAN and NICOBAR ISLANDS  Total   \n",
       "673     35       638  DISTRICT                     Nicobars  Total   \n",
       "674     35       639  DISTRICT     North and Middle Andaman  Total   \n",
       "675     35       640  DISTRICT                South Andaman  Total   \n",
       "\n",
       "          TOT_P      TOT_M      TOT_F   fmratio  \n",
       "0    1210854977  623270258  587584719  0.942745  \n",
       "1      12541302    6640662    5900640  0.888562  \n",
       "2        870354     474190     396164  0.835454  \n",
       "3        753745     398041     355704  0.893637  \n",
       "4        133487      78971      54516  0.690329  \n",
       "..          ...        ...        ...       ...  \n",
       "671      200222      97809     102413  1.047071  \n",
       "672      380581     202871     177710  0.875975  \n",
       "673       36842      20727      16115  0.777488  \n",
       "674      105597      54861      50736  0.924810  \n",
       "675      238142     127283     110859  0.870965  \n",
       "\n",
       "[676 rows x 9 columns]"
      ]
     },
     "execution_count": 10,
     "metadata": {},
     "output_type": "execute_result"
    }
   ],
   "source": [
    "#with ratoos female to male\n",
    "census_data.reset_index(inplace=True,drop=True)\n",
    "census_data"
   ]
  },
  {
   "cell_type": "code",
   "execution_count": null,
   "id": "06a86755",
   "metadata": {},
   "outputs": [],
   "source": []
  },
  {
   "cell_type": "markdown",
   "id": "3df16a59",
   "metadata": {},
   "source": [
    "AS THERE ARE NO STATENAMES INSTED THERE ARE STATEID SO WE MAP STATEID WITH STATE NAME TO GET STATE NAME"
   ]
  },
  {
   "cell_type": "code",
   "execution_count": 11,
   "id": "806fe890",
   "metadata": {
    "execution": {
     "iopub.execute_input": "2021-09-21T11:42:05.959446Z",
     "iopub.status.busy": "2021-09-21T11:42:05.959446Z",
     "iopub.status.idle": "2021-09-21T11:42:05.975204Z",
     "shell.execute_reply": "2021-09-21T11:42:05.975204Z"
    }
   },
   "outputs": [],
   "source": [
    "map_state = census_data[['State','Level', 'Name']]\n",
    "map_state = map_state[map_state['Level']=='STATE']\n",
    "map_state = map_state[['State','Name']]"
   ]
  },
  {
   "cell_type": "code",
   "execution_count": 12,
   "id": "ff4fb67c",
   "metadata": {
    "execution": {
     "iopub.execute_input": "2021-09-21T11:42:05.975204Z",
     "iopub.status.busy": "2021-09-21T11:42:05.975204Z",
     "iopub.status.idle": "2021-09-21T11:42:05.990834Z",
     "shell.execute_reply": "2021-09-21T11:42:05.990834Z"
    }
   },
   "outputs": [
    {
     "data": {
      "text/html": [
       "<div>\n",
       "<style scoped>\n",
       "    .dataframe tbody tr th:only-of-type {\n",
       "        vertical-align: middle;\n",
       "    }\n",
       "\n",
       "    .dataframe tbody tr th {\n",
       "        vertical-align: top;\n",
       "    }\n",
       "\n",
       "    .dataframe thead th {\n",
       "        text-align: right;\n",
       "    }\n",
       "</style>\n",
       "<table border=\"1\" class=\"dataframe\">\n",
       "  <thead>\n",
       "    <tr style=\"text-align: right;\">\n",
       "      <th></th>\n",
       "      <th>State</th>\n",
       "      <th>Name</th>\n",
       "    </tr>\n",
       "  </thead>\n",
       "  <tbody>\n",
       "    <tr>\n",
       "      <th>1</th>\n",
       "      <td>1</td>\n",
       "      <td>JAMMU and KASHMIR</td>\n",
       "    </tr>\n",
       "    <tr>\n",
       "      <th>24</th>\n",
       "      <td>2</td>\n",
       "      <td>HIMACHAL PRADESH</td>\n",
       "    </tr>\n",
       "    <tr>\n",
       "      <th>37</th>\n",
       "      <td>3</td>\n",
       "      <td>PUNJAB</td>\n",
       "    </tr>\n",
       "    <tr>\n",
       "      <th>58</th>\n",
       "      <td>4</td>\n",
       "      <td>CHANDIGARH</td>\n",
       "    </tr>\n",
       "    <tr>\n",
       "      <th>60</th>\n",
       "      <td>5</td>\n",
       "      <td>UTTARAKHAND</td>\n",
       "    </tr>\n",
       "  </tbody>\n",
       "</table>\n",
       "</div>"
      ],
      "text/plain": [
       "    State               Name\n",
       "1       1  JAMMU and KASHMIR\n",
       "24      2   HIMACHAL PRADESH\n",
       "37      3             PUNJAB\n",
       "58      4         CHANDIGARH\n",
       "60      5        UTTARAKHAND"
      ]
     },
     "execution_count": 12,
     "metadata": {},
     "output_type": "execute_result"
    }
   ],
   "source": [
    "map_state.head()"
   ]
  },
  {
   "cell_type": "code",
   "execution_count": 13,
   "id": "0bbae8c4",
   "metadata": {
    "execution": {
     "iopub.execute_input": "2021-09-21T11:42:05.990834Z",
     "iopub.status.busy": "2021-09-21T11:42:05.990834Z",
     "iopub.status.idle": "2021-09-21T11:42:06.006447Z",
     "shell.execute_reply": "2021-09-21T11:42:06.006447Z"
    }
   },
   "outputs": [],
   "source": [
    "g = dict(map_state.values) #mapping done with state number and state name"
   ]
  },
  {
   "cell_type": "code",
   "execution_count": 14,
   "id": "eac60f80",
   "metadata": {
    "execution": {
     "iopub.execute_input": "2021-09-21T11:42:06.011996Z",
     "iopub.status.busy": "2021-09-21T11:42:06.011996Z",
     "iopub.status.idle": "2021-09-21T11:42:06.027624Z",
     "shell.execute_reply": "2021-09-21T11:42:06.027624Z"
    }
   },
   "outputs": [],
   "source": [
    "#REPLACING STATEID WITH STATE NAME\n",
    "census_data.State.replace(g,inplace=True)\n",
    "census_data['State'] = census_data['State'].str.lower()"
   ]
  },
  {
   "cell_type": "code",
   "execution_count": 15,
   "id": "36cb4965",
   "metadata": {
    "execution": {
     "iopub.execute_input": "2021-09-21T11:42:06.043245Z",
     "iopub.status.busy": "2021-09-21T11:42:06.043245Z",
     "iopub.status.idle": "2021-09-21T11:42:06.059042Z",
     "shell.execute_reply": "2021-09-21T11:42:06.059042Z"
    }
   },
   "outputs": [],
   "source": [
    "census_data.fillna('0',inplace=True) #AS INDIA GETS NAN VALUE"
   ]
  },
  {
   "cell_type": "code",
   "execution_count": 16,
   "id": "411b595b",
   "metadata": {
    "execution": {
     "iopub.execute_input": "2021-09-21T11:42:06.059042Z",
     "iopub.status.busy": "2021-09-21T11:42:06.059042Z",
     "iopub.status.idle": "2021-09-21T11:42:06.074637Z",
     "shell.execute_reply": "2021-09-21T11:42:06.074637Z"
    }
   },
   "outputs": [],
   "source": [
    "# census_data[(census_data['Name'] == 'Bijapur') & (census_data['State'] == 'karnataka')]\n",
    "# census_data[(census_data['Name'] == 'Raigarh') & (census_data['State'] == 'maharashtra')]"
   ]
  },
  {
   "cell_type": "code",
   "execution_count": 17,
   "id": "91dfb148",
   "metadata": {
    "execution": {
     "iopub.execute_input": "2021-09-21T11:42:06.090110Z",
     "iopub.status.busy": "2021-09-21T11:42:06.090110Z",
     "iopub.status.idle": "2021-09-21T11:42:06.111993Z",
     "shell.execute_reply": "2021-09-21T11:42:06.105922Z"
    }
   },
   "outputs": [],
   "source": [
    "#IN KARNATAKA VIJAYAPURA OLD NAME WAS BIJAPUR\n",
    "census_data.iloc[586,3] = 'Vijayapura'\n",
    "\n",
    "#INMAHARASHTRA RAIGAD OLDNAME WAS RAIGARH\n",
    "census_data.iloc[547,3] = 'Raigad'"
   ]
  },
  {
   "cell_type": "code",
   "execution_count": null,
   "id": "ba073d5a",
   "metadata": {},
   "outputs": [],
   "source": []
  },
  {
   "cell_type": "code",
   "execution_count": 18,
   "id": "a1454eb3",
   "metadata": {
    "execution": {
     "iopub.execute_input": "2021-09-21T11:42:06.111993Z",
     "iopub.status.busy": "2021-09-21T11:42:06.111993Z",
     "iopub.status.idle": "2021-09-21T11:42:06.128149Z",
     "shell.execute_reply": "2021-09-21T11:42:06.128149Z"
    }
   },
   "outputs": [],
   "source": [
    "#CONCATENATING STATENAME AND DISTRICTNAME to DIFFERENTIATE DISTRICTS WITH SAMENAME PRESENT IN DIFFERENT DISTRICTS\n",
    "census_data['full'] = census_data['State'].astype(str)+'_'+census_data['Name']"
   ]
  },
  {
   "cell_type": "code",
   "execution_count": 19,
   "id": "fe217b5e",
   "metadata": {
    "execution": {
     "iopub.execute_input": "2021-09-21T11:42:06.128149Z",
     "iopub.status.busy": "2021-09-21T11:42:06.128149Z",
     "iopub.status.idle": "2021-09-21T11:42:06.143855Z",
     "shell.execute_reply": "2021-09-21T11:42:06.143855Z"
    }
   },
   "outputs": [
    {
     "data": {
      "text/html": [
       "<div>\n",
       "<style scoped>\n",
       "    .dataframe tbody tr th:only-of-type {\n",
       "        vertical-align: middle;\n",
       "    }\n",
       "\n",
       "    .dataframe tbody tr th {\n",
       "        vertical-align: top;\n",
       "    }\n",
       "\n",
       "    .dataframe thead th {\n",
       "        text-align: right;\n",
       "    }\n",
       "</style>\n",
       "<table border=\"1\" class=\"dataframe\">\n",
       "  <thead>\n",
       "    <tr style=\"text-align: right;\">\n",
       "      <th></th>\n",
       "      <th>State</th>\n",
       "      <th>District</th>\n",
       "      <th>Level</th>\n",
       "      <th>Name</th>\n",
       "      <th>TRU</th>\n",
       "      <th>TOT_P</th>\n",
       "      <th>TOT_M</th>\n",
       "      <th>TOT_F</th>\n",
       "      <th>fmratio</th>\n",
       "      <th>full</th>\n",
       "    </tr>\n",
       "  </thead>\n",
       "  <tbody>\n",
       "    <tr>\n",
       "      <th>139</th>\n",
       "      <td>rajasthan</td>\n",
       "      <td>131</td>\n",
       "      <td>DISTRICT</td>\n",
       "      <td>Pratapgarh</td>\n",
       "      <td>Total</td>\n",
       "      <td>867848</td>\n",
       "      <td>437744</td>\n",
       "      <td>430104</td>\n",
       "      <td>0.982547</td>\n",
       "      <td>rajasthan_Pratapgarh</td>\n",
       "    </tr>\n",
       "    <tr>\n",
       "      <th>182</th>\n",
       "      <td>uttar pradesh</td>\n",
       "      <td>173</td>\n",
       "      <td>DISTRICT</td>\n",
       "      <td>Pratapgarh</td>\n",
       "      <td>Total</td>\n",
       "      <td>3209141</td>\n",
       "      <td>1606085</td>\n",
       "      <td>1603056</td>\n",
       "      <td>0.998114</td>\n",
       "      <td>uttar pradesh_Pratapgarh</td>\n",
       "    </tr>\n",
       "  </tbody>\n",
       "</table>\n",
       "</div>"
      ],
      "text/plain": [
       "             State  District     Level        Name    TRU    TOT_P    TOT_M  \\\n",
       "139      rajasthan       131  DISTRICT  Pratapgarh  Total   867848   437744   \n",
       "182  uttar pradesh       173  DISTRICT  Pratapgarh  Total  3209141  1606085   \n",
       "\n",
       "       TOT_F   fmratio                      full  \n",
       "139   430104  0.982547      rajasthan_Pratapgarh  \n",
       "182  1603056  0.998114  uttar pradesh_Pratapgarh  "
      ]
     },
     "execution_count": 19,
     "metadata": {},
     "output_type": "execute_result"
    }
   ],
   "source": [
    "census_data.loc[census_data['Name']=='Pratapgarh']   "
   ]
  },
  {
   "cell_type": "markdown",
   "id": "118d90c9",
   "metadata": {},
   "source": [
    "#census data completed"
   ]
  },
  {
   "cell_type": "code",
   "execution_count": null,
   "id": "511c457f",
   "metadata": {},
   "outputs": [],
   "source": []
  },
  {
   "cell_type": "markdown",
   "id": "6ba10208",
   "metadata": {},
   "source": [
    "LOADING VACC DATA CREATED BY ME"
   ]
  },
  {
   "cell_type": "code",
   "execution_count": 20,
   "id": "32ecac70",
   "metadata": {
    "execution": {
     "iopub.execute_input": "2021-09-21T11:42:06.143855Z",
     "iopub.status.busy": "2021-09-21T11:42:06.143855Z",
     "iopub.status.idle": "2021-09-21T11:42:06.159509Z",
     "shell.execute_reply": "2021-09-21T11:42:06.159509Z"
    }
   },
   "outputs": [],
   "source": [
    "df = pd.read_csv(r'mfvaccdata.csv')"
   ]
  },
  {
   "cell_type": "code",
   "execution_count": 21,
   "id": "8f17d649",
   "metadata": {
    "execution": {
     "iopub.execute_input": "2021-09-21T11:42:06.159509Z",
     "iopub.status.busy": "2021-09-21T11:42:06.159509Z",
     "iopub.status.idle": "2021-09-21T11:42:06.175133Z",
     "shell.execute_reply": "2021-09-21T11:42:06.175133Z"
    }
   },
   "outputs": [
    {
     "data": {
      "text/html": [
       "<div>\n",
       "<style scoped>\n",
       "    .dataframe tbody tr th:only-of-type {\n",
       "        vertical-align: middle;\n",
       "    }\n",
       "\n",
       "    .dataframe tbody tr th {\n",
       "        vertical-align: top;\n",
       "    }\n",
       "\n",
       "    .dataframe thead th {\n",
       "        text-align: right;\n",
       "    }\n",
       "</style>\n",
       "<table border=\"1\" class=\"dataframe\">\n",
       "  <thead>\n",
       "    <tr style=\"text-align: right;\">\n",
       "      <th></th>\n",
       "      <th>District_Key</th>\n",
       "      <th>State</th>\n",
       "      <th>District</th>\n",
       "      <th>mvacc</th>\n",
       "      <th>fvacc</th>\n",
       "    </tr>\n",
       "  </thead>\n",
       "  <tbody>\n",
       "    <tr>\n",
       "      <th>0</th>\n",
       "      <td>AN_Nicobars</td>\n",
       "      <td>Andaman and Nicobar Islands</td>\n",
       "      <td>Nicobars</td>\n",
       "      <td>16267.0</td>\n",
       "      <td>13922.0</td>\n",
       "    </tr>\n",
       "    <tr>\n",
       "      <th>1</th>\n",
       "      <td>AN_North and Middle Andaman</td>\n",
       "      <td>Andaman and Nicobar Islands</td>\n",
       "      <td>North and Middle Andaman</td>\n",
       "      <td>50819.0</td>\n",
       "      <td>46493.0</td>\n",
       "    </tr>\n",
       "    <tr>\n",
       "      <th>2</th>\n",
       "      <td>AN_South Andaman</td>\n",
       "      <td>Andaman and Nicobar Islands</td>\n",
       "      <td>South Andaman</td>\n",
       "      <td>108324.0</td>\n",
       "      <td>94124.0</td>\n",
       "    </tr>\n",
       "    <tr>\n",
       "      <th>3</th>\n",
       "      <td>AP_Anantapur</td>\n",
       "      <td>Andhra Pradesh</td>\n",
       "      <td>Anantapur</td>\n",
       "      <td>893118.0</td>\n",
       "      <td>1067715.0</td>\n",
       "    </tr>\n",
       "    <tr>\n",
       "      <th>4</th>\n",
       "      <td>AP_Chittoor</td>\n",
       "      <td>Andhra Pradesh</td>\n",
       "      <td>Chittoor</td>\n",
       "      <td>1004937.0</td>\n",
       "      <td>1201195.0</td>\n",
       "    </tr>\n",
       "  </tbody>\n",
       "</table>\n",
       "</div>"
      ],
      "text/plain": [
       "                  District_Key                        State  \\\n",
       "0                  AN_Nicobars  Andaman and Nicobar Islands   \n",
       "1  AN_North and Middle Andaman  Andaman and Nicobar Islands   \n",
       "2             AN_South Andaman  Andaman and Nicobar Islands   \n",
       "3                 AP_Anantapur               Andhra Pradesh   \n",
       "4                  AP_Chittoor               Andhra Pradesh   \n",
       "\n",
       "                   District      mvacc      fvacc  \n",
       "0                  Nicobars    16267.0    13922.0  \n",
       "1  North and Middle Andaman    50819.0    46493.0  \n",
       "2             South Andaman   108324.0    94124.0  \n",
       "3                 Anantapur   893118.0  1067715.0  \n",
       "4                  Chittoor  1004937.0  1201195.0  "
      ]
     },
     "execution_count": 21,
     "metadata": {},
     "output_type": "execute_result"
    }
   ],
   "source": [
    "df.head()"
   ]
  },
  {
   "cell_type": "code",
   "execution_count": 22,
   "id": "6662b58a",
   "metadata": {
    "execution": {
     "iopub.execute_input": "2021-09-21T11:42:06.175133Z",
     "iopub.status.busy": "2021-09-21T11:42:06.175133Z",
     "iopub.status.idle": "2021-09-21T11:42:06.190753Z",
     "shell.execute_reply": "2021-09-21T11:42:06.190753Z"
    }
   },
   "outputs": [],
   "source": [
    "df['State'] = df['State'].str.lower()"
   ]
  },
  {
   "cell_type": "code",
   "execution_count": 23,
   "id": "4c4b5654",
   "metadata": {
    "execution": {
     "iopub.execute_input": "2021-09-21T11:42:06.190753Z",
     "iopub.status.busy": "2021-09-21T11:42:06.190753Z",
     "iopub.status.idle": "2021-09-21T11:42:06.206355Z",
     "shell.execute_reply": "2021-09-21T11:42:06.206355Z"
    }
   },
   "outputs": [],
   "source": [
    "#FINDING VACCINE RATIO\n",
    "df['vaccinationratio'] = df['fvacc']/df['mvacc']"
   ]
  },
  {
   "cell_type": "markdown",
   "id": "ee1c8fa6",
   "metadata": {},
   "source": [
    "THERE ARE TWO STATES TELANGANA AND LADAKH PRESENT IN VACC BUT NOT IN CENSUS,AS THEY ARE NEWLY FORMED STATES,\n",
    "but DISTRICTS ARE REMAINED SAME SO WE MERGE THEM INTO THEIR OLD STATES"
   ]
  },
  {
   "cell_type": "code",
   "execution_count": 24,
   "id": "3b2e8603",
   "metadata": {
    "execution": {
     "iopub.execute_input": "2021-09-21T11:42:06.212403Z",
     "iopub.status.busy": "2021-09-21T11:42:06.212403Z",
     "iopub.status.idle": "2021-09-21T11:42:06.228684Z",
     "shell.execute_reply": "2021-09-21T11:42:06.228684Z"
    }
   },
   "outputs": [],
   "source": [
    "\n",
    "df['State']=df['State'].str.replace('telangana','andhra pradesh')\n",
    "df['State']=df['State'].str.replace('ladakh','jammu and kashmir')"
   ]
  },
  {
   "cell_type": "code",
   "execution_count": 25,
   "id": "a2959f55",
   "metadata": {
    "execution": {
     "iopub.execute_input": "2021-09-21T11:42:06.228684Z",
     "iopub.status.busy": "2021-09-21T11:42:06.228684Z",
     "iopub.status.idle": "2021-09-21T11:42:06.244303Z",
     "shell.execute_reply": "2021-09-21T11:42:06.244303Z"
    }
   },
   "outputs": [],
   "source": [
    "#AS DADRA AND NAGAR HAVELI and DAMAN AND DIU ARE CONSIDERED AS DIFFERENT STATES WE ARE CHANGING STATE NAMES\n",
    "df.iloc[152,1] = 'dadra and nagar haveli'\n",
    "df.iloc[153,1] = 'daman and diu'\n",
    "df.iloc[154,1] = 'daman and diu'"
   ]
  },
  {
   "cell_type": "code",
   "execution_count": 26,
   "id": "3ad646cc",
   "metadata": {
    "execution": {
     "iopub.execute_input": "2021-09-21T11:42:06.244303Z",
     "iopub.status.busy": "2021-09-21T11:42:06.244303Z",
     "iopub.status.idle": "2021-09-21T11:42:06.259921Z",
     "shell.execute_reply": "2021-09-21T11:42:06.259921Z"
    }
   },
   "outputs": [
    {
     "data": {
      "text/html": [
       "<div>\n",
       "<style scoped>\n",
       "    .dataframe tbody tr th:only-of-type {\n",
       "        vertical-align: middle;\n",
       "    }\n",
       "\n",
       "    .dataframe tbody tr th {\n",
       "        vertical-align: top;\n",
       "    }\n",
       "\n",
       "    .dataframe thead th {\n",
       "        text-align: right;\n",
       "    }\n",
       "</style>\n",
       "<table border=\"1\" class=\"dataframe\">\n",
       "  <thead>\n",
       "    <tr style=\"text-align: right;\">\n",
       "      <th></th>\n",
       "      <th>District_Key</th>\n",
       "      <th>State</th>\n",
       "      <th>District</th>\n",
       "      <th>mvacc</th>\n",
       "      <th>fvacc</th>\n",
       "      <th>vaccinationratio</th>\n",
       "    </tr>\n",
       "  </thead>\n",
       "  <tbody>\n",
       "    <tr>\n",
       "      <th>152</th>\n",
       "      <td>DN_Dadra and Nagar Haveli</td>\n",
       "      <td>dadra and nagar haveli</td>\n",
       "      <td>Dadra and Nagar Haveli</td>\n",
       "      <td>271372.0</td>\n",
       "      <td>119732.0</td>\n",
       "      <td>0.44121</td>\n",
       "    </tr>\n",
       "  </tbody>\n",
       "</table>\n",
       "</div>"
      ],
      "text/plain": [
       "                  District_Key                   State  \\\n",
       "152  DN_Dadra and Nagar Haveli  dadra and nagar haveli   \n",
       "\n",
       "                   District     mvacc     fvacc  vaccinationratio  \n",
       "152  Dadra and Nagar Haveli  271372.0  119732.0           0.44121  "
      ]
     },
     "execution_count": 26,
     "metadata": {},
     "output_type": "execute_result"
    }
   ],
   "source": [
    "df.iloc[[152]]"
   ]
  },
  {
   "cell_type": "code",
   "execution_count": 27,
   "id": "20b821a6",
   "metadata": {
    "execution": {
     "iopub.execute_input": "2021-09-21T11:42:06.259921Z",
     "iopub.status.busy": "2021-09-21T11:42:06.259921Z",
     "iopub.status.idle": "2021-09-21T11:42:06.275539Z",
     "shell.execute_reply": "2021-09-21T11:42:06.275539Z"
    }
   },
   "outputs": [],
   "source": [
    "# df[df['State'] == 'delhi']  #use this for other questions"
   ]
  },
  {
   "cell_type": "code",
   "execution_count": 28,
   "id": "d41c99a8",
   "metadata": {
    "execution": {
     "iopub.execute_input": "2021-09-21T11:42:06.275539Z",
     "iopub.status.busy": "2021-09-21T11:42:06.275539Z",
     "iopub.status.idle": "2021-09-21T11:42:06.291172Z",
     "shell.execute_reply": "2021-09-21T11:42:06.291172Z"
    }
   },
   "outputs": [],
   "source": [
    "# census_data[census_data['State'] == 'delhi']"
   ]
  },
  {
   "cell_type": "code",
   "execution_count": null,
   "id": "8f7fd4ad",
   "metadata": {},
   "outputs": [],
   "source": []
  },
  {
   "cell_type": "code",
   "execution_count": 29,
   "id": "3f4eacf9",
   "metadata": {
    "execution": {
     "iopub.execute_input": "2021-09-21T11:42:06.291172Z",
     "iopub.status.busy": "2021-09-21T11:42:06.291172Z",
     "iopub.status.idle": "2021-09-21T11:42:06.306784Z",
     "shell.execute_reply": "2021-09-21T11:42:06.306784Z"
    }
   },
   "outputs": [],
   "source": [
    "#THIS IS REQUIRED TO ENABLE MERGING BETWEEN CENSUSDATA AND VACCINATIONDATA\n",
    "df['full'] = df['State'].astype(str)+'_'+df['District']"
   ]
  },
  {
   "cell_type": "code",
   "execution_count": 30,
   "id": "5f02d8b9",
   "metadata": {
    "execution": {
     "iopub.execute_input": "2021-09-21T11:42:06.312292Z",
     "iopub.status.busy": "2021-09-21T11:42:06.312292Z",
     "iopub.status.idle": "2021-09-21T11:42:06.328427Z",
     "shell.execute_reply": "2021-09-21T11:42:06.328427Z"
    }
   },
   "outputs": [],
   "source": [
    "lst1 = df['full'].unique()\n",
    "lst2 = census_data['full'].unique()"
   ]
  },
  {
   "cell_type": "code",
   "execution_count": 31,
   "id": "226435e5",
   "metadata": {
    "execution": {
     "iopub.execute_input": "2021-09-21T11:42:06.328427Z",
     "iopub.status.busy": "2021-09-21T11:42:06.328427Z",
     "iopub.status.idle": "2021-09-21T11:42:06.344075Z",
     "shell.execute_reply": "2021-09-21T11:42:06.344075Z"
    }
   },
   "outputs": [
    {
     "data": {
      "text/plain": [
       "(729, 676)"
      ]
     },
     "execution_count": 31,
     "metadata": {},
     "output_type": "execute_result"
    }
   ],
   "source": [
    "len(lst1),len(lst2)"
   ]
  },
  {
   "cell_type": "code",
   "execution_count": 32,
   "id": "56c29d5a",
   "metadata": {
    "execution": {
     "iopub.execute_input": "2021-09-21T11:42:06.374782Z",
     "iopub.status.busy": "2021-09-21T11:42:06.374782Z",
     "iopub.status.idle": "2021-09-21T11:42:06.391031Z",
     "shell.execute_reply": "2021-09-21T11:42:06.391031Z"
    }
   },
   "outputs": [],
   "source": [
    "a = sorted([i for i in lst1 if i not in lst2])\n",
    "b = sorted([i for i in lst2 if i not in lst1])\n",
    "# a"
   ]
  },
  {
   "cell_type": "code",
   "execution_count": 33,
   "id": "6d97913a",
   "metadata": {
    "execution": {
     "iopub.execute_input": "2021-09-21T11:42:06.391031Z",
     "iopub.status.busy": "2021-09-21T11:42:06.391031Z",
     "iopub.status.idle": "2021-09-21T11:42:06.406641Z",
     "shell.execute_reply": "2021-09-21T11:42:06.406641Z"
    }
   },
   "outputs": [],
   "source": [
    "# #for using in ques8\n",
    "# ques8 = census_data[['State','Name','TOT_P','full']]\n",
    "# ques8.to_csv('censusdataforques8.csv',index=False)"
   ]
  },
  {
   "cell_type": "markdown",
   "id": "1493182c",
   "metadata": {},
   "source": [
    "## \"STATEONLY\" CONSISTS OF ALL STATES DATA WHICH WILL BE USED WHILE ANALYSING FOR STATE"
   ]
  },
  {
   "cell_type": "code",
   "execution_count": 34,
   "id": "f5bb062b",
   "metadata": {
    "execution": {
     "iopub.execute_input": "2021-09-21T11:42:06.412688Z",
     "iopub.status.busy": "2021-09-21T11:42:06.412688Z",
     "iopub.status.idle": "2021-09-21T11:42:06.428361Z",
     "shell.execute_reply": "2021-09-21T11:42:06.428361Z"
    }
   },
   "outputs": [],
   "source": [
    "stateonly = census_data[census_data['Level']=='STATE']\n",
    "\n",
    "stateonly.reset_index(inplace=True,drop=True)\n",
    "stateonly\n",
    "\n",
    "#dropping state rows\n",
    "ind = census_data[census_data['Level']=='STATE'].index\n",
    "census_data.drop(ind,inplace=True)"
   ]
  },
  {
   "cell_type": "code",
   "execution_count": null,
   "id": "46a95f09",
   "metadata": {},
   "outputs": [],
   "source": []
  },
  {
   "cell_type": "code",
   "execution_count": null,
   "id": "b6b4086a",
   "metadata": {},
   "outputs": [],
   "source": []
  },
  {
   "cell_type": "markdown",
   "id": "f9eb7780",
   "metadata": {},
   "source": [
    "MERGING CENSUSDATA AND VACCDATA FOR DISTRICTWISE"
   ]
  },
  {
   "cell_type": "code",
   "execution_count": 35,
   "id": "e5db78f9",
   "metadata": {
    "execution": {
     "iopub.execute_input": "2021-09-21T11:42:06.428361Z",
     "iopub.status.busy": "2021-09-21T11:42:06.428361Z",
     "iopub.status.idle": "2021-09-21T11:42:06.444554Z",
     "shell.execute_reply": "2021-09-21T11:42:06.444554Z"
    }
   },
   "outputs": [],
   "source": [
    "df2 = pd.merge(df,census_data, on=[\"full\",'full'])"
   ]
  },
  {
   "cell_type": "code",
   "execution_count": 36,
   "id": "7b51a2a3",
   "metadata": {
    "execution": {
     "iopub.execute_input": "2021-09-21T11:42:06.444554Z",
     "iopub.status.busy": "2021-09-21T11:42:06.444554Z",
     "iopub.status.idle": "2021-09-21T11:42:06.460205Z",
     "shell.execute_reply": "2021-09-21T11:42:06.460205Z"
    }
   },
   "outputs": [],
   "source": [
    "#CALCULATING RATIOS\n",
    "result = df2[['District_Key','vaccinationratio','fmratio']]\n",
    "\n",
    "result['ratioofratios'] = result['vaccinationratio']/result['fmratio']\n",
    "\n",
    "# result.head(100)"
   ]
  },
  {
   "cell_type": "code",
   "execution_count": 37,
   "id": "59368396",
   "metadata": {
    "execution": {
     "iopub.execute_input": "2021-09-21T11:42:06.460205Z",
     "iopub.status.busy": "2021-09-21T11:42:06.460205Z",
     "iopub.status.idle": "2021-09-21T11:42:06.475829Z",
     "shell.execute_reply": "2021-09-21T11:42:06.475829Z"
    }
   },
   "outputs": [],
   "source": [
    "result.rename(columns={'DIstrict_Key':'districtid','fmratio':'populationratio'},inplace=True)"
   ]
  },
  {
   "cell_type": "code",
   "execution_count": 38,
   "id": "c88621a1",
   "metadata": {
    "execution": {
     "iopub.execute_input": "2021-09-21T11:42:06.475829Z",
     "iopub.status.busy": "2021-09-21T11:42:06.475829Z",
     "iopub.status.idle": "2021-09-21T11:42:06.491446Z",
     "shell.execute_reply": "2021-09-21T11:42:06.491446Z"
    }
   },
   "outputs": [],
   "source": [
    "result.sort_values('ratioofratios',inplace=True)"
   ]
  },
  {
   "cell_type": "code",
   "execution_count": 39,
   "id": "bbd324ed",
   "metadata": {
    "execution": {
     "iopub.execute_input": "2021-09-21T11:42:06.491446Z",
     "iopub.status.busy": "2021-09-21T11:42:06.491446Z",
     "iopub.status.idle": "2021-09-21T11:42:06.507046Z",
     "shell.execute_reply": "2021-09-21T11:42:06.507046Z"
    }
   },
   "outputs": [],
   "source": [
    "# WRITING TO CSV\n",
    "result.to_csv('district-vaccination-population-ratio.csv',index=False)"
   ]
  },
  {
   "cell_type": "code",
   "execution_count": null,
   "id": "74776160",
   "metadata": {},
   "outputs": [],
   "source": []
  },
  {
   "cell_type": "markdown",
   "id": "1c12a9b7",
   "metadata": {},
   "source": [
    "# STATEWISE ANALYSIS"
   ]
  },
  {
   "cell_type": "code",
   "execution_count": 40,
   "id": "2b33b77f",
   "metadata": {
    "execution": {
     "iopub.execute_input": "2021-09-21T11:42:06.512592Z",
     "iopub.status.busy": "2021-09-21T11:42:06.512592Z",
     "iopub.status.idle": "2021-09-21T11:42:06.528865Z",
     "shell.execute_reply": "2021-09-21T11:42:06.528865Z"
    }
   },
   "outputs": [
    {
     "data": {
      "text/html": [
       "<div>\n",
       "<style scoped>\n",
       "    .dataframe tbody tr th:only-of-type {\n",
       "        vertical-align: middle;\n",
       "    }\n",
       "\n",
       "    .dataframe tbody tr th {\n",
       "        vertical-align: top;\n",
       "    }\n",
       "\n",
       "    .dataframe thead th {\n",
       "        text-align: right;\n",
       "    }\n",
       "</style>\n",
       "<table border=\"1\" class=\"dataframe\">\n",
       "  <thead>\n",
       "    <tr style=\"text-align: right;\">\n",
       "      <th></th>\n",
       "      <th>State</th>\n",
       "      <th>District</th>\n",
       "      <th>Level</th>\n",
       "      <th>Name</th>\n",
       "      <th>TRU</th>\n",
       "      <th>TOT_P</th>\n",
       "      <th>TOT_M</th>\n",
       "      <th>TOT_F</th>\n",
       "      <th>fmratio</th>\n",
       "      <th>full</th>\n",
       "    </tr>\n",
       "  </thead>\n",
       "  <tbody>\n",
       "    <tr>\n",
       "      <th>0</th>\n",
       "      <td>jammu and kashmir</td>\n",
       "      <td>0</td>\n",
       "      <td>STATE</td>\n",
       "      <td>JAMMU and KASHMIR</td>\n",
       "      <td>Total</td>\n",
       "      <td>12541302</td>\n",
       "      <td>6640662</td>\n",
       "      <td>5900640</td>\n",
       "      <td>0.888562</td>\n",
       "      <td>jammu and kashmir_JAMMU and KASHMIR</td>\n",
       "    </tr>\n",
       "    <tr>\n",
       "      <th>1</th>\n",
       "      <td>himachal pradesh</td>\n",
       "      <td>0</td>\n",
       "      <td>STATE</td>\n",
       "      <td>HIMACHAL PRADESH</td>\n",
       "      <td>Total</td>\n",
       "      <td>6864602</td>\n",
       "      <td>3481873</td>\n",
       "      <td>3382729</td>\n",
       "      <td>0.971526</td>\n",
       "      <td>himachal pradesh_HIMACHAL PRADESH</td>\n",
       "    </tr>\n",
       "    <tr>\n",
       "      <th>2</th>\n",
       "      <td>punjab</td>\n",
       "      <td>0</td>\n",
       "      <td>STATE</td>\n",
       "      <td>PUNJAB</td>\n",
       "      <td>Total</td>\n",
       "      <td>27743338</td>\n",
       "      <td>14639465</td>\n",
       "      <td>13103873</td>\n",
       "      <td>0.895106</td>\n",
       "      <td>punjab_PUNJAB</td>\n",
       "    </tr>\n",
       "    <tr>\n",
       "      <th>3</th>\n",
       "      <td>chandigarh</td>\n",
       "      <td>0</td>\n",
       "      <td>STATE</td>\n",
       "      <td>CHANDIGARH</td>\n",
       "      <td>Total</td>\n",
       "      <td>1055450</td>\n",
       "      <td>580663</td>\n",
       "      <td>474787</td>\n",
       "      <td>0.817664</td>\n",
       "      <td>chandigarh_CHANDIGARH</td>\n",
       "    </tr>\n",
       "    <tr>\n",
       "      <th>4</th>\n",
       "      <td>uttarakhand</td>\n",
       "      <td>0</td>\n",
       "      <td>STATE</td>\n",
       "      <td>UTTARAKHAND</td>\n",
       "      <td>Total</td>\n",
       "      <td>10086292</td>\n",
       "      <td>5137773</td>\n",
       "      <td>4948519</td>\n",
       "      <td>0.963164</td>\n",
       "      <td>uttarakhand_UTTARAKHAND</td>\n",
       "    </tr>\n",
       "  </tbody>\n",
       "</table>\n",
       "</div>"
      ],
      "text/plain": [
       "               State  District  Level               Name    TRU     TOT_P  \\\n",
       "0  jammu and kashmir         0  STATE  JAMMU and KASHMIR  Total  12541302   \n",
       "1   himachal pradesh         0  STATE   HIMACHAL PRADESH  Total   6864602   \n",
       "2             punjab         0  STATE             PUNJAB  Total  27743338   \n",
       "3         chandigarh         0  STATE         CHANDIGARH  Total   1055450   \n",
       "4        uttarakhand         0  STATE        UTTARAKHAND  Total  10086292   \n",
       "\n",
       "      TOT_M     TOT_F   fmratio                                 full  \n",
       "0   6640662   5900640  0.888562  jammu and kashmir_JAMMU and KASHMIR  \n",
       "1   3481873   3382729  0.971526    himachal pradesh_HIMACHAL PRADESH  \n",
       "2  14639465  13103873  0.895106                        punjab_PUNJAB  \n",
       "3    580663    474787  0.817664                chandigarh_CHANDIGARH  \n",
       "4   5137773   4948519  0.963164              uttarakhand_UTTARAKHAND  "
      ]
     },
     "execution_count": 40,
     "metadata": {},
     "output_type": "execute_result"
    }
   ],
   "source": [
    "stateonly.head()"
   ]
  },
  {
   "cell_type": "code",
   "execution_count": 41,
   "id": "c98aab23",
   "metadata": {
    "execution": {
     "iopub.execute_input": "2021-09-21T11:42:06.528865Z",
     "iopub.status.busy": "2021-09-21T11:42:06.528865Z",
     "iopub.status.idle": "2021-09-21T11:42:06.544491Z",
     "shell.execute_reply": "2021-09-21T11:42:06.544491Z"
    }
   },
   "outputs": [
    {
     "data": {
      "text/plain": [
       "Index(['District_Key', 'State', 'District', 'mvacc', 'fvacc',\n",
       "       'vaccinationratio', 'full'],\n",
       "      dtype='object')"
      ]
     },
     "execution_count": 41,
     "metadata": {},
     "output_type": "execute_result"
    }
   ],
   "source": [
    "df.columns"
   ]
  },
  {
   "cell_type": "code",
   "execution_count": 42,
   "id": "2c58029f",
   "metadata": {
    "execution": {
     "iopub.execute_input": "2021-09-21T11:42:06.544491Z",
     "iopub.status.busy": "2021-09-21T11:42:06.544491Z",
     "iopub.status.idle": "2021-09-21T11:42:06.560112Z",
     "shell.execute_reply": "2021-09-21T11:42:06.560112Z"
    }
   },
   "outputs": [],
   "source": [
    "vacc_data_state = df[['State','mvacc', 'fvacc']]"
   ]
  },
  {
   "cell_type": "code",
   "execution_count": 43,
   "id": "cdcbb351",
   "metadata": {
    "execution": {
     "iopub.execute_input": "2021-09-21T11:42:06.560112Z",
     "iopub.status.busy": "2021-09-21T11:42:06.560112Z",
     "iopub.status.idle": "2021-09-21T11:42:06.575728Z",
     "shell.execute_reply": "2021-09-21T11:42:06.575728Z"
    }
   },
   "outputs": [],
   "source": [
    "vacc_data_state = vacc_data_state.groupby('State').aggregate({'mvacc':sum,'fvacc':sum})"
   ]
  },
  {
   "cell_type": "code",
   "execution_count": 44,
   "id": "f5d93577",
   "metadata": {
    "execution": {
     "iopub.execute_input": "2021-09-21T11:42:06.575728Z",
     "iopub.status.busy": "2021-09-21T11:42:06.575728Z",
     "iopub.status.idle": "2021-09-21T11:42:06.591349Z",
     "shell.execute_reply": "2021-09-21T11:42:06.591349Z"
    }
   },
   "outputs": [],
   "source": [
    "vacc_data_state.reset_index(inplace=True)"
   ]
  },
  {
   "cell_type": "code",
   "execution_count": 45,
   "id": "97c735c2",
   "metadata": {
    "execution": {
     "iopub.execute_input": "2021-09-21T11:42:06.591349Z",
     "iopub.status.busy": "2021-09-21T11:42:06.591349Z",
     "iopub.status.idle": "2021-09-21T11:42:06.606973Z",
     "shell.execute_reply": "2021-09-21T11:42:06.606973Z"
    }
   },
   "outputs": [],
   "source": [
    "df_state = pd.merge(vacc_data_state,stateonly, on=[\"State\",'State'])"
   ]
  },
  {
   "cell_type": "code",
   "execution_count": 46,
   "id": "523128b5",
   "metadata": {
    "execution": {
     "iopub.execute_input": "2021-09-21T11:42:06.612481Z",
     "iopub.status.busy": "2021-09-21T11:42:06.612481Z",
     "iopub.status.idle": "2021-09-21T11:42:06.628732Z",
     "shell.execute_reply": "2021-09-21T11:42:06.628732Z"
    }
   },
   "outputs": [
    {
     "data": {
      "text/plain": [
       "Index(['State', 'mvacc', 'fvacc', 'District', 'Level', 'Name', 'TRU', 'TOT_P',\n",
       "       'TOT_M', 'TOT_F', 'fmratio', 'full'],\n",
       "      dtype='object')"
      ]
     },
     "execution_count": 46,
     "metadata": {},
     "output_type": "execute_result"
    }
   ],
   "source": [
    "df_state.columns"
   ]
  },
  {
   "cell_type": "code",
   "execution_count": 47,
   "id": "4757f745",
   "metadata": {
    "execution": {
     "iopub.execute_input": "2021-09-21T11:42:06.628732Z",
     "iopub.status.busy": "2021-09-21T11:42:06.628732Z",
     "iopub.status.idle": "2021-09-21T11:42:06.645421Z",
     "shell.execute_reply": "2021-09-21T11:42:06.645421Z"
    }
   },
   "outputs": [],
   "source": [
    "#female to male ratio for each state is already present in our df\n",
    "\n",
    "#CALCULATING RATIOS\n",
    "df_state['vaccinationratio'] = df_state['fvacc']/df_state['mvacc']\n",
    "df_state['ratioofratios'] = df_state['vaccinationratio']/df_state['fmratio']\n"
   ]
  },
  {
   "cell_type": "code",
   "execution_count": 48,
   "id": "24f765c8",
   "metadata": {
    "execution": {
     "iopub.execute_input": "2021-09-21T11:42:06.645421Z",
     "iopub.status.busy": "2021-09-21T11:42:06.645421Z",
     "iopub.status.idle": "2021-09-21T11:42:06.661696Z",
     "shell.execute_reply": "2021-09-21T11:42:06.661696Z"
    }
   },
   "outputs": [],
   "source": [
    "#RENAMING COLUMNS\n",
    "df_state.rename(columns={'State':'stateid','fmratio':'populationratio'},inplace=True)"
   ]
  },
  {
   "cell_type": "code",
   "execution_count": 49,
   "id": "db04cfa8",
   "metadata": {
    "execution": {
     "iopub.execute_input": "2021-09-21T11:42:06.661696Z",
     "iopub.status.busy": "2021-09-21T11:42:06.661696Z",
     "iopub.status.idle": "2021-09-21T11:42:06.678320Z",
     "shell.execute_reply": "2021-09-21T11:42:06.678320Z"
    }
   },
   "outputs": [],
   "source": [
    "finaldf_state = df_state[['stateid','vaccinationratio','populationratio','ratioofratios']]"
   ]
  },
  {
   "cell_type": "code",
   "execution_count": 50,
   "id": "62887b59",
   "metadata": {
    "execution": {
     "iopub.execute_input": "2021-09-21T11:42:06.678320Z",
     "iopub.status.busy": "2021-09-21T11:42:06.678320Z",
     "iopub.status.idle": "2021-09-21T11:42:06.694591Z",
     "shell.execute_reply": "2021-09-21T11:42:06.694591Z"
    }
   },
   "outputs": [
    {
     "data": {
      "text/html": [
       "<div>\n",
       "<style scoped>\n",
       "    .dataframe tbody tr th:only-of-type {\n",
       "        vertical-align: middle;\n",
       "    }\n",
       "\n",
       "    .dataframe tbody tr th {\n",
       "        vertical-align: top;\n",
       "    }\n",
       "\n",
       "    .dataframe thead th {\n",
       "        text-align: right;\n",
       "    }\n",
       "</style>\n",
       "<table border=\"1\" class=\"dataframe\">\n",
       "  <thead>\n",
       "    <tr style=\"text-align: right;\">\n",
       "      <th></th>\n",
       "      <th>stateid</th>\n",
       "      <th>vaccinationratio</th>\n",
       "      <th>populationratio</th>\n",
       "      <th>ratioofratios</th>\n",
       "    </tr>\n",
       "  </thead>\n",
       "  <tbody>\n",
       "    <tr>\n",
       "      <th>0</th>\n",
       "      <td>andaman and nicobar islands</td>\n",
       "      <td>0.881016</td>\n",
       "      <td>0.875975</td>\n",
       "      <td>1.005754</td>\n",
       "    </tr>\n",
       "    <tr>\n",
       "      <th>1</th>\n",
       "      <td>andhra pradesh</td>\n",
       "      <td>1.081885</td>\n",
       "      <td>0.992849</td>\n",
       "      <td>1.089678</td>\n",
       "    </tr>\n",
       "    <tr>\n",
       "      <th>2</th>\n",
       "      <td>arunachal pradesh</td>\n",
       "      <td>0.805917</td>\n",
       "      <td>0.938232</td>\n",
       "      <td>0.858975</td>\n",
       "    </tr>\n",
       "    <tr>\n",
       "      <th>3</th>\n",
       "      <td>assam</td>\n",
       "      <td>0.895896</td>\n",
       "      <td>0.957758</td>\n",
       "      <td>0.935410</td>\n",
       "    </tr>\n",
       "    <tr>\n",
       "      <th>4</th>\n",
       "      <td>bihar</td>\n",
       "      <td>0.872921</td>\n",
       "      <td>0.917888</td>\n",
       "      <td>0.951009</td>\n",
       "    </tr>\n",
       "  </tbody>\n",
       "</table>\n",
       "</div>"
      ],
      "text/plain": [
       "                       stateid  vaccinationratio  populationratio  \\\n",
       "0  andaman and nicobar islands          0.881016         0.875975   \n",
       "1               andhra pradesh          1.081885         0.992849   \n",
       "2            arunachal pradesh          0.805917         0.938232   \n",
       "3                        assam          0.895896         0.957758   \n",
       "4                        bihar          0.872921         0.917888   \n",
       "\n",
       "   ratioofratios  \n",
       "0       1.005754  \n",
       "1       1.089678  \n",
       "2       0.858975  \n",
       "3       0.935410  \n",
       "4       0.951009  "
      ]
     },
     "execution_count": 50,
     "metadata": {},
     "output_type": "execute_result"
    }
   ],
   "source": [
    "finaldf_state.head()"
   ]
  },
  {
   "cell_type": "code",
   "execution_count": 51,
   "id": "da42eace",
   "metadata": {
    "execution": {
     "iopub.execute_input": "2021-09-21T11:42:06.694591Z",
     "iopub.status.busy": "2021-09-21T11:42:06.694591Z",
     "iopub.status.idle": "2021-09-21T11:42:06.710212Z",
     "shell.execute_reply": "2021-09-21T11:42:06.712761Z"
    }
   },
   "outputs": [],
   "source": [
    "finaldf_state.sort_values('ratioofratios',inplace=True)"
   ]
  },
  {
   "cell_type": "code",
   "execution_count": 52,
   "id": "5939561b",
   "metadata": {
    "execution": {
     "iopub.execute_input": "2021-09-21T11:42:06.712761Z",
     "iopub.status.busy": "2021-09-21T11:42:06.712761Z",
     "iopub.status.idle": "2021-09-21T11:42:06.729032Z",
     "shell.execute_reply": "2021-09-21T11:42:06.729032Z"
    }
   },
   "outputs": [],
   "source": [
    "#WRITING INTO CSV FOR STATE\n",
    "finaldf_state.to_csv('state-vaccination-population-ratio.csv',index=False)"
   ]
  },
  {
   "cell_type": "code",
   "execution_count": null,
   "id": "23bf42d1",
   "metadata": {},
   "outputs": [],
   "source": []
  },
  {
   "cell_type": "markdown",
   "id": "6aa49d76",
   "metadata": {},
   "source": [
    "# OVERALL"
   ]
  },
  {
   "cell_type": "code",
   "execution_count": 53,
   "id": "497ce596",
   "metadata": {
    "execution": {
     "iopub.execute_input": "2021-09-21T11:42:06.729032Z",
     "iopub.status.busy": "2021-09-21T11:42:06.729032Z",
     "iopub.status.idle": "2021-09-21T11:42:06.744402Z",
     "shell.execute_reply": "2021-09-21T11:42:06.744402Z"
    }
   },
   "outputs": [
    {
     "data": {
      "text/plain": [
       "Index(['stateid', 'mvacc', 'fvacc', 'District', 'Level', 'Name', 'TRU',\n",
       "       'TOT_P', 'TOT_M', 'TOT_F', 'populationratio', 'full',\n",
       "       'vaccinationratio', 'ratioofratios'],\n",
       "      dtype='object')"
      ]
     },
     "execution_count": 53,
     "metadata": {},
     "output_type": "execute_result"
    }
   ],
   "source": [
    "#TAKING STATE DATAFRAME WHICH CONSISTS OF ALL DATA\n",
    "df_state.columns"
   ]
  },
  {
   "cell_type": "code",
   "execution_count": 54,
   "id": "870526f0",
   "metadata": {
    "execution": {
     "iopub.execute_input": "2021-09-21T11:42:06.744402Z",
     "iopub.status.busy": "2021-09-21T11:42:06.744402Z",
     "iopub.status.idle": "2021-09-21T11:42:06.760085Z",
     "shell.execute_reply": "2021-09-21T11:42:06.760085Z"
    }
   },
   "outputs": [],
   "source": [
    "#COLUMNS REQUIRED FOR OVERALL\n",
    "overall_df = df_state[['Level','mvacc', 'fvacc','TOT_P', 'TOT_M', 'TOT_F']]"
   ]
  },
  {
   "cell_type": "code",
   "execution_count": 55,
   "id": "126d7f25",
   "metadata": {
    "execution": {
     "iopub.execute_input": "2021-09-21T11:42:06.760085Z",
     "iopub.status.busy": "2021-09-21T11:42:06.760085Z",
     "iopub.status.idle": "2021-09-21T11:42:06.775810Z",
     "shell.execute_reply": "2021-09-21T11:42:06.775810Z"
    }
   },
   "outputs": [
    {
     "data": {
      "text/html": [
       "<div>\n",
       "<style scoped>\n",
       "    .dataframe tbody tr th:only-of-type {\n",
       "        vertical-align: middle;\n",
       "    }\n",
       "\n",
       "    .dataframe tbody tr th {\n",
       "        vertical-align: top;\n",
       "    }\n",
       "\n",
       "    .dataframe thead th {\n",
       "        text-align: right;\n",
       "    }\n",
       "</style>\n",
       "<table border=\"1\" class=\"dataframe\">\n",
       "  <thead>\n",
       "    <tr style=\"text-align: right;\">\n",
       "      <th></th>\n",
       "      <th>Level</th>\n",
       "      <th>mvacc</th>\n",
       "      <th>fvacc</th>\n",
       "      <th>TOT_P</th>\n",
       "      <th>TOT_M</th>\n",
       "      <th>TOT_F</th>\n",
       "    </tr>\n",
       "  </thead>\n",
       "  <tbody>\n",
       "    <tr>\n",
       "      <th>0</th>\n",
       "      <td>STATE</td>\n",
       "      <td>175410.0</td>\n",
       "      <td>154539.0</td>\n",
       "      <td>380581</td>\n",
       "      <td>202871</td>\n",
       "      <td>177710</td>\n",
       "    </tr>\n",
       "    <tr>\n",
       "      <th>1</th>\n",
       "      <td>STATE</td>\n",
       "      <td>19799381.0</td>\n",
       "      <td>21420656.0</td>\n",
       "      <td>84580777</td>\n",
       "      <td>42442146</td>\n",
       "      <td>42138631</td>\n",
       "    </tr>\n",
       "    <tr>\n",
       "      <th>2</th>\n",
       "      <td>STATE</td>\n",
       "      <td>498628.0</td>\n",
       "      <td>401853.0</td>\n",
       "      <td>1383727</td>\n",
       "      <td>713912</td>\n",
       "      <td>669815</td>\n",
       "    </tr>\n",
       "    <tr>\n",
       "      <th>3</th>\n",
       "      <td>STATE</td>\n",
       "      <td>7316294.0</td>\n",
       "      <td>6554641.0</td>\n",
       "      <td>31205576</td>\n",
       "      <td>15939443</td>\n",
       "      <td>15266133</td>\n",
       "    </tr>\n",
       "    <tr>\n",
       "      <th>4</th>\n",
       "      <td>STATE</td>\n",
       "      <td>16028771.0</td>\n",
       "      <td>13991844.0</td>\n",
       "      <td>104099452</td>\n",
       "      <td>54278157</td>\n",
       "      <td>49821295</td>\n",
       "    </tr>\n",
       "  </tbody>\n",
       "</table>\n",
       "</div>"
      ],
      "text/plain": [
       "   Level       mvacc       fvacc      TOT_P     TOT_M     TOT_F\n",
       "0  STATE    175410.0    154539.0     380581    202871    177710\n",
       "1  STATE  19799381.0  21420656.0   84580777  42442146  42138631\n",
       "2  STATE    498628.0    401853.0    1383727    713912    669815\n",
       "3  STATE   7316294.0   6554641.0   31205576  15939443  15266133\n",
       "4  STATE  16028771.0  13991844.0  104099452  54278157  49821295"
      ]
     },
     "execution_count": 55,
     "metadata": {},
     "output_type": "execute_result"
    }
   ],
   "source": [
    "overall_df.head()"
   ]
  },
  {
   "cell_type": "code",
   "execution_count": 56,
   "id": "b9341d39",
   "metadata": {
    "execution": {
     "iopub.execute_input": "2021-09-21T11:42:06.775810Z",
     "iopub.status.busy": "2021-09-21T11:42:06.775810Z",
     "iopub.status.idle": "2021-09-21T11:42:06.791496Z",
     "shell.execute_reply": "2021-09-21T11:42:06.791496Z"
    }
   },
   "outputs": [],
   "source": [
    "#GROUPING TO SUM ALL DISTRICTS IN INDIA BY GROUPING LEVEL==\"State\"\n",
    "overall_df = overall_df.groupby('Level').agg(sum)\n",
    "\n",
    "overall_df.reset_index(inplace=True,drop=True)"
   ]
  },
  {
   "cell_type": "code",
   "execution_count": 57,
   "id": "788769ff",
   "metadata": {
    "execution": {
     "iopub.execute_input": "2021-09-21T11:42:06.791496Z",
     "iopub.status.busy": "2021-09-21T11:42:06.791496Z",
     "iopub.status.idle": "2021-09-21T11:42:06.807141Z",
     "shell.execute_reply": "2021-09-21T11:42:06.807141Z"
    }
   },
   "outputs": [],
   "source": [
    "overall_df['overallid'] = 'India'"
   ]
  },
  {
   "cell_type": "code",
   "execution_count": 58,
   "id": "821d5e11",
   "metadata": {
    "execution": {
     "iopub.execute_input": "2021-09-21T11:42:06.812693Z",
     "iopub.status.busy": "2021-09-21T11:42:06.812693Z",
     "iopub.status.idle": "2021-09-21T11:42:06.828968Z",
     "shell.execute_reply": "2021-09-21T11:42:06.828968Z"
    }
   },
   "outputs": [
    {
     "data": {
      "text/html": [
       "<div>\n",
       "<style scoped>\n",
       "    .dataframe tbody tr th:only-of-type {\n",
       "        vertical-align: middle;\n",
       "    }\n",
       "\n",
       "    .dataframe tbody tr th {\n",
       "        vertical-align: top;\n",
       "    }\n",
       "\n",
       "    .dataframe thead th {\n",
       "        text-align: right;\n",
       "    }\n",
       "</style>\n",
       "<table border=\"1\" class=\"dataframe\">\n",
       "  <thead>\n",
       "    <tr style=\"text-align: right;\">\n",
       "      <th></th>\n",
       "      <th>mvacc</th>\n",
       "      <th>fvacc</th>\n",
       "      <th>TOT_P</th>\n",
       "      <th>TOT_M</th>\n",
       "      <th>TOT_F</th>\n",
       "      <th>overallid</th>\n",
       "    </tr>\n",
       "  </thead>\n",
       "  <tbody>\n",
       "    <tr>\n",
       "      <th>0</th>\n",
       "      <td>285317754.0</td>\n",
       "      <td>253955967.0</td>\n",
       "      <td>1210854977</td>\n",
       "      <td>623270258</td>\n",
       "      <td>587584719</td>\n",
       "      <td>India</td>\n",
       "    </tr>\n",
       "  </tbody>\n",
       "</table>\n",
       "</div>"
      ],
      "text/plain": [
       "         mvacc        fvacc       TOT_P      TOT_M      TOT_F overallid\n",
       "0  285317754.0  253955967.0  1210854977  623270258  587584719     India"
      ]
     },
     "execution_count": 58,
     "metadata": {},
     "output_type": "execute_result"
    }
   ],
   "source": [
    "overall_df.head()\n",
    "#AS COL3 TOT_P is correct ORIGINAL INDIA POPULATION FROM INPUTCSV(CENSUS DATA)#THIS IS ACCURATE"
   ]
  },
  {
   "cell_type": "markdown",
   "id": "a26a1e27",
   "metadata": {},
   "source": [
    "CALCULATING RATIOS"
   ]
  },
  {
   "cell_type": "code",
   "execution_count": 59,
   "id": "b2199968",
   "metadata": {
    "execution": {
     "iopub.execute_input": "2021-09-21T11:42:06.828968Z",
     "iopub.status.busy": "2021-09-21T11:42:06.828968Z",
     "iopub.status.idle": "2021-09-21T11:42:06.844589Z",
     "shell.execute_reply": "2021-09-21T11:42:06.844589Z"
    }
   },
   "outputs": [],
   "source": [
    "overall_df['vaccinationratio'] = overall_df['fvacc']/overall_df['mvacc']\n",
    "overall_df['populationratio'] = overall_df['TOT_F']/overall_df['TOT_M']\n",
    "overall_df['ratioofratios'] = overall_df['vaccinationratio']/overall_df['populationratio']"
   ]
  },
  {
   "cell_type": "code",
   "execution_count": 60,
   "id": "05f9de16",
   "metadata": {
    "execution": {
     "iopub.execute_input": "2021-09-21T11:42:06.844589Z",
     "iopub.status.busy": "2021-09-21T11:42:06.844589Z",
     "iopub.status.idle": "2021-09-21T11:42:06.860208Z",
     "shell.execute_reply": "2021-09-21T11:42:06.860208Z"
    }
   },
   "outputs": [],
   "source": [
    "#REQUIRED COLUMNS\n",
    "overall_df1 = overall_df[[ 'overallid','vaccinationratio', 'populationratio', 'ratioofratios']]"
   ]
  },
  {
   "cell_type": "code",
   "execution_count": 61,
   "id": "126f7e41",
   "metadata": {
    "execution": {
     "iopub.execute_input": "2021-09-21T11:42:06.860208Z",
     "iopub.status.busy": "2021-09-21T11:42:06.860208Z",
     "iopub.status.idle": "2021-09-21T11:42:06.891205Z",
     "shell.execute_reply": "2021-09-21T11:42:06.891205Z"
    }
   },
   "outputs": [],
   "source": [
    "overall_df1.sort_values('ratioofratios',inplace=True)"
   ]
  },
  {
   "cell_type": "code",
   "execution_count": 62,
   "id": "2f2954a8",
   "metadata": {
    "execution": {
     "iopub.execute_input": "2021-09-21T11:42:06.891205Z",
     "iopub.status.busy": "2021-09-21T11:42:06.891205Z",
     "iopub.status.idle": "2021-09-21T11:42:06.906971Z",
     "shell.execute_reply": "2021-09-21T11:42:06.906971Z"
    }
   },
   "outputs": [],
   "source": [
    "#writing to csv\n",
    "overall_df1.to_csv('overall-vaccination-population-ratio.csv',index=False)"
   ]
  },
  {
   "cell_type": "code",
   "execution_count": null,
   "id": "a538617e",
   "metadata": {},
   "outputs": [],
   "source": []
  }
 ],
 "metadata": {
  "kernelspec": {
   "display_name": "Python 3",
   "language": "python",
   "name": "python3"
  },
  "language_info": {
   "codemirror_mode": {
    "name": "ipython",
    "version": 3
   },
   "file_extension": ".py",
   "mimetype": "text/x-python",
   "name": "python",
   "nbconvert_exporter": "python",
   "pygments_lexer": "ipython3",
   "version": "3.8.8"
  }
 },
 "nbformat": 4,
 "nbformat_minor": 5
}
