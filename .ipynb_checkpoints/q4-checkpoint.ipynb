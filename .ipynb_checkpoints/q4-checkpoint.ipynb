{
 "cells": [
  {
   "cell_type": "markdown",
   "metadata": {},
   "source": [
    "## find the week and month having peak (highest) number of active cases for wave-1 and wave-2"
   ]
  },
  {
   "cell_type": "code",
   "execution_count": 1,
   "metadata": {
    "execution": {
     "iopub.execute_input": "2021-09-21T11:40:46.000762Z",
     "iopub.status.busy": "2021-09-21T11:40:46.000762Z",
     "iopub.status.idle": "2021-09-21T11:40:46.603594Z",
     "shell.execute_reply": "2021-09-21T11:40:46.603437Z"
    }
   },
   "outputs": [],
   "source": [
    "import pandas as pd\n",
    "import numpy as np\n",
    "from datetime import datetime\n",
    "from datetime import timedelta \n",
    "import warnings\n",
    "warnings.filterwarnings('ignore')"
   ]
  },
  {
   "cell_type": "markdown",
   "metadata": {},
   "source": [
    "### LOADING FILES"
   ]
  },
  {
   "cell_type": "code",
   "execution_count": 2,
   "metadata": {
    "execution": {
     "iopub.execute_input": "2021-09-21T11:40:46.603594Z",
     "iopub.status.busy": "2021-09-21T11:40:46.603594Z",
     "iopub.status.idle": "2021-09-21T11:40:47.361103Z",
     "shell.execute_reply": "2021-09-21T11:40:47.361103Z"
    }
   },
   "outputs": [],
   "source": [
    "covid_cases = pd.read_csv('districts.csv',parse_dates=['Date'],usecols=['State','District','Date','Confirmed'],index_col=False)"
   ]
  },
  {
   "cell_type": "code",
   "execution_count": 3,
   "metadata": {
    "execution": {
     "iopub.execute_input": "2021-09-21T11:40:47.371166Z",
     "iopub.status.busy": "2021-09-21T11:40:47.371166Z",
     "iopub.status.idle": "2021-09-21T11:40:47.765180Z",
     "shell.execute_reply": "2021-09-21T11:40:47.765180Z"
    }
   },
   "outputs": [],
   "source": [
    "vacc_df1 = pd.read_csv('cowin_vaccine_data_districtwise.csv',usecols=['State_Code','State'],index_col=False).drop_duplicates(subset=None, keep='first', inplace=False)\n",
    "covid_cases = covid_cases[covid_cases['Date'] <= '2021-08-14']"
   ]
  },
  {
   "cell_type": "code",
   "execution_count": 4,
   "metadata": {
    "execution": {
     "iopub.execute_input": "2021-09-21T11:40:47.775244Z",
     "iopub.status.busy": "2021-09-21T11:40:47.775244Z",
     "iopub.status.idle": "2021-09-21T11:40:47.785336Z",
     "shell.execute_reply": "2021-09-21T11:40:47.785336Z"
    }
   },
   "outputs": [],
   "source": [
    "#DROPPING NA\n",
    "vacc_df1.dropna(inplace=True)"
   ]
  },
  {
   "cell_type": "markdown",
   "metadata": {},
   "source": [
    "AS MONTH STARTS FROM 15TH TO 14TH"
   ]
  },
  {
   "cell_type": "code",
   "execution_count": 5,
   "metadata": {
    "execution": {
     "iopub.execute_input": "2021-09-21T11:40:47.795390Z",
     "iopub.status.busy": "2021-09-21T11:40:47.795390Z",
     "iopub.status.idle": "2021-09-21T11:40:47.825746Z",
     "shell.execute_reply": "2021-09-21T11:40:47.825746Z"
    }
   },
   "outputs": [],
   "source": [
    "covid_cases['Date_1'] = covid_cases[\"Date\"] + timedelta(days=-14)"
   ]
  },
  {
   "cell_type": "markdown",
   "metadata": {},
   "source": [
    "CONVERTING DATE AS AN INTEGER TO EASE GROUPING"
   ]
  },
  {
   "cell_type": "code",
   "execution_count": 6,
   "metadata": {
    "execution": {
     "iopub.execute_input": "2021-09-21T11:40:47.835845Z",
     "iopub.status.busy": "2021-09-21T11:40:47.835845Z",
     "iopub.status.idle": "2021-09-21T11:40:47.988027Z",
     "shell.execute_reply": "2021-09-21T11:40:47.988027Z"
    }
   },
   "outputs": [],
   "source": [
    "covid_cases['dateid'] = covid_cases.groupby(['Date_1']).ngroup()+1\n",
    "covid_cases['monthid'] = pd.DatetimeIndex(covid_cases['Date_1']).month + 100*pd.DatetimeIndex(covid_cases['Date_1']).year"
   ]
  },
  {
   "cell_type": "code",
   "execution_count": 7,
   "metadata": {
    "execution": {
     "iopub.execute_input": "2021-09-21T11:40:48.099620Z",
     "iopub.status.busy": "2021-09-21T11:40:48.099620Z",
     "iopub.status.idle": "2021-09-21T11:40:48.251553Z",
     "shell.execute_reply": "2021-09-21T11:40:48.251553Z"
    }
   },
   "outputs": [],
   "source": [
    "#THIS IS TO ENSURE WEEK STARTS FROM SUNDAY SO WE TAKE A SUNDAY\n",
    "covid_cases['diff1']=pd.to_datetime(covid_cases['Date'])-pd.to_datetime('2020-01-05')\n",
    "covid_cases['day_id1'] = ((covid_cases['diff1']/ np.timedelta64(1, 'D'))/7 ).astype(int)\n",
    "\n",
    "covid_cases['diff2']=(pd.to_datetime(covid_cases['Date'])-pd.to_datetime('2020-01-05'))/np.timedelta64(1, 'D')-4\n",
    "covid_cases['dayid2'] = (covid_cases['diff2']/7 ).astype(int)"
   ]
  },
  {
   "cell_type": "markdown",
   "metadata": {},
   "source": [
    "GROUPING"
   ]
  },
  {
   "cell_type": "code",
   "execution_count": 8,
   "metadata": {
    "execution": {
     "iopub.execute_input": "2021-09-21T11:40:48.261650Z",
     "iopub.status.busy": "2021-09-21T11:40:48.261650Z",
     "iopub.status.idle": "2021-09-21T11:40:48.413070Z",
     "shell.execute_reply": "2021-09-21T11:40:48.413070Z"
    }
   },
   "outputs": [],
   "source": [
    "covid_cases['weekid_1'] = covid_cases.groupby(['day_id1']).ngroup() + 1\n",
    "covid_cases['weekid_2'] = covid_cases.groupby(['dayid2']).ngroup() + 1"
   ]
  },
  {
   "cell_type": "code",
   "execution_count": 9,
   "metadata": {
    "execution": {
     "iopub.execute_input": "2021-09-21T11:40:48.423168Z",
     "iopub.status.busy": "2021-09-21T11:40:48.423168Z",
     "iopub.status.idle": "2021-09-21T11:40:48.494068Z",
     "shell.execute_reply": "2021-09-21T11:40:48.494068Z"
    }
   },
   "outputs": [],
   "source": [
    "covid_cases['monthid'] = covid_cases.groupby(['monthid']).ngroup() + 1 "
   ]
  },
  {
   "cell_type": "code",
   "execution_count": 10,
   "metadata": {
    "execution": {
     "iopub.execute_input": "2021-09-21T11:40:48.504147Z",
     "iopub.status.busy": "2021-09-21T11:40:48.504147Z",
     "iopub.status.idle": "2021-09-21T11:40:48.899500Z",
     "shell.execute_reply": "2021-09-21T11:40:48.899500Z"
    }
   },
   "outputs": [],
   "source": [
    "df1 = pd.merge(vacc_df1,covid_cases,how='inner',left_on=['State'],right_on = ['State'])\n",
    "df1['districtid']=df1['State_Code']+\"_\"+df1[\"District\"]"
   ]
  },
  {
   "cell_type": "code",
   "execution_count": 11,
   "metadata": {
    "execution": {
     "iopub.execute_input": "2021-09-21T11:40:48.899500Z",
     "iopub.status.busy": "2021-09-21T11:40:48.899500Z",
     "iopub.status.idle": "2021-09-21T11:40:48.980204Z",
     "shell.execute_reply": "2021-09-21T11:40:48.980204Z"
    }
   },
   "outputs": [],
   "source": [
    "df1_month = df1[['State_Code','districtid','monthid','Confirmed']]\n",
    "df1_weekid1 = df1[['State_Code','districtid','weekid_1','Confirmed']]\n",
    "df1_weekid2 = df1[['State_Code','districtid','weekid_2','Confirmed']]\n",
    "#df1_overall = df1[['State_Code','districtid','Confirmed']]"
   ]
  },
  {
   "cell_type": "markdown",
   "metadata": {},
   "source": [
    "TAKING MAX VALUE OF A MONTH/WEAK"
   ]
  },
  {
   "cell_type": "code",
   "execution_count": 12,
   "metadata": {
    "execution": {
     "iopub.execute_input": "2021-09-21T11:40:48.998299Z",
     "iopub.status.busy": "2021-09-21T11:40:48.990268Z",
     "iopub.status.idle": "2021-09-21T11:40:49.101346Z",
     "shell.execute_reply": "2021-09-21T11:40:49.101346Z"
    }
   },
   "outputs": [],
   "source": [
    "df1_month = df1_month.groupby(['State_Code','monthid','districtid'])['Confirmed'].max().reset_index(name='Confirmed') "
   ]
  },
  {
   "cell_type": "code",
   "execution_count": 13,
   "metadata": {
    "execution": {
     "iopub.execute_input": "2021-09-21T11:40:49.121555Z",
     "iopub.status.busy": "2021-09-21T11:40:49.121555Z",
     "iopub.status.idle": "2021-09-21T11:40:49.202226Z",
     "shell.execute_reply": "2021-09-21T11:40:49.202226Z"
    }
   },
   "outputs": [],
   "source": [
    "df1_sub1 = df1_weekid1.groupby(['State_Code','weekid_1','districtid'])['Confirmed'].max().reset_index(name='Confirmed') "
   ]
  },
  {
   "cell_type": "code",
   "execution_count": 14,
   "metadata": {
    "execution": {
     "iopub.execute_input": "2021-09-21T11:40:49.220312Z",
     "iopub.status.busy": "2021-09-21T11:40:49.212259Z",
     "iopub.status.idle": "2021-09-21T11:40:49.302975Z",
     "shell.execute_reply": "2021-09-21T11:40:49.302975Z"
    }
   },
   "outputs": [],
   "source": [
    "df1_sub2 = df1_weekid2.groupby(['State_Code','weekid_2','districtid'])['Confirmed'].max().reset_index(name='Confirmed')\n",
    " "
   ]
  },
  {
   "cell_type": "code",
   "execution_count": 15,
   "metadata": {
    "execution": {
     "iopub.execute_input": "2021-09-21T11:40:49.302975Z",
     "iopub.status.busy": "2021-09-21T11:40:49.302975Z",
     "iopub.status.idle": "2021-09-21T11:40:49.323183Z",
     "shell.execute_reply": "2021-09-21T11:40:49.323183Z"
    }
   },
   "outputs": [],
   "source": [
    "#AS DATA IS CUMULATIVE WE PERFORM DIFF (2nd ROW - 1ST ROW and so on )"
   ]
  },
  {
   "cell_type": "code",
   "execution_count": 16,
   "metadata": {
    "execution": {
     "iopub.execute_input": "2021-09-21T11:40:49.333253Z",
     "iopub.status.busy": "2021-09-21T11:40:49.331236Z",
     "iopub.status.idle": "2021-09-21T11:40:49.707199Z",
     "shell.execute_reply": "2021-09-21T11:40:49.707199Z"
    }
   },
   "outputs": [],
   "source": [
    "df1_sub1['Cases'] = df1_sub1.groupby(['districtid'])['Confirmed'].diff().fillna(df1_sub1['Confirmed'])\n",
    "df1_sub2['Cases'] = df1_sub2.groupby(['districtid'])['Confirmed'].diff().fillna(df1_sub2['Confirmed'])\n",
    "df1_month['Cases'] = df1_month.groupby(['districtid'])['Confirmed'].diff().fillna(df1_month['Confirmed'])"
   ]
  },
  {
   "cell_type": "code",
   "execution_count": 17,
   "metadata": {
    "execution": {
     "iopub.execute_input": "2021-09-21T11:40:49.707199Z",
     "iopub.status.busy": "2021-09-21T11:40:49.707199Z",
     "iopub.status.idle": "2021-09-21T11:40:49.727362Z",
     "shell.execute_reply": "2021-09-21T11:40:49.727362Z"
    }
   },
   "outputs": [],
   "source": [
    "df1_sub1 = df1_sub1[['State_Code','weekid_1','districtid','Cases']]\n",
    "df1_sub2 = df1_sub2[['State_Code','weekid_2','districtid','Cases']]"
   ]
  },
  {
   "cell_type": "code",
   "execution_count": 18,
   "metadata": {
    "execution": {
     "iopub.execute_input": "2021-09-21T11:40:49.727362Z",
     "iopub.status.busy": "2021-09-21T11:40:49.727362Z",
     "iopub.status.idle": "2021-09-21T11:40:49.747589Z",
     "shell.execute_reply": "2021-09-21T11:40:49.745575Z"
    }
   },
   "outputs": [],
   "source": [
    "df1_sub1['weekid_1'] = df1_sub1['weekid_1']*2\n",
    "df1_sub2['weekid_2'] = df1_sub2['weekid_2']*2+1"
   ]
  },
  {
   "cell_type": "code",
   "execution_count": 19,
   "metadata": {
    "execution": {
     "iopub.execute_input": "2021-09-21T11:40:49.747589Z",
     "iopub.status.busy": "2021-09-21T11:40:49.747589Z",
     "iopub.status.idle": "2021-09-21T11:40:49.767818Z",
     "shell.execute_reply": "2021-09-21T11:40:49.767818Z"
    }
   },
   "outputs": [],
   "source": [
    "df1_sub2 = df1_sub2.rename(columns={'weekid_2':'weekid_1'})"
   ]
  },
  {
   "cell_type": "code",
   "execution_count": 20,
   "metadata": {
    "execution": {
     "iopub.execute_input": "2021-09-21T11:40:49.767818Z",
     "iopub.status.busy": "2021-09-21T11:40:49.767818Z",
     "iopub.status.idle": "2021-09-21T11:40:49.788073Z",
     "shell.execute_reply": "2021-09-21T11:40:49.788073Z"
    }
   },
   "outputs": [],
   "source": [
    "df1_week = pd.concat([df1_sub1,df1_sub2])"
   ]
  },
  {
   "cell_type": "code",
   "execution_count": 21,
   "metadata": {
    "execution": {
     "iopub.execute_input": "2021-09-21T11:40:49.788073Z",
     "iopub.status.busy": "2021-09-21T11:40:49.788073Z",
     "iopub.status.idle": "2021-09-21T11:40:49.808195Z",
     "shell.execute_reply": "2021-09-21T11:40:49.806174Z"
    }
   },
   "outputs": [],
   "source": [
    "df1_week['weekid'] = df1_week.groupby(['weekid_1']).ngroup()+1"
   ]
  },
  {
   "cell_type": "code",
   "execution_count": 22,
   "metadata": {
    "execution": {
     "iopub.execute_input": "2021-09-21T11:40:49.808195Z",
     "iopub.status.busy": "2021-09-21T11:40:49.808195Z",
     "iopub.status.idle": "2021-09-21T11:40:49.828414Z",
     "shell.execute_reply": "2021-09-21T11:40:49.828414Z"
    }
   },
   "outputs": [],
   "source": [
    "df1_week = df1_week[['State_Code','weekid','districtid','Cases']]\n",
    "\n",
    "df1_month = df1_month[['State_Code','monthid','districtid','Cases']]"
   ]
  },
  {
   "cell_type": "code",
   "execution_count": null,
   "metadata": {},
   "outputs": [],
   "source": []
  },
  {
   "cell_type": "code",
   "execution_count": 23,
   "metadata": {
    "execution": {
     "iopub.execute_input": "2021-09-21T11:40:49.828414Z",
     "iopub.status.busy": "2021-09-21T11:40:49.828414Z",
     "iopub.status.idle": "2021-09-21T11:40:49.848756Z",
     "shell.execute_reply": "2021-09-21T11:40:49.846645Z"
    }
   },
   "outputs": [],
   "source": [
    "df1_stwise = df1_month[['State_Code','monthid','Cases']]"
   ]
  },
  {
   "cell_type": "code",
   "execution_count": 24,
   "metadata": {
    "execution": {
     "iopub.execute_input": "2021-09-21T11:40:49.848756Z",
     "iopub.status.busy": "2021-09-21T11:40:49.848756Z",
     "iopub.status.idle": "2021-09-21T11:40:49.869029Z",
     "shell.execute_reply": "2021-09-21T11:40:49.869029Z"
    }
   },
   "outputs": [],
   "source": [
    "df1_stwise_month = df1_stwise.groupby(['State_Code','monthid'])['Cases'].sum().reset_index(name='Cases')"
   ]
  },
  {
   "cell_type": "code",
   "execution_count": 25,
   "metadata": {
    "execution": {
     "iopub.execute_input": "2021-09-21T11:40:49.869029Z",
     "iopub.status.busy": "2021-09-21T11:40:49.869029Z",
     "iopub.status.idle": "2021-09-21T11:40:49.889305Z",
     "shell.execute_reply": "2021-09-21T11:40:49.889305Z"
    }
   },
   "outputs": [],
   "source": [
    "#coverting into integer type\n",
    "df1_week['week_id'] = df1_week['weekid'].astype(int)"
   ]
  },
  {
   "cell_type": "code",
   "execution_count": null,
   "metadata": {},
   "outputs": [],
   "source": []
  },
  {
   "cell_type": "code",
   "execution_count": 26,
   "metadata": {
    "execution": {
     "iopub.execute_input": "2021-09-21T11:40:49.889305Z",
     "iopub.status.busy": "2021-09-21T11:40:49.889305Z",
     "iopub.status.idle": "2021-09-21T11:40:49.929810Z",
     "shell.execute_reply": "2021-09-21T11:40:49.929810Z"
    }
   },
   "outputs": [],
   "source": [
    "df1_week = df1_week[df1_week['week_id']!=2]\n",
    "df1_week['week_id'] = np.where(df1_week['week_id']%2 == 0,df1_week['week_id']-2,df1_week['week_id'])"
   ]
  },
  {
   "cell_type": "code",
   "execution_count": 27,
   "metadata": {
    "execution": {
     "iopub.execute_input": "2021-09-21T11:40:49.929810Z",
     "iopub.status.busy": "2021-09-21T11:40:49.929810Z",
     "iopub.status.idle": "2021-09-21T11:40:49.949990Z",
     "shell.execute_reply": "2021-09-21T11:40:49.947916Z"
    }
   },
   "outputs": [],
   "source": [
    "df1_week['weekid'] = df1_week['week_id'].astype(int)\n",
    "df1_week = df1_week.drop(columns=['week_id'])"
   ]
  },
  {
   "cell_type": "markdown",
   "metadata": {},
   "source": [
    "CALCULATING STATEWISE"
   ]
  },
  {
   "cell_type": "code",
   "execution_count": 28,
   "metadata": {
    "execution": {
     "iopub.execute_input": "2021-09-21T11:40:49.958049Z",
     "iopub.status.busy": "2021-09-21T11:40:49.949990Z",
     "iopub.status.idle": "2021-09-21T11:40:49.970183Z",
     "shell.execute_reply": "2021-09-21T11:40:49.970183Z"
    }
   },
   "outputs": [],
   "source": [
    "df1_stwise=df1_week[[\"State_Code\",\"weekid\",\"districtid\",\"Cases\"]]"
   ]
  },
  {
   "cell_type": "code",
   "execution_count": 29,
   "metadata": {
    "execution": {
     "iopub.execute_input": "2021-09-21T11:40:49.970183Z",
     "iopub.status.busy": "2021-09-21T11:40:49.970183Z",
     "iopub.status.idle": "2021-09-21T11:40:49.990474Z",
     "shell.execute_reply": "2021-09-21T11:40:49.990474Z"
    }
   },
   "outputs": [],
   "source": [
    "df1_stwise = df1_stwise[['State_Code','weekid','Cases']]"
   ]
  },
  {
   "cell_type": "code",
   "execution_count": 30,
   "metadata": {
    "execution": {
     "iopub.execute_input": "2021-09-21T11:40:49.998531Z",
     "iopub.status.busy": "2021-09-21T11:40:49.990474Z",
     "iopub.status.idle": "2021-09-21T11:40:50.030944Z",
     "shell.execute_reply": "2021-09-21T11:40:50.030944Z"
    }
   },
   "outputs": [],
   "source": [
    "df1_stwise_week = df1_stwise.groupby(['State_Code','weekid'])['Cases'].sum().reset_index(name='Cases')"
   ]
  },
  {
   "cell_type": "code",
   "execution_count": 31,
   "metadata": {
    "execution": {
     "iopub.execute_input": "2021-09-21T11:40:50.030944Z",
     "iopub.status.busy": "2021-09-21T11:40:50.030944Z",
     "iopub.status.idle": "2021-09-21T11:40:50.051192Z",
     "shell.execute_reply": "2021-09-21T11:40:50.051192Z"
    }
   },
   "outputs": [],
   "source": [
    "df1_stwise_week_1 = df1_stwise_week[df1_stwise_week['weekid'] < 40]\n",
    "df1_stwise_week_2 = df1_stwise_week[df1_stwise_week['weekid'] > 80 ]"
   ]
  },
  {
   "cell_type": "code",
   "execution_count": 32,
   "metadata": {
    "execution": {
     "iopub.execute_input": "2021-09-21T11:40:50.051192Z",
     "iopub.status.busy": "2021-09-21T11:40:50.051192Z",
     "iopub.status.idle": "2021-09-21T11:40:50.071482Z",
     "shell.execute_reply": "2021-09-21T11:40:50.071482Z"
    }
   },
   "outputs": [],
   "source": [
    "df1_overall1=df1_stwise_week_1[[\"State_Code\",\"weekid\",\"Cases\"]]"
   ]
  },
  {
   "cell_type": "code",
   "execution_count": 33,
   "metadata": {
    "execution": {
     "iopub.execute_input": "2021-09-21T11:40:50.071482Z",
     "iopub.status.busy": "2021-09-21T11:40:50.071482Z",
     "iopub.status.idle": "2021-09-21T11:40:50.091697Z",
     "shell.execute_reply": "2021-09-21T11:40:50.091697Z"
    }
   },
   "outputs": [],
   "source": [
    "df1_stwise_week_1=df1_stwise_week_1.loc[df1_stwise_week_1.groupby(\"State_Code\")[\"Cases\"].idxmax()]\n"
   ]
  },
  {
   "cell_type": "markdown",
   "metadata": {},
   "source": [
    "RENAMING AND TAKING ONLY REQUIRED COLS"
   ]
  },
  {
   "cell_type": "code",
   "execution_count": 34,
   "metadata": {
    "execution": {
     "iopub.execute_input": "2021-09-21T11:40:50.099768Z",
     "iopub.status.busy": "2021-09-21T11:40:50.091697Z",
     "iopub.status.idle": "2021-09-21T11:40:50.111753Z",
     "shell.execute_reply": "2021-09-21T11:40:50.111753Z"
    }
   },
   "outputs": [],
   "source": [
    "df1_stwise_week_1 = df1_stwise_week_1.rename(columns = {'weekid':'wave1 - weekid'}).drop(columns= ['Cases'])\n",
    "df1_stwise_week_1 = df1_stwise_week_1[['State_Code','wave1 - weekid']]"
   ]
  },
  {
   "cell_type": "code",
   "execution_count": 35,
   "metadata": {
    "execution": {
     "iopub.execute_input": "2021-09-21T11:40:50.119772Z",
     "iopub.status.busy": "2021-09-21T11:40:50.111753Z",
     "iopub.status.idle": "2021-09-21T11:40:50.131931Z",
     "shell.execute_reply": "2021-09-21T11:40:50.129872Z"
    }
   },
   "outputs": [],
   "source": [
    "df1_overall1=df1_overall1.groupby(['weekid'])['Cases'].sum().reset_index(name='Cases')\n"
   ]
  },
  {
   "cell_type": "markdown",
   "metadata": {},
   "source": [
    "AS DATA IS CUMULATIVE WE TAKE MAX VALUE"
   ]
  },
  {
   "cell_type": "code",
   "execution_count": 36,
   "metadata": {
    "execution": {
     "iopub.execute_input": "2021-09-21T11:40:50.152142Z",
     "iopub.status.busy": "2021-09-21T11:40:50.150087Z",
     "iopub.status.idle": "2021-09-21T11:40:50.172397Z",
     "shell.execute_reply": "2021-09-21T11:40:50.172333Z"
    }
   },
   "outputs": [],
   "source": [
    "date_of_week=df1_overall1\n",
    "df1_overall1_max =date_of_week[date_of_week[\"Cases\"]== date_of_week[\"Cases\"].max()]"
   ]
  },
  {
   "cell_type": "code",
   "execution_count": 37,
   "metadata": {
    "execution": {
     "iopub.execute_input": "2021-09-21T11:40:50.172397Z",
     "iopub.status.busy": "2021-09-21T11:40:50.172397Z",
     "iopub.status.idle": "2021-09-21T11:40:50.192622Z",
     "shell.execute_reply": "2021-09-21T11:40:50.192622Z"
    }
   },
   "outputs": [],
   "source": [
    "df1_overall1_max = df1_overall1_max.rename(columns = {'weekid':'wave1 - weekid'}).drop(columns= ['Cases'])\n",
    "df1_overall1_max[\"Overall\"] = \"India\""
   ]
  },
  {
   "cell_type": "code",
   "execution_count": 38,
   "metadata": {
    "execution": {
     "iopub.execute_input": "2021-09-21T11:40:50.192622Z",
     "iopub.status.busy": "2021-09-21T11:40:50.192622Z",
     "iopub.status.idle": "2021-09-21T11:40:50.212861Z",
     "shell.execute_reply": "2021-09-21T11:40:50.210807Z"
    }
   },
   "outputs": [],
   "source": [
    "df1_overall2=df1_stwise_week_2[[\"State_Code\",\"weekid\",\"Cases\"]]"
   ]
  },
  {
   "cell_type": "code",
   "execution_count": 39,
   "metadata": {
    "execution": {
     "iopub.execute_input": "2021-09-21T11:40:50.212861Z",
     "iopub.status.busy": "2021-09-21T11:40:50.212861Z",
     "iopub.status.idle": "2021-09-21T11:40:50.233095Z",
     "shell.execute_reply": "2021-09-21T11:40:50.233095Z"
    }
   },
   "outputs": [],
   "source": [
    "df1_stwise_week_2=df1_stwise_week_2.loc[df1_stwise_week_2.groupby(\"State_Code\")[\"Cases\"].idxmax()]"
   ]
  },
  {
   "cell_type": "code",
   "execution_count": 40,
   "metadata": {
    "execution": {
     "iopub.execute_input": "2021-09-21T11:40:50.233095Z",
     "iopub.status.busy": "2021-09-21T11:40:50.233095Z",
     "iopub.status.idle": "2021-09-21T11:40:50.253284Z",
     "shell.execute_reply": "2021-09-21T11:40:50.253251Z"
    }
   },
   "outputs": [],
   "source": [
    "df1_stwise_week_2 = df1_stwise_week_2.rename(columns = {'weekid':'wave2 - weekid'}).drop(columns= ['Cases'])"
   ]
  },
  {
   "cell_type": "code",
   "execution_count": 41,
   "metadata": {
    "execution": {
     "iopub.execute_input": "2021-09-21T11:40:50.253284Z",
     "iopub.status.busy": "2021-09-21T11:40:50.253284Z",
     "iopub.status.idle": "2021-09-21T11:40:50.273518Z",
     "shell.execute_reply": "2021-09-21T11:40:50.273518Z"
    }
   },
   "outputs": [],
   "source": [
    "df1_overall2=df1_overall2.groupby(['weekid'])['Cases'].sum().reset_index(name='Cases')\n"
   ]
  },
  {
   "cell_type": "code",
   "execution_count": 42,
   "metadata": {
    "execution": {
     "iopub.execute_input": "2021-09-21T11:40:50.273518Z",
     "iopub.status.busy": "2021-09-21T11:40:50.273518Z",
     "iopub.status.idle": "2021-09-21T11:40:50.293827Z",
     "shell.execute_reply": "2021-09-21T11:40:50.293827Z"
    }
   },
   "outputs": [],
   "source": [
    "date_of_week2=df1_overall2\n",
    "df1_overall2_max =date_of_week2[date_of_week2[\"Cases\"]== date_of_week2[\"Cases\"].max()]"
   ]
  },
  {
   "cell_type": "code",
   "execution_count": 43,
   "metadata": {
    "execution": {
     "iopub.execute_input": "2021-09-21T11:40:50.293827Z",
     "iopub.status.busy": "2021-09-21T11:40:50.293827Z",
     "iopub.status.idle": "2021-09-21T11:40:50.314024Z",
     "shell.execute_reply": "2021-09-21T11:40:50.311968Z"
    }
   },
   "outputs": [],
   "source": [
    "df1_overall2_max = df1_overall2_max.rename(columns = {'weekid':'wave2 - weekid'}).drop(columns= ['Cases'])\n",
    "df1_overall2_max[\"Overall\"] = \"India\""
   ]
  },
  {
   "cell_type": "code",
   "execution_count": 44,
   "metadata": {
    "execution": {
     "iopub.execute_input": "2021-09-21T11:40:50.314024Z",
     "iopub.status.busy": "2021-09-21T11:40:50.314024Z",
     "iopub.status.idle": "2021-09-21T11:40:50.334233Z",
     "shell.execute_reply": "2021-09-21T11:40:50.334233Z"
    }
   },
   "outputs": [],
   "source": [
    "df1_overall_wk_peak = pd.merge(df1_overall1_max,df1_overall2_max, how=\"inner\",on=\"Overall\")"
   ]
  },
  {
   "cell_type": "code",
   "execution_count": 45,
   "metadata": {
    "execution": {
     "iopub.execute_input": "2021-09-21T11:40:50.334233Z",
     "iopub.status.busy": "2021-09-21T11:40:50.334233Z",
     "iopub.status.idle": "2021-09-21T11:40:50.354463Z",
     "shell.execute_reply": "2021-09-21T11:40:50.354463Z"
    }
   },
   "outputs": [],
   "source": [
    "df1_sub1 = df1_week[df1_week['weekid'] < 40]\n",
    "df1_sub2 = df1_week[df1_week['weekid'] > 80 ]"
   ]
  },
  {
   "cell_type": "code",
   "execution_count": 46,
   "metadata": {
    "execution": {
     "iopub.execute_input": "2021-09-21T11:40:50.354463Z",
     "iopub.status.busy": "2021-09-21T11:40:50.354463Z",
     "iopub.status.idle": "2021-09-21T11:40:50.374631Z",
     "shell.execute_reply": "2021-09-21T11:40:50.372573Z"
    }
   },
   "outputs": [],
   "source": [
    "dfnew1 = df1_sub1.groupby('districtid')['Cases'].transform(max) == df1_sub1['Cases']\n",
    "df1_sub1 = df1_sub1[dfnew1]\n"
   ]
  },
  {
   "cell_type": "code",
   "execution_count": 47,
   "metadata": {
    "execution": {
     "iopub.execute_input": "2021-09-21T11:40:50.374631Z",
     "iopub.status.busy": "2021-09-21T11:40:50.374631Z",
     "iopub.status.idle": "2021-09-21T11:40:50.394838Z",
     "shell.execute_reply": "2021-09-21T11:40:50.392816Z"
    }
   },
   "outputs": [],
   "source": [
    "df1_sub1 = df1_sub1.rename(columns = {'weekid':'wave1 - weekid'}).drop(columns= ['Cases'])"
   ]
  },
  {
   "cell_type": "code",
   "execution_count": 48,
   "metadata": {
    "execution": {
     "iopub.execute_input": "2021-09-21T11:40:50.394838Z",
     "iopub.status.busy": "2021-09-21T11:40:50.394838Z",
     "iopub.status.idle": "2021-09-21T11:40:50.415031Z",
     "shell.execute_reply": "2021-09-21T11:40:50.414950Z"
    }
   },
   "outputs": [],
   "source": [
    "temp = df1_sub2.groupby('districtid')['Cases'].transform(max) == df1_sub2['Cases']\n",
    "df1_sub2 = df1_sub2[temp]\n"
   ]
  },
  {
   "cell_type": "code",
   "execution_count": 49,
   "metadata": {
    "execution": {
     "iopub.execute_input": "2021-09-21T11:40:50.415031Z",
     "iopub.status.busy": "2021-09-21T11:40:50.415031Z",
     "iopub.status.idle": "2021-09-21T11:40:50.435347Z",
     "shell.execute_reply": "2021-09-21T11:40:50.435347Z"
    }
   },
   "outputs": [],
   "source": [
    "df1_sub2 = df1_sub2.rename(columns = {'weekid':'wave2 - weekid'}).drop(columns= ['Cases'])"
   ]
  },
  {
   "cell_type": "code",
   "execution_count": 50,
   "metadata": {
    "execution": {
     "iopub.execute_input": "2021-09-21T11:40:50.435347Z",
     "iopub.status.busy": "2021-09-21T11:40:50.435347Z",
     "iopub.status.idle": "2021-09-21T11:40:50.455738Z",
     "shell.execute_reply": "2021-09-21T11:40:50.455677Z"
    }
   },
   "outputs": [],
   "source": [
    "df1_month_1 = df1_month[df1_month['monthid'] < 10]\n",
    "df1_month_2 = df1_month[df1_month['monthid'] > 9 ]"
   ]
  },
  {
   "cell_type": "code",
   "execution_count": 51,
   "metadata": {
    "execution": {
     "iopub.execute_input": "2021-09-21T11:40:50.455738Z",
     "iopub.status.busy": "2021-09-21T11:40:50.455738Z",
     "iopub.status.idle": "2021-09-21T11:40:50.516176Z",
     "shell.execute_reply": "2021-09-21T11:40:50.516176Z"
    }
   },
   "outputs": [],
   "source": [
    "df1_month_1=df1_month_1.loc[df1_month_1.groupby(\"districtid\")[\"Cases\"].idxmax()]"
   ]
  },
  {
   "cell_type": "code",
   "execution_count": 52,
   "metadata": {
    "execution": {
     "iopub.execute_input": "2021-09-21T11:40:50.516176Z",
     "iopub.status.busy": "2021-09-21T11:40:50.516176Z",
     "iopub.status.idle": "2021-09-21T11:40:50.534239Z",
     "shell.execute_reply": "2021-09-21T11:40:50.534239Z"
    }
   },
   "outputs": [],
   "source": [
    "df1_month_1 = df1_month_1.rename(columns = {'monthid':'wave1 - monthid'}).drop(columns= ['Cases'])"
   ]
  },
  {
   "cell_type": "code",
   "execution_count": 53,
   "metadata": {
    "execution": {
     "iopub.execute_input": "2021-09-21T11:40:50.534239Z",
     "iopub.status.busy": "2021-09-21T11:40:50.534239Z",
     "iopub.status.idle": "2021-09-21T11:40:50.596731Z",
     "shell.execute_reply": "2021-09-21T11:40:50.596731Z"
    }
   },
   "outputs": [],
   "source": [
    "df1_month_2=df1_month_2.loc[df1_month_2.groupby(\"districtid\")[\"Cases\"].idxmax()]\n",
    "df1_month_2 = df1_month_2.rename(columns = {'monthid':'wave2 - monthid'}).drop(columns= ['Cases'])"
   ]
  },
  {
   "cell_type": "code",
   "execution_count": 54,
   "metadata": {
    "execution": {
     "iopub.execute_input": "2021-09-21T11:40:50.596731Z",
     "iopub.status.busy": "2021-09-21T11:40:50.596731Z",
     "iopub.status.idle": "2021-09-21T11:40:50.612352Z",
     "shell.execute_reply": "2021-09-21T11:40:50.612352Z"
    }
   },
   "outputs": [],
   "source": [
    "df1_stwise_month_1 = df1_stwise_month[df1_stwise_month['monthid'] < 10]\n",
    "df1_stwise_month_2 = df1_stwise_month[df1_stwise_month['monthid'] > 9 ]"
   ]
  },
  {
   "cell_type": "code",
   "execution_count": 55,
   "metadata": {
    "execution": {
     "iopub.execute_input": "2021-09-21T11:40:50.612352Z",
     "iopub.status.busy": "2021-09-21T11:40:50.612352Z",
     "iopub.status.idle": "2021-09-21T11:40:50.628005Z",
     "shell.execute_reply": "2021-09-21T11:40:50.628005Z"
    }
   },
   "outputs": [],
   "source": [
    "df1_overall_month_1 = df1_stwise_month_1.groupby(\"monthid\")[\"Cases\"].sum().reset_index(name='Cases')\n",
    "df1_overall_month_2 = df1_stwise_month_2.groupby(\"monthid\")[\"Cases\"].sum().reset_index(name='Cases')"
   ]
  },
  {
   "cell_type": "code",
   "execution_count": 56,
   "metadata": {
    "execution": {
     "iopub.execute_input": "2021-09-21T11:40:50.634512Z",
     "iopub.status.busy": "2021-09-21T11:40:50.634512Z",
     "iopub.status.idle": "2021-09-21T11:40:50.650138Z",
     "shell.execute_reply": "2021-09-21T11:40:50.650138Z"
    }
   },
   "outputs": [],
   "source": [
    "df1_overall_month_1 = df1_overall_month_1[df1_overall_month_1[\"Cases\"]==df1_overall_month_1[\"Cases\"].max()]\n",
    "df1_overall_month_1 = df1_overall_month_1.rename(columns = {'monthid':'wave1 - monthid'}).drop(columns= ['Cases'])\n",
    "df1_overall_month_1[\"Overall\"]=\"India\"\n"
   ]
  },
  {
   "cell_type": "code",
   "execution_count": 57,
   "metadata": {
    "execution": {
     "iopub.execute_input": "2021-09-21T11:40:50.650138Z",
     "iopub.status.busy": "2021-09-21T11:40:50.650138Z",
     "iopub.status.idle": "2021-09-21T11:40:50.665759Z",
     "shell.execute_reply": "2021-09-21T11:40:50.665759Z"
    }
   },
   "outputs": [],
   "source": [
    "df1_overall_month_2 = df1_overall_month_2[df1_overall_month_2[\"Cases\"]==df1_overall_month_2[\"Cases\"].max()]\n",
    "df1_overall_month_2 = df1_overall_month_2.rename(columns = {'monthid':'wave2 - monthid'}).drop(columns= ['Cases'])\n",
    "df1_overall_month_2[\"Overall\"]=\"India\"\n"
   ]
  },
  {
   "cell_type": "code",
   "execution_count": 58,
   "metadata": {
    "execution": {
     "iopub.execute_input": "2021-09-21T11:40:50.665759Z",
     "iopub.status.busy": "2021-09-21T11:40:50.665759Z",
     "iopub.status.idle": "2021-09-21T11:40:50.681421Z",
     "shell.execute_reply": "2021-09-21T11:40:50.681421Z"
    }
   },
   "outputs": [],
   "source": [
    "df1_overall_month_peak = pd.merge(df1_overall_month_1,df1_overall_month_2,how=\"inner\",on=\"Overall\")"
   ]
  },
  {
   "cell_type": "code",
   "execution_count": 59,
   "metadata": {
    "execution": {
     "iopub.execute_input": "2021-09-21T11:40:50.681421Z",
     "iopub.status.busy": "2021-09-21T11:40:50.681421Z",
     "iopub.status.idle": "2021-09-21T11:40:50.712656Z",
     "shell.execute_reply": "2021-09-21T11:40:50.712656Z"
    }
   },
   "outputs": [
    {
     "data": {
      "text/html": [
       "<div>\n",
       "<style scoped>\n",
       "    .dataframe tbody tr th:only-of-type {\n",
       "        vertical-align: middle;\n",
       "    }\n",
       "\n",
       "    .dataframe tbody tr th {\n",
       "        vertical-align: top;\n",
       "    }\n",
       "\n",
       "    .dataframe thead th {\n",
       "        text-align: right;\n",
       "    }\n",
       "</style>\n",
       "<table border=\"1\" class=\"dataframe\">\n",
       "  <thead>\n",
       "    <tr style=\"text-align: right;\">\n",
       "      <th></th>\n",
       "      <th>wave1 - monthid</th>\n",
       "      <th>Overall</th>\n",
       "      <th>wave2 - monthid</th>\n",
       "    </tr>\n",
       "  </thead>\n",
       "  <tbody>\n",
       "    <tr>\n",
       "      <th>0</th>\n",
       "      <td>5</td>\n",
       "      <td>India</td>\n",
       "      <td>13</td>\n",
       "    </tr>\n",
       "  </tbody>\n",
       "</table>\n",
       "</div>"
      ],
      "text/plain": [
       "   wave1 - monthid Overall  wave2 - monthid\n",
       "0                5   India               13"
      ]
     },
     "execution_count": 59,
     "metadata": {},
     "output_type": "execute_result"
    }
   ],
   "source": [
    "df1_overall_month_peak"
   ]
  },
  {
   "cell_type": "code",
   "execution_count": 60,
   "metadata": {
    "execution": {
     "iopub.execute_input": "2021-09-21T11:40:50.728245Z",
     "iopub.status.busy": "2021-09-21T11:40:50.712656Z",
     "iopub.status.idle": "2021-09-21T11:40:50.728245Z",
     "shell.execute_reply": "2021-09-21T11:40:50.728245Z"
    }
   },
   "outputs": [],
   "source": [
    "df1_ovall_peak = pd.merge(df1_overall_wk_peak,df1_overall_month_peak,how=\"inner\",on=\"Overall\")\n",
    "df1_ovall_peak = df1_ovall_peak.groupby(['Overall']).min().reset_index()\n",
    "df1_ovall_peak['wave1 - weekid']=(df1_ovall_peak['wave1 - weekid']/2).apply(np.ceil).astype(int)\n",
    "df1_ovall_peak['wave2 - weekid']=(df1_ovall_peak['wave2 - weekid']/2).apply(np.ceil).astype(int)"
   ]
  },
  {
   "cell_type": "code",
   "execution_count": 61,
   "metadata": {
    "execution": {
     "iopub.execute_input": "2021-09-21T11:40:50.734753Z",
     "iopub.status.busy": "2021-09-21T11:40:50.734753Z",
     "iopub.status.idle": "2021-09-21T11:40:50.750381Z",
     "shell.execute_reply": "2021-09-21T11:40:50.750381Z"
    }
   },
   "outputs": [
    {
     "data": {
      "text/html": [
       "<div>\n",
       "<style scoped>\n",
       "    .dataframe tbody tr th:only-of-type {\n",
       "        vertical-align: middle;\n",
       "    }\n",
       "\n",
       "    .dataframe tbody tr th {\n",
       "        vertical-align: top;\n",
       "    }\n",
       "\n",
       "    .dataframe thead th {\n",
       "        text-align: right;\n",
       "    }\n",
       "</style>\n",
       "<table border=\"1\" class=\"dataframe\">\n",
       "  <thead>\n",
       "    <tr style=\"text-align: right;\">\n",
       "      <th></th>\n",
       "      <th>Overall</th>\n",
       "      <th>wave1 - weekid</th>\n",
       "      <th>wave2 - weekid</th>\n",
       "      <th>wave1 - monthid</th>\n",
       "      <th>wave2 - monthid</th>\n",
       "    </tr>\n",
       "  </thead>\n",
       "  <tbody>\n",
       "    <tr>\n",
       "      <th>0</th>\n",
       "      <td>India</td>\n",
       "      <td>20</td>\n",
       "      <td>54</td>\n",
       "      <td>5</td>\n",
       "      <td>13</td>\n",
       "    </tr>\n",
       "  </tbody>\n",
       "</table>\n",
       "</div>"
      ],
      "text/plain": [
       "  Overall  wave1 - weekid  wave2 - weekid  wave1 - monthid  wave2 - monthid\n",
       "0   India              20              54                5               13"
      ]
     },
     "execution_count": 61,
     "metadata": {},
     "output_type": "execute_result"
    }
   ],
   "source": [
    "df1_ovall_peak"
   ]
  },
  {
   "cell_type": "code",
   "execution_count": 62,
   "metadata": {
    "execution": {
     "iopub.execute_input": "2021-09-21T11:40:50.750381Z",
     "iopub.status.busy": "2021-09-21T11:40:50.750381Z",
     "iopub.status.idle": "2021-09-21T11:40:50.766002Z",
     "shell.execute_reply": "2021-09-21T11:40:50.766002Z"
    }
   },
   "outputs": [],
   "source": [
    "df1_stwise_month_1=df1_stwise_month_1.loc[df1_stwise_month_1.groupby(\"State_Code\")[\"Cases\"].idxmax()]"
   ]
  },
  {
   "cell_type": "code",
   "execution_count": 63,
   "metadata": {
    "execution": {
     "iopub.execute_input": "2021-09-21T11:40:50.766002Z",
     "iopub.status.busy": "2021-09-21T11:40:50.766002Z",
     "iopub.status.idle": "2021-09-21T11:40:50.781623Z",
     "shell.execute_reply": "2021-09-21T11:40:50.781623Z"
    }
   },
   "outputs": [],
   "source": [
    "df1_stwise_month_1 = df1_stwise_month_1.rename(columns = {'monthid':'wave1 - monthid'}).drop(columns= ['Cases'])"
   ]
  },
  {
   "cell_type": "code",
   "execution_count": 64,
   "metadata": {
    "execution": {
     "iopub.execute_input": "2021-09-21T11:40:50.781623Z",
     "iopub.status.busy": "2021-09-21T11:40:50.781623Z",
     "iopub.status.idle": "2021-09-21T11:40:50.797244Z",
     "shell.execute_reply": "2021-09-21T11:40:50.797244Z"
    }
   },
   "outputs": [],
   "source": [
    "df1_stwise_month_2=df1_stwise_month_2.loc[df1_stwise_month_2.groupby(\"State_Code\")[\"Cases\"].idxmax()]\n",
    "df1_stwise_month_2 = df1_stwise_month_2.rename(columns = {'monthid':'wave2 - monthid'}).drop(columns= ['Cases'])\n"
   ]
  },
  {
   "cell_type": "code",
   "execution_count": null,
   "metadata": {},
   "outputs": [],
   "source": []
  },
  {
   "cell_type": "markdown",
   "metadata": {},
   "source": [
    "DROPPING STATENAME COLUMNS"
   ]
  },
  {
   "cell_type": "code",
   "execution_count": 65,
   "metadata": {
    "execution": {
     "iopub.execute_input": "2021-09-21T11:40:50.797244Z",
     "iopub.status.busy": "2021-09-21T11:40:50.797244Z",
     "iopub.status.idle": "2021-09-21T11:40:50.812867Z",
     "shell.execute_reply": "2021-09-21T11:40:50.812867Z"
    }
   },
   "outputs": [],
   "source": [
    "df1_sub1 = df1_sub1.drop(columns= ['State_Code'])\n",
    "df1_sub2 = df1_sub2.drop(columns= ['State_Code'])\n",
    "df1_month_1 = df1_month_1.drop(columns= ['State_Code'])\n",
    "df1_month_2 = df1_month_2.drop(columns= ['State_Code'])"
   ]
  },
  {
   "cell_type": "code",
   "execution_count": 66,
   "metadata": {
    "execution": {
     "iopub.execute_input": "2021-09-21T11:40:50.812867Z",
     "iopub.status.busy": "2021-09-21T11:40:50.812867Z",
     "iopub.status.idle": "2021-09-21T11:40:50.828493Z",
     "shell.execute_reply": "2021-09-21T11:40:50.828493Z"
    }
   },
   "outputs": [],
   "source": [
    "df1_district_week = pd.merge(df1_sub1,df1_sub2,how='inner',on='districtid')\n",
    "df1_district_month = pd.merge(df1_month_1,df1_month_2,how='inner',on='districtid')"
   ]
  },
  {
   "cell_type": "markdown",
   "metadata": {},
   "source": [
    "MERGING ON DISTRICTID"
   ]
  },
  {
   "cell_type": "code",
   "execution_count": 67,
   "metadata": {
    "execution": {
     "iopub.execute_input": "2021-09-21T11:40:50.837102Z",
     "iopub.status.busy": "2021-09-21T11:40:50.835053Z",
     "iopub.status.idle": "2021-09-21T11:40:50.847240Z",
     "shell.execute_reply": "2021-09-21T11:40:50.847240Z"
    }
   },
   "outputs": [],
   "source": [
    "df1_district = pd.merge(df1_district_week,df1_district_month,how='inner',on='districtid')"
   ]
  },
  {
   "cell_type": "code",
   "execution_count": 68,
   "metadata": {
    "execution": {
     "iopub.execute_input": "2021-09-21T11:40:50.897710Z",
     "iopub.status.busy": "2021-09-21T11:40:50.897710Z",
     "iopub.status.idle": "2021-09-21T11:40:50.907797Z",
     "shell.execute_reply": "2021-09-21T11:40:50.905777Z"
    }
   },
   "outputs": [],
   "source": [
    "df1_stwise_week = pd.merge(df1_stwise_week_1,df1_stwise_week_2,how='inner',on='State_Code')\n",
    "df1_stwise_month = pd.merge(df1_stwise_month_1,df1_stwise_month_2,how='inner',on='State_Code')"
   ]
  },
  {
   "cell_type": "code",
   "execution_count": 69,
   "metadata": {
    "execution": {
     "iopub.execute_input": "2021-09-21T11:40:50.915867Z",
     "iopub.status.busy": "2021-09-21T11:40:50.915867Z",
     "iopub.status.idle": "2021-09-21T11:40:50.927973Z",
     "shell.execute_reply": "2021-09-21T11:40:50.927973Z"
    }
   },
   "outputs": [],
   "source": [
    "df1_stwise = pd.merge(df1_stwise_week,df1_stwise_month,how='inner',on='State_Code')"
   ]
  },
  {
   "cell_type": "code",
   "execution_count": 70,
   "metadata": {
    "execution": {
     "iopub.execute_input": "2021-09-21T11:40:50.927973Z",
     "iopub.status.busy": "2021-09-21T11:40:50.927973Z",
     "iopub.status.idle": "2021-09-21T11:40:50.948148Z",
     "shell.execute_reply": "2021-09-21T11:40:50.948148Z"
    }
   },
   "outputs": [],
   "source": [
    "df1_stwise = df1_stwise.rename(columns={'State_Code':'stateid'})"
   ]
  },
  {
   "cell_type": "code",
   "execution_count": null,
   "metadata": {},
   "outputs": [],
   "source": []
  },
  {
   "cell_type": "code",
   "execution_count": 71,
   "metadata": {
    "execution": {
     "iopub.execute_input": "2021-09-21T11:40:50.948148Z",
     "iopub.status.busy": "2021-09-21T11:40:50.948148Z",
     "iopub.status.idle": "2021-09-21T11:40:50.968336Z",
     "shell.execute_reply": "2021-09-21T11:40:50.968336Z"
    }
   },
   "outputs": [],
   "source": [
    "df1_district = df1_district.groupby(['districtid']).min().reset_index()\n",
    "df1_stwise = df1_stwise.groupby(['stateid']).min().reset_index()"
   ]
  },
  {
   "cell_type": "markdown",
   "metadata": {},
   "source": [
    "APPLY CEILFUNC TO GET  WEEKID BASED ON ODD/EVEN VALUE"
   ]
  },
  {
   "cell_type": "code",
   "execution_count": 72,
   "metadata": {
    "execution": {
     "iopub.execute_input": "2021-09-21T11:40:50.968336Z",
     "iopub.status.busy": "2021-09-21T11:40:50.968336Z",
     "iopub.status.idle": "2021-09-21T11:40:50.988623Z",
     "shell.execute_reply": "2021-09-21T11:40:50.988623Z"
    }
   },
   "outputs": [],
   "source": [
    "df1_stwise['wave1 - weekid']=(df1_stwise['wave1 - weekid']/2).apply(np.ceil).astype(int)\n",
    "df1_stwise['wave2 - weekid']=(df1_stwise['wave2 - weekid']/2).apply(np.ceil).astype(int)"
   ]
  },
  {
   "cell_type": "code",
   "execution_count": 73,
   "metadata": {
    "execution": {
     "iopub.execute_input": "2021-09-21T11:40:50.988623Z",
     "iopub.status.busy": "2021-09-21T11:40:50.988623Z",
     "iopub.status.idle": "2021-09-21T11:40:51.008952Z",
     "shell.execute_reply": "2021-09-21T11:40:51.008952Z"
    }
   },
   "outputs": [],
   "source": [
    "df1_district['wave1 - weekid']=(df1_district['wave1 - weekid']/2).apply(np.ceil).astype(int)\n",
    "df1_district['wave2 - weekid']=(df1_district['wave2 - weekid']/2).apply(np.ceil).astype(int)"
   ]
  },
  {
   "cell_type": "code",
   "execution_count": null,
   "metadata": {},
   "outputs": [],
   "source": []
  },
  {
   "cell_type": "code",
   "execution_count": 74,
   "metadata": {
    "execution": {
     "iopub.execute_input": "2021-09-21T11:40:51.008952Z",
     "iopub.status.busy": "2021-09-21T11:40:51.008952Z",
     "iopub.status.idle": "2021-09-21T11:40:51.029252Z",
     "shell.execute_reply": "2021-09-21T11:40:51.029252Z"
    }
   },
   "outputs": [],
   "source": [
    "#WRITING TO CSVS\n",
    "df1_district.to_csv('district-peaks.csv',index=False)\n",
    "df1_stwise.to_csv('state-peaks.csv',index=False)\n",
    "df1_ovall_peak.to_csv('overall-peaks.csv',index=False)\n"
   ]
  },
  {
   "cell_type": "markdown",
   "metadata": {},
   "source": [
    "# FINISHED"
   ]
  },
  {
   "cell_type": "code",
   "execution_count": null,
   "metadata": {},
   "outputs": [],
   "source": []
  }
 ],
 "metadata": {
  "kernelspec": {
   "display_name": "Python 3",
   "language": "python",
   "name": "python3"
  },
  "language_info": {
   "codemirror_mode": {
    "name": "ipython",
    "version": 3
   },
   "file_extension": ".py",
   "mimetype": "text/x-python",
   "name": "python",
   "nbconvert_exporter": "python",
   "pygments_lexer": "ipython3",
   "version": "3.8.8"
  }
 },
 "nbformat": 4,
 "nbformat_minor": 2
}
