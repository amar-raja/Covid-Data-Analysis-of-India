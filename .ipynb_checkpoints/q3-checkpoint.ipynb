{
 "cells": [
  {
   "cell_type": "markdown",
   "id": "fc1c4c2c",
   "metadata": {},
   "source": [
    "## find the number of cases for each district "
   ]
  },
  {
   "cell_type": "markdown",
   "id": "2fb71a29",
   "metadata": {},
   "source": [
    "## ANALYSIS FROM 24-06-2020 to 14-08-2021"
   ]
  },
  {
   "cell_type": "code",
   "execution_count": 1,
   "id": "deb49c24",
   "metadata": {
    "execution": {
     "iopub.execute_input": "2021-09-21T11:39:29.450735Z",
     "iopub.status.busy": "2021-09-21T11:39:29.450735Z",
     "iopub.status.idle": "2021-09-21T11:39:30.472910Z",
     "shell.execute_reply": "2021-09-21T11:39:30.472910Z"
    }
   },
   "outputs": [],
   "source": [
    "import numpy as np\n",
    "import pandas as pd\n",
    "import datetime"
   ]
  },
  {
   "cell_type": "code",
   "execution_count": 2,
   "id": "9e897100",
   "metadata": {
    "execution": {
     "iopub.execute_input": "2021-09-21T11:39:30.484212Z",
     "iopub.status.busy": "2021-09-21T11:39:30.484212Z",
     "iopub.status.idle": "2021-09-21T11:39:31.495880Z",
     "shell.execute_reply": "2021-09-21T11:39:31.495880Z"
    }
   },
   "outputs": [],
   "source": [
    "df = pd.read_csv(r'districts.csv',parse_dates=['Date'],usecols=['Date', 'State', 'District', 'Confirmed'])\n",
    "# index_col=['District','State','Date']"
   ]
  },
  {
   "cell_type": "code",
   "execution_count": 3,
   "id": "03de7fd4",
   "metadata": {
    "execution": {
     "iopub.execute_input": "2021-09-21T11:39:31.505951Z",
     "iopub.status.busy": "2021-09-21T11:39:31.505951Z",
     "iopub.status.idle": "2021-09-21T11:39:31.596566Z",
     "shell.execute_reply": "2021-09-21T11:39:31.596566Z"
    }
   },
   "outputs": [
    {
     "data": {
      "text/plain": [
       "(307246, 4)"
      ]
     },
     "execution_count": 3,
     "metadata": {},
     "output_type": "execute_result"
    }
   ],
   "source": [
    "#REMOVING EXTRA DATES AS ANALYSIS REQUIRES ONLY UPTO AUG14\n",
    "ind = df[df['Date'] > '2021-08-14'].index\n",
    "df.drop(ind,inplace=True)\n",
    "df.head()\n",
    "df.shape"
   ]
  },
  {
   "cell_type": "code",
   "execution_count": 4,
   "id": "742edef0",
   "metadata": {
    "execution": {
     "iopub.execute_input": "2021-09-21T11:39:31.606633Z",
     "iopub.status.busy": "2021-09-21T11:39:31.606633Z",
     "iopub.status.idle": "2021-09-21T11:39:31.657004Z",
     "shell.execute_reply": "2021-09-21T11:39:31.657004Z"
    }
   },
   "outputs": [],
   "source": [
    "#Combining state id and district id\n",
    "state_code = pd.read_csv(r'district_wise.csv',usecols=['State_Code','State'])"
   ]
  },
  {
   "cell_type": "code",
   "execution_count": 5,
   "id": "d960756d",
   "metadata": {
    "execution": {
     "iopub.execute_input": "2021-09-21T11:39:31.667083Z",
     "iopub.status.busy": "2021-09-21T11:39:31.667083Z",
     "iopub.status.idle": "2021-09-21T11:39:31.677156Z",
     "shell.execute_reply": "2021-09-21T11:39:31.677156Z"
    }
   },
   "outputs": [],
   "source": [
    "s = state_code['State'].unique()                  #STATENAME\n",
    "sc = state_code['State_Code'].unique()            #STATECODE"
   ]
  },
  {
   "cell_type": "code",
   "execution_count": 6,
   "id": "6762d5bf",
   "metadata": {
    "execution": {
     "iopub.execute_input": "2021-09-21T11:39:31.687217Z",
     "iopub.status.busy": "2021-09-21T11:39:31.687217Z",
     "iopub.status.idle": "2021-09-21T11:39:31.697313Z",
     "shell.execute_reply": "2021-09-21T11:39:31.697313Z"
    }
   },
   "outputs": [],
   "source": [
    "#creating a dict with statename and its state id\n",
    "mapping = {}\n",
    "for i in range(len(s)):\n",
    "    mapping[s[i]] = sc[i]"
   ]
  },
  {
   "cell_type": "markdown",
   "id": "81432da1",
   "metadata": {},
   "source": [
    "USING THE ABOVE MAPPING WE CONSTRUCT DISTRICTID"
   ]
  },
  {
   "cell_type": "code",
   "execution_count": 7,
   "id": "ec20123d",
   "metadata": {
    "execution": {
     "iopub.execute_input": "2021-09-21T11:39:31.757807Z",
     "iopub.status.busy": "2021-09-21T11:39:31.707383Z",
     "iopub.status.idle": "2021-09-21T11:39:31.777950Z",
     "shell.execute_reply": "2021-09-21T11:39:31.777950Z"
    }
   },
   "outputs": [],
   "source": [
    "tdf=df.loc[:,'State'].map(mapping)\n",
    "df['State'] = tdf"
   ]
  },
  {
   "cell_type": "code",
   "execution_count": 8,
   "id": "a2caca99",
   "metadata": {
    "execution": {
     "iopub.execute_input": "2021-09-21T11:39:31.856529Z",
     "iopub.status.busy": "2021-09-21T11:39:31.848477Z",
     "iopub.status.idle": "2021-09-21T11:39:31.999883Z",
     "shell.execute_reply": "2021-09-21T11:39:31.999883Z"
    }
   },
   "outputs": [],
   "source": [
    "df['District id'] = df['State'].astype(str)+'_'+df['District']\n",
    "df = df[['District id','Date','Confirmed']]"
   ]
  },
  {
   "cell_type": "code",
   "execution_count": 9,
   "id": "d3cacdee",
   "metadata": {
    "execution": {
     "iopub.execute_input": "2021-09-21T11:39:32.007909Z",
     "iopub.status.busy": "2021-09-21T11:39:31.999883Z",
     "iopub.status.idle": "2021-09-21T11:39:32.019977Z",
     "shell.execute_reply": "2021-09-21T11:39:32.019977Z"
    }
   },
   "outputs": [],
   "source": [
    "# df.head()"
   ]
  },
  {
   "cell_type": "code",
   "execution_count": 10,
   "id": "c3233c3b",
   "metadata": {
    "execution": {
     "iopub.execute_input": "2021-09-21T11:39:32.028002Z",
     "iopub.status.busy": "2021-09-21T11:39:32.028002Z",
     "iopub.status.idle": "2021-09-21T11:39:32.040105Z",
     "shell.execute_reply": "2021-09-21T11:39:32.040105Z"
    }
   },
   "outputs": [],
   "source": [
    "# COPY OF DATAFRAME\n",
    "newdf = df.copy()\n",
    "#SETTING DATE COLUMNS AS INDEX\n",
    "newdf.set_index('Date',inplace=True)"
   ]
  },
  {
   "cell_type": "code",
   "execution_count": null,
   "id": "e11e936e",
   "metadata": {},
   "outputs": [],
   "source": []
  },
  {
   "cell_type": "markdown",
   "id": "23f0d2c7",
   "metadata": {},
   "source": [
    "THIS FUNCTION TAKES EACH DISTRICTID AND CALCULATES NUMBER OF CASES IN EACH WEAK AND RETURNS THE DATAFRAME"
   ]
  },
  {
   "cell_type": "code",
   "execution_count": 11,
   "id": "012cf9bc",
   "metadata": {
    "execution": {
     "iopub.execute_input": "2021-09-21T11:39:32.040105Z",
     "iopub.status.busy": "2021-09-21T11:39:32.040105Z",
     "iopub.status.idle": "2021-09-21T11:39:32.060185Z",
     "shell.execute_reply": "2021-09-21T11:39:32.060185Z"
    }
   },
   "outputs": [],
   "source": [
    "def thefunc_week(name):\n",
    "    dfsub = newdf.loc[newdf['District id']==name]\n",
    "    def first_last(df1):\n",
    "        return df1.iloc[[-1]]\n",
    "\n",
    "    dfsub=dfsub.resample('W-SAT').apply(first_last)\n",
    "\n",
    "    val= dfsub['Confirmed'][0]\n",
    "    dfsub1 = dfsub.copy()\n",
    "    dfsub1['Confirmed'] = dfsub.Confirmed.diff()\n",
    "    dfsub1['Confirmed'].fillna(value=val,inplace=True)\n",
    "    dfsub1 = dfsub1.astype({'Confirmed': 'int'})\n",
    "    \n",
    "    return dfsub1"
   ]
  },
  {
   "cell_type": "code",
   "execution_count": 12,
   "id": "e33697d4",
   "metadata": {
    "execution": {
     "iopub.execute_input": "2021-09-21T11:39:32.080128Z",
     "iopub.status.busy": "2021-09-21T11:39:32.078603Z",
     "iopub.status.idle": "2021-09-21T11:39:32.100236Z",
     "shell.execute_reply": "2021-09-21T11:39:32.100236Z"
    }
   },
   "outputs": [],
   "source": [
    "#DISTRICT_names\n",
    "dist_names = newdf['District id'].unique()"
   ]
  },
  {
   "cell_type": "code",
   "execution_count": 13,
   "id": "9fc1e9a7",
   "metadata": {
    "execution": {
     "iopub.execute_input": "2021-09-21T11:39:32.100236Z",
     "iopub.status.busy": "2021-09-21T11:39:32.100236Z",
     "iopub.status.idle": "2021-09-21T11:39:32.120321Z",
     "shell.execute_reply": "2021-09-21T11:39:32.120321Z"
    }
   },
   "outputs": [],
   "source": [
    "# COLLECTION OF ALL DISTRICTS IN A LIST\n",
    "coll_df = []"
   ]
  },
  {
   "cell_type": "code",
   "execution_count": 14,
   "id": "8d8702c6",
   "metadata": {
    "execution": {
     "iopub.execute_input": "2021-09-21T11:39:32.168552Z",
     "iopub.status.busy": "2021-09-21T11:39:32.168552Z",
     "iopub.status.idle": "2021-09-21T11:39:58.401400Z",
     "shell.execute_reply": "2021-09-21T11:39:58.399335Z"
    }
   },
   "outputs": [],
   "source": [
    "#SOME OF THE ARE REMOVED WHICH ARE NOT NECESSARY FOR ANALYSIS\n",
    "# LIKE \"UNKNOWN DISTRICTS\"\n",
    "avoid_list = ['TN_Unknown','NL_Unknown','WB_Unknown','MP_Katni','MP_Niwari','MH_Unknown','TR_Unknown','CT_Unknown',\n",
    "             'JH_Unknown','ML_Unknown','MP_Unknown']\n",
    "for i in range(len(dist_names)):\n",
    "    if dist_names[i] in avoid_list:\n",
    "        continue\n",
    "        \n",
    "    st=thefunc_week(dist_names[i])   #each district id dataframe\n",
    "    coll_df.append(st)         #appending to a list"
   ]
  },
  {
   "cell_type": "code",
   "execution_count": 15,
   "id": "8382a3a1",
   "metadata": {
    "execution": {
     "iopub.execute_input": "2021-09-21T11:39:58.411570Z",
     "iopub.status.busy": "2021-09-21T11:39:58.411570Z",
     "iopub.status.idle": "2021-09-21T11:39:58.482759Z",
     "shell.execute_reply": "2021-09-21T11:39:58.480660Z"
    }
   },
   "outputs": [],
   "source": [
    "#final df without weaknum\n",
    "finaldf_week = pd.concat(coll_df)\n",
    "finaldf_week.reset_index(inplace=True)"
   ]
  },
  {
   "cell_type": "code",
   "execution_count": 16,
   "id": "9573c0de",
   "metadata": {
    "execution": {
     "iopub.execute_input": "2021-09-21T11:39:58.482759Z",
     "iopub.status.busy": "2021-09-21T11:39:58.482759Z",
     "iopub.status.idle": "2021-09-21T11:39:58.503266Z",
     "shell.execute_reply": "2021-09-21T11:39:58.501213Z"
    }
   },
   "outputs": [
    {
     "data": {
      "text/plain": [
       "(43836, 3)"
      ]
     },
     "execution_count": 16,
     "metadata": {},
     "output_type": "execute_result"
    }
   ],
   "source": [
    "finaldf_week.shape"
   ]
  },
  {
   "cell_type": "markdown",
   "id": "cc163541",
   "metadata": {},
   "source": [
    "## DATE and WEak num mapping"
   ]
  },
  {
   "cell_type": "code",
   "execution_count": 17,
   "id": "5de47d16",
   "metadata": {
    "execution": {
     "iopub.execute_input": "2021-09-21T11:39:58.503266Z",
     "iopub.status.busy": "2021-09-21T11:39:58.503266Z",
     "iopub.status.idle": "2021-09-21T11:39:58.521481Z",
     "shell.execute_reply": "2021-09-21T11:39:58.521481Z"
    }
   },
   "outputs": [],
   "source": [
    "weak_ranges = pd.date_range('2020-04-26','2021-08-14',freq='W-SAT')    #WEEK ENDS ON SATURDAY (sunday to saturday)"
   ]
  },
  {
   "cell_type": "code",
   "execution_count": 18,
   "id": "f70a248d",
   "metadata": {
    "execution": {
     "iopub.execute_input": "2021-09-21T11:39:58.523542Z",
     "iopub.status.busy": "2021-09-21T11:39:58.523542Z",
     "iopub.status.idle": "2021-09-21T11:39:58.541731Z",
     "shell.execute_reply": "2021-09-21T11:39:58.543787Z"
    }
   },
   "outputs": [],
   "source": [
    "#creating a series \n",
    "myseries = pd.Series(weak_ranges, index=range(1,69))  #as ther are  68weeks"
   ]
  },
  {
   "cell_type": "code",
   "execution_count": 19,
   "id": "28426007",
   "metadata": {
    "execution": {
     "iopub.execute_input": "2021-09-21T11:39:58.543787Z",
     "iopub.status.busy": "2021-09-21T11:39:58.543787Z",
     "iopub.status.idle": "2021-09-21T11:39:58.562025Z",
     "shell.execute_reply": "2021-09-21T11:39:58.562025Z"
    }
   },
   "outputs": [],
   "source": [
    "def assign_weak_num(check):\n",
    "    m = myseries[myseries <= check].index\n",
    "    a=m[-1]         #ASSIGNING A WEAK NUM\n",
    "    return a\n",
    "    "
   ]
  },
  {
   "cell_type": "code",
   "execution_count": 20,
   "id": "c8e84a5b",
   "metadata": {
    "execution": {
     "iopub.execute_input": "2021-09-21T11:39:58.602430Z",
     "iopub.status.busy": "2021-09-21T11:39:58.602430Z",
     "iopub.status.idle": "2021-09-21T11:40:07.043116Z",
     "shell.execute_reply": "2021-09-21T11:40:07.045247Z"
    }
   },
   "outputs": [],
   "source": [
    "finaldf_week['new'] = finaldf_week.Date.apply(assign_weak_num)"
   ]
  },
  {
   "cell_type": "code",
   "execution_count": 21,
   "id": "38f8cac4",
   "metadata": {
    "execution": {
     "iopub.execute_input": "2021-09-21T11:40:07.045247Z",
     "iopub.status.busy": "2021-09-21T11:40:07.045247Z",
     "iopub.status.idle": "2021-09-21T11:40:07.065780Z",
     "shell.execute_reply": "2021-09-21T11:40:07.065678Z"
    }
   },
   "outputs": [
    {
     "data": {
      "text/html": [
       "<div>\n",
       "<style scoped>\n",
       "    .dataframe tbody tr th:only-of-type {\n",
       "        vertical-align: middle;\n",
       "    }\n",
       "\n",
       "    .dataframe tbody tr th {\n",
       "        vertical-align: top;\n",
       "    }\n",
       "\n",
       "    .dataframe thead th {\n",
       "        text-align: right;\n",
       "    }\n",
       "</style>\n",
       "<table border=\"1\" class=\"dataframe\">\n",
       "  <thead>\n",
       "    <tr style=\"text-align: right;\">\n",
       "      <th></th>\n",
       "      <th>Date</th>\n",
       "      <th>District id</th>\n",
       "      <th>Confirmed</th>\n",
       "      <th>new</th>\n",
       "    </tr>\n",
       "  </thead>\n",
       "  <tbody>\n",
       "    <tr>\n",
       "      <th>0</th>\n",
       "      <td>2020-05-02</td>\n",
       "      <td>AN_Unknown</td>\n",
       "      <td>33</td>\n",
       "      <td>1</td>\n",
       "    </tr>\n",
       "    <tr>\n",
       "      <th>1</th>\n",
       "      <td>2020-05-09</td>\n",
       "      <td>AN_Unknown</td>\n",
       "      <td>0</td>\n",
       "      <td>2</td>\n",
       "    </tr>\n",
       "    <tr>\n",
       "      <th>2</th>\n",
       "      <td>2020-05-16</td>\n",
       "      <td>AN_Unknown</td>\n",
       "      <td>0</td>\n",
       "      <td>3</td>\n",
       "    </tr>\n",
       "    <tr>\n",
       "      <th>3</th>\n",
       "      <td>2020-05-23</td>\n",
       "      <td>AN_Unknown</td>\n",
       "      <td>0</td>\n",
       "      <td>4</td>\n",
       "    </tr>\n",
       "    <tr>\n",
       "      <th>4</th>\n",
       "      <td>2020-05-30</td>\n",
       "      <td>AN_Unknown</td>\n",
       "      <td>0</td>\n",
       "      <td>5</td>\n",
       "    </tr>\n",
       "  </tbody>\n",
       "</table>\n",
       "</div>"
      ],
      "text/plain": [
       "        Date District id  Confirmed  new\n",
       "0 2020-05-02  AN_Unknown         33    1\n",
       "1 2020-05-09  AN_Unknown          0    2\n",
       "2 2020-05-16  AN_Unknown          0    3\n",
       "3 2020-05-23  AN_Unknown          0    4\n",
       "4 2020-05-30  AN_Unknown          0    5"
      ]
     },
     "execution_count": 21,
     "metadata": {},
     "output_type": "execute_result"
    }
   ],
   "source": [
    "finaldf_week.head()"
   ]
  },
  {
   "cell_type": "code",
   "execution_count": 22,
   "id": "19d0d276",
   "metadata": {
    "execution": {
     "iopub.execute_input": "2021-09-21T11:40:07.065780Z",
     "iopub.status.busy": "2021-09-21T11:40:07.065780Z",
     "iopub.status.idle": "2021-09-21T11:40:07.084403Z",
     "shell.execute_reply": "2021-09-21T11:40:07.084403Z"
    }
   },
   "outputs": [],
   "source": [
    "finaldf_week.rename(columns={'District id':'districtid','new':'timeid','Confirmed':'cases'},inplace=True)\n",
    "finaldf_week = finaldf_week[['districtid','timeid','cases']]\n"
   ]
  },
  {
   "cell_type": "code",
   "execution_count": 23,
   "id": "61a0410a",
   "metadata": {
    "execution": {
     "iopub.execute_input": "2021-09-21T11:40:07.084403Z",
     "iopub.status.busy": "2021-09-21T11:40:07.084403Z",
     "iopub.status.idle": "2021-09-21T11:40:07.162790Z",
     "shell.execute_reply": "2021-09-21T11:40:07.162790Z"
    }
   },
   "outputs": [],
   "source": [
    "finaldf_week.to_csv('cases-week.csv',index=False)"
   ]
  },
  {
   "cell_type": "code",
   "execution_count": null,
   "id": "2f943528",
   "metadata": {},
   "outputs": [],
   "source": []
  },
  {
   "cell_type": "markdown",
   "id": "e82db8b7",
   "metadata": {},
   "source": [
    "### ANALYSIS MONTHLYWISE"
   ]
  },
  {
   "cell_type": "code",
   "execution_count": 24,
   "id": "0d0b7529",
   "metadata": {
    "execution": {
     "iopub.execute_input": "2021-09-21T11:40:07.162790Z",
     "iopub.status.busy": "2021-09-21T11:40:07.162790Z",
     "iopub.status.idle": "2021-09-21T11:40:07.178415Z",
     "shell.execute_reply": "2021-09-21T11:40:07.178415Z"
    }
   },
   "outputs": [],
   "source": [
    "# CRATING MONTH SEQUENCE (16months)\n",
    "mdates = [['2020-04-15','2020-05-14'],['2020-05-15','2020-06-14'],['2020-06-15','2020-07-14'],['2020-07-15','2020-08-14'],\n",
    "         ['2020-08-15','2020-09-14'],['2020-09-15','2020-10-14'],['2020-10-15','2020-11-14'],['2020-11-15','2020-12-14'],\n",
    "         ['2020-12-15','2021-01-14'],['2021-01-15','2021-02-14'],['2021-02-15','2021-03-14'],['2021-03-15','2021-04-14'],\n",
    "          ['2021-04-15','2021-05-14'],['2021-05-15','2021-06-14'],['2021-06-15','2021-07-14'],['2021-07-15','2021-08-14']]"
   ]
  },
  {
   "cell_type": "code",
   "execution_count": 25,
   "id": "6bb3565c",
   "metadata": {
    "execution": {
     "iopub.execute_input": "2021-09-21T11:40:07.184461Z",
     "iopub.status.busy": "2021-09-21T11:40:07.184461Z",
     "iopub.status.idle": "2021-09-21T11:40:07.200347Z",
     "shell.execute_reply": "2021-09-21T11:40:07.200347Z"
    }
   },
   "outputs": [],
   "source": [
    "# CONVERTING INTO PANDAS DATETIME\n",
    "for i in range(len(mdates)):\n",
    "    mdates[i][0]=pd.to_datetime(mdates[i][0])\n",
    "    mdates[i][1]=pd.to_datetime(mdates[i][1])"
   ]
  },
  {
   "cell_type": "code",
   "execution_count": 26,
   "id": "2fba193d",
   "metadata": {
    "execution": {
     "iopub.execute_input": "2021-09-21T11:40:07.200347Z",
     "iopub.status.busy": "2021-09-21T11:40:07.200347Z",
     "iopub.status.idle": "2021-09-21T11:40:07.216093Z",
     "shell.execute_reply": "2021-09-21T11:40:07.216093Z"
    }
   },
   "outputs": [],
   "source": [
    "def thefunc(name):   #MONTH ANALYSIS FUNCTION\n",
    "    dfsub = newdf.loc[newdf['District id']==name]        #string into another DF\n",
    "    \n",
    "    def first_last(df1):          #AS DATA IS CUMULATIVE WE MAKE USE OF LAST ROW IN EACH STATE\n",
    "        return df1.iloc[[-1]]\n",
    "    \n",
    "    dfsub1= dfsub[0:0]  #creating an empty dataframe\n",
    "    dfsub1['Month'] = 0\n",
    "    \n",
    "    ls=[]\n",
    "    for i in range(len(mdates)):\n",
    "        try:\n",
    "            row = (dfsub[mdates[i][0]:mdates[i][1]][-1:])\n",
    "        \n",
    "            d = pd.DataFrame(row)\n",
    "            if len(d.index) == 0:\n",
    "                continue\n",
    "            dfsub1 = pd.concat([dfsub1,d])\n",
    "            ls.append(i+1)\n",
    "        except:\n",
    "            continue\n",
    "            \n",
    "    dfsub1['Month'] = ls    #ASSINING MONTHID\n",
    "    \n",
    "    val= dfsub1['Confirmed'][0]\n",
    "    #dfsub1 HAS ALL CUMULATIVE TILL RSPECTIV LAST DATE OF MONTH\n",
    "    \n",
    "    dfsub2 = dfsub1.copy()\n",
    "    \n",
    "    #HERE WE SUBSTRACT FROM ABOVE MONTH WHICH GIVES RESPECTIVE MONTH CASES\n",
    "    dfsub2['Confirmed'] = dfsub1.Confirmed.diff()\n",
    "    #TOOVERCCOME \"DIFF\"func NA in FIRST ROW\n",
    "    dfsub2['Confirmed'].fillna(value=val,inplace=True)\n",
    "    dfsub2 = dfsub2.astype({'Confirmed': 'int'})\n",
    "    \n",
    "    return dfsub2\n"
   ]
  },
  {
   "cell_type": "code",
   "execution_count": 27,
   "id": "53a1e615",
   "metadata": {
    "execution": {
     "iopub.execute_input": "2021-09-21T11:40:07.216093Z",
     "iopub.status.busy": "2021-09-21T11:40:07.216093Z",
     "iopub.status.idle": "2021-09-21T11:40:07.231835Z",
     "shell.execute_reply": "2021-09-21T11:40:07.231835Z"
    }
   },
   "outputs": [],
   "source": [
    "coll_df2 = []         #LIST OF ALL DISTRICTS"
   ]
  },
  {
   "cell_type": "code",
   "execution_count": 28,
   "id": "531650de",
   "metadata": {
    "execution": {
     "iopub.execute_input": "2021-09-21T11:40:07.231835Z",
     "iopub.status.busy": "2021-09-21T11:40:07.231835Z",
     "iopub.status.idle": "2021-09-21T11:40:07.247619Z",
     "shell.execute_reply": "2021-09-21T11:40:07.247619Z"
    }
   },
   "outputs": [
    {
     "data": {
      "text/plain": [
       "[]"
      ]
     },
     "execution_count": 28,
     "metadata": {},
     "output_type": "execute_result"
    }
   ],
   "source": [
    "coll_df2"
   ]
  },
  {
   "cell_type": "code",
   "execution_count": 29,
   "id": "107c8350",
   "metadata": {
    "execution": {
     "iopub.execute_input": "2021-09-21T11:40:07.284994Z",
     "iopub.status.busy": "2021-09-21T11:40:07.262645Z",
     "iopub.status.idle": "2021-09-21T11:40:29.787508Z",
     "shell.execute_reply": "2021-09-21T11:40:29.787508Z"
    }
   },
   "outputs": [],
   "source": [
    "# CALCULATING FOR EACH DISTRICT\n",
    "for i in range(len(dist_names)):\n",
    "    st=thefunc(dist_names[i])   \n",
    "    coll_df2.append(st)\n",
    "    \n"
   ]
  },
  {
   "cell_type": "code",
   "execution_count": 30,
   "id": "98b05d89",
   "metadata": {
    "execution": {
     "iopub.execute_input": "2021-09-21T11:40:29.805781Z",
     "iopub.status.busy": "2021-09-21T11:40:29.805781Z",
     "iopub.status.idle": "2021-09-21T11:40:29.868519Z",
     "shell.execute_reply": "2021-09-21T11:40:29.868519Z"
    }
   },
   "outputs": [],
   "source": [
    "#COLLECTION OF ALL DISTRICTS INTO A SINGLE DATAFRAME\n",
    "finaldf2 = pd.concat(coll_df2)\n",
    "finaldf2.reset_index(inplace=True)"
   ]
  },
  {
   "cell_type": "code",
   "execution_count": 31,
   "id": "207cd0f3",
   "metadata": {
    "execution": {
     "iopub.execute_input": "2021-09-21T11:40:29.876575Z",
     "iopub.status.busy": "2021-09-21T11:40:29.876575Z",
     "iopub.status.idle": "2021-09-21T11:40:29.888751Z",
     "shell.execute_reply": "2021-09-21T11:40:29.888751Z"
    }
   },
   "outputs": [
    {
     "data": {
      "text/html": [
       "<div>\n",
       "<style scoped>\n",
       "    .dataframe tbody tr th:only-of-type {\n",
       "        vertical-align: middle;\n",
       "    }\n",
       "\n",
       "    .dataframe tbody tr th {\n",
       "        vertical-align: top;\n",
       "    }\n",
       "\n",
       "    .dataframe thead th {\n",
       "        text-align: right;\n",
       "    }\n",
       "</style>\n",
       "<table border=\"1\" class=\"dataframe\">\n",
       "  <thead>\n",
       "    <tr style=\"text-align: right;\">\n",
       "      <th></th>\n",
       "      <th>Date</th>\n",
       "      <th>District id</th>\n",
       "      <th>Confirmed</th>\n",
       "      <th>Month</th>\n",
       "    </tr>\n",
       "  </thead>\n",
       "  <tbody>\n",
       "    <tr>\n",
       "      <th>0</th>\n",
       "      <td>2020-05-14</td>\n",
       "      <td>AN_Unknown</td>\n",
       "      <td>33</td>\n",
       "      <td>1</td>\n",
       "    </tr>\n",
       "    <tr>\n",
       "      <th>1</th>\n",
       "      <td>2020-06-14</td>\n",
       "      <td>AN_Unknown</td>\n",
       "      <td>7</td>\n",
       "      <td>2</td>\n",
       "    </tr>\n",
       "    <tr>\n",
       "      <th>2</th>\n",
       "      <td>2020-07-14</td>\n",
       "      <td>AN_Unknown</td>\n",
       "      <td>131</td>\n",
       "      <td>3</td>\n",
       "    </tr>\n",
       "    <tr>\n",
       "      <th>3</th>\n",
       "      <td>2020-08-14</td>\n",
       "      <td>AN_Unknown</td>\n",
       "      <td>2015</td>\n",
       "      <td>4</td>\n",
       "    </tr>\n",
       "    <tr>\n",
       "      <th>4</th>\n",
       "      <td>2020-09-14</td>\n",
       "      <td>AN_Unknown</td>\n",
       "      <td>1371</td>\n",
       "      <td>5</td>\n",
       "    </tr>\n",
       "    <tr>\n",
       "      <th>...</th>\n",
       "      <td>...</td>\n",
       "      <td>...</td>\n",
       "      <td>...</td>\n",
       "      <td>...</td>\n",
       "    </tr>\n",
       "    <tr>\n",
       "      <th>10384</th>\n",
       "      <td>2021-07-14</td>\n",
       "      <td>LD_Lakshadweep</td>\n",
       "      <td>800</td>\n",
       "      <td>15</td>\n",
       "    </tr>\n",
       "    <tr>\n",
       "      <th>10385</th>\n",
       "      <td>2021-08-14</td>\n",
       "      <td>LD_Lakshadweep</td>\n",
       "      <td>249</td>\n",
       "      <td>16</td>\n",
       "    </tr>\n",
       "    <tr>\n",
       "      <th>10386</th>\n",
       "      <td>2021-07-14</td>\n",
       "      <td>TN_Mayiladuthurai</td>\n",
       "      <td>20590</td>\n",
       "      <td>15</td>\n",
       "    </tr>\n",
       "    <tr>\n",
       "      <th>10387</th>\n",
       "      <td>2021-08-14</td>\n",
       "      <td>TN_Mayiladuthurai</td>\n",
       "      <td>809</td>\n",
       "      <td>16</td>\n",
       "    </tr>\n",
       "    <tr>\n",
       "      <th>10388</th>\n",
       "      <td>2021-07-21</td>\n",
       "      <td>KL_Unknown</td>\n",
       "      <td>0</td>\n",
       "      <td>16</td>\n",
       "    </tr>\n",
       "  </tbody>\n",
       "</table>\n",
       "<p>10389 rows × 4 columns</p>\n",
       "</div>"
      ],
      "text/plain": [
       "            Date        District id  Confirmed  Month\n",
       "0     2020-05-14         AN_Unknown         33      1\n",
       "1     2020-06-14         AN_Unknown          7      2\n",
       "2     2020-07-14         AN_Unknown        131      3\n",
       "3     2020-08-14         AN_Unknown       2015      4\n",
       "4     2020-09-14         AN_Unknown       1371      5\n",
       "...          ...                ...        ...    ...\n",
       "10384 2021-07-14     LD_Lakshadweep        800     15\n",
       "10385 2021-08-14     LD_Lakshadweep        249     16\n",
       "10386 2021-07-14  TN_Mayiladuthurai      20590     15\n",
       "10387 2021-08-14  TN_Mayiladuthurai        809     16\n",
       "10388 2021-07-21         KL_Unknown          0     16\n",
       "\n",
       "[10389 rows x 4 columns]"
      ]
     },
     "execution_count": 31,
     "metadata": {},
     "output_type": "execute_result"
    }
   ],
   "source": [
    "finaldf2"
   ]
  },
  {
   "cell_type": "code",
   "execution_count": 32,
   "id": "cad09c6b",
   "metadata": {
    "execution": {
     "iopub.execute_input": "2021-09-21T11:40:29.908912Z",
     "iopub.status.busy": "2021-09-21T11:40:29.908912Z",
     "iopub.status.idle": "2021-09-21T11:40:29.929552Z",
     "shell.execute_reply": "2021-09-21T11:40:29.929552Z"
    }
   },
   "outputs": [
    {
     "data": {
      "text/html": [
       "<div>\n",
       "<style scoped>\n",
       "    .dataframe tbody tr th:only-of-type {\n",
       "        vertical-align: middle;\n",
       "    }\n",
       "\n",
       "    .dataframe tbody tr th {\n",
       "        vertical-align: top;\n",
       "    }\n",
       "\n",
       "    .dataframe thead th {\n",
       "        text-align: right;\n",
       "    }\n",
       "</style>\n",
       "<table border=\"1\" class=\"dataframe\">\n",
       "  <thead>\n",
       "    <tr style=\"text-align: right;\">\n",
       "      <th></th>\n",
       "      <th>districtid</th>\n",
       "      <th>timeid</th>\n",
       "      <th>cases</th>\n",
       "    </tr>\n",
       "  </thead>\n",
       "  <tbody>\n",
       "    <tr>\n",
       "      <th>0</th>\n",
       "      <td>AN_Unknown</td>\n",
       "      <td>1</td>\n",
       "      <td>33</td>\n",
       "    </tr>\n",
       "    <tr>\n",
       "      <th>1</th>\n",
       "      <td>AN_Unknown</td>\n",
       "      <td>2</td>\n",
       "      <td>7</td>\n",
       "    </tr>\n",
       "    <tr>\n",
       "      <th>2</th>\n",
       "      <td>AN_Unknown</td>\n",
       "      <td>3</td>\n",
       "      <td>131</td>\n",
       "    </tr>\n",
       "    <tr>\n",
       "      <th>3</th>\n",
       "      <td>AN_Unknown</td>\n",
       "      <td>4</td>\n",
       "      <td>2015</td>\n",
       "    </tr>\n",
       "    <tr>\n",
       "      <th>4</th>\n",
       "      <td>AN_Unknown</td>\n",
       "      <td>5</td>\n",
       "      <td>1371</td>\n",
       "    </tr>\n",
       "    <tr>\n",
       "      <th>...</th>\n",
       "      <td>...</td>\n",
       "      <td>...</td>\n",
       "      <td>...</td>\n",
       "    </tr>\n",
       "    <tr>\n",
       "      <th>10384</th>\n",
       "      <td>LD_Lakshadweep</td>\n",
       "      <td>15</td>\n",
       "      <td>800</td>\n",
       "    </tr>\n",
       "    <tr>\n",
       "      <th>10385</th>\n",
       "      <td>LD_Lakshadweep</td>\n",
       "      <td>16</td>\n",
       "      <td>249</td>\n",
       "    </tr>\n",
       "    <tr>\n",
       "      <th>10386</th>\n",
       "      <td>TN_Mayiladuthurai</td>\n",
       "      <td>15</td>\n",
       "      <td>20590</td>\n",
       "    </tr>\n",
       "    <tr>\n",
       "      <th>10387</th>\n",
       "      <td>TN_Mayiladuthurai</td>\n",
       "      <td>16</td>\n",
       "      <td>809</td>\n",
       "    </tr>\n",
       "    <tr>\n",
       "      <th>10388</th>\n",
       "      <td>KL_Unknown</td>\n",
       "      <td>16</td>\n",
       "      <td>0</td>\n",
       "    </tr>\n",
       "  </tbody>\n",
       "</table>\n",
       "<p>10389 rows × 3 columns</p>\n",
       "</div>"
      ],
      "text/plain": [
       "              districtid  timeid  cases\n",
       "0             AN_Unknown       1     33\n",
       "1             AN_Unknown       2      7\n",
       "2             AN_Unknown       3    131\n",
       "3             AN_Unknown       4   2015\n",
       "4             AN_Unknown       5   1371\n",
       "...                  ...     ...    ...\n",
       "10384     LD_Lakshadweep      15    800\n",
       "10385     LD_Lakshadweep      16    249\n",
       "10386  TN_Mayiladuthurai      15  20590\n",
       "10387  TN_Mayiladuthurai      16    809\n",
       "10388         KL_Unknown      16      0\n",
       "\n",
       "[10389 rows x 3 columns]"
      ]
     },
     "execution_count": 32,
     "metadata": {},
     "output_type": "execute_result"
    }
   ],
   "source": [
    "finaldf2.rename(columns={'District id':'districtid','Month':'timeid','Confirmed':'cases'},inplace=True)\n",
    "finaldf2 = finaldf2[['districtid','timeid','cases']]\n",
    "finaldf2"
   ]
  },
  {
   "cell_type": "code",
   "execution_count": 33,
   "id": "5ebfaa79",
   "metadata": {
    "execution": {
     "iopub.execute_input": "2021-09-21T11:40:29.929552Z",
     "iopub.status.busy": "2021-09-21T11:40:29.929552Z",
     "iopub.status.idle": "2021-09-21T11:40:29.970804Z",
     "shell.execute_reply": "2021-09-21T11:40:29.970905Z"
    }
   },
   "outputs": [],
   "source": [
    "#WRITING INTO CSV FOR MONTHLY\n",
    "finaldf2.to_csv('cases-month.csv',index=False)"
   ]
  },
  {
   "cell_type": "code",
   "execution_count": null,
   "id": "341e9888",
   "metadata": {},
   "outputs": [],
   "source": []
  },
  {
   "cell_type": "markdown",
   "id": "9dd25484",
   "metadata": {},
   "source": [
    "### ANALYSIS OVERALL"
   ]
  },
  {
   "cell_type": "code",
   "execution_count": 34,
   "id": "352d1ef7",
   "metadata": {
    "execution": {
     "iopub.execute_input": "2021-09-21T11:40:29.970905Z",
     "iopub.status.busy": "2021-09-21T11:40:29.970905Z",
     "iopub.status.idle": "2021-09-21T11:40:29.991813Z",
     "shell.execute_reply": "2021-09-21T11:40:29.991717Z"
    }
   },
   "outputs": [],
   "source": [
    "def thefunc_overall(name):\n",
    "    dfsub = newdf.loc[newdf['District id']==name]\n",
    "    return dfsub.iloc[[-1]]                    #ASDATA IS CUMULATIVE\n",
    "    \n"
   ]
  },
  {
   "cell_type": "code",
   "execution_count": 35,
   "id": "5cddb6e2",
   "metadata": {
    "execution": {
     "iopub.execute_input": "2021-09-21T11:40:29.991813Z",
     "iopub.status.busy": "2021-09-21T11:40:29.991813Z",
     "iopub.status.idle": "2021-09-21T11:40:30.012514Z",
     "shell.execute_reply": "2021-09-21T11:40:30.012514Z"
    }
   },
   "outputs": [],
   "source": [
    "coll_df3 = []         #LIST OF ALL DISTRICTS"
   ]
  },
  {
   "cell_type": "code",
   "execution_count": 36,
   "id": "511dff5b",
   "metadata": {
    "execution": {
     "iopub.execute_input": "2021-09-21T11:40:30.043193Z",
     "iopub.status.busy": "2021-09-21T11:40:30.043193Z",
     "iopub.status.idle": "2021-09-21T11:40:42.161944Z",
     "shell.execute_reply": "2021-09-21T11:40:42.161848Z"
    }
   },
   "outputs": [],
   "source": [
    "# CALCULATING FOR EACH DISTRICT\n",
    "for i in range(len(dist_names)):\n",
    "    st=thefunc_overall(dist_names[i])   \n",
    "    coll_df3.append(st)\n",
    "    "
   ]
  },
  {
   "cell_type": "code",
   "execution_count": 37,
   "id": "9b8923fa",
   "metadata": {
    "execution": {
     "iopub.execute_input": "2021-09-21T11:40:42.170074Z",
     "iopub.status.busy": "2021-09-21T11:40:42.170074Z",
     "iopub.status.idle": "2021-09-21T11:40:42.222969Z",
     "shell.execute_reply": "2021-09-21T11:40:42.222969Z"
    }
   },
   "outputs": [],
   "source": [
    "#COLLECTION OF ALL DISTRICTS INTO A SINGLE DATAFRAME\n",
    "finaldf3 = pd.concat(coll_df3)\n",
    "finaldf3.reset_index(inplace=True)"
   ]
  },
  {
   "cell_type": "code",
   "execution_count": 38,
   "id": "e4d73fd3",
   "metadata": {
    "execution": {
     "iopub.execute_input": "2021-09-21T11:40:42.231036Z",
     "iopub.status.busy": "2021-09-21T11:40:42.222969Z",
     "iopub.status.idle": "2021-09-21T11:40:42.243233Z",
     "shell.execute_reply": "2021-09-21T11:40:42.243233Z"
    }
   },
   "outputs": [],
   "source": [
    "finaldf3['overall'] = 1  #ADDING TIMEID\n"
   ]
  },
  {
   "cell_type": "code",
   "execution_count": 39,
   "id": "b7d41752",
   "metadata": {
    "execution": {
     "iopub.execute_input": "2021-09-21T11:40:42.263435Z",
     "iopub.status.busy": "2021-09-21T11:40:42.263435Z",
     "iopub.status.idle": "2021-09-21T11:40:42.283942Z",
     "shell.execute_reply": "2021-09-21T11:40:42.283942Z"
    }
   },
   "outputs": [
    {
     "data": {
      "text/html": [
       "<div>\n",
       "<style scoped>\n",
       "    .dataframe tbody tr th:only-of-type {\n",
       "        vertical-align: middle;\n",
       "    }\n",
       "\n",
       "    .dataframe tbody tr th {\n",
       "        vertical-align: top;\n",
       "    }\n",
       "\n",
       "    .dataframe thead th {\n",
       "        text-align: right;\n",
       "    }\n",
       "</style>\n",
       "<table border=\"1\" class=\"dataframe\">\n",
       "  <thead>\n",
       "    <tr style=\"text-align: right;\">\n",
       "      <th></th>\n",
       "      <th>Date</th>\n",
       "      <th>District id</th>\n",
       "      <th>Confirmed</th>\n",
       "      <th>overall</th>\n",
       "    </tr>\n",
       "  </thead>\n",
       "  <tbody>\n",
       "    <tr>\n",
       "      <th>0</th>\n",
       "      <td>2021-08-14</td>\n",
       "      <td>AN_Unknown</td>\n",
       "      <td>7548</td>\n",
       "      <td>1</td>\n",
       "    </tr>\n",
       "    <tr>\n",
       "      <th>1</th>\n",
       "      <td>2021-08-14</td>\n",
       "      <td>AP_Anantapur</td>\n",
       "      <td>156771</td>\n",
       "      <td>1</td>\n",
       "    </tr>\n",
       "    <tr>\n",
       "      <th>2</th>\n",
       "      <td>2021-08-14</td>\n",
       "      <td>AP_Chittoor</td>\n",
       "      <td>234871</td>\n",
       "      <td>1</td>\n",
       "    </tr>\n",
       "    <tr>\n",
       "      <th>3</th>\n",
       "      <td>2021-08-14</td>\n",
       "      <td>AP_East Godavari</td>\n",
       "      <td>282389</td>\n",
       "      <td>1</td>\n",
       "    </tr>\n",
       "    <tr>\n",
       "      <th>4</th>\n",
       "      <td>2021-08-14</td>\n",
       "      <td>AP_Guntur</td>\n",
       "      <td>170493</td>\n",
       "      <td>1</td>\n",
       "    </tr>\n",
       "    <tr>\n",
       "      <th>...</th>\n",
       "      <td>...</td>\n",
       "      <td>...</td>\n",
       "      <td>...</td>\n",
       "      <td>...</td>\n",
       "    </tr>\n",
       "    <tr>\n",
       "      <th>675</th>\n",
       "      <td>2021-08-14</td>\n",
       "      <td>ML_South West Khasi Hills</td>\n",
       "      <td>2035</td>\n",
       "      <td>1</td>\n",
       "    </tr>\n",
       "    <tr>\n",
       "      <th>676</th>\n",
       "      <td>2021-08-14</td>\n",
       "      <td>OR_State Pool</td>\n",
       "      <td>27452</td>\n",
       "      <td>1</td>\n",
       "    </tr>\n",
       "    <tr>\n",
       "      <th>677</th>\n",
       "      <td>2021-08-14</td>\n",
       "      <td>LD_Lakshadweep</td>\n",
       "      <td>10285</td>\n",
       "      <td>1</td>\n",
       "    </tr>\n",
       "    <tr>\n",
       "      <th>678</th>\n",
       "      <td>2021-08-14</td>\n",
       "      <td>TN_Mayiladuthurai</td>\n",
       "      <td>21399</td>\n",
       "      <td>1</td>\n",
       "    </tr>\n",
       "    <tr>\n",
       "      <th>679</th>\n",
       "      <td>2021-07-21</td>\n",
       "      <td>KL_Unknown</td>\n",
       "      <td>0</td>\n",
       "      <td>1</td>\n",
       "    </tr>\n",
       "  </tbody>\n",
       "</table>\n",
       "<p>680 rows × 4 columns</p>\n",
       "</div>"
      ],
      "text/plain": [
       "          Date                District id  Confirmed  overall\n",
       "0   2021-08-14                 AN_Unknown       7548        1\n",
       "1   2021-08-14               AP_Anantapur     156771        1\n",
       "2   2021-08-14                AP_Chittoor     234871        1\n",
       "3   2021-08-14           AP_East Godavari     282389        1\n",
       "4   2021-08-14                  AP_Guntur     170493        1\n",
       "..         ...                        ...        ...      ...\n",
       "675 2021-08-14  ML_South West Khasi Hills       2035        1\n",
       "676 2021-08-14              OR_State Pool      27452        1\n",
       "677 2021-08-14             LD_Lakshadweep      10285        1\n",
       "678 2021-08-14          TN_Mayiladuthurai      21399        1\n",
       "679 2021-07-21                 KL_Unknown          0        1\n",
       "\n",
       "[680 rows x 4 columns]"
      ]
     },
     "execution_count": 39,
     "metadata": {},
     "output_type": "execute_result"
    }
   ],
   "source": [
    "finaldf3"
   ]
  },
  {
   "cell_type": "code",
   "execution_count": 40,
   "id": "d8613893",
   "metadata": {
    "execution": {
     "iopub.execute_input": "2021-09-21T11:40:42.304269Z",
     "iopub.status.busy": "2021-09-21T11:40:42.304269Z",
     "iopub.status.idle": "2021-09-21T11:40:42.322638Z",
     "shell.execute_reply": "2021-09-21T11:40:42.322638Z"
    }
   },
   "outputs": [
    {
     "data": {
      "text/html": [
       "<div>\n",
       "<style scoped>\n",
       "    .dataframe tbody tr th:only-of-type {\n",
       "        vertical-align: middle;\n",
       "    }\n",
       "\n",
       "    .dataframe tbody tr th {\n",
       "        vertical-align: top;\n",
       "    }\n",
       "\n",
       "    .dataframe thead th {\n",
       "        text-align: right;\n",
       "    }\n",
       "</style>\n",
       "<table border=\"1\" class=\"dataframe\">\n",
       "  <thead>\n",
       "    <tr style=\"text-align: right;\">\n",
       "      <th></th>\n",
       "      <th>districtid</th>\n",
       "      <th>timeid</th>\n",
       "      <th>cases</th>\n",
       "    </tr>\n",
       "  </thead>\n",
       "  <tbody>\n",
       "    <tr>\n",
       "      <th>0</th>\n",
       "      <td>AN_Unknown</td>\n",
       "      <td>1</td>\n",
       "      <td>7548</td>\n",
       "    </tr>\n",
       "    <tr>\n",
       "      <th>1</th>\n",
       "      <td>AP_Anantapur</td>\n",
       "      <td>1</td>\n",
       "      <td>156771</td>\n",
       "    </tr>\n",
       "    <tr>\n",
       "      <th>2</th>\n",
       "      <td>AP_Chittoor</td>\n",
       "      <td>1</td>\n",
       "      <td>234871</td>\n",
       "    </tr>\n",
       "    <tr>\n",
       "      <th>3</th>\n",
       "      <td>AP_East Godavari</td>\n",
       "      <td>1</td>\n",
       "      <td>282389</td>\n",
       "    </tr>\n",
       "    <tr>\n",
       "      <th>4</th>\n",
       "      <td>AP_Guntur</td>\n",
       "      <td>1</td>\n",
       "      <td>170493</td>\n",
       "    </tr>\n",
       "    <tr>\n",
       "      <th>...</th>\n",
       "      <td>...</td>\n",
       "      <td>...</td>\n",
       "      <td>...</td>\n",
       "    </tr>\n",
       "    <tr>\n",
       "      <th>675</th>\n",
       "      <td>ML_South West Khasi Hills</td>\n",
       "      <td>1</td>\n",
       "      <td>2035</td>\n",
       "    </tr>\n",
       "    <tr>\n",
       "      <th>676</th>\n",
       "      <td>OR_State Pool</td>\n",
       "      <td>1</td>\n",
       "      <td>27452</td>\n",
       "    </tr>\n",
       "    <tr>\n",
       "      <th>677</th>\n",
       "      <td>LD_Lakshadweep</td>\n",
       "      <td>1</td>\n",
       "      <td>10285</td>\n",
       "    </tr>\n",
       "    <tr>\n",
       "      <th>678</th>\n",
       "      <td>TN_Mayiladuthurai</td>\n",
       "      <td>1</td>\n",
       "      <td>21399</td>\n",
       "    </tr>\n",
       "    <tr>\n",
       "      <th>679</th>\n",
       "      <td>KL_Unknown</td>\n",
       "      <td>1</td>\n",
       "      <td>0</td>\n",
       "    </tr>\n",
       "  </tbody>\n",
       "</table>\n",
       "<p>680 rows × 3 columns</p>\n",
       "</div>"
      ],
      "text/plain": [
       "                    districtid  timeid   cases\n",
       "0                   AN_Unknown       1    7548\n",
       "1                 AP_Anantapur       1  156771\n",
       "2                  AP_Chittoor       1  234871\n",
       "3             AP_East Godavari       1  282389\n",
       "4                    AP_Guntur       1  170493\n",
       "..                         ...     ...     ...\n",
       "675  ML_South West Khasi Hills       1    2035\n",
       "676              OR_State Pool       1   27452\n",
       "677             LD_Lakshadweep       1   10285\n",
       "678          TN_Mayiladuthurai       1   21399\n",
       "679                 KL_Unknown       1       0\n",
       "\n",
       "[680 rows x 3 columns]"
      ]
     },
     "execution_count": 40,
     "metadata": {},
     "output_type": "execute_result"
    }
   ],
   "source": [
    "finaldf3.rename(columns={'District id':'districtid','overall':'timeid','Confirmed':'cases'},inplace=True)\n",
    "finaldf3 = finaldf3[['districtid','timeid','cases']]\n",
    "finaldf3"
   ]
  },
  {
   "cell_type": "code",
   "execution_count": 41,
   "id": "c0b9a8a9",
   "metadata": {
    "execution": {
     "iopub.execute_input": "2021-09-21T11:40:42.322638Z",
     "iopub.status.busy": "2021-09-21T11:40:42.322638Z",
     "iopub.status.idle": "2021-09-21T11:40:42.338810Z",
     "shell.execute_reply": "2021-09-21T11:40:42.338810Z"
    }
   },
   "outputs": [],
   "source": [
    "#WRITING INTO CSV FOR MONTHLY\n",
    "finaldf3.to_csv('cases-overall.csv',index=False)"
   ]
  },
  {
   "cell_type": "markdown",
   "id": "46f38908",
   "metadata": {},
   "source": [
    "# FINISHED"
   ]
  },
  {
   "cell_type": "code",
   "execution_count": null,
   "id": "8aeb0b3a",
   "metadata": {},
   "outputs": [],
   "source": []
  }
 ],
 "metadata": {
  "kernelspec": {
   "display_name": "Python 3",
   "language": "python",
   "name": "python3"
  },
  "language_info": {
   "codemirror_mode": {
    "name": "ipython",
    "version": 3
   },
   "file_extension": ".py",
   "mimetype": "text/x-python",
   "name": "python",
   "nbconvert_exporter": "python",
   "pygments_lexer": "ipython3",
   "version": "3.8.8"
  }
 },
 "nbformat": 4,
 "nbformat_minor": 5
}
