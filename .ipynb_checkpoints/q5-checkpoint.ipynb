{
 "cells": [
  {
   "cell_type": "markdown",
   "id": "1dafc195",
   "metadata": {},
   "source": [
    "## Find the number of people vaccinated with 1 or 2 doses of any vaccine"
   ]
  },
  {
   "cell_type": "code",
   "execution_count": 1,
   "id": "91bc6234",
   "metadata": {
    "execution": {
     "iopub.execute_input": "2021-09-21T11:41:07.886165Z",
     "iopub.status.busy": "2021-09-21T11:41:07.886165Z",
     "iopub.status.idle": "2021-09-21T11:41:08.619114Z",
     "shell.execute_reply": "2021-09-21T11:41:08.619114Z"
    }
   },
   "outputs": [],
   "source": [
    "import numpy as np\n",
    "import pandas as pd\n",
    "import datetime as dt"
   ]
  },
  {
   "cell_type": "code",
   "execution_count": 2,
   "id": "c64d7fc0",
   "metadata": {
    "execution": {
     "iopub.execute_input": "2021-09-21T11:41:08.625621Z",
     "iopub.status.busy": "2021-09-21T11:41:08.625621Z",
     "iopub.status.idle": "2021-09-21T11:41:08.641248Z",
     "shell.execute_reply": "2021-09-21T11:41:08.641248Z"
    }
   },
   "outputs": [],
   "source": [
    "# from datetime import datetime\n",
    "# dateparse = lambda x: datetime.strptime(x, '%d/%m/%Y')"
   ]
  },
  {
   "cell_type": "code",
   "execution_count": 3,
   "id": "483632a8",
   "metadata": {
    "execution": {
     "iopub.execute_input": "2021-09-21T11:41:08.641248Z",
     "iopub.status.busy": "2021-09-21T11:41:08.641248Z",
     "iopub.status.idle": "2021-09-21T11:41:08.857356Z",
     "shell.execute_reply": "2021-09-21T11:41:08.857356Z"
    }
   },
   "outputs": [],
   "source": [
    "#READING DOSES FILE\n",
    "df = pd.read_csv(r'firstandseconddoselatestnew1.csv',parse_dates=['Date'])"
   ]
  },
  {
   "cell_type": "code",
   "execution_count": 4,
   "id": "44ba9668",
   "metadata": {
    "execution": {
     "iopub.execute_input": "2021-09-21T11:41:08.857356Z",
     "iopub.status.busy": "2021-09-21T11:41:08.857356Z",
     "iopub.status.idle": "2021-09-21T11:41:08.872979Z",
     "shell.execute_reply": "2021-09-21T11:41:08.872979Z"
    }
   },
   "outputs": [],
   "source": [
    "# df.head(10)"
   ]
  },
  {
   "cell_type": "markdown",
   "id": "3d99dd21",
   "metadata": {},
   "source": [
    "# DISTRICT WEEKWISE"
   ]
  },
  {
   "cell_type": "code",
   "execution_count": 5,
   "id": "d47ec3a4",
   "metadata": {
    "execution": {
     "iopub.execute_input": "2021-09-21T11:41:08.872979Z",
     "iopub.status.busy": "2021-09-21T11:41:08.872979Z",
     "iopub.status.idle": "2021-09-21T11:41:08.904220Z",
     "shell.execute_reply": "2021-09-21T11:41:08.904220Z"
    }
   },
   "outputs": [
    {
     "data": {
      "text/plain": [
       "RangeIndex(start=0, stop=153819, step=1)"
      ]
     },
     "execution_count": 5,
     "metadata": {},
     "output_type": "execute_result"
    }
   ],
   "source": [
    "# COPY OF DATAFRAME\n",
    "newdf = df.copy()\n",
    "#SETTING DATE COLUMNS AS INDEX\n",
    "newdf.index"
   ]
  },
  {
   "cell_type": "code",
   "execution_count": 6,
   "id": "b551e8a6",
   "metadata": {
    "execution": {
     "iopub.execute_input": "2021-09-21T11:41:08.904220Z",
     "iopub.status.busy": "2021-09-21T11:41:08.904220Z",
     "iopub.status.idle": "2021-09-21T11:41:08.919841Z",
     "shell.execute_reply": "2021-09-21T11:41:08.919841Z"
    }
   },
   "outputs": [],
   "source": [
    "#A DATAFRAME TO STORE EACH DISTRICT\n",
    "col_df = pd.DataFrame()"
   ]
  },
  {
   "cell_type": "code",
   "execution_count": 7,
   "id": "dcd01b6e",
   "metadata": {
    "execution": {
     "iopub.execute_input": "2021-09-21T11:41:08.926347Z",
     "iopub.status.busy": "2021-09-21T11:41:08.926347Z",
     "iopub.status.idle": "2021-09-21T11:41:08.941973Z",
     "shell.execute_reply": "2021-09-21T11:41:08.941973Z"
    }
   },
   "outputs": [],
   "source": [
    "def thefunc_week(name):\n",
    "    dist_df = pd.DataFrame()\n",
    "    dfsub = newdf.loc[newdf['District_Key']==name]\n",
    "    firstdose = []\n",
    "    seconddose = []\n",
    "\n",
    "    d1 = list(dfsub['dose1'])\n",
    "    d2 = list(dfsub['dose2'])\n",
    "    \n",
    "    #appending 16th date as it is\n",
    "    firstdose.append(d1[0])\n",
    "    seconddose.append(d2[0])\n",
    "    \n",
    "    firstindex,lastindex = 1,0\n",
    "    firstval1 = d1[0]\n",
    "    firstval2 = d2[0]\n",
    "    lastval1=0\n",
    "    lastval2=0\n",
    "    \n",
    "    seconddoseval = d2[0]\n",
    "    \n",
    "\n",
    "    for i in range(28):\n",
    "        #getting last value of week\n",
    "        lastval1 = d1[firstindex:firstindex+7][-1] \n",
    "        lastval2 = d2[firstindex:firstindex+7][-1]\n",
    "        \n",
    "        #diff which gives present week sum\n",
    "        diff1 = lastval1  - firstval1\n",
    "        diff2 = lastval2  - firstval2\n",
    "\n",
    "        #appending to respective list\n",
    "        firstdose.append(diff1)\n",
    "        seconddose.append(diff2)\n",
    "        #d.append(lastval1)\n",
    "\n",
    "        #changing last week value\n",
    "        firstval1 = lastval1\n",
    "        firstval2 = lastval2\n",
    "\n",
    "        firstindex = firstindex+7\n",
    "\n",
    "\n",
    "    #last weeek val doubt    \n",
    "    l1 = d1[-1]-lastval1\n",
    "    l2 = d2[-1]-lastval2\n",
    "    firstdose.append(l1)\n",
    "    seconddose.append(l2)\n",
    "    \n",
    "\n",
    "    week =[i for i in range(1,31)]\n",
    "    dist_df['weeklydose1'] = firstdose\n",
    "    dist_df['weeklydose2'] = seconddose\n",
    "    dist_df['District_Key'] = name\n",
    "    dist_df['week'] = week\n",
    "\n",
    "    \n",
    "    return dist_df   #Returns individual district datframe"
   ]
  },
  {
   "cell_type": "code",
   "execution_count": null,
   "id": "f6692d3b",
   "metadata": {},
   "outputs": [],
   "source": []
  },
  {
   "cell_type": "code",
   "execution_count": 8,
   "id": "c9a72ccb",
   "metadata": {
    "execution": {
     "iopub.execute_input": "2021-09-21T11:41:08.941973Z",
     "iopub.status.busy": "2021-09-21T11:41:08.941973Z",
     "iopub.status.idle": "2021-09-21T11:41:08.973216Z",
     "shell.execute_reply": "2021-09-21T11:41:08.973216Z"
    }
   },
   "outputs": [],
   "source": [
    "#DISTRICT_names\n",
    "dist_names = newdf['District_Key'].unique()"
   ]
  },
  {
   "cell_type": "code",
   "execution_count": 9,
   "id": "f8950a5d",
   "metadata": {
    "execution": {
     "iopub.execute_input": "2021-09-21T11:41:08.973216Z",
     "iopub.status.busy": "2021-09-21T11:41:08.973216Z",
     "iopub.status.idle": "2021-09-21T11:41:08.988838Z",
     "shell.execute_reply": "2021-09-21T11:41:08.988838Z"
    }
   },
   "outputs": [],
   "source": [
    "# COLLECTION OF ALL DISTRICTS IN A LIST\n",
    "coll_df = []              #"
   ]
  },
  {
   "cell_type": "code",
   "execution_count": 10,
   "id": "257bcf9a",
   "metadata": {
    "execution": {
     "iopub.execute_input": "2021-09-21T11:41:09.004458Z",
     "iopub.status.busy": "2021-09-21T11:41:09.004458Z",
     "iopub.status.idle": "2021-09-21T11:41:18.611269Z",
     "shell.execute_reply": "2021-09-21T11:41:18.611163Z"
    }
   },
   "outputs": [],
   "source": [
    "for i in range(len(dist_names)):\n",
    "#     print(dist_names[i])\n",
    "\n",
    "    st=thefunc_week(dist_names[i])   #st is --each district id dataframe\n",
    "    coll_df.append(st)                  #appending to a list"
   ]
  },
  {
   "cell_type": "code",
   "execution_count": 11,
   "id": "a2681857",
   "metadata": {
    "execution": {
     "iopub.execute_input": "2021-09-21T11:41:18.619339Z",
     "iopub.status.busy": "2021-09-21T11:41:18.619339Z",
     "iopub.status.idle": "2021-09-21T11:41:18.692178Z",
     "shell.execute_reply": "2021-09-21T11:41:18.692178Z"
    }
   },
   "outputs": [],
   "source": [
    "# CONVERTING LIS OF DATAFRAMES INTO A SINGLE DATAFRAME\n",
    "finaldf_week = pd.concat(coll_df)\n",
    "finaldf_week.reset_index(inplace=True,drop=True)"
   ]
  },
  {
   "cell_type": "code",
   "execution_count": 12,
   "id": "cc13715d",
   "metadata": {
    "execution": {
     "iopub.execute_input": "2021-09-21T11:41:18.692178Z",
     "iopub.status.busy": "2021-09-21T11:41:18.692178Z",
     "iopub.status.idle": "2021-09-21T11:41:18.707810Z",
     "shell.execute_reply": "2021-09-21T11:41:18.707810Z"
    }
   },
   "outputs": [],
   "source": [
    "#RENAMING COLUMNS\n",
    "finaldf_week.rename(columns={'District_Key':'districtid','week':'timeid','weeklydose1':'dose1','weeklydose2':'dose2'},inplace=True)\n",
    "finaldf_week = finaldf_week[['districtid','timeid','dose1','dose2']]"
   ]
  },
  {
   "cell_type": "code",
   "execution_count": 13,
   "id": "63d4a5d2",
   "metadata": {
    "execution": {
     "iopub.execute_input": "2021-09-21T11:41:18.707810Z",
     "iopub.status.busy": "2021-09-21T11:41:18.707810Z",
     "iopub.status.idle": "2021-09-21T11:41:18.776802Z",
     "shell.execute_reply": "2021-09-21T11:41:18.776802Z"
    }
   },
   "outputs": [],
   "source": [
    "#checking\n",
    "finaldf_week.to_csv('district-vaccinated-count-week.csv',index=False)\n",
    "# district-vaccinated-count-weekly"
   ]
  },
  {
   "cell_type": "code",
   "execution_count": 14,
   "id": "b155cc82",
   "metadata": {
    "execution": {
     "iopub.execute_input": "2021-09-21T11:41:18.776802Z",
     "iopub.status.busy": "2021-09-21T11:41:18.776802Z",
     "iopub.status.idle": "2021-09-21T11:41:18.792424Z",
     "shell.execute_reply": "2021-09-21T11:41:18.792424Z"
    }
   },
   "outputs": [],
   "source": [
    "#FINAL OUTPUT FILE\n",
    "# finaldf_week.to_csv('Districtweekques5.csv',index=False)"
   ]
  },
  {
   "cell_type": "code",
   "execution_count": 15,
   "id": "8254e926",
   "metadata": {
    "execution": {
     "iopub.execute_input": "2021-09-21T11:41:18.792424Z",
     "iopub.status.busy": "2021-09-21T11:41:18.792424Z",
     "iopub.status.idle": "2021-09-21T11:41:18.808045Z",
     "shell.execute_reply": "2021-09-21T11:41:18.808045Z"
    }
   },
   "outputs": [],
   "source": [
    "# keep first date as its\n",
    "# run for loop 29 times"
   ]
  },
  {
   "cell_type": "code",
   "execution_count": null,
   "id": "c18c2b25",
   "metadata": {},
   "outputs": [],
   "source": []
  },
  {
   "cell_type": "markdown",
   "id": "80edc0cf",
   "metadata": {},
   "source": [
    "# DISTRICT MONTHLY"
   ]
  },
  {
   "cell_type": "code",
   "execution_count": 16,
   "id": "40189fb3",
   "metadata": {
    "execution": {
     "iopub.execute_input": "2021-09-21T11:41:18.808045Z",
     "iopub.status.busy": "2021-09-21T11:41:18.808045Z",
     "iopub.status.idle": "2021-09-21T11:41:18.823623Z",
     "shell.execute_reply": "2021-09-21T11:41:18.823623Z"
    }
   },
   "outputs": [],
   "source": [
    "mdates = [['2021-01-16','2021-02-14'],['2021-02-15','2021-03-14'],['2021-03-15','2021-04-14'],\n",
    "          ['2021-04-15','2021-05-14'],['2021-05-15','2021-06-14'],['2021-06-15','2021-07-14'],['2021-07-15','2021-08-14']]"
   ]
  },
  {
   "cell_type": "code",
   "execution_count": 17,
   "id": "6bf7a3a3",
   "metadata": {
    "execution": {
     "iopub.execute_input": "2021-09-21T11:41:18.829680Z",
     "iopub.status.busy": "2021-09-21T11:41:18.829680Z",
     "iopub.status.idle": "2021-09-21T11:41:18.845886Z",
     "shell.execute_reply": "2021-09-21T11:41:18.845886Z"
    }
   },
   "outputs": [],
   "source": [
    "for i in range(len(mdates)):\n",
    "    mdates[i][0]=pd.to_datetime(mdates[i][0])\n",
    "    mdates[i][1]=pd.to_datetime(mdates[i][1])"
   ]
  },
  {
   "cell_type": "code",
   "execution_count": 18,
   "id": "6241b067",
   "metadata": {
    "execution": {
     "iopub.execute_input": "2021-09-21T11:41:18.845886Z",
     "iopub.status.busy": "2021-09-21T11:41:18.845886Z",
     "iopub.status.idle": "2021-09-21T11:41:18.861475Z",
     "shell.execute_reply": "2021-09-21T11:41:18.861475Z"
    }
   },
   "outputs": [
    {
     "data": {
      "text/plain": [
       "[[Timestamp('2021-01-16 00:00:00'), Timestamp('2021-02-14 00:00:00')],\n",
       " [Timestamp('2021-02-15 00:00:00'), Timestamp('2021-03-14 00:00:00')],\n",
       " [Timestamp('2021-03-15 00:00:00'), Timestamp('2021-04-14 00:00:00')],\n",
       " [Timestamp('2021-04-15 00:00:00'), Timestamp('2021-05-14 00:00:00')],\n",
       " [Timestamp('2021-05-15 00:00:00'), Timestamp('2021-06-14 00:00:00')],\n",
       " [Timestamp('2021-06-15 00:00:00'), Timestamp('2021-07-14 00:00:00')],\n",
       " [Timestamp('2021-07-15 00:00:00'), Timestamp('2021-08-14 00:00:00')]]"
      ]
     },
     "execution_count": 18,
     "metadata": {},
     "output_type": "execute_result"
    }
   ],
   "source": [
    "len(mdates)\n",
    "type(mdates[0][0])\n",
    "mdates"
   ]
  },
  {
   "cell_type": "code",
   "execution_count": 19,
   "id": "7c8c309d",
   "metadata": {
    "execution": {
     "iopub.execute_input": "2021-09-21T11:41:18.861475Z",
     "iopub.status.busy": "2021-09-21T11:41:18.861475Z",
     "iopub.status.idle": "2021-09-21T11:41:18.877173Z",
     "shell.execute_reply": "2021-09-21T11:41:18.877173Z"
    }
   },
   "outputs": [],
   "source": [
    "# COPY OF DATAFRAME\n",
    "newdf = df.copy()\n",
    "newdf.set_index('Date',inplace=True)\n",
    "# newdf.index"
   ]
  },
  {
   "cell_type": "code",
   "execution_count": null,
   "id": "3fbdef52",
   "metadata": {},
   "outputs": [],
   "source": []
  },
  {
   "cell_type": "code",
   "execution_count": 20,
   "id": "e7436c0c",
   "metadata": {
    "execution": {
     "iopub.execute_input": "2021-09-21T11:41:18.877173Z",
     "iopub.status.busy": "2021-09-21T11:41:18.877173Z",
     "iopub.status.idle": "2021-09-21T11:41:18.892740Z",
     "shell.execute_reply": "2021-09-21T11:41:18.892740Z"
    }
   },
   "outputs": [],
   "source": [
    "def thefunc(name):\n",
    "    dfsub = newdf.loc[newdf['District_Key']==name]\n",
    "    #AS DATA IS CUMULATIVE WE USE LAST ROW OF EACH DISTRICT\n",
    "    def first_last(df1):\n",
    "        return df1.iloc[[-1]]\n",
    "    \n",
    "    dfsub1= dfsub[0:0]  #creating an empty dataframe\n",
    "    dfsub1['Month'] = 0  #ASSGNINS MONTH ID\n",
    "    \n",
    "    ls=[]\n",
    "    for i in range(len(mdates)):\n",
    "        try:\n",
    "            row = (dfsub[mdates[i][0]:mdates[i][1]][-1:])\n",
    "            d = pd.DataFrame(row)\n",
    "            if len(d.index) == 0:\n",
    "                continue\n",
    "            dfsub1 = pd.concat([dfsub1,d])\n",
    "            ls.append(i+1)\n",
    "        except:\n",
    "            continue\n",
    "    dfsub1['Month'] = ls    #HERE MONTHIDS ARE ASSGNED FROM THE LIST\n",
    "    \n",
    "    #AS \"DIFF\"func CREATES NAN IN 1stROW ,TO OVERCOME THIS WE STORE VALUES IN VARIABLES AND PLACE INTO 1ST ROW AT THE END\n",
    "    val1= dfsub1['dose1'][0]\n",
    "    val2= dfsub1['dose2'][0]\n",
    "    \n",
    "    #just creating a copy\n",
    "    dfsub2 = dfsub1.copy()\n",
    "    dfsub2['dose1'] = dfsub1.dose1.diff()\n",
    "    dfsub2['dose2'] = dfsub1.dose2.diff()\n",
    "    \n",
    "    dfsub2['dose1'].fillna(value=val1,inplace=True)\n",
    "    dfsub2['dose2'].fillna(value=val2,inplace=True)\n",
    "\n",
    "    \n",
    "    return dfsub2"
   ]
  },
  {
   "cell_type": "code",
   "execution_count": 21,
   "id": "3871509b",
   "metadata": {
    "execution": {
     "iopub.execute_input": "2021-09-21T11:41:18.892740Z",
     "iopub.status.busy": "2021-09-21T11:41:18.892740Z",
     "iopub.status.idle": "2021-09-21T11:41:18.923727Z",
     "shell.execute_reply": "2021-09-21T11:41:18.923727Z"
    }
   },
   "outputs": [],
   "source": [
    "#DISTRICT_names\n",
    "dist_names = newdf['District_Key'].unique()"
   ]
  },
  {
   "cell_type": "code",
   "execution_count": 22,
   "id": "e82ccfba",
   "metadata": {
    "execution": {
     "iopub.execute_input": "2021-09-21T11:41:18.923727Z",
     "iopub.status.busy": "2021-09-21T11:41:18.923727Z",
     "iopub.status.idle": "2021-09-21T11:41:18.946328Z",
     "shell.execute_reply": "2021-09-21T11:41:18.946328Z"
    }
   },
   "outputs": [],
   "source": [
    "# COLLECTION OF ALL DISTRICTS IN A LIST\n",
    "coll_df2 = []              "
   ]
  },
  {
   "cell_type": "code",
   "execution_count": 23,
   "id": "06519d23",
   "metadata": {
    "execution": {
     "iopub.execute_input": "2021-09-21T11:41:18.961338Z",
     "iopub.status.busy": "2021-09-21T11:41:18.961338Z",
     "iopub.status.idle": "2021-09-21T11:41:30.894864Z",
     "shell.execute_reply": "2021-09-21T11:41:30.894864Z"
    }
   },
   "outputs": [
    {
     "name": "stdout",
     "output_type": "stream",
     "text": [
      "end\n"
     ]
    }
   ],
   "source": [
    "for i in range(len(dist_names)):\n",
    "#     print(dist_names[i])\n",
    "    st=thefunc(dist_names[i])   #each district id dataframe\n",
    "    coll_df2.append(st)\n",
    "    \n",
    "print('end')\n"
   ]
  },
  {
   "cell_type": "code",
   "execution_count": 24,
   "id": "7435e82a",
   "metadata": {
    "execution": {
     "iopub.execute_input": "2021-09-21T11:41:30.904929Z",
     "iopub.status.busy": "2021-09-21T11:41:30.904929Z",
     "iopub.status.idle": "2021-09-21T11:41:30.967694Z",
     "shell.execute_reply": "2021-09-21T11:41:30.967694Z"
    }
   },
   "outputs": [],
   "source": [
    "# CONVERTING LIST OF DATAFRAMES INTO A SINGLE DATAFRAME\n",
    "finaldf2 = pd.concat(coll_df2)\n",
    "finaldf2.reset_index(inplace=True,drop=True)"
   ]
  },
  {
   "cell_type": "code",
   "execution_count": 25,
   "id": "6c944e52",
   "metadata": {
    "execution": {
     "iopub.execute_input": "2021-09-21T11:41:30.967694Z",
     "iopub.status.busy": "2021-09-21T11:41:30.967694Z",
     "iopub.status.idle": "2021-09-21T11:41:30.983319Z",
     "shell.execute_reply": "2021-09-21T11:41:30.983319Z"
    }
   },
   "outputs": [],
   "source": [
    "finaldf2 = finaldf2.sort_values(['District_Key','Month'])"
   ]
  },
  {
   "cell_type": "code",
   "execution_count": 26,
   "id": "eaba5383",
   "metadata": {
    "execution": {
     "iopub.execute_input": "2021-09-21T11:41:30.983319Z",
     "iopub.status.busy": "2021-09-21T11:41:30.983319Z",
     "iopub.status.idle": "2021-09-21T11:41:30.998943Z",
     "shell.execute_reply": "2021-09-21T11:41:30.998943Z"
    }
   },
   "outputs": [],
   "source": [
    "#RENAMING COLUMNS\n",
    "finaldf2.rename(columns={'District_Key':'districtid','Month':'timeid'},inplace=True)\n",
    "finaldf2 = finaldf2[['districtid','timeid','dose1','dose2']]"
   ]
  },
  {
   "cell_type": "code",
   "execution_count": 27,
   "id": "baf0579a",
   "metadata": {
    "execution": {
     "iopub.execute_input": "2021-09-21T11:41:31.004993Z",
     "iopub.status.busy": "2021-09-21T11:41:30.998943Z",
     "iopub.status.idle": "2021-09-21T11:41:31.021239Z",
     "shell.execute_reply": "2021-09-21T11:41:31.021239Z"
    }
   },
   "outputs": [],
   "source": [
    "#FINAL OUTPUT\n",
    "finaldf2.to_csv('district-vaccinated-count-month.csv',index = False)\n",
    "# district-vaccinated-count-monthly"
   ]
  },
  {
   "cell_type": "code",
   "execution_count": null,
   "id": "8124a0fb",
   "metadata": {},
   "outputs": [],
   "source": []
  },
  {
   "cell_type": "markdown",
   "id": "9587a280",
   "metadata": {},
   "source": [
    "# DISTRICT OVERALL"
   ]
  },
  {
   "cell_type": "code",
   "execution_count": 28,
   "id": "86cd2785",
   "metadata": {
    "execution": {
     "iopub.execute_input": "2021-09-21T11:41:31.021239Z",
     "iopub.status.busy": "2021-09-21T11:41:31.021239Z",
     "iopub.status.idle": "2021-09-21T11:41:31.036886Z",
     "shell.execute_reply": "2021-09-21T11:41:31.036886Z"
    }
   },
   "outputs": [],
   "source": [
    "def thefunc_overall(name):\n",
    "    dfsub = newdf.loc[newdf['District_Key']==name]\n",
    "    return dfsub.iloc[[-1]]                    #ASDATA IS CUMULATIVE\n",
    "    \n"
   ]
  },
  {
   "cell_type": "code",
   "execution_count": 29,
   "id": "5fd76b01",
   "metadata": {
    "execution": {
     "iopub.execute_input": "2021-09-21T11:41:31.036886Z",
     "iopub.status.busy": "2021-09-21T11:41:31.036886Z",
     "iopub.status.idle": "2021-09-21T11:41:31.052502Z",
     "shell.execute_reply": "2021-09-21T11:41:31.052502Z"
    }
   },
   "outputs": [],
   "source": [
    "coll_df5 = []         #LIST OF ALL DISTRICTS"
   ]
  },
  {
   "cell_type": "code",
   "execution_count": 30,
   "id": "cd94b609",
   "metadata": {
    "execution": {
     "iopub.execute_input": "2021-09-21T11:41:31.083103Z",
     "iopub.status.busy": "2021-09-21T11:41:31.052502Z",
     "iopub.status.idle": "2021-09-21T11:41:37.465454Z",
     "shell.execute_reply": "2021-09-21T11:41:37.465354Z"
    }
   },
   "outputs": [],
   "source": [
    "# CALCULATING FOR EACH DISTRICT\n",
    "for i in range(len(dist_names)):\n",
    "    st=thefunc_overall(dist_names[i])   \n",
    "    coll_df5.append(st)"
   ]
  },
  {
   "cell_type": "code",
   "execution_count": 31,
   "id": "7f175f47",
   "metadata": {
    "execution": {
     "iopub.execute_input": "2021-09-21T11:41:37.473600Z",
     "iopub.status.busy": "2021-09-21T11:41:37.473600Z",
     "iopub.status.idle": "2021-09-21T11:41:37.547808Z",
     "shell.execute_reply": "2021-09-21T11:41:37.547909Z"
    }
   },
   "outputs": [],
   "source": [
    "#COLLECTION OF ALL DISTRICTS INTO A SINGLE DATAFRAME\n",
    "finaldf5 = pd.concat(coll_df5)\n",
    "finaldf5.reset_index(inplace=True,drop=True)"
   ]
  },
  {
   "cell_type": "code",
   "execution_count": 32,
   "id": "1594fe6e",
   "metadata": {
    "execution": {
     "iopub.execute_input": "2021-09-21T11:41:37.547909Z",
     "iopub.status.busy": "2021-09-21T11:41:37.547909Z",
     "iopub.status.idle": "2021-09-21T11:41:37.569703Z",
     "shell.execute_reply": "2021-09-21T11:41:37.569703Z"
    }
   },
   "outputs": [],
   "source": [
    "finaldf5['overall'] = 1  #ADDING TIMEID"
   ]
  },
  {
   "cell_type": "code",
   "execution_count": 33,
   "id": "3a364dfc",
   "metadata": {
    "execution": {
     "iopub.execute_input": "2021-09-21T11:41:37.569703Z",
     "iopub.status.busy": "2021-09-21T11:41:37.569703Z",
     "iopub.status.idle": "2021-09-21T11:41:37.588546Z",
     "shell.execute_reply": "2021-09-21T11:41:37.588546Z"
    }
   },
   "outputs": [
    {
     "data": {
      "text/html": [
       "<div>\n",
       "<style scoped>\n",
       "    .dataframe tbody tr th:only-of-type {\n",
       "        vertical-align: middle;\n",
       "    }\n",
       "\n",
       "    .dataframe tbody tr th {\n",
       "        vertical-align: top;\n",
       "    }\n",
       "\n",
       "    .dataframe thead th {\n",
       "        text-align: right;\n",
       "    }\n",
       "</style>\n",
       "<table border=\"1\" class=\"dataframe\">\n",
       "  <thead>\n",
       "    <tr style=\"text-align: right;\">\n",
       "      <th></th>\n",
       "      <th>districtid</th>\n",
       "      <th>timeid</th>\n",
       "      <th>dose1</th>\n",
       "      <th>dose2</th>\n",
       "    </tr>\n",
       "  </thead>\n",
       "  <tbody>\n",
       "    <tr>\n",
       "      <th>0</th>\n",
       "      <td>AN_Nicobars</td>\n",
       "      <td>1</td>\n",
       "      <td>22081.0</td>\n",
       "      <td>8110.0</td>\n",
       "    </tr>\n",
       "    <tr>\n",
       "      <th>1</th>\n",
       "      <td>AN_North and Middle Andaman</td>\n",
       "      <td>1</td>\n",
       "      <td>68043.0</td>\n",
       "      <td>29281.0</td>\n",
       "    </tr>\n",
       "    <tr>\n",
       "      <th>2</th>\n",
       "      <td>AN_South Andaman</td>\n",
       "      <td>1</td>\n",
       "      <td>142585.0</td>\n",
       "      <td>59896.0</td>\n",
       "    </tr>\n",
       "    <tr>\n",
       "      <th>3</th>\n",
       "      <td>AP_Anantapur</td>\n",
       "      <td>1</td>\n",
       "      <td>1364374.0</td>\n",
       "      <td>597346.0</td>\n",
       "    </tr>\n",
       "    <tr>\n",
       "      <th>4</th>\n",
       "      <td>AP_Chittoor</td>\n",
       "      <td>1</td>\n",
       "      <td>1565591.0</td>\n",
       "      <td>640864.0</td>\n",
       "    </tr>\n",
       "    <tr>\n",
       "      <th>...</th>\n",
       "      <td>...</td>\n",
       "      <td>...</td>\n",
       "      <td>...</td>\n",
       "      <td>...</td>\n",
       "    </tr>\n",
       "    <tr>\n",
       "      <th>724</th>\n",
       "      <td>WB_Purba Bardhaman</td>\n",
       "      <td>1</td>\n",
       "      <td>937024.0</td>\n",
       "      <td>457682.0</td>\n",
       "    </tr>\n",
       "    <tr>\n",
       "      <th>725</th>\n",
       "      <td>WB_Purba Medinipur</td>\n",
       "      <td>1</td>\n",
       "      <td>1539152.0</td>\n",
       "      <td>672014.0</td>\n",
       "    </tr>\n",
       "    <tr>\n",
       "      <th>726</th>\n",
       "      <td>WB_Purulia</td>\n",
       "      <td>1</td>\n",
       "      <td>580596.0</td>\n",
       "      <td>206567.0</td>\n",
       "    </tr>\n",
       "    <tr>\n",
       "      <th>727</th>\n",
       "      <td>WB_South 24 Parganas</td>\n",
       "      <td>1</td>\n",
       "      <td>2067595.0</td>\n",
       "      <td>793261.0</td>\n",
       "    </tr>\n",
       "    <tr>\n",
       "      <th>728</th>\n",
       "      <td>WB_Uttar Dinajpur</td>\n",
       "      <td>1</td>\n",
       "      <td>540958.0</td>\n",
       "      <td>173055.0</td>\n",
       "    </tr>\n",
       "  </tbody>\n",
       "</table>\n",
       "<p>729 rows × 4 columns</p>\n",
       "</div>"
      ],
      "text/plain": [
       "                      districtid  timeid      dose1     dose2\n",
       "0                    AN_Nicobars       1    22081.0    8110.0\n",
       "1    AN_North and Middle Andaman       1    68043.0   29281.0\n",
       "2               AN_South Andaman       1   142585.0   59896.0\n",
       "3                   AP_Anantapur       1  1364374.0  597346.0\n",
       "4                    AP_Chittoor       1  1565591.0  640864.0\n",
       "..                           ...     ...        ...       ...\n",
       "724           WB_Purba Bardhaman       1   937024.0  457682.0\n",
       "725           WB_Purba Medinipur       1  1539152.0  672014.0\n",
       "726                   WB_Purulia       1   580596.0  206567.0\n",
       "727         WB_South 24 Parganas       1  2067595.0  793261.0\n",
       "728            WB_Uttar Dinajpur       1   540958.0  173055.0\n",
       "\n",
       "[729 rows x 4 columns]"
      ]
     },
     "execution_count": 33,
     "metadata": {},
     "output_type": "execute_result"
    }
   ],
   "source": [
    "finaldf5.rename(columns={'District_Key':'districtid','overall':'timeid'},inplace=True)\n",
    "finaldf5 = finaldf5[['districtid','timeid','dose1','dose2']]\n",
    "finaldf5"
   ]
  },
  {
   "cell_type": "code",
   "execution_count": 34,
   "id": "ff5a9f95",
   "metadata": {
    "execution": {
     "iopub.execute_input": "2021-09-21T11:41:37.588546Z",
     "iopub.status.busy": "2021-09-21T11:41:37.588546Z",
     "iopub.status.idle": "2021-09-21T11:41:37.604810Z",
     "shell.execute_reply": "2021-09-21T11:41:37.604810Z"
    }
   },
   "outputs": [],
   "source": [
    "#WRITING INTO CSV\n",
    "finaldf5.to_csv('district-vaccinated-count-overall.csv',index=False)"
   ]
  },
  {
   "cell_type": "code",
   "execution_count": null,
   "id": "55d1c639",
   "metadata": {},
   "outputs": [],
   "source": []
  },
  {
   "cell_type": "markdown",
   "id": "f1dcbe24",
   "metadata": {},
   "source": [
    "# STATE WEEKLY"
   ]
  },
  {
   "cell_type": "code",
   "execution_count": 35,
   "id": "42d9f15f",
   "metadata": {
    "execution": {
     "iopub.execute_input": "2021-09-21T11:41:37.604810Z",
     "iopub.status.busy": "2021-09-21T11:41:37.604810Z",
     "iopub.status.idle": "2021-09-21T11:41:37.620422Z",
     "shell.execute_reply": "2021-09-21T11:41:37.620422Z"
    }
   },
   "outputs": [],
   "source": [
    "#1ST WEEK CONSISTS OF ONLY JAN16 so we store into a variable\n",
    "s_day = pd.to_datetime('2021/01/16')\n",
    "\n",
    "#CONSISTS OF ALL WEEKDATES IN A LIST (SUN to SAT)\n",
    "week_dates=[[s_day,s_day]]"
   ]
  },
  {
   "cell_type": "code",
   "execution_count": 36,
   "id": "d3a46632",
   "metadata": {
    "execution": {
     "iopub.execute_input": "2021-09-21T11:41:37.620422Z",
     "iopub.status.busy": "2021-09-21T11:41:37.620422Z",
     "iopub.status.idle": "2021-09-21T11:41:37.636069Z",
     "shell.execute_reply": "2021-09-21T11:41:37.636069Z"
    }
   },
   "outputs": [],
   "source": [
    "weekstart = pd.date_range('2021-01-17','2021-08-14',freq='W-SUN')  #week starting dates\n",
    "weekend = pd.date_range('2021-01-17','2021-08-14',freq='W-SAT')    #week ending dates"
   ]
  },
  {
   "cell_type": "code",
   "execution_count": 37,
   "id": "71ce70a3",
   "metadata": {
    "execution": {
     "iopub.execute_input": "2021-09-21T11:41:37.636069Z",
     "iopub.status.busy": "2021-09-21T11:41:37.636069Z",
     "iopub.status.idle": "2021-09-21T11:41:37.651701Z",
     "shell.execute_reply": "2021-09-21T11:41:37.651701Z"
    }
   },
   "outputs": [],
   "source": [
    "#APPEND INTO \"WEEK_DATES\" LIST\n",
    "for i in range(len(weekstart)):\n",
    "    week_dates.append([weekstart[i],weekend[i]])\n",
    "    "
   ]
  },
  {
   "cell_type": "code",
   "execution_count": 38,
   "id": "f598a966",
   "metadata": {
    "execution": {
     "iopub.execute_input": "2021-09-21T11:41:37.651701Z",
     "iopub.status.busy": "2021-09-21T11:41:37.651701Z",
     "iopub.status.idle": "2021-09-21T11:41:37.667259Z",
     "shell.execute_reply": "2021-09-21T11:41:37.667259Z"
    }
   },
   "outputs": [
    {
     "data": {
      "text/plain": [
       "[[Timestamp('2021-01-16 00:00:00'), Timestamp('2021-01-16 00:00:00')],\n",
       " [Timestamp('2021-01-17 00:00:00', freq='W-SUN'),\n",
       "  Timestamp('2021-01-23 00:00:00', freq='W-SAT')],\n",
       " [Timestamp('2021-01-24 00:00:00', freq='W-SUN'),\n",
       "  Timestamp('2021-01-30 00:00:00', freq='W-SAT')],\n",
       " [Timestamp('2021-01-31 00:00:00', freq='W-SUN'),\n",
       "  Timestamp('2021-02-06 00:00:00', freq='W-SAT')],\n",
       " [Timestamp('2021-02-07 00:00:00', freq='W-SUN'),\n",
       "  Timestamp('2021-02-13 00:00:00', freq='W-SAT')]]"
      ]
     },
     "execution_count": 38,
     "metadata": {},
     "output_type": "execute_result"
    }
   ],
   "source": [
    "week_dates[:5]"
   ]
  },
  {
   "cell_type": "code",
   "execution_count": 39,
   "id": "efe65175",
   "metadata": {
    "execution": {
     "iopub.execute_input": "2021-09-21T11:41:37.667259Z",
     "iopub.status.busy": "2021-09-21T11:41:37.667259Z",
     "iopub.status.idle": "2021-09-21T11:41:37.682782Z",
     "shell.execute_reply": "2021-09-21T11:41:37.682782Z"
    }
   },
   "outputs": [],
   "source": [
    "# COPY OF DATAFRAME\n",
    "newdf = df.copy()\n",
    "newdf.set_index('Date',inplace=True)\n"
   ]
  },
  {
   "cell_type": "code",
   "execution_count": 40,
   "id": "f70bf7ca",
   "metadata": {
    "execution": {
     "iopub.execute_input": "2021-09-21T11:41:37.688824Z",
     "iopub.status.busy": "2021-09-21T11:41:37.688824Z",
     "iopub.status.idle": "2021-09-21T11:41:37.705024Z",
     "shell.execute_reply": "2021-09-21T11:41:37.705024Z"
    }
   },
   "outputs": [],
   "source": [
    "def thefunc_stweek(name):\n",
    "    dfsub = newdf.loc[newdf['State']==name]\n",
    "    \n",
    "    #AS DATA IS CUMULATIVE WE USE LAST ROW OF EACH DISTRICT\n",
    "    def first_last(df1):\n",
    "        return df1.iloc[[-1]]\n",
    "    \n",
    "    dfsub1= dfsub[0:0]  #creating an empty dataframe which STORES EACH STATEDATA MONTHWISE (DFSUB1)\n",
    "    dfsub1['week'] = 0\n",
    "    \n",
    "    ls=[]  #for weekids\n",
    "    for i in range(len(week_dates)):\n",
    "        \n",
    "        #GROUPING DATA ON STATE AND SUMMING DOSES OF ALL DISTRICTS\n",
    "        dfsub = dfsub.groupby(['State','Date']).aggregate({'dose1':sum,\n",
    "                                                          'dose2':sum})\n",
    "        dfsub = dfsub.reset_index()\n",
    "        dfsub.set_index('Date',inplace=True)\n",
    "\n",
    "        try:\n",
    "            row = dfsub[week_dates[i][0]:week_dates[i][1]][-1:]       #COLLECTING THE  DATA IN THE RESPECTIVE MONTH\n",
    "            d = pd.DataFrame(row)      \n",
    "\n",
    "            if len(d.index) == 0:          #if no data present in a month\n",
    "                continue\n",
    "                \n",
    "            dfsub1 = pd.concat([dfsub1,d])\n",
    "            ls.append(i+1)\n",
    "        except:\n",
    "            continue\n",
    "\n",
    "    dfsub1['week'] = ls       #HERE WEEKIDS ARE ASSGNED FROM THE LIST\n",
    "    \n",
    "    #AS \"DIFF\"func CREATES NAN IN 1stROW ,TO OVERCOME THIS WE STORE VALUES IN VARIABLES AND PLACE INTO 1ST ROW AT THE END\n",
    "    val1= dfsub1['dose1'][0]\n",
    "    val2= dfsub1['dose2'][0]\n",
    "    \n",
    "    dfsub2 = dfsub1.copy()\n",
    "    dfsub2['dose1'] = dfsub1.dose1.diff()\n",
    "    dfsub2['dose2'] = dfsub1.dose2.diff()\n",
    "    \n",
    "    dfsub2['dose1'].fillna(value=val1,inplace=True)\n",
    "    dfsub2['dose2'].fillna(value=val2,inplace=True)\n",
    "    \n",
    "    return dfsub2"
   ]
  },
  {
   "cell_type": "code",
   "execution_count": 41,
   "id": "b596cfd1",
   "metadata": {
    "execution": {
     "iopub.execute_input": "2021-09-21T11:41:37.720113Z",
     "iopub.status.busy": "2021-09-21T11:41:37.720113Z",
     "iopub.status.idle": "2021-09-21T11:41:37.736304Z",
     "shell.execute_reply": "2021-09-21T11:41:37.736304Z"
    }
   },
   "outputs": [],
   "source": [
    "#UNIQUE STATE NAMES\n",
    "unique_state_names = newdf['State'].unique()\n",
    "coll_df3 = []              #apply some others func and append them to coll_df"
   ]
  },
  {
   "cell_type": "code",
   "execution_count": 42,
   "id": "e083d2d0",
   "metadata": {
    "execution": {
     "iopub.execute_input": "2021-09-21T11:41:37.751373Z",
     "iopub.status.busy": "2021-09-21T11:41:37.751373Z",
     "iopub.status.idle": "2021-09-21T11:41:42.652583Z",
     "shell.execute_reply": "2021-09-21T11:41:42.652485Z"
    }
   },
   "outputs": [
    {
     "name": "stdout",
     "output_type": "stream",
     "text": [
      "end\n"
     ]
    }
   ],
   "source": [
    "for i in range(len(unique_state_names)):\n",
    "#     print(unique_state_names[i])\n",
    "    st=thefunc_stweek(unique_state_names[i])   #each district id dataframe\n",
    "    coll_df3.append(st)\n",
    "    \n",
    "print('end')"
   ]
  },
  {
   "cell_type": "code",
   "execution_count": 43,
   "id": "fb8025c3",
   "metadata": {
    "execution": {
     "iopub.execute_input": "2021-09-21T11:41:42.652583Z",
     "iopub.status.busy": "2021-09-21T11:41:42.652583Z",
     "iopub.status.idle": "2021-09-21T11:41:42.671369Z",
     "shell.execute_reply": "2021-09-21T11:41:42.671369Z"
    }
   },
   "outputs": [],
   "source": [
    "# CONVERTING LIST OF DATAFRAMES INTO A SINGLE DATAFRAME\n",
    "finaldf3 = pd.concat(coll_df3)\n",
    "finaldf3.reset_index(inplace=True)\n",
    "\n",
    "# finaldf3.head(20)"
   ]
  },
  {
   "cell_type": "code",
   "execution_count": 44,
   "id": "14a66f4a",
   "metadata": {
    "execution": {
     "iopub.execute_input": "2021-09-21T11:41:42.671369Z",
     "iopub.status.busy": "2021-09-21T11:41:42.671369Z",
     "iopub.status.idle": "2021-09-21T11:41:42.687284Z",
     "shell.execute_reply": "2021-09-21T11:41:42.687284Z"
    }
   },
   "outputs": [],
   "source": [
    "finaldf3 = finaldf3.sort_values(['State','week'])"
   ]
  },
  {
   "cell_type": "code",
   "execution_count": 45,
   "id": "702e10cb",
   "metadata": {
    "execution": {
     "iopub.execute_input": "2021-09-21T11:41:42.687284Z",
     "iopub.status.busy": "2021-09-21T11:41:42.687284Z",
     "iopub.status.idle": "2021-09-21T11:41:42.702892Z",
     "shell.execute_reply": "2021-09-21T11:41:42.702892Z"
    }
   },
   "outputs": [],
   "source": [
    "#RENAMING COLUMNS\n",
    "finaldf3.rename(columns={'State':'stateid','week':'timeid'},inplace=True)\n",
    "finaldf3 = finaldf3[['stateid','timeid','dose1','dose2']]"
   ]
  },
  {
   "cell_type": "code",
   "execution_count": null,
   "id": "a116d888",
   "metadata": {},
   "outputs": [],
   "source": []
  },
  {
   "cell_type": "code",
   "execution_count": 46,
   "id": "d8881bbf",
   "metadata": {
    "execution": {
     "iopub.execute_input": "2021-09-21T11:41:42.702892Z",
     "iopub.status.busy": "2021-09-21T11:41:42.702892Z",
     "iopub.status.idle": "2021-09-21T11:41:42.718840Z",
     "shell.execute_reply": "2021-09-21T11:41:42.718840Z"
    }
   },
   "outputs": [],
   "source": [
    "#FINAL OUTPUT\n",
    "finaldf3.to_csv('state-vaccinated-count-week.csv',index=False)\n",
    "# state-vaccinated-count-weekly"
   ]
  },
  {
   "cell_type": "code",
   "execution_count": null,
   "id": "43c7b7d2",
   "metadata": {},
   "outputs": [],
   "source": []
  },
  {
   "cell_type": "markdown",
   "id": "50f12ec5",
   "metadata": {},
   "source": [
    "# STATE MONTHLY"
   ]
  },
  {
   "cell_type": "code",
   "execution_count": 47,
   "id": "56ea0fc9",
   "metadata": {
    "execution": {
     "iopub.execute_input": "2021-09-21T11:41:42.718840Z",
     "iopub.status.busy": "2021-09-21T11:41:42.718840Z",
     "iopub.status.idle": "2021-09-21T11:41:42.734460Z",
     "shell.execute_reply": "2021-09-21T11:41:42.734460Z"
    }
   },
   "outputs": [],
   "source": [
    "mdates_month = [['2021-01-16','2021-02-14'],['2021-02-15','2021-03-14'],['2021-03-15','2021-04-14'],\n",
    "          ['2021-04-15','2021-05-14'],['2021-05-15','2021-06-14'],['2021-06-15','2021-07-14'],['2021-07-15','2021-08-14']]"
   ]
  },
  {
   "cell_type": "code",
   "execution_count": 48,
   "id": "bea4c363",
   "metadata": {
    "execution": {
     "iopub.execute_input": "2021-09-21T11:41:42.734460Z",
     "iopub.status.busy": "2021-09-21T11:41:42.734460Z",
     "iopub.status.idle": "2021-09-21T11:41:42.750147Z",
     "shell.execute_reply": "2021-09-21T11:41:42.750147Z"
    }
   },
   "outputs": [],
   "source": [
    "for i in range(len(mdates_month)):\n",
    "    mdates_month[i][0]=pd.to_datetime(mdates_month[i][0])\n",
    "    mdates_month[i][1]=pd.to_datetime(mdates_month[i][1])"
   ]
  },
  {
   "cell_type": "code",
   "execution_count": 49,
   "id": "d10bf8dc",
   "metadata": {
    "execution": {
     "iopub.execute_input": "2021-09-21T11:41:42.750147Z",
     "iopub.status.busy": "2021-09-21T11:41:42.750147Z",
     "iopub.status.idle": "2021-09-21T11:41:42.765770Z",
     "shell.execute_reply": "2021-09-21T11:41:42.765770Z"
    }
   },
   "outputs": [
    {
     "data": {
      "text/plain": [
       "[[Timestamp('2021-01-16 00:00:00'), Timestamp('2021-02-14 00:00:00')],\n",
       " [Timestamp('2021-02-15 00:00:00'), Timestamp('2021-03-14 00:00:00')],\n",
       " [Timestamp('2021-03-15 00:00:00'), Timestamp('2021-04-14 00:00:00')],\n",
       " [Timestamp('2021-04-15 00:00:00'), Timestamp('2021-05-14 00:00:00')],\n",
       " [Timestamp('2021-05-15 00:00:00'), Timestamp('2021-06-14 00:00:00')],\n",
       " [Timestamp('2021-06-15 00:00:00'), Timestamp('2021-07-14 00:00:00')],\n",
       " [Timestamp('2021-07-15 00:00:00'), Timestamp('2021-08-14 00:00:00')]]"
      ]
     },
     "execution_count": 49,
     "metadata": {},
     "output_type": "execute_result"
    }
   ],
   "source": [
    "len(mdates_month)\n",
    "type(mdates_month[0][0])\n",
    "mdates_month"
   ]
  },
  {
   "cell_type": "code",
   "execution_count": 50,
   "id": "5ddfa79a",
   "metadata": {
    "execution": {
     "iopub.execute_input": "2021-09-21T11:41:42.771279Z",
     "iopub.status.busy": "2021-09-21T11:41:42.771279Z",
     "iopub.status.idle": "2021-09-21T11:41:42.787515Z",
     "shell.execute_reply": "2021-09-21T11:41:42.787515Z"
    }
   },
   "outputs": [
    {
     "name": "stdout",
     "output_type": "stream",
     "text": [
      "State                   object\n",
      "District                object\n",
      "District_Key            object\n",
      "dose1                  float64\n",
      "dose2                  float64\n",
      "Date            datetime64[ns]\n",
      "dtype: object\n"
     ]
    },
    {
     "data": {
      "text/plain": [
       "RangeIndex(start=0, stop=153819, step=1)"
      ]
     },
     "execution_count": 50,
     "metadata": {},
     "output_type": "execute_result"
    }
   ],
   "source": [
    "# COPY OF DATAFRAME\n",
    "newdf = df.copy()\n",
    "print(newdf.dtypes)\n",
    "# newdf.set_index('Date',inplace=True)\n",
    "newdf.index"
   ]
  },
  {
   "cell_type": "code",
   "execution_count": 51,
   "id": "c97fa8ee",
   "metadata": {
    "execution": {
     "iopub.execute_input": "2021-09-21T11:41:42.787515Z",
     "iopub.status.busy": "2021-09-21T11:41:42.787515Z",
     "iopub.status.idle": "2021-09-21T11:41:42.803131Z",
     "shell.execute_reply": "2021-09-21T11:41:42.803131Z"
    }
   },
   "outputs": [],
   "source": [
    "def thefunc_stmonth(name):\n",
    "    dfsub = newdf.loc[newdf['State']==name]\n",
    "    \n",
    "    def first_last(df1):\n",
    "        return df1.iloc[[-1]]\n",
    "    \n",
    "    dfsub1= dfsub[0:0]  #creating an empty dataframe\n",
    "    dfsub1['Month'] = 0\n",
    "    \n",
    "    ls=[]\n",
    "    for i in range(len(mdates_month)):\n",
    "\n",
    "        dfsub = dfsub.groupby(['State','Date']).aggregate({'dose1':sum,\n",
    "                                                          'dose2':sum})\n",
    "\n",
    "        dfsub = dfsub.reset_index()\n",
    "        dfsub.set_index('Date',inplace=True)\n",
    "\n",
    "        try:\n",
    "            row = dfsub[mdates_month[i][0]:mdates_month[i][1]][-1:]\n",
    "\n",
    "            \n",
    "            d = pd.DataFrame(row)\n",
    "\n",
    "            if len(d.index) == 0:\n",
    "                continue\n",
    "            dfsub1 = pd.concat([dfsub1,d])\n",
    "            ls.append(i+1)\n",
    "        except:\n",
    "            continue\n",
    "\n",
    "    dfsub1['Month'] = ls\n",
    "    \n",
    "    val1= dfsub1['dose1'][0]\n",
    "\n",
    "    val2= dfsub1['dose2'][0]\n",
    "    dfsub2 = dfsub1.copy()\n",
    "\n",
    "    dfsub2['dose1'] = dfsub1.dose1.diff()\n",
    "    dfsub2['dose2'] = dfsub1.dose2.diff()\n",
    "    \n",
    "    dfsub2['dose1'].fillna(value=val1,inplace=True)\n",
    "    dfsub2['dose2'].fillna(value=val2,inplace=True)\n",
    "    \n",
    "    return dfsub2"
   ]
  },
  {
   "cell_type": "code",
   "execution_count": 52,
   "id": "beffd098",
   "metadata": {
    "execution": {
     "iopub.execute_input": "2021-09-21T11:41:42.803131Z",
     "iopub.status.busy": "2021-09-21T11:41:42.803131Z",
     "iopub.status.idle": "2021-09-21T11:41:42.834474Z",
     "shell.execute_reply": "2021-09-21T11:41:42.834474Z"
    }
   },
   "outputs": [],
   "source": [
    "unique_state_names = newdf['State'].unique()\n",
    "# unique_state_names\n",
    "coll_df4 = []              "
   ]
  },
  {
   "cell_type": "code",
   "execution_count": 53,
   "id": "ff1def75",
   "metadata": {
    "execution": {
     "iopub.execute_input": "2021-09-21T11:41:42.849392Z",
     "iopub.status.busy": "2021-09-21T11:41:42.834474Z",
     "iopub.status.idle": "2021-09-21T11:41:44.329077Z",
     "shell.execute_reply": "2021-09-21T11:41:44.326937Z"
    }
   },
   "outputs": [
    {
     "name": "stdout",
     "output_type": "stream",
     "text": [
      "end\n"
     ]
    }
   ],
   "source": [
    "count=0\n",
    "for i in range(len(unique_state_names)):\n",
    "#     print(unique_state_names[i])\n",
    "    count=i\n",
    "    st=thefunc_stmonth(unique_state_names[i])   #each district id dataframe\n",
    "    coll_df4.append(st)\n",
    "    \n",
    "print('end')"
   ]
  },
  {
   "cell_type": "code",
   "execution_count": 54,
   "id": "04c7ea32",
   "metadata": {
    "execution": {
     "iopub.execute_input": "2021-09-21T11:41:44.329077Z",
     "iopub.status.busy": "2021-09-21T11:41:44.329077Z",
     "iopub.status.idle": "2021-09-21T11:41:44.349569Z",
     "shell.execute_reply": "2021-09-21T11:41:44.349569Z"
    }
   },
   "outputs": [],
   "source": [
    "finaldf4 = pd.concat(coll_df4)\n",
    "finaldf4.reset_index(inplace=True)\n"
   ]
  },
  {
   "cell_type": "code",
   "execution_count": 55,
   "id": "c58865f9",
   "metadata": {
    "execution": {
     "iopub.execute_input": "2021-09-21T11:41:44.349569Z",
     "iopub.status.busy": "2021-09-21T11:41:44.349569Z",
     "iopub.status.idle": "2021-09-21T11:41:44.370455Z",
     "shell.execute_reply": "2021-09-21T11:41:44.370455Z"
    }
   },
   "outputs": [],
   "source": [
    "finaldf4 = finaldf4.sort_values(['State','Month'])"
   ]
  },
  {
   "cell_type": "code",
   "execution_count": 56,
   "id": "12427fe0",
   "metadata": {
    "execution": {
     "iopub.execute_input": "2021-09-21T11:41:44.370455Z",
     "iopub.status.busy": "2021-09-21T11:41:44.370455Z",
     "iopub.status.idle": "2021-09-21T11:41:44.392118Z",
     "shell.execute_reply": "2021-09-21T11:41:44.392118Z"
    }
   },
   "outputs": [],
   "source": [
    "#RENAMING COLUMNS\n",
    "finaldf4.rename(columns={'State':'stateid','Month':'timeid'},inplace=True)\n",
    "finaldf4 = finaldf4[['stateid','timeid','dose1','dose2']]"
   ]
  },
  {
   "cell_type": "code",
   "execution_count": 57,
   "id": "d31d7d94",
   "metadata": {
    "execution": {
     "iopub.execute_input": "2021-09-21T11:41:44.392118Z",
     "iopub.status.busy": "2021-09-21T11:41:44.392118Z",
     "iopub.status.idle": "2021-09-21T11:41:44.413639Z",
     "shell.execute_reply": "2021-09-21T11:41:44.413639Z"
    }
   },
   "outputs": [],
   "source": [
    "#FINAL OUTPUT\n",
    "finaldf4.to_csv('state-vaccinated-count-month.csv',index=False)\n",
    "# state-vaccinated-count-monthly"
   ]
  },
  {
   "cell_type": "code",
   "execution_count": null,
   "id": "40888945",
   "metadata": {},
   "outputs": [],
   "source": []
  },
  {
   "cell_type": "markdown",
   "id": "c4bb65aa",
   "metadata": {},
   "source": [
    "# STATE OVERALL"
   ]
  },
  {
   "cell_type": "code",
   "execution_count": 58,
   "id": "a2e29750",
   "metadata": {
    "execution": {
     "iopub.execute_input": "2021-09-21T11:41:44.413639Z",
     "iopub.status.busy": "2021-09-21T11:41:44.413639Z",
     "iopub.status.idle": "2021-09-21T11:41:44.435172Z",
     "shell.execute_reply": "2021-09-21T11:41:44.435172Z"
    }
   },
   "outputs": [],
   "source": [
    "def thefunc_overall_st(name):\n",
    "    dfsub = newdf.loc[newdf['State']==name]\n",
    "    return dfsub.iloc[[-1]]                    #ASDATA IS CUMULATIVE"
   ]
  },
  {
   "cell_type": "code",
   "execution_count": 59,
   "id": "8aef57f2",
   "metadata": {
    "execution": {
     "iopub.execute_input": "2021-09-21T11:41:44.435172Z",
     "iopub.status.busy": "2021-09-21T11:41:44.435172Z",
     "iopub.status.idle": "2021-09-21T11:41:44.456559Z",
     "shell.execute_reply": "2021-09-21T11:41:44.456559Z"
    }
   },
   "outputs": [],
   "source": [
    "coll_df6 = []         #LIST OF ALL DISTRICTS"
   ]
  },
  {
   "cell_type": "code",
   "execution_count": 60,
   "id": "90c5ffc7",
   "metadata": {
    "execution": {
     "iopub.execute_input": "2021-09-21T11:41:44.464714Z",
     "iopub.status.busy": "2021-09-21T11:41:44.464714Z",
     "iopub.status.idle": "2021-09-21T11:41:44.808966Z",
     "shell.execute_reply": "2021-09-21T11:41:44.808966Z"
    }
   },
   "outputs": [
    {
     "name": "stdout",
     "output_type": "stream",
     "text": [
      "end\n"
     ]
    }
   ],
   "source": [
    "for i in range(len(unique_state_names)):\n",
    "#     print(unique_state_names[i])\n",
    "    st=thefunc_overall_st(unique_state_names[i])   #each district id dataframe\n",
    "    coll_df6.append(st)\n",
    "    \n",
    "print('end')"
   ]
  },
  {
   "cell_type": "code",
   "execution_count": 61,
   "id": "e82273b8",
   "metadata": {
    "execution": {
     "iopub.execute_input": "2021-09-21T11:41:44.817020Z",
     "iopub.status.busy": "2021-09-21T11:41:44.817020Z",
     "iopub.status.idle": "2021-09-21T11:41:44.829501Z",
     "shell.execute_reply": "2021-09-21T11:41:44.829501Z"
    }
   },
   "outputs": [],
   "source": [
    "#COLLECTION OF ALL DISTRICTS INTO A SINGLE DATAFRAME\n",
    "finaldf6 = pd.concat(coll_df6)\n",
    "finaldf6.reset_index(inplace=True,drop=True)"
   ]
  },
  {
   "cell_type": "code",
   "execution_count": 62,
   "id": "fbce2409",
   "metadata": {
    "execution": {
     "iopub.execute_input": "2021-09-21T11:41:44.837578Z",
     "iopub.status.busy": "2021-09-21T11:41:44.837578Z",
     "iopub.status.idle": "2021-09-21T11:41:44.849866Z",
     "shell.execute_reply": "2021-09-21T11:41:44.849866Z"
    }
   },
   "outputs": [],
   "source": [
    "finaldf6['overall'] = 1  #ADDING TIMEID"
   ]
  },
  {
   "cell_type": "code",
   "execution_count": 63,
   "id": "7b28614e",
   "metadata": {
    "execution": {
     "iopub.execute_input": "2021-09-21T11:41:44.858031Z",
     "iopub.status.busy": "2021-09-21T11:41:44.858031Z",
     "iopub.status.idle": "2021-09-21T11:41:44.870574Z",
     "shell.execute_reply": "2021-09-21T11:41:44.870574Z"
    }
   },
   "outputs": [],
   "source": [
    "#RENAMING COLUMNS\n",
    "finaldf6.rename(columns={'State':'stateid','overall':'timeid'},inplace=True)\n",
    "finaldf6 = finaldf6[['stateid','timeid','dose1','dose2']]"
   ]
  },
  {
   "cell_type": "code",
   "execution_count": 64,
   "id": "f1954c32",
   "metadata": {
    "execution": {
     "iopub.execute_input": "2021-09-21T11:41:44.870574Z",
     "iopub.status.busy": "2021-09-21T11:41:44.870574Z",
     "iopub.status.idle": "2021-09-21T11:41:44.891456Z",
     "shell.execute_reply": "2021-09-21T11:41:44.891456Z"
    }
   },
   "outputs": [],
   "source": [
    "#FINAL OUTPUT\n",
    "finaldf6.to_csv('state-vaccinated-count-overall.csv',index=False)"
   ]
  },
  {
   "cell_type": "code",
   "execution_count": null,
   "id": "9d27bff9",
   "metadata": {},
   "outputs": [],
   "source": []
  },
  {
   "cell_type": "code",
   "execution_count": null,
   "id": "84c9abb4",
   "metadata": {},
   "outputs": [],
   "source": []
  }
 ],
 "metadata": {
  "kernelspec": {
   "display_name": "Python 3",
   "language": "python",
   "name": "python3"
  },
  "language_info": {
   "codemirror_mode": {
    "name": "ipython",
    "version": 3
   },
   "file_extension": ".py",
   "mimetype": "text/x-python",
   "name": "python",
   "nbconvert_exporter": "python",
   "pygments_lexer": "ipython3",
   "version": "3.8.8"
  }
 },
 "nbformat": 4,
 "nbformat_minor": 5
}
