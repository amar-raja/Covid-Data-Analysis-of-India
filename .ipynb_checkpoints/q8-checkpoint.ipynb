{
 "cells": [
  {
   "cell_type": "markdown",
   "id": "03b77174",
   "metadata": {},
   "source": [
    "## For each state, district and overall, find the following ratio: total number of persons vaccinated (both 1 and 2 doses) to total population"
   ]
  },
  {
   "cell_type": "code",
   "execution_count": 1,
   "id": "13c76966",
   "metadata": {
    "execution": {
     "iopub.execute_input": "2021-09-21T11:42:24.803252Z",
     "iopub.status.busy": "2021-09-21T11:42:24.803252Z",
     "iopub.status.idle": "2021-09-21T11:42:25.404740Z",
     "shell.execute_reply": "2021-09-21T11:42:25.404740Z"
    }
   },
   "outputs": [],
   "source": [
    "import numpy as np\n",
    "import pandas as pd\n",
    "import datetime as dt\n",
    "import warnings\n",
    "warnings.filterwarnings('ignore')"
   ]
  },
  {
   "cell_type": "markdown",
   "id": "c7c0d443",
   "metadata": {},
   "source": [
    "ALL REQUIRED CHANGES LIKE GROUPING BY DISTRICTNAMES,AND NECESSARY CHANGES ARE ALL CARRIED OUT BEFORE AND STORED IN\n",
    "csvfile-- \"firstandseconddoselatestnew1.csv\"   (created in ques5)"
   ]
  },
  {
   "cell_type": "code",
   "execution_count": 2,
   "id": "8db0a073",
   "metadata": {
    "execution": {
     "iopub.execute_input": "2021-09-21T11:42:25.404740Z",
     "iopub.status.busy": "2021-09-21T11:42:25.404740Z",
     "iopub.status.idle": "2021-09-21T11:42:26.580075Z",
     "shell.execute_reply": "2021-09-21T11:42:26.580075Z"
    }
   },
   "outputs": [],
   "source": [
    "#READING FILES\n",
    "df = pd.read_csv(r'firstandseconddoselatestnew1.csv',usecols=['State','District','District_Key','dose1','dose2','Date'],parse_dates=['Date'])\n",
    "cowin_data = pd.read_csv(r'cowin_vaccine_data_districtwise.csv')"
   ]
  },
  {
   "cell_type": "code",
   "execution_count": null,
   "id": "004d5922",
   "metadata": {},
   "outputs": [],
   "source": []
  },
  {
   "cell_type": "code",
   "execution_count": 3,
   "id": "4fd63775",
   "metadata": {
    "execution": {
     "iopub.execute_input": "2021-09-21T11:42:26.580075Z",
     "iopub.status.busy": "2021-09-21T11:42:26.580075Z",
     "iopub.status.idle": "2021-09-21T11:42:26.595695Z",
     "shell.execute_reply": "2021-09-21T11:42:26.595695Z"
    }
   },
   "outputs": [],
   "source": [
    "#AS DATA IS CUMULATIVE WE MAKE USE OF LASTROW\n",
    "def first_last(df1):\n",
    "        return df1.iloc[[-1]]"
   ]
  },
  {
   "cell_type": "code",
   "execution_count": 4,
   "id": "bd479a6b",
   "metadata": {
    "execution": {
     "iopub.execute_input": "2021-09-21T11:42:26.611316Z",
     "iopub.status.busy": "2021-09-21T11:42:26.611316Z",
     "iopub.status.idle": "2021-09-21T11:42:27.651728Z",
     "shell.execute_reply": "2021-09-21T11:42:27.651728Z"
    }
   },
   "outputs": [],
   "source": [
    "#gives sum of doses in each district\n",
    "df = df.groupby('District_Key').apply(first_last)\n",
    "df.reset_index(inplace=True,drop=True)"
   ]
  },
  {
   "cell_type": "code",
   "execution_count": null,
   "id": "93104f9f",
   "metadata": {},
   "outputs": [],
   "source": []
  },
  {
   "cell_type": "markdown",
   "id": "9215667d",
   "metadata": {},
   "source": [
    "## CENSUSDATA PREPROCESSING"
   ]
  },
  {
   "cell_type": "code",
   "execution_count": 5,
   "id": "eb103397",
   "metadata": {
    "execution": {
     "iopub.execute_input": "2021-09-21T11:42:27.651728Z",
     "iopub.status.busy": "2021-09-21T11:42:27.651728Z",
     "iopub.status.idle": "2021-09-21T11:42:31.224727Z",
     "shell.execute_reply": "2021-09-21T11:42:31.224727Z"
    }
   },
   "outputs": [],
   "source": [
    "censuscols = ['State','District','Level','Name','TRU','TOT_P']\n",
    "\n",
    "census_data = pd.read_excel(r'DDW_PCA0000_2011_Indiastatedist.xlsx',usecols=censuscols)"
   ]
  },
  {
   "cell_type": "code",
   "execution_count": 6,
   "id": "1823ffa4",
   "metadata": {
    "execution": {
     "iopub.execute_input": "2021-09-21T11:42:31.224727Z",
     "iopub.status.busy": "2021-09-21T11:42:31.224727Z",
     "iopub.status.idle": "2021-09-21T11:42:31.246382Z",
     "shell.execute_reply": "2021-09-21T11:42:31.246284Z"
    }
   },
   "outputs": [],
   "source": [
    "#THIS TOTALPOPULATION IS USED IN OVERALL ANALYSIS\n",
    "Total_population = census_data.iloc[0][-1]"
   ]
  },
  {
   "cell_type": "markdown",
   "id": "c737ec74",
   "metadata": {},
   "source": [
    "CHANGES TO BE MADE"
   ]
  },
  {
   "cell_type": "code",
   "execution_count": 7,
   "id": "45737e2f",
   "metadata": {
    "execution": {
     "iopub.execute_input": "2021-09-21T11:42:31.254430Z",
     "iopub.status.busy": "2021-09-21T11:42:31.254430Z",
     "iopub.status.idle": "2021-09-21T11:42:31.265025Z",
     "shell.execute_reply": "2021-09-21T11:42:31.265025Z"
    }
   },
   "outputs": [],
   "source": [
    "#MAPPING OF CENSUS DATA and VACCINEDATA DISTRICT NAMES\n",
    "dist_mod = {'Allahabad ':'Prayagraj','Anugul':'Angul','Ahmadabad':'Ahmedabad',  'East District':'East Sikkim','North  District': 'North Sikkim', 'South District':'South Sikkim','West District':'West Sikkim','Garhwal':'Pauri Garhwal',\n",
    "         'Gulbarga':'Kalaburagi','Ahmadnagar':'Ahmednagar','Almora\\n':'Almora','Amritsar ':'Amritsar','Anand  ': 'Anand','Anugul  ':'Angul','Ariyalur  ':'Ariyalur','Badgam':'Budgam','Bagalkot ':'Bagalkote','Baleshwar':'Balasore','Banas Kantha':'Banaskantha','Bandipore':'Bandipora','Bangalore Rural':'Bengaluru Rural','Bankura ':'Bankura','Bara Banki':'Barabanki','Baramula':'Baramulla','Barwani ':'Barwani','Baudh':'Boudh','Belgaum':'Belagavi','Bellary':'Ballari', 'Bid':'Beed','Bulandshahr ':'Bulandshahr','Buldana':'Buldhana','Central':'Central Delhi','Chamarajanagar':'Chamarajanagara','Chikmagalur':'Chikkamagaluru', 'Chittaurgarh':'Chittorgarh', 'Dadra & Nagar Haveli':'Dadra and Nagar Haveli', 'Darjiling ':'Darjeeling',\n",
    "         'Debagarh':'Deogarh', 'Dhamtari ':'Dhamtari', 'Dhaulpur':'Dholpur',  'Dimapur ':'Dimapur', 'Dindori ':'Dindori',\n",
    "        'Dohad  ':'Dahod', 'East':'East Delhi', 'Faizabad':'Ayodhya', 'Firozpur':'Ferozepur', 'Ganganagar ':'Ganganagar',\n",
    "         'Garhwa ':'Garhwa', 'Gondiya':'Gondia', 'Gurgaon':'Gurugram', 'Haora ':'Howrah', 'Harda ':'Harda','Hardwar':'Haridwar', 'Hugli ':'Hooghly', 'Idukki ':'Idukki','Jagatsinghapur ':'Jagatsinghpur','Jaintia Hills':'West Jaintia Hills', 'Jajapur  ':'Jajpur', 'Jalaun ':'Jalaun', 'Jalor':'Jalore','Jalpaiguri ':'Jalpaiguri', 'Janjgir - Champa':'Janjgir Champa', 'Jashpur ':'Jashpur', 'Jehanabad ':'Jehanabad','Jhunjhunun':'Jhunjhunu', 'Jyotiba Phule Nagar':'Amroha', 'Kachchh':'Kutch', 'Kaimur (Bhabua)':'Kaimur','Kanniyakumari':'Kanyakumari', 'Kanshiram Nagar':'Kasganj', 'Kapurthala ':'Kapurthala', 'Karur ':'Karur','Katni ':'Katni', 'Kendrapara ': 'Kendrapara', 'Khandwa (East Nimar)':'Khandwa','Khargone (West Nimar)':'Khargone','Kheri':'Lakhimpur Kheri', 'Khordha ':'Khordha', 'Koch Bihar ':'Cooch Behar', 'Kodarma':'Koderma', 'Korba ':'Korba','Lahul & Spiti':'Lahaul and Spiti', 'Leh(Ladakh)':'Leh', 'Mahamaya Nagar':'Hathras', 'Mahbubnagar':'Mahabubnagar','Mahesana':'Mehsana', 'Mahrajganj':'Maharajganj', 'Maldah ':'Malda', 'Malkangiri  ':'Malkangiri', 'Mewat ':'Nuh','Muktsar':'Sri Muktsar Sahib', 'Murshidabad ':'Murshidabad', 'Mysore':'Mysuru', 'Nabarangapur ':'Nabarangapur','Nadia ':'Nadia', 'Nagapattinam  ': 'Nagapattinam','Namakkal   ':'Namakkal', 'Narsimhapur':'Narsinghpur', 'Navsari  ':'Navsari', 'Nayagarh  ':'Nayagarh','Neemuch ':'Neemuch', 'North':'North Delhi', 'North  & Middle Andaman':'North and Middle Andaman', 'North East':'North East Delhi','North Twenty Four Parganas':'North 24 Parganas', 'North West':'North West Delhi', 'Palwal ':'Palwal','Panch Mahals':'Panchmahal','Pashchim Champaran':'West Champaran', 'Pashchimi Singhbhum':'West Singhbhum', 'Patan  ':'Patan','Perambalur  ':'Perambalur', 'Porbandar ':'Porbandar', 'Purba Champaran':'East Champaran', 'Purbi Singhbhum': 'East Singhbhum',\n",
    "         'Puruliya':'Purulia', 'Rangareddy':'Ranga Reddy', 'Rayagada  ':'Rayagada','Sabar Kantha':'Sabarkantha', 'Sahibzada Ajit Singh Nagar':'S.A.S. Nagar', 'Sant Ravidas Nagar (Bhadohi)':'Bhadohi',\n",
    "         'Shahid Bhagat Singh Nagar ':'Shahid Bhagat Singh Nagar', 'Sheopur ':'Sheopur', 'Shimoga':'Shivamogga',\n",
    "         'Shupiyan': 'Shopiyan', 'South':'South Delhi','South Tripura ':'South Tripura', 'South Twenty Four Parganas':'South 24 Parganas', 'South West':'South West Delhi','NCT OF DELHI':'Delhi',\n",
    "         'Sri Potti Sriramulu Nellore':'S.P.S. Nellore', 'Tamenglong ':'Tamenglong', 'The Dangs':'Dang',\n",
    "         'The Nilgiris':'Nilgiris', 'Theni  ': 'Theni', 'Tirunelveli ':'Tirunelveli', 'Tumkur':'Tumakuru',\n",
    "         'West':'West Delhi', 'West Tripura ':'West Tripura', 'Y.S.R.':'Y.S.R. Kadapa','Dibang Valley':'Upper Dibang Valley',\n",
    "           }"
   ]
  },
  {
   "cell_type": "code",
   "execution_count": 8,
   "id": "f6698e99",
   "metadata": {
    "execution": {
     "iopub.execute_input": "2021-09-21T11:42:31.265025Z",
     "iopub.status.busy": "2021-09-21T11:42:31.265025Z",
     "iopub.status.idle": "2021-09-21T11:42:31.281261Z",
     "shell.execute_reply": "2021-09-21T11:42:31.281261Z"
    }
   },
   "outputs": [],
   "source": [
    "#dropping rows OF TRU =(rural,urban)\n",
    "a = census_data.loc[(census_data['TRU']=='Rural') | (census_data['TRU']=='Urban')].index\n",
    "census_data = census_data.drop(a)"
   ]
  },
  {
   "cell_type": "markdown",
   "id": "caadb716",
   "metadata": {},
   "source": [
    "REPLACING WITH MAPPED VALUES"
   ]
  },
  {
   "cell_type": "code",
   "execution_count": 9,
   "id": "f2d2237b",
   "metadata": {
    "execution": {
     "iopub.execute_input": "2021-09-21T11:42:31.281261Z",
     "iopub.status.busy": "2021-09-21T11:42:31.281261Z",
     "iopub.status.idle": "2021-09-21T11:42:31.311897Z",
     "shell.execute_reply": "2021-09-21T11:42:31.311897Z"
    }
   },
   "outputs": [],
   "source": [
    "census_data.Name.replace(dist_mod,inplace=True)\n",
    "census_data['Name'] = census_data['Name'].str.replace('&','and')"
   ]
  },
  {
   "cell_type": "code",
   "execution_count": 10,
   "id": "66749cf3",
   "metadata": {
    "execution": {
     "iopub.execute_input": "2021-09-21T11:42:31.311897Z",
     "iopub.status.busy": "2021-09-21T11:42:31.311897Z",
     "iopub.status.idle": "2021-09-21T11:42:31.327514Z",
     "shell.execute_reply": "2021-09-21T11:42:31.327514Z"
    }
   },
   "outputs": [],
   "source": [
    "census_data.reset_index(inplace=True,drop=True)"
   ]
  },
  {
   "cell_type": "code",
   "execution_count": 11,
   "id": "b21671f5",
   "metadata": {
    "execution": {
     "iopub.execute_input": "2021-09-21T11:42:31.327514Z",
     "iopub.status.busy": "2021-09-21T11:42:31.327514Z",
     "iopub.status.idle": "2021-09-21T11:42:31.343366Z",
     "shell.execute_reply": "2021-09-21T11:42:31.343366Z"
    }
   },
   "outputs": [
    {
     "data": {
      "text/plain": [
       "(676, 6)"
      ]
     },
     "execution_count": 11,
     "metadata": {},
     "output_type": "execute_result"
    }
   ],
   "source": [
    "census_data.shape"
   ]
  },
  {
   "cell_type": "markdown",
   "id": "d14c595d",
   "metadata": {},
   "source": [
    "AS THERE ARE NO STATENAMES INSTED THERE ARE STATEID SO WE MAP STATEID WITH STATE NAME TO GET STATE NAME"
   ]
  },
  {
   "cell_type": "code",
   "execution_count": 12,
   "id": "87e76f79",
   "metadata": {
    "execution": {
     "iopub.execute_input": "2021-09-21T11:42:31.343366Z",
     "iopub.status.busy": "2021-09-21T11:42:31.343366Z",
     "iopub.status.idle": "2021-09-21T11:42:31.359379Z",
     "shell.execute_reply": "2021-09-21T11:42:31.359379Z"
    }
   },
   "outputs": [],
   "source": [
    "map_state = census_data[['State','Level', 'Name']]\n",
    "map_state = map_state[map_state['Level']=='STATE']\n",
    "map_state = map_state[['State','Name']]"
   ]
  },
  {
   "cell_type": "code",
   "execution_count": 13,
   "id": "b9917e49",
   "metadata": {
    "execution": {
     "iopub.execute_input": "2021-09-21T11:42:31.364931Z",
     "iopub.status.busy": "2021-09-21T11:42:31.359379Z",
     "iopub.status.idle": "2021-09-21T11:42:31.380684Z",
     "shell.execute_reply": "2021-09-21T11:42:31.380684Z"
    }
   },
   "outputs": [],
   "source": [
    "# map_state.set_index('State')"
   ]
  },
  {
   "cell_type": "code",
   "execution_count": 14,
   "id": "ac9d32e0",
   "metadata": {
    "execution": {
     "iopub.execute_input": "2021-09-21T11:42:31.380684Z",
     "iopub.status.busy": "2021-09-21T11:42:31.380684Z",
     "iopub.status.idle": "2021-09-21T11:42:31.396733Z",
     "shell.execute_reply": "2021-09-21T11:42:31.396733Z"
    }
   },
   "outputs": [],
   "source": [
    "g = dict(map_state.values) #mapping done with state number and state name"
   ]
  },
  {
   "cell_type": "code",
   "execution_count": 15,
   "id": "53c51608",
   "metadata": {
    "execution": {
     "iopub.execute_input": "2021-09-21T11:42:31.396733Z",
     "iopub.status.busy": "2021-09-21T11:42:31.396733Z",
     "iopub.status.idle": "2021-09-21T11:42:31.412092Z",
     "shell.execute_reply": "2021-09-21T11:42:31.412092Z"
    }
   },
   "outputs": [],
   "source": [
    "#REPLACING STATEID WITH STATE NAME\n",
    "census_data.State.replace(g,inplace=True)\n",
    "census_data['State'] = census_data['State'].str.lower()\n",
    "\n",
    "#AS INDIA GETS NAN VALUE\n",
    "census_data.fillna('0',inplace=True)"
   ]
  },
  {
   "cell_type": "code",
   "execution_count": 16,
   "id": "90289750",
   "metadata": {
    "execution": {
     "iopub.execute_input": "2021-09-21T11:42:31.412092Z",
     "iopub.status.busy": "2021-09-21T11:42:31.412092Z",
     "iopub.status.idle": "2021-09-21T11:42:31.427655Z",
     "shell.execute_reply": "2021-09-21T11:42:31.427655Z"
    }
   },
   "outputs": [
    {
     "data": {
      "text/plain": [
       "(676, 6)"
      ]
     },
     "execution_count": 16,
     "metadata": {},
     "output_type": "execute_result"
    }
   ],
   "source": [
    "census_data.shape"
   ]
  },
  {
   "cell_type": "markdown",
   "id": "287dc273",
   "metadata": {},
   "source": [
    "EXTRA MANUAL CHANGES REUIRED"
   ]
  },
  {
   "cell_type": "code",
   "execution_count": 17,
   "id": "2d33d64c",
   "metadata": {
    "execution": {
     "iopub.execute_input": "2021-09-21T11:42:31.427655Z",
     "iopub.status.busy": "2021-09-21T11:42:31.427655Z",
     "iopub.status.idle": "2021-09-21T11:42:31.443329Z",
     "shell.execute_reply": "2021-09-21T11:42:31.443329Z"
    }
   },
   "outputs": [],
   "source": [
    "# census_data[(census_data['Name'] == 'Vijayapura') & (census_data['State'] == 'karnataka')]\n",
    "# census_data[(census_data['Name'] == 'Raigad') & (census_data['State'] == 'maharashtra')]"
   ]
  },
  {
   "cell_type": "code",
   "execution_count": 18,
   "id": "d7a2d420",
   "metadata": {
    "execution": {
     "iopub.execute_input": "2021-09-21T11:42:31.443329Z",
     "iopub.status.busy": "2021-09-21T11:42:31.443329Z",
     "iopub.status.idle": "2021-09-21T11:42:31.459096Z",
     "shell.execute_reply": "2021-09-21T11:42:31.459096Z"
    }
   },
   "outputs": [],
   "source": [
    "#IN KARNATAKA VIJAYAPURA OLD NAME WAS BIJAPUR\n",
    "census_data.iloc[586,3] = 'Vijayapura'\n",
    "\n",
    "#INMAHARASHTRA RAIGAD OLDNAME WAS RAIGARH\n",
    "census_data.iloc[547,3] = 'Raigad'"
   ]
  },
  {
   "cell_type": "code",
   "execution_count": 19,
   "id": "754ed6bb",
   "metadata": {
    "execution": {
     "iopub.execute_input": "2021-09-21T11:42:31.465150Z",
     "iopub.status.busy": "2021-09-21T11:42:31.465150Z",
     "iopub.status.idle": "2021-09-21T11:42:31.481255Z",
     "shell.execute_reply": "2021-09-21T11:42:31.481255Z"
    }
   },
   "outputs": [],
   "source": [
    "census_data['full'] = census_data['State'].astype(str)+'_'+census_data['Name']"
   ]
  },
  {
   "cell_type": "markdown",
   "id": "b96cfa3c",
   "metadata": {},
   "source": [
    "## census data completed"
   ]
  },
  {
   "cell_type": "markdown",
   "id": "e86b4124",
   "metadata": {},
   "source": [
    "## VACCINEDATA PREPROCESSING"
   ]
  },
  {
   "cell_type": "code",
   "execution_count": 20,
   "id": "e9baae34",
   "metadata": {
    "execution": {
     "iopub.execute_input": "2021-09-21T11:42:31.481255Z",
     "iopub.status.busy": "2021-09-21T11:42:31.481255Z",
     "iopub.status.idle": "2021-09-21T11:42:31.496945Z",
     "shell.execute_reply": "2021-09-21T11:42:31.496945Z"
    }
   },
   "outputs": [],
   "source": [
    "df['State'] = df['State'].str.lower()"
   ]
  },
  {
   "cell_type": "markdown",
   "id": "308748b0",
   "metadata": {},
   "source": [
    "THERE ARE TWO STATES TELANGANA AND LADAKH PRESENT IN VACC BUT NOT IN CENSUS,AS THEY ARE NEWLY FORMED STATES, but DISTRICTS ARE REMAINED SAME SO WE MERGE THEM INTO THEIR OLD STATES"
   ]
  },
  {
   "cell_type": "code",
   "execution_count": 21,
   "id": "2867a89d",
   "metadata": {
    "execution": {
     "iopub.execute_input": "2021-09-21T11:42:31.496945Z",
     "iopub.status.busy": "2021-09-21T11:42:31.496945Z",
     "iopub.status.idle": "2021-09-21T11:42:31.527805Z",
     "shell.execute_reply": "2021-09-21T11:42:31.527805Z"
    }
   },
   "outputs": [
    {
     "data": {
      "text/html": [
       "<div>\n",
       "<style scoped>\n",
       "    .dataframe tbody tr th:only-of-type {\n",
       "        vertical-align: middle;\n",
       "    }\n",
       "\n",
       "    .dataframe tbody tr th {\n",
       "        vertical-align: top;\n",
       "    }\n",
       "\n",
       "    .dataframe thead th {\n",
       "        text-align: right;\n",
       "    }\n",
       "</style>\n",
       "<table border=\"1\" class=\"dataframe\">\n",
       "  <thead>\n",
       "    <tr style=\"text-align: right;\">\n",
       "      <th></th>\n",
       "      <th>State</th>\n",
       "      <th>District</th>\n",
       "      <th>Level</th>\n",
       "      <th>Name</th>\n",
       "      <th>TRU</th>\n",
       "      <th>TOT_P</th>\n",
       "      <th>full</th>\n",
       "    </tr>\n",
       "  </thead>\n",
       "  <tbody>\n",
       "    <tr>\n",
       "      <th>27</th>\n",
       "      <td>himachal pradesh</td>\n",
       "      <td>25</td>\n",
       "      <td>DISTRICT</td>\n",
       "      <td>Lahaul and Spiti</td>\n",
       "      <td>Total</td>\n",
       "      <td>31564</td>\n",
       "      <td>himachal pradesh_Lahaul and Spiti</td>\n",
       "    </tr>\n",
       "  </tbody>\n",
       "</table>\n",
       "</div>"
      ],
      "text/plain": [
       "               State  District     Level              Name    TRU  TOT_P  \\\n",
       "27  himachal pradesh        25  DISTRICT  Lahaul and Spiti  Total  31564   \n",
       "\n",
       "                                 full  \n",
       "27  himachal pradesh_Lahaul and Spiti  "
      ]
     },
     "execution_count": 21,
     "metadata": {},
     "output_type": "execute_result"
    }
   ],
   "source": [
    "census_data[census_data['Name'].str.contains('Spiti')]"
   ]
  },
  {
   "cell_type": "code",
   "execution_count": 22,
   "id": "79e87548",
   "metadata": {
    "execution": {
     "iopub.execute_input": "2021-09-21T11:42:31.527805Z",
     "iopub.status.busy": "2021-09-21T11:42:31.527805Z",
     "iopub.status.idle": "2021-09-21T11:42:31.543405Z",
     "shell.execute_reply": "2021-09-21T11:42:31.543405Z"
    }
   },
   "outputs": [],
   "source": [
    "df['State']=df['State'].str.replace('telangana','andhra pradesh')\n",
    "df['State']=df['State'].str.replace('ladakh','jammu and kashmir')"
   ]
  },
  {
   "cell_type": "code",
   "execution_count": 23,
   "id": "40c57fb8",
   "metadata": {
    "execution": {
     "iopub.execute_input": "2021-09-21T11:42:31.543405Z",
     "iopub.status.busy": "2021-09-21T11:42:31.543405Z",
     "iopub.status.idle": "2021-09-21T11:42:31.558974Z",
     "shell.execute_reply": "2021-09-21T11:42:31.558974Z"
    }
   },
   "outputs": [],
   "source": [
    "#AS DADRA AND NAGAR HAVELI and DAMAN AND DIU ARE CONSIDERED AS DIFFERENT STATES WE ARE CHANGING STATE NAMES\n",
    "df.iloc[152,0] = 'dadra and nagar haveli'\n",
    "df.iloc[153,0] = 'daman and diu'\n",
    "df.iloc[154,0] = 'daman and diu'"
   ]
  },
  {
   "cell_type": "code",
   "execution_count": 24,
   "id": "5d7fd9af",
   "metadata": {
    "execution": {
     "iopub.execute_input": "2021-09-21T11:42:31.565482Z",
     "iopub.status.busy": "2021-09-21T11:42:31.565482Z",
     "iopub.status.idle": "2021-09-21T11:42:31.581122Z",
     "shell.execute_reply": "2021-09-21T11:42:31.581122Z"
    }
   },
   "outputs": [
    {
     "data": {
      "text/html": [
       "<div>\n",
       "<style scoped>\n",
       "    .dataframe tbody tr th:only-of-type {\n",
       "        vertical-align: middle;\n",
       "    }\n",
       "\n",
       "    .dataframe tbody tr th {\n",
       "        vertical-align: top;\n",
       "    }\n",
       "\n",
       "    .dataframe thead th {\n",
       "        text-align: right;\n",
       "    }\n",
       "</style>\n",
       "<table border=\"1\" class=\"dataframe\">\n",
       "  <thead>\n",
       "    <tr style=\"text-align: right;\">\n",
       "      <th></th>\n",
       "      <th>State</th>\n",
       "      <th>District</th>\n",
       "      <th>District_Key</th>\n",
       "      <th>dose1</th>\n",
       "      <th>dose2</th>\n",
       "      <th>Date</th>\n",
       "    </tr>\n",
       "  </thead>\n",
       "  <tbody>\n",
       "    <tr>\n",
       "      <th>154</th>\n",
       "      <td>daman and diu</td>\n",
       "      <td>Diu</td>\n",
       "      <td>DN_Diu</td>\n",
       "      <td>37922.0</td>\n",
       "      <td>13642.0</td>\n",
       "      <td>2021-08-14</td>\n",
       "    </tr>\n",
       "  </tbody>\n",
       "</table>\n",
       "</div>"
      ],
      "text/plain": [
       "             State District District_Key    dose1    dose2       Date\n",
       "154  daman and diu      Diu       DN_Diu  37922.0  13642.0 2021-08-14"
      ]
     },
     "execution_count": 24,
     "metadata": {},
     "output_type": "execute_result"
    }
   ],
   "source": [
    "df.iloc[[154]]"
   ]
  },
  {
   "cell_type": "code",
   "execution_count": 25,
   "id": "71d429a0",
   "metadata": {
    "execution": {
     "iopub.execute_input": "2021-09-21T11:42:31.581122Z",
     "iopub.status.busy": "2021-09-21T11:42:31.581122Z",
     "iopub.status.idle": "2021-09-21T11:42:31.597188Z",
     "shell.execute_reply": "2021-09-21T11:42:31.597188Z"
    }
   },
   "outputs": [],
   "source": [
    "#THIS IS REQUIRED TO ENABLE MERGING BETWEEN CENSUSDATA AND VACCINATIONDATA\n",
    "df['full'] = df['State'].astype(str)+'_'+df['District']"
   ]
  },
  {
   "cell_type": "markdown",
   "id": "b0220e00",
   "metadata": {},
   "source": [
    "# STATE ANALYSIS"
   ]
  },
  {
   "cell_type": "code",
   "execution_count": 26,
   "id": "42a89546",
   "metadata": {
    "execution": {
     "iopub.execute_input": "2021-09-21T11:42:31.597188Z",
     "iopub.status.busy": "2021-09-21T11:42:31.597188Z",
     "iopub.status.idle": "2021-09-21T11:42:31.612671Z",
     "shell.execute_reply": "2021-09-21T11:42:31.612671Z"
    }
   },
   "outputs": [],
   "source": [
    "\n",
    "vacc_month = df[['State','dose1','dose2']]"
   ]
  },
  {
   "cell_type": "code",
   "execution_count": 27,
   "id": "eb44ce34",
   "metadata": {
    "execution": {
     "iopub.execute_input": "2021-09-21T11:42:31.612671Z",
     "iopub.status.busy": "2021-09-21T11:42:31.612671Z",
     "iopub.status.idle": "2021-09-21T11:42:31.628025Z",
     "shell.execute_reply": "2021-09-21T11:42:31.628025Z"
    }
   },
   "outputs": [],
   "source": [
    "#grouping by state:\n",
    "vacc_month = vacc_month.groupby('State').aggregate({'dose1':sum,'dose2':sum})"
   ]
  },
  {
   "cell_type": "code",
   "execution_count": 28,
   "id": "5efd7251",
   "metadata": {
    "execution": {
     "iopub.execute_input": "2021-09-21T11:42:31.628025Z",
     "iopub.status.busy": "2021-09-21T11:42:31.628025Z",
     "iopub.status.idle": "2021-09-21T11:42:31.644198Z",
     "shell.execute_reply": "2021-09-21T11:42:31.644198Z"
    }
   },
   "outputs": [],
   "source": [
    "vacc_month.reset_index(inplace=True)"
   ]
  },
  {
   "cell_type": "code",
   "execution_count": 29,
   "id": "42fca9fc",
   "metadata": {
    "execution": {
     "iopub.execute_input": "2021-09-21T11:42:31.644198Z",
     "iopub.status.busy": "2021-09-21T11:42:31.644198Z",
     "iopub.status.idle": "2021-09-21T11:42:31.659549Z",
     "shell.execute_reply": "2021-09-21T11:42:31.659549Z"
    }
   },
   "outputs": [
    {
     "data": {
      "text/html": [
       "<div>\n",
       "<style scoped>\n",
       "    .dataframe tbody tr th:only-of-type {\n",
       "        vertical-align: middle;\n",
       "    }\n",
       "\n",
       "    .dataframe tbody tr th {\n",
       "        vertical-align: top;\n",
       "    }\n",
       "\n",
       "    .dataframe thead th {\n",
       "        text-align: right;\n",
       "    }\n",
       "</style>\n",
       "<table border=\"1\" class=\"dataframe\">\n",
       "  <thead>\n",
       "    <tr style=\"text-align: right;\">\n",
       "      <th></th>\n",
       "      <th>State</th>\n",
       "      <th>dose1</th>\n",
       "      <th>dose2</th>\n",
       "    </tr>\n",
       "  </thead>\n",
       "  <tbody>\n",
       "    <tr>\n",
       "      <th>0</th>\n",
       "      <td>andaman and nicobar islands</td>\n",
       "      <td>2.327090e+05</td>\n",
       "      <td>97287.0</td>\n",
       "    </tr>\n",
       "    <tr>\n",
       "      <th>1</th>\n",
       "      <td>andhra pradesh</td>\n",
       "      <td>3.058983e+07</td>\n",
       "      <td>10637326.0</td>\n",
       "    </tr>\n",
       "    <tr>\n",
       "      <th>2</th>\n",
       "      <td>arunachal pradesh</td>\n",
       "      <td>9.501806e+09</td>\n",
       "      <td>286121142.0</td>\n",
       "    </tr>\n",
       "    <tr>\n",
       "      <th>3</th>\n",
       "      <td>assam</td>\n",
       "      <td>1.143005e+07</td>\n",
       "      <td>2442900.0</td>\n",
       "    </tr>\n",
       "    <tr>\n",
       "      <th>4</th>\n",
       "      <td>bihar</td>\n",
       "      <td>2.516738e+07</td>\n",
       "      <td>4859267.0</td>\n",
       "    </tr>\n",
       "  </tbody>\n",
       "</table>\n",
       "</div>"
      ],
      "text/plain": [
       "                         State         dose1        dose2\n",
       "0  andaman and nicobar islands  2.327090e+05      97287.0\n",
       "1               andhra pradesh  3.058983e+07   10637326.0\n",
       "2            arunachal pradesh  9.501806e+09  286121142.0\n",
       "3                        assam  1.143005e+07    2442900.0\n",
       "4                        bihar  2.516738e+07    4859267.0"
      ]
     },
     "execution_count": 29,
     "metadata": {},
     "output_type": "execute_result"
    }
   ],
   "source": [
    "vacc_month.head()"
   ]
  },
  {
   "cell_type": "code",
   "execution_count": 30,
   "id": "6e7dbee7",
   "metadata": {
    "execution": {
     "iopub.execute_input": "2021-09-21T11:42:31.665555Z",
     "iopub.status.busy": "2021-09-21T11:42:31.659549Z",
     "iopub.status.idle": "2021-09-21T11:42:31.681593Z",
     "shell.execute_reply": "2021-09-21T11:42:31.681593Z"
    }
   },
   "outputs": [
    {
     "data": {
      "text/plain": [
       "(35, 3)"
      ]
     },
     "execution_count": 30,
     "metadata": {},
     "output_type": "execute_result"
    }
   ],
   "source": [
    "vacc_month.shape"
   ]
  },
  {
   "cell_type": "code",
   "execution_count": null,
   "id": "1c7a6da6",
   "metadata": {},
   "outputs": [],
   "source": []
  },
  {
   "cell_type": "markdown",
   "id": "c3ed22c1",
   "metadata": {},
   "source": [
    "## STORING CENSUS DATA OF STATE ONLY IN THIS CELL"
   ]
  },
  {
   "cell_type": "code",
   "execution_count": 31,
   "id": "8e2cfa6c",
   "metadata": {
    "execution": {
     "iopub.execute_input": "2021-09-21T11:42:31.681593Z",
     "iopub.status.busy": "2021-09-21T11:42:31.681593Z",
     "iopub.status.idle": "2021-09-21T11:42:31.698321Z",
     "shell.execute_reply": "2021-09-21T11:42:31.698321Z"
    }
   },
   "outputs": [],
   "source": [
    "stateonly = census_data[census_data['Level']=='STATE']\n",
    "\n",
    "stateonly.reset_index(inplace=True,drop=True)"
   ]
  },
  {
   "cell_type": "code",
   "execution_count": 32,
   "id": "d63024d7",
   "metadata": {
    "execution": {
     "iopub.execute_input": "2021-09-21T11:42:31.698321Z",
     "iopub.status.busy": "2021-09-21T11:42:31.698321Z",
     "iopub.status.idle": "2021-09-21T11:42:31.714707Z",
     "shell.execute_reply": "2021-09-21T11:42:31.714707Z"
    }
   },
   "outputs": [],
   "source": [
    "#dropping state rows FROM CENSUS AS THEY ARE STORED ABOVE\n",
    "ind = census_data[census_data['Level']=='STATE'].index\n",
    "census_data.drop(ind,inplace=True)"
   ]
  },
  {
   "cell_type": "code",
   "execution_count": 33,
   "id": "7c3f461a",
   "metadata": {
    "execution": {
     "iopub.execute_input": "2021-09-21T11:42:31.714707Z",
     "iopub.status.busy": "2021-09-21T11:42:31.714707Z",
     "iopub.status.idle": "2021-09-21T11:42:31.731286Z",
     "shell.execute_reply": "2021-09-21T11:42:31.731286Z"
    }
   },
   "outputs": [],
   "source": [
    "res_state = pd.merge(vacc_month,stateonly, on=[\"State\",\"State\"])"
   ]
  },
  {
   "cell_type": "code",
   "execution_count": 34,
   "id": "44b732df",
   "metadata": {
    "execution": {
     "iopub.execute_input": "2021-09-21T11:42:31.731286Z",
     "iopub.status.busy": "2021-09-21T11:42:31.731286Z",
     "iopub.status.idle": "2021-09-21T11:42:31.747824Z",
     "shell.execute_reply": "2021-09-21T11:42:31.747824Z"
    }
   },
   "outputs": [
    {
     "data": {
      "text/html": [
       "<div>\n",
       "<style scoped>\n",
       "    .dataframe tbody tr th:only-of-type {\n",
       "        vertical-align: middle;\n",
       "    }\n",
       "\n",
       "    .dataframe tbody tr th {\n",
       "        vertical-align: top;\n",
       "    }\n",
       "\n",
       "    .dataframe thead th {\n",
       "        text-align: right;\n",
       "    }\n",
       "</style>\n",
       "<table border=\"1\" class=\"dataframe\">\n",
       "  <thead>\n",
       "    <tr style=\"text-align: right;\">\n",
       "      <th></th>\n",
       "      <th>State</th>\n",
       "      <th>dose1</th>\n",
       "      <th>dose2</th>\n",
       "      <th>District</th>\n",
       "      <th>Level</th>\n",
       "      <th>Name</th>\n",
       "      <th>TRU</th>\n",
       "      <th>TOT_P</th>\n",
       "      <th>full</th>\n",
       "    </tr>\n",
       "  </thead>\n",
       "  <tbody>\n",
       "    <tr>\n",
       "      <th>0</th>\n",
       "      <td>andaman and nicobar islands</td>\n",
       "      <td>2.327090e+05</td>\n",
       "      <td>97287.0</td>\n",
       "      <td>0</td>\n",
       "      <td>STATE</td>\n",
       "      <td>ANDAMAN and NICOBAR ISLANDS</td>\n",
       "      <td>Total</td>\n",
       "      <td>380581</td>\n",
       "      <td>andaman and nicobar islands_ANDAMAN and NICOBA...</td>\n",
       "    </tr>\n",
       "    <tr>\n",
       "      <th>1</th>\n",
       "      <td>andhra pradesh</td>\n",
       "      <td>3.058983e+07</td>\n",
       "      <td>10637326.0</td>\n",
       "      <td>0</td>\n",
       "      <td>STATE</td>\n",
       "      <td>ANDHRA PRADESH</td>\n",
       "      <td>Total</td>\n",
       "      <td>84580777</td>\n",
       "      <td>andhra pradesh_ANDHRA PRADESH</td>\n",
       "    </tr>\n",
       "    <tr>\n",
       "      <th>2</th>\n",
       "      <td>arunachal pradesh</td>\n",
       "      <td>9.501806e+09</td>\n",
       "      <td>286121142.0</td>\n",
       "      <td>0</td>\n",
       "      <td>STATE</td>\n",
       "      <td>ARUNACHAL PRADESH</td>\n",
       "      <td>Total</td>\n",
       "      <td>1383727</td>\n",
       "      <td>arunachal pradesh_ARUNACHAL PRADESH</td>\n",
       "    </tr>\n",
       "    <tr>\n",
       "      <th>3</th>\n",
       "      <td>assam</td>\n",
       "      <td>1.143005e+07</td>\n",
       "      <td>2442900.0</td>\n",
       "      <td>0</td>\n",
       "      <td>STATE</td>\n",
       "      <td>ASSAM</td>\n",
       "      <td>Total</td>\n",
       "      <td>31205576</td>\n",
       "      <td>assam_ASSAM</td>\n",
       "    </tr>\n",
       "    <tr>\n",
       "      <th>4</th>\n",
       "      <td>bihar</td>\n",
       "      <td>2.516738e+07</td>\n",
       "      <td>4859267.0</td>\n",
       "      <td>0</td>\n",
       "      <td>STATE</td>\n",
       "      <td>BIHAR</td>\n",
       "      <td>Total</td>\n",
       "      <td>104099452</td>\n",
       "      <td>bihar_BIHAR</td>\n",
       "    </tr>\n",
       "  </tbody>\n",
       "</table>\n",
       "</div>"
      ],
      "text/plain": [
       "                         State         dose1        dose2  District  Level  \\\n",
       "0  andaman and nicobar islands  2.327090e+05      97287.0         0  STATE   \n",
       "1               andhra pradesh  3.058983e+07   10637326.0         0  STATE   \n",
       "2            arunachal pradesh  9.501806e+09  286121142.0         0  STATE   \n",
       "3                        assam  1.143005e+07    2442900.0         0  STATE   \n",
       "4                        bihar  2.516738e+07    4859267.0         0  STATE   \n",
       "\n",
       "                          Name    TRU      TOT_P  \\\n",
       "0  ANDAMAN and NICOBAR ISLANDS  Total     380581   \n",
       "1               ANDHRA PRADESH  Total   84580777   \n",
       "2            ARUNACHAL PRADESH  Total    1383727   \n",
       "3                        ASSAM  Total   31205576   \n",
       "4                        BIHAR  Total  104099452   \n",
       "\n",
       "                                                full  \n",
       "0  andaman and nicobar islands_ANDAMAN and NICOBA...  \n",
       "1                      andhra pradesh_ANDHRA PRADESH  \n",
       "2                arunachal pradesh_ARUNACHAL PRADESH  \n",
       "3                                        assam_ASSAM  \n",
       "4                                        bihar_BIHAR  "
      ]
     },
     "execution_count": 34,
     "metadata": {},
     "output_type": "execute_result"
    }
   ],
   "source": [
    "res_state.head()\n",
    "# res_state.shape"
   ]
  },
  {
   "cell_type": "code",
   "execution_count": 35,
   "id": "07f3ef78",
   "metadata": {
    "execution": {
     "iopub.execute_input": "2021-09-21T11:42:31.747824Z",
     "iopub.status.busy": "2021-09-21T11:42:31.747824Z",
     "iopub.status.idle": "2021-09-21T11:42:31.765448Z",
     "shell.execute_reply": "2021-09-21T11:42:31.765448Z"
    }
   },
   "outputs": [],
   "source": [
    "res_state['vaccinateddose1ratio'] = res_state['dose1']/res_state['TOT_P']\n",
    "res_state['vaccinateddose2ratio'] = res_state['dose2']/res_state['TOT_P']"
   ]
  },
  {
   "cell_type": "markdown",
   "id": "d34dfafd",
   "metadata": {},
   "source": [
    "*KEYNOTE--\n",
    "I have not given stateids here instead gave statenames beacuse as of CensusData 'Daman and diu' and\n",
    "'Dadra and Nagar Haveli' both are different states., but as of now(present) both are same states with same \"stateid\"\n",
    "so it will conflict in output file so i gave statenames"
   ]
  },
  {
   "cell_type": "code",
   "execution_count": 36,
   "id": "694f0334",
   "metadata": {
    "execution": {
     "iopub.execute_input": "2021-09-21T11:42:31.765448Z",
     "iopub.status.busy": "2021-09-21T11:42:31.765448Z",
     "iopub.status.idle": "2021-09-21T11:42:31.781721Z",
     "shell.execute_reply": "2021-09-21T11:42:31.781721Z"
    }
   },
   "outputs": [],
   "source": [
    "res_state = res_state[['State','vaccinateddose1ratio', 'vaccinateddose2ratio']]"
   ]
  },
  {
   "cell_type": "code",
   "execution_count": null,
   "id": "42afeba5",
   "metadata": {},
   "outputs": [],
   "source": []
  },
  {
   "cell_type": "code",
   "execution_count": null,
   "id": "fe01be41",
   "metadata": {},
   "outputs": [],
   "source": []
  },
  {
   "cell_type": "markdown",
   "id": "283fdaed",
   "metadata": {},
   "source": [
    "## end for state"
   ]
  },
  {
   "cell_type": "markdown",
   "id": "cc3ba57b",
   "metadata": {},
   "source": [
    "## DISTRICT ANALYSIS"
   ]
  },
  {
   "cell_type": "code",
   "execution_count": 37,
   "id": "2be0d4ad",
   "metadata": {
    "execution": {
     "iopub.execute_input": "2021-09-21T11:42:31.781721Z",
     "iopub.status.busy": "2021-09-21T11:42:31.781721Z",
     "iopub.status.idle": "2021-09-21T11:42:31.812910Z",
     "shell.execute_reply": "2021-09-21T11:42:31.812910Z"
    }
   },
   "outputs": [],
   "source": [
    "df2 = pd.merge(df,census_data, on=[\"full\",'full'])"
   ]
  },
  {
   "cell_type": "code",
   "execution_count": 38,
   "id": "74583269",
   "metadata": {
    "execution": {
     "iopub.execute_input": "2021-09-21T11:42:31.827980Z",
     "iopub.status.busy": "2021-09-21T11:42:31.827980Z",
     "iopub.status.idle": "2021-09-21T11:42:31.843561Z",
     "shell.execute_reply": "2021-09-21T11:42:31.843561Z"
    }
   },
   "outputs": [
    {
     "data": {
      "text/html": [
       "<div>\n",
       "<style scoped>\n",
       "    .dataframe tbody tr th:only-of-type {\n",
       "        vertical-align: middle;\n",
       "    }\n",
       "\n",
       "    .dataframe tbody tr th {\n",
       "        vertical-align: top;\n",
       "    }\n",
       "\n",
       "    .dataframe thead th {\n",
       "        text-align: right;\n",
       "    }\n",
       "</style>\n",
       "<table border=\"1\" class=\"dataframe\">\n",
       "  <thead>\n",
       "    <tr style=\"text-align: right;\">\n",
       "      <th></th>\n",
       "      <th>State_x</th>\n",
       "      <th>District_x</th>\n",
       "      <th>District_Key</th>\n",
       "      <th>dose1</th>\n",
       "      <th>dose2</th>\n",
       "      <th>Date</th>\n",
       "      <th>full</th>\n",
       "      <th>State_y</th>\n",
       "      <th>District_y</th>\n",
       "      <th>Level</th>\n",
       "      <th>Name</th>\n",
       "      <th>TRU</th>\n",
       "      <th>TOT_P</th>\n",
       "    </tr>\n",
       "  </thead>\n",
       "  <tbody>\n",
       "    <tr>\n",
       "      <th>0</th>\n",
       "      <td>andaman and nicobar islands</td>\n",
       "      <td>Nicobars</td>\n",
       "      <td>AN_Nicobars</td>\n",
       "      <td>22081.0</td>\n",
       "      <td>8110.0</td>\n",
       "      <td>2021-08-14</td>\n",
       "      <td>andaman and nicobar islands_Nicobars</td>\n",
       "      <td>andaman and nicobar islands</td>\n",
       "      <td>638</td>\n",
       "      <td>DISTRICT</td>\n",
       "      <td>Nicobars</td>\n",
       "      <td>Total</td>\n",
       "      <td>36842</td>\n",
       "    </tr>\n",
       "    <tr>\n",
       "      <th>1</th>\n",
       "      <td>andaman and nicobar islands</td>\n",
       "      <td>North and Middle Andaman</td>\n",
       "      <td>AN_North and Middle Andaman</td>\n",
       "      <td>68043.0</td>\n",
       "      <td>29281.0</td>\n",
       "      <td>2021-08-14</td>\n",
       "      <td>andaman and nicobar islands_North and Middle A...</td>\n",
       "      <td>andaman and nicobar islands</td>\n",
       "      <td>639</td>\n",
       "      <td>DISTRICT</td>\n",
       "      <td>North and Middle Andaman</td>\n",
       "      <td>Total</td>\n",
       "      <td>105597</td>\n",
       "    </tr>\n",
       "    <tr>\n",
       "      <th>2</th>\n",
       "      <td>andaman and nicobar islands</td>\n",
       "      <td>South Andaman</td>\n",
       "      <td>AN_South Andaman</td>\n",
       "      <td>142585.0</td>\n",
       "      <td>59896.0</td>\n",
       "      <td>2021-08-14</td>\n",
       "      <td>andaman and nicobar islands_South Andaman</td>\n",
       "      <td>andaman and nicobar islands</td>\n",
       "      <td>640</td>\n",
       "      <td>DISTRICT</td>\n",
       "      <td>South Andaman</td>\n",
       "      <td>Total</td>\n",
       "      <td>238142</td>\n",
       "    </tr>\n",
       "    <tr>\n",
       "      <th>3</th>\n",
       "      <td>andhra pradesh</td>\n",
       "      <td>Anantapur</td>\n",
       "      <td>AP_Anantapur</td>\n",
       "      <td>1364374.0</td>\n",
       "      <td>597346.0</td>\n",
       "      <td>2021-08-14</td>\n",
       "      <td>andhra pradesh_Anantapur</td>\n",
       "      <td>andhra pradesh</td>\n",
       "      <td>553</td>\n",
       "      <td>DISTRICT</td>\n",
       "      <td>Anantapur</td>\n",
       "      <td>Total</td>\n",
       "      <td>4081148</td>\n",
       "    </tr>\n",
       "    <tr>\n",
       "      <th>4</th>\n",
       "      <td>andhra pradesh</td>\n",
       "      <td>Chittoor</td>\n",
       "      <td>AP_Chittoor</td>\n",
       "      <td>1565591.0</td>\n",
       "      <td>640864.0</td>\n",
       "      <td>2021-08-14</td>\n",
       "      <td>andhra pradesh_Chittoor</td>\n",
       "      <td>andhra pradesh</td>\n",
       "      <td>554</td>\n",
       "      <td>DISTRICT</td>\n",
       "      <td>Chittoor</td>\n",
       "      <td>Total</td>\n",
       "      <td>4174064</td>\n",
       "    </tr>\n",
       "  </tbody>\n",
       "</table>\n",
       "</div>"
      ],
      "text/plain": [
       "                       State_x                District_x  \\\n",
       "0  andaman and nicobar islands                  Nicobars   \n",
       "1  andaman and nicobar islands  North and Middle Andaman   \n",
       "2  andaman and nicobar islands             South Andaman   \n",
       "3               andhra pradesh                 Anantapur   \n",
       "4               andhra pradesh                  Chittoor   \n",
       "\n",
       "                  District_Key      dose1     dose2       Date  \\\n",
       "0                  AN_Nicobars    22081.0    8110.0 2021-08-14   \n",
       "1  AN_North and Middle Andaman    68043.0   29281.0 2021-08-14   \n",
       "2             AN_South Andaman   142585.0   59896.0 2021-08-14   \n",
       "3                 AP_Anantapur  1364374.0  597346.0 2021-08-14   \n",
       "4                  AP_Chittoor  1565591.0  640864.0 2021-08-14   \n",
       "\n",
       "                                                full  \\\n",
       "0               andaman and nicobar islands_Nicobars   \n",
       "1  andaman and nicobar islands_North and Middle A...   \n",
       "2          andaman and nicobar islands_South Andaman   \n",
       "3                           andhra pradesh_Anantapur   \n",
       "4                            andhra pradesh_Chittoor   \n",
       "\n",
       "                       State_y  District_y     Level  \\\n",
       "0  andaman and nicobar islands         638  DISTRICT   \n",
       "1  andaman and nicobar islands         639  DISTRICT   \n",
       "2  andaman and nicobar islands         640  DISTRICT   \n",
       "3               andhra pradesh         553  DISTRICT   \n",
       "4               andhra pradesh         554  DISTRICT   \n",
       "\n",
       "                       Name    TRU    TOT_P  \n",
       "0                  Nicobars  Total    36842  \n",
       "1  North and Middle Andaman  Total   105597  \n",
       "2             South Andaman  Total   238142  \n",
       "3                 Anantapur  Total  4081148  \n",
       "4                  Chittoor  Total  4174064  "
      ]
     },
     "execution_count": 38,
     "metadata": {},
     "output_type": "execute_result"
    }
   ],
   "source": [
    "df2.head()"
   ]
  },
  {
   "cell_type": "code",
   "execution_count": 39,
   "id": "571c490e",
   "metadata": {
    "execution": {
     "iopub.execute_input": "2021-09-21T11:42:31.843561Z",
     "iopub.status.busy": "2021-09-21T11:42:31.843561Z",
     "iopub.status.idle": "2021-09-21T11:42:31.859776Z",
     "shell.execute_reply": "2021-09-21T11:42:31.859776Z"
    }
   },
   "outputs": [],
   "source": [
    "df2['vaccinateddose1ratio'] = df2['dose1']/df2['TOT_P']\n",
    "df2['vaccinateddose2ratio'] = df2['dose2']/df2['TOT_P']"
   ]
  },
  {
   "cell_type": "code",
   "execution_count": 40,
   "id": "caf26277",
   "metadata": {
    "execution": {
     "iopub.execute_input": "2021-09-21T11:42:31.865823Z",
     "iopub.status.busy": "2021-09-21T11:42:31.865823Z",
     "iopub.status.idle": "2021-09-21T11:42:31.881619Z",
     "shell.execute_reply": "2021-09-21T11:42:31.881619Z"
    }
   },
   "outputs": [],
   "source": [
    "res_district = df2[['District_Key','vaccinateddose1ratio', 'vaccinateddose2ratio']]"
   ]
  },
  {
   "cell_type": "code",
   "execution_count": 41,
   "id": "f3126d67",
   "metadata": {
    "execution": {
     "iopub.execute_input": "2021-09-21T11:42:31.881619Z",
     "iopub.status.busy": "2021-09-21T11:42:31.881619Z",
     "iopub.status.idle": "2021-09-21T11:42:31.897281Z",
     "shell.execute_reply": "2021-09-21T11:42:31.897281Z"
    }
   },
   "outputs": [],
   "source": [
    "#SORTING ON DOSE1 RATIO\n",
    "res_district.sort_values('vaccinateddose1ratio',inplace=True)\n",
    "res_state.sort_values('vaccinateddose1ratio',inplace=True)"
   ]
  },
  {
   "cell_type": "code",
   "execution_count": null,
   "id": "7a6ee9d7",
   "metadata": {},
   "outputs": [],
   "source": []
  },
  {
   "cell_type": "code",
   "execution_count": 42,
   "id": "33e73c95",
   "metadata": {
    "execution": {
     "iopub.execute_input": "2021-09-21T11:42:31.897281Z",
     "iopub.status.busy": "2021-09-21T11:42:31.897281Z",
     "iopub.status.idle": "2021-09-21T11:42:31.928872Z",
     "shell.execute_reply": "2021-09-21T11:42:31.928872Z"
    }
   },
   "outputs": [],
   "source": [
    "#writing to csv \"DISTRICT\"\n",
    "res_district.to_csv('district-vaccinated-dose-ratio.csv',index=False)\n",
    "\n",
    "#writing to csv \"STATE\"\n",
    "res_state.to_csv('state-vaccinated-dose-ratio.csv',index=False)"
   ]
  },
  {
   "cell_type": "code",
   "execution_count": null,
   "id": "69e20c0e",
   "metadata": {},
   "outputs": [],
   "source": []
  },
  {
   "cell_type": "markdown",
   "id": "4f17bd86",
   "metadata": {},
   "source": [
    "# OVERALL ANALYSIS"
   ]
  },
  {
   "cell_type": "code",
   "execution_count": 43,
   "id": "b1e81077",
   "metadata": {
    "execution": {
     "iopub.execute_input": "2021-09-21T11:42:31.928872Z",
     "iopub.status.busy": "2021-09-21T11:42:31.928872Z",
     "iopub.status.idle": "2021-09-21T11:42:31.959556Z",
     "shell.execute_reply": "2021-09-21T11:42:31.959556Z"
    }
   },
   "outputs": [],
   "source": [
    "fdose1 = cowin_data['14/08/2021.3']\n",
    "sdose1 = cowin_data['14/08/2021.4']"
   ]
  },
  {
   "cell_type": "code",
   "execution_count": 44,
   "id": "b279c7c8",
   "metadata": {
    "execution": {
     "iopub.execute_input": "2021-09-21T11:42:31.966062Z",
     "iopub.status.busy": "2021-09-21T11:42:31.966062Z",
     "iopub.status.idle": "2021-09-21T11:42:31.981954Z",
     "shell.execute_reply": "2021-09-21T11:42:31.981954Z"
    }
   },
   "outputs": [],
   "source": [
    "dose1 = pd.to_numeric(fdose1[1:]).sum()\n",
    "dose2 = pd.to_numeric(sdose1[1:]).sum()"
   ]
  },
  {
   "cell_type": "code",
   "execution_count": 45,
   "id": "c3434793",
   "metadata": {
    "execution": {
     "iopub.execute_input": "2021-09-21T11:42:31.981954Z",
     "iopub.status.busy": "2021-09-21T11:42:31.981954Z",
     "iopub.status.idle": "2021-09-21T11:42:31.997651Z",
     "shell.execute_reply": "2021-09-21T11:42:31.997651Z"
    }
   },
   "outputs": [
    {
     "data": {
      "text/plain": [
       "(419687994, 119692027)"
      ]
     },
     "execution_count": 45,
     "metadata": {},
     "output_type": "execute_result"
    }
   ],
   "source": [
    "dose1,dose2"
   ]
  },
  {
   "cell_type": "code",
   "execution_count": 46,
   "id": "ec9a2b61",
   "metadata": {
    "execution": {
     "iopub.execute_input": "2021-09-21T11:42:31.997651Z",
     "iopub.status.busy": "2021-09-21T11:42:31.997651Z",
     "iopub.status.idle": "2021-09-21T11:42:32.012935Z",
     "shell.execute_reply": "2021-09-21T11:42:32.012935Z"
    }
   },
   "outputs": [],
   "source": [
    "vdr1 = dose1/Total_population\n",
    "vdr2 = dose2/Total_population"
   ]
  },
  {
   "cell_type": "code",
   "execution_count": 47,
   "id": "514dcdd4",
   "metadata": {
    "execution": {
     "iopub.execute_input": "2021-09-21T11:42:32.012935Z",
     "iopub.status.busy": "2021-09-21T11:42:32.012935Z",
     "iopub.status.idle": "2021-09-21T11:42:32.028795Z",
     "shell.execute_reply": "2021-09-21T11:42:32.028795Z"
    }
   },
   "outputs": [
    {
     "data": {
      "text/plain": [
       "(0.34660467353391405, 0.0988491844800007)"
      ]
     },
     "execution_count": 47,
     "metadata": {},
     "output_type": "execute_result"
    }
   ],
   "source": [
    "vdr1,vdr2"
   ]
  },
  {
   "cell_type": "code",
   "execution_count": 48,
   "id": "9d27e2a1",
   "metadata": {
    "execution": {
     "iopub.execute_input": "2021-09-21T11:42:32.028795Z",
     "iopub.status.busy": "2021-09-21T11:42:32.028795Z",
     "iopub.status.idle": "2021-09-21T11:42:32.044683Z",
     "shell.execute_reply": "2021-09-21T11:42:32.044683Z"
    }
   },
   "outputs": [],
   "source": [
    "overall=pd.DataFrame(data = {'overall':['India'],'vaccinateddose1ratio':[vdr1],'vaccinateddose2ratio':[vdr2]})"
   ]
  },
  {
   "cell_type": "code",
   "execution_count": 49,
   "id": "3ae2d253",
   "metadata": {
    "execution": {
     "iopub.execute_input": "2021-09-21T11:42:32.044683Z",
     "iopub.status.busy": "2021-09-21T11:42:32.044683Z",
     "iopub.status.idle": "2021-09-21T11:42:32.066404Z",
     "shell.execute_reply": "2021-09-21T11:42:32.066404Z"
    }
   },
   "outputs": [
    {
     "data": {
      "text/html": [
       "<div>\n",
       "<style scoped>\n",
       "    .dataframe tbody tr th:only-of-type {\n",
       "        vertical-align: middle;\n",
       "    }\n",
       "\n",
       "    .dataframe tbody tr th {\n",
       "        vertical-align: top;\n",
       "    }\n",
       "\n",
       "    .dataframe thead th {\n",
       "        text-align: right;\n",
       "    }\n",
       "</style>\n",
       "<table border=\"1\" class=\"dataframe\">\n",
       "  <thead>\n",
       "    <tr style=\"text-align: right;\">\n",
       "      <th></th>\n",
       "      <th>overall</th>\n",
       "      <th>vaccinateddose1ratio</th>\n",
       "      <th>vaccinateddose2ratio</th>\n",
       "    </tr>\n",
       "  </thead>\n",
       "  <tbody>\n",
       "    <tr>\n",
       "      <th>0</th>\n",
       "      <td>India</td>\n",
       "      <td>0.346605</td>\n",
       "      <td>0.098849</td>\n",
       "    </tr>\n",
       "  </tbody>\n",
       "</table>\n",
       "</div>"
      ],
      "text/plain": [
       "  overall  vaccinateddose1ratio  vaccinateddose2ratio\n",
       "0   India              0.346605              0.098849"
      ]
     },
     "execution_count": 49,
     "metadata": {},
     "output_type": "execute_result"
    }
   ],
   "source": [
    "overall"
   ]
  },
  {
   "cell_type": "code",
   "execution_count": 50,
   "id": "9130177d",
   "metadata": {
    "execution": {
     "iopub.execute_input": "2021-09-21T11:42:32.066404Z",
     "iopub.status.busy": "2021-09-21T11:42:32.066404Z",
     "iopub.status.idle": "2021-09-21T11:42:32.082536Z",
     "shell.execute_reply": "2021-09-21T11:42:32.082536Z"
    }
   },
   "outputs": [],
   "source": [
    "overall.to_csv('overall-vaccinated-dose-ratio.csv',index=False)"
   ]
  },
  {
   "cell_type": "code",
   "execution_count": null,
   "id": "ce3b42b7",
   "metadata": {},
   "outputs": [],
   "source": []
  }
 ],
 "metadata": {
  "kernelspec": {
   "display_name": "Python 3",
   "language": "python",
   "name": "python3"
  },
  "language_info": {
   "codemirror_mode": {
    "name": "ipython",
    "version": 3
   },
   "file_extension": ".py",
   "mimetype": "text/x-python",
   "name": "python",
   "nbconvert_exporter": "python",
   "pygments_lexer": "ipython3",
   "version": "3.8.8"
  }
 },
 "nbformat": 4,
 "nbformat_minor": 5
}
