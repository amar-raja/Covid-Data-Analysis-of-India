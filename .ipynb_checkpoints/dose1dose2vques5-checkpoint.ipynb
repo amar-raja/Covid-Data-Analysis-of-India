{
 "cells": [
  {
   "cell_type": "markdown",
   "id": "da6c0c28",
   "metadata": {},
   "source": [
    "## TURNING DATE COLUMNS INTO ROWS AND MERGING DISTRICTS WITH SAME DISTRICTID"
   ]
  },
  {
   "cell_type": "code",
   "execution_count": 1,
   "id": "99cab830",
   "metadata": {},
   "outputs": [],
   "source": [
    "import numpy as np\n",
    "import pandas as pd\n",
    "import datetime as dt\n",
    "import warnings\n",
    "warnings.filterwarnings('ignore')"
   ]
  },
  {
   "cell_type": "markdown",
   "id": "490fa354",
   "metadata": {},
   "source": [
    "LOADING DATA"
   ]
  },
  {
   "cell_type": "code",
   "execution_count": 2,
   "id": "e7cb8e38",
   "metadata": {},
   "outputs": [],
   "source": [
    "df = pd.read_csv(r'cowin_vaccine_data_districtwise.csv')"
   ]
  },
  {
   "cell_type": "code",
   "execution_count": 3,
   "id": "dbd7b12f",
   "metadata": {},
   "outputs": [],
   "source": [
    "# COLLECTING ALL COLUMNS AS DATES ARE ALSO PRESENT IN COLUMNS\n",
    "list1 = df.columns\n",
    "\n",
    "# COLLECTING ALL DATES INTO A LIST\n",
    "dates_unmod=[]\n",
    "\n",
    "for i in range(len(list1)):\n",
    "    if(\".3\" in list1[i]):         #AS .3 has 1stDOSE and .4 HAS 2nddose\n",
    "        dates_unmod.append((list1[i],list1[i+1]))"
   ]
  },
  {
   "cell_type": "code",
   "execution_count": 4,
   "id": "e12a3fb3",
   "metadata": {},
   "outputs": [],
   "source": [
    "#AS WE NEED TO ANALYSE TILL 14/08/2021.3\n",
    "dates_unmod =dates_unmod[:211]   "
   ]
  },
  {
   "cell_type": "code",
   "execution_count": 5,
   "id": "0c12932a",
   "metadata": {},
   "outputs": [
    {
     "data": {
      "text/plain": [
       "[('14/08/2021.3', '14/08/2021.4')]"
      ]
     },
     "execution_count": 5,
     "metadata": {},
     "output_type": "execute_result"
    }
   ],
   "source": [
    "dates_unmod[-1:] #checking LAST DATE"
   ]
  },
  {
   "cell_type": "markdown",
   "id": "7987a836",
   "metadata": {},
   "source": [
    "# CONVERTING DATE COLUMNS INTO DATE ROWS"
   ]
  },
  {
   "cell_type": "code",
   "execution_count": 6,
   "id": "ace3656b",
   "metadata": {},
   "outputs": [],
   "source": [
    "#THIS IS ENTIRE DATAFRAME WITH ALL DISTRICTS AND CONTAING DATES AS ROWS\n",
    "dfnew = pd.DataFrame()           \n",
    "\n",
    "dist = df['District_Key']"
   ]
  },
  {
   "cell_type": "code",
   "execution_count": 7,
   "id": "7baa55d1",
   "metadata": {},
   "outputs": [],
   "source": [
    "datesls=[]\n",
    "#CREATING A DATAFRAME DATEWISE FOR ALL DISTRICTS\n",
    "for i in dates_unmod:\n",
    "    t = pd.DataFrame()      \n",
    "    firstdose = df[i[0]]   #getting from main datframe 1st dose values\n",
    "    seconddose = df[i[1]]  ##getting from main datframe 2nd dose values\n",
    "    \n",
    "    t = df.loc[:,['State','District','District_Key']]\n",
    "    t['dose1'] = firstdose\n",
    "    t['dose2'] = seconddose\n",
    "    t['Date'] = i[0].replace(\".3\",\"\")\n",
    "    \n",
    "    dfnew = pd.concat([dfnew,t])\n",
    "    \n"
   ]
  },
  {
   "cell_type": "code",
   "execution_count": 8,
   "id": "99c27cfe",
   "metadata": {},
   "outputs": [
    {
     "data": {
      "text/plain": [
       "State           object\n",
       "District        object\n",
       "District_Key    object\n",
       "dose1           object\n",
       "dose2           object\n",
       "Date            object\n",
       "dtype: object"
      ]
     },
     "execution_count": 8,
     "metadata": {},
     "output_type": "execute_result"
    }
   ],
   "source": [
    "dfnew.dtypes"
   ]
  },
  {
   "cell_type": "code",
   "execution_count": 9,
   "id": "35397395",
   "metadata": {},
   "outputs": [],
   "source": [
    "dfnew['Date'] =  pd.to_datetime(dfnew['Date'], format='%d/%m/%Y')"
   ]
  },
  {
   "cell_type": "code",
   "execution_count": 10,
   "id": "4142e8df",
   "metadata": {},
   "outputs": [],
   "source": [
    "#DROPPING FIRST ROW OF DATAFRAME AS IT NOT REQUIRED\n",
    "a = dfnew[dfnew['dose1']=='First Dose Administered'].index\n",
    "finaldf = dfnew.drop(a)"
   ]
  },
  {
   "cell_type": "code",
   "execution_count": 11,
   "id": "23d95e6c",
   "metadata": {},
   "outputs": [],
   "source": [
    "# finaldf[finaldf['District_Key']=='TN_Salem']"
   ]
  },
  {
   "cell_type": "code",
   "execution_count": 12,
   "id": "ec876ad4",
   "metadata": {},
   "outputs": [],
   "source": [
    "# (finaldf[['District_Key','State']].value_counts())"
   ]
  },
  {
   "cell_type": "markdown",
   "id": "b74d8748",
   "metadata": {},
   "source": [
    "COMBINING NUMBER OF DOSES WITH SAME DISTRICTKEY USING GROUPBY"
   ]
  },
  {
   "cell_type": "code",
   "execution_count": 13,
   "id": "8bf2bbcf",
   "metadata": {},
   "outputs": [],
   "source": [
    "t=finaldf.groupby(['District_Key','Date','State','District']).aggregate({'dose1':sum,'dose2':sum})"
   ]
  },
  {
   "cell_type": "code",
   "execution_count": 14,
   "id": "619b7a13",
   "metadata": {},
   "outputs": [],
   "source": [
    "# t.loc['TN_Salem']\n",
    "# # t[t['District_Key']=='TN_Salem']"
   ]
  },
  {
   "cell_type": "code",
   "execution_count": 15,
   "id": "c70e6c30",
   "metadata": {},
   "outputs": [],
   "source": [
    "t.reset_index(inplace=True)"
   ]
  },
  {
   "cell_type": "code",
   "execution_count": 16,
   "id": "8336f912",
   "metadata": {},
   "outputs": [
    {
     "data": {
      "text/html": [
       "<div>\n",
       "<style scoped>\n",
       "    .dataframe tbody tr th:only-of-type {\n",
       "        vertical-align: middle;\n",
       "    }\n",
       "\n",
       "    .dataframe tbody tr th {\n",
       "        vertical-align: top;\n",
       "    }\n",
       "\n",
       "    .dataframe thead th {\n",
       "        text-align: right;\n",
       "    }\n",
       "</style>\n",
       "<table border=\"1\" class=\"dataframe\">\n",
       "  <thead>\n",
       "    <tr style=\"text-align: right;\">\n",
       "      <th></th>\n",
       "      <th>District_Key</th>\n",
       "      <th>Date</th>\n",
       "      <th>State</th>\n",
       "      <th>District</th>\n",
       "      <th>dose1</th>\n",
       "      <th>dose2</th>\n",
       "    </tr>\n",
       "  </thead>\n",
       "  <tbody>\n",
       "    <tr>\n",
       "      <th>0</th>\n",
       "      <td>AN_Nicobars</td>\n",
       "      <td>2021-01-16</td>\n",
       "      <td>Andaman and Nicobar Islands</td>\n",
       "      <td>Nicobars</td>\n",
       "      <td>0</td>\n",
       "      <td>0</td>\n",
       "    </tr>\n",
       "    <tr>\n",
       "      <th>1</th>\n",
       "      <td>AN_Nicobars</td>\n",
       "      <td>2021-01-17</td>\n",
       "      <td>Andaman and Nicobar Islands</td>\n",
       "      <td>Nicobars</td>\n",
       "      <td>0</td>\n",
       "      <td>0</td>\n",
       "    </tr>\n",
       "    <tr>\n",
       "      <th>2</th>\n",
       "      <td>AN_Nicobars</td>\n",
       "      <td>2021-01-18</td>\n",
       "      <td>Andaman and Nicobar Islands</td>\n",
       "      <td>Nicobars</td>\n",
       "      <td>0</td>\n",
       "      <td>0</td>\n",
       "    </tr>\n",
       "    <tr>\n",
       "      <th>3</th>\n",
       "      <td>AN_Nicobars</td>\n",
       "      <td>2021-01-19</td>\n",
       "      <td>Andaman and Nicobar Islands</td>\n",
       "      <td>Nicobars</td>\n",
       "      <td>1</td>\n",
       "      <td>0</td>\n",
       "    </tr>\n",
       "    <tr>\n",
       "      <th>4</th>\n",
       "      <td>AN_Nicobars</td>\n",
       "      <td>2021-01-20</td>\n",
       "      <td>Andaman and Nicobar Islands</td>\n",
       "      <td>Nicobars</td>\n",
       "      <td>1</td>\n",
       "      <td>0</td>\n",
       "    </tr>\n",
       "    <tr>\n",
       "      <th>...</th>\n",
       "      <td>...</td>\n",
       "      <td>...</td>\n",
       "      <td>...</td>\n",
       "      <td>...</td>\n",
       "      <td>...</td>\n",
       "      <td>...</td>\n",
       "    </tr>\n",
       "    <tr>\n",
       "      <th>153814</th>\n",
       "      <td>WB_Uttar Dinajpur</td>\n",
       "      <td>2021-08-10</td>\n",
       "      <td>West Bengal</td>\n",
       "      <td>Uttar Dinajpur</td>\n",
       "      <td>510603</td>\n",
       "      <td>166508</td>\n",
       "    </tr>\n",
       "    <tr>\n",
       "      <th>153815</th>\n",
       "      <td>WB_Uttar Dinajpur</td>\n",
       "      <td>2021-08-11</td>\n",
       "      <td>West Bengal</td>\n",
       "      <td>Uttar Dinajpur</td>\n",
       "      <td>513480</td>\n",
       "      <td>167422</td>\n",
       "    </tr>\n",
       "    <tr>\n",
       "      <th>153816</th>\n",
       "      <td>WB_Uttar Dinajpur</td>\n",
       "      <td>2021-08-12</td>\n",
       "      <td>West Bengal</td>\n",
       "      <td>Uttar Dinajpur</td>\n",
       "      <td>518137</td>\n",
       "      <td>168836</td>\n",
       "    </tr>\n",
       "    <tr>\n",
       "      <th>153817</th>\n",
       "      <td>WB_Uttar Dinajpur</td>\n",
       "      <td>2021-08-13</td>\n",
       "      <td>West Bengal</td>\n",
       "      <td>Uttar Dinajpur</td>\n",
       "      <td>529876</td>\n",
       "      <td>171224</td>\n",
       "    </tr>\n",
       "    <tr>\n",
       "      <th>153818</th>\n",
       "      <td>WB_Uttar Dinajpur</td>\n",
       "      <td>2021-08-14</td>\n",
       "      <td>West Bengal</td>\n",
       "      <td>Uttar Dinajpur</td>\n",
       "      <td>540958</td>\n",
       "      <td>173055</td>\n",
       "    </tr>\n",
       "  </tbody>\n",
       "</table>\n",
       "<p>153819 rows × 6 columns</p>\n",
       "</div>"
      ],
      "text/plain": [
       "             District_Key       Date                        State  \\\n",
       "0             AN_Nicobars 2021-01-16  Andaman and Nicobar Islands   \n",
       "1             AN_Nicobars 2021-01-17  Andaman and Nicobar Islands   \n",
       "2             AN_Nicobars 2021-01-18  Andaman and Nicobar Islands   \n",
       "3             AN_Nicobars 2021-01-19  Andaman and Nicobar Islands   \n",
       "4             AN_Nicobars 2021-01-20  Andaman and Nicobar Islands   \n",
       "...                   ...        ...                          ...   \n",
       "153814  WB_Uttar Dinajpur 2021-08-10                  West Bengal   \n",
       "153815  WB_Uttar Dinajpur 2021-08-11                  West Bengal   \n",
       "153816  WB_Uttar Dinajpur 2021-08-12                  West Bengal   \n",
       "153817  WB_Uttar Dinajpur 2021-08-13                  West Bengal   \n",
       "153818  WB_Uttar Dinajpur 2021-08-14                  West Bengal   \n",
       "\n",
       "              District   dose1   dose2  \n",
       "0             Nicobars       0       0  \n",
       "1             Nicobars       0       0  \n",
       "2             Nicobars       0       0  \n",
       "3             Nicobars       1       0  \n",
       "4             Nicobars       1       0  \n",
       "...                ...     ...     ...  \n",
       "153814  Uttar Dinajpur  510603  166508  \n",
       "153815  Uttar Dinajpur  513480  167422  \n",
       "153816  Uttar Dinajpur  518137  168836  \n",
       "153817  Uttar Dinajpur  529876  171224  \n",
       "153818  Uttar Dinajpur  540958  173055  \n",
       "\n",
       "[153819 rows x 6 columns]"
      ]
     },
     "execution_count": 16,
     "metadata": {},
     "output_type": "execute_result"
    }
   ],
   "source": [
    "t"
   ]
  },
  {
   "cell_type": "code",
   "execution_count": 17,
   "id": "8f95ef1e",
   "metadata": {},
   "outputs": [],
   "source": [
    "t =t[['State','District','District_Key','dose1','dose2','Date']]"
   ]
  },
  {
   "cell_type": "code",
   "execution_count": 28,
   "id": "4bb5de9b",
   "metadata": {},
   "outputs": [],
   "source": [
    "convert_dict = {'dose1': float,'dose2': float}\n",
    "t = t.astype(convert_dict)"
   ]
  },
  {
   "cell_type": "code",
   "execution_count": 30,
   "id": "f8f585a0",
   "metadata": {},
   "outputs": [
    {
     "data": {
      "text/plain": [
       "State                   object\n",
       "District                object\n",
       "District_Key            object\n",
       "dose1                  float64\n",
       "dose2                  float64\n",
       "Date            datetime64[ns]\n",
       "dtype: object"
      ]
     },
     "execution_count": 30,
     "metadata": {},
     "output_type": "execute_result"
    }
   ],
   "source": [
    "t.dtypes"
   ]
  },
  {
   "cell_type": "code",
   "execution_count": 20,
   "id": "57401aa4",
   "metadata": {},
   "outputs": [],
   "source": [
    "t.to_csv('firstandseconddoselatestnew1.csv',index=False)"
   ]
  },
  {
   "cell_type": "code",
   "execution_count": 21,
   "id": "e69a7f61",
   "metadata": {},
   "outputs": [],
   "source": []
  },
  {
   "cell_type": "code",
   "execution_count": 22,
   "id": "6d556d64",
   "metadata": {},
   "outputs": [
    {
     "ename": "SyntaxError",
     "evalue": "invalid syntax (<ipython-input-22-a5b20d15db4e>, line 1)",
     "output_type": "error",
     "traceback": [
      "\u001b[1;36m  File \u001b[1;32m\"<ipython-input-22-a5b20d15db4e>\"\u001b[1;36m, line \u001b[1;32m1\u001b[0m\n\u001b[1;33m    TN_Dindigul                   Tamil Nadu                                  422\u001b[0m\n\u001b[1;37m                                  ^\u001b[0m\n\u001b[1;31mSyntaxError\u001b[0m\u001b[1;31m:\u001b[0m invalid syntax\n"
     ]
    }
   ],
   "source": []
  },
  {
   "cell_type": "code",
   "execution_count": null,
   "id": "0b54af46",
   "metadata": {},
   "outputs": [],
   "source": []
  },
  {
   "cell_type": "code",
   "execution_count": null,
   "id": "07c10250",
   "metadata": {},
   "outputs": [],
   "source": []
  }
 ],
 "metadata": {
  "kernelspec": {
   "display_name": "Python 3",
   "language": "python",
   "name": "python3"
  },
  "language_info": {
   "codemirror_mode": {
    "name": "ipython",
    "version": 3
   },
   "file_extension": ".py",
   "mimetype": "text/x-python",
   "name": "python",
   "nbconvert_exporter": "python",
   "pygments_lexer": "ipython3",
   "version": "3.8.8"
  }
 },
 "nbformat": 4,
 "nbformat_minor": 5
}
